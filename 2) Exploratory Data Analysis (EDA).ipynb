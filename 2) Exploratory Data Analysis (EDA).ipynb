{
 "cells": [
  {
   "cell_type": "markdown",
   "metadata": {},
   "source": [
    "# Starbucks App Reward Program\n",
    "\n",
    "This file only contains steps and code for 2) Exploratory Data Analysis (EDA)"
   ]
  },
  {
   "cell_type": "markdown",
   "metadata": {},
   "source": [
    "**Authors: Joel Ligma**            \n",
    "<br>\n",
    "**Date: July 2020**\n"
   ]
  },
  {
   "cell_type": "markdown",
   "metadata": {},
   "source": [
    "**Context**\n",
    "<br>\n",
    "\n",
    "The goal of this project was to predict customer responsiveness to specific marketing efforts. 
    One of the main challenges of this project was to generate a single dataset derived from 3 datasets and to prepare the data for later analysis.
    The data files used for this project were sourced from Kaggle:\n",
    "https://www.kaggle.com/blacktile/starbucks-app-customer-reward-program-data"
   ]
  },
  {
   "cell_type": "markdown",
   "metadata": {},
   "source": [
    "## Table of Contents\n",
    "**1) Preprocessing and Combining Multiple Datasets** \n",
    "- Data Clearning\n",
    "- Feature Engineering\n",
    "- Merging/Concatenating/Joining\n",
    "<br>\n",
    "\n",
    "**2) Exploratory Data Analysis (EDA)**\n",
    "- Summary Statistics\n",
    "- Univariate Analysis\n",
    "- Bivariate Analysis\n",
    "<br>\n",
    "\n",
    "**3) Data Preparation**\n",
    "- Feature Correlation\n",
    "- Dummy Coding\n",
    "- Training, Validation and Test Split\n",
    "- Scaling Data\n",
    "<br>\n",
    "\n",
    "**4) Model Building & Validation**\n",
    "- Baseline Accuracy\n",
    "- Random Forest Classifier\n",
    "- Neural Network Classifier\n",
    "- XGBoost Classifier\n",
    "- Model Comparison\n",
    "<br>\n",
    "\n",
    "**5) Saving the Model**\n",
    "- Saving the Best Performing Model for Future Deployment\n",
    "<br>\n",
    "\n",
    "**6) Conclusion**\n",
    "- Business Implications and Recommendations"
   ]
  },
  {
   "cell_type": "markdown",
   "metadata": {},
   "source": [
    "# 2) Exploratory Data Analysis (EDA)"
   ]
  },
  {
   "cell_type": "code",
   "execution_count": 3,
   "metadata": {},
   "outputs": [
    {
     "name": "stderr",
     "output_type": "stream",
     "text": [
      "C:\\Users\\joell\\anaconda3\\lib\\site-packages\\sklearn\\externals\\joblib\\__init__.py:15: FutureWarning: sklearn.externals.joblib is deprecated in 0.21 and will be removed in 0.23. Please import this functionality directly from joblib, which can be installed with: pip install joblib. If this warning is raised when loading pickled models, you may need to re-serialize those models with scikit-learn 0.21+.\n",
      "  warnings.warn(msg, category=FutureWarning)\n"
     ]
    }
   ],
   "source": [
    "# load imports\n",
    "import pandas as pd\n",
    "import numpy as np\n",
    "import seaborn as sns\n",
    "import matplotlib.pyplot as plt\n",
    "%matplotlib inline\n",
    "from sklearn.preprocessing import MultiLabelBinarizer # awesome for multiple values in one cell\n",
    "import csv # write csv file of the complete dataset\n",
    "from datetime import date \n",
    "from sklearn.model_selection import train_test_split, GridSearchCV\n",
    "from sklearn.preprocessing import MinMaxScaler # for scaling\n",
    "from xgboost import XGBClassifier\n",
    "from sklearn.metrics import classification_report, confusion_matrix, accuracy_score # model validation\n",
    "from sklearn.ensemble import RandomForestClassifier\n",
    "from tensorflow.keras.models import Sequential\n",
    "from tensorflow.keras.layers import Dense, Dropout\n",
    "import keras\n",
    "from keras.wrappers.scikit_learn import KerasClassifier\n",
    "from keras import optimizers\n",
    "from sklearn.externals import joblib"
   ]
  },
  {
   "cell_type": "code",
   "execution_count": 4,
   "metadata": {},
   "outputs": [],
   "source": [
    "# load dataset\n",
    "df = pd.read_csv(\"starbucks.csv\")"
   ]
  },
  {
   "cell_type": "markdown",
   "metadata": {},
   "source": [
    "## 1. Summary Statistics"
   ]
  },
  {
   "cell_type": "markdown",
   "metadata": {},
   "source": [
    "The loaded dataset contains a new column titled \"Unnamed: 0\" which is presumably added automatically as index. Let's drop this column before conducting the EDA."
   ]
  },
  {
   "cell_type": "code",
   "execution_count": 5,
   "metadata": {},
   "outputs": [
    {
     "name": "stdout",
     "output_type": "stream",
     "text": [
      "<class 'pandas.core.frame.DataFrame'>\n",
      "RangeIndex: 68741 entries, 0 to 68740\n",
      "Data columns (total 17 columns):\n",
      " #   Column              Non-Null Count  Dtype  \n",
      "---  ------              --------------  -----  \n",
      " 0   transaction_amount  68741 non-null  float64\n",
      " 1   event               68741 non-null  int64  \n",
      " 2   days_since_test     68741 non-null  int64  \n",
      " 3   age                 68741 non-null  float64\n",
      " 4   income              68741 non-null  float64\n",
      " 5   male                68741 non-null  float64\n",
      " 6   membership_days     68741 non-null  float64\n",
      " 7   reward              68741 non-null  float64\n",
      " 8   difficulty          68741 non-null  float64\n",
      " 9   duration            68741 non-null  float64\n",
      " 10  email               68741 non-null  float64\n",
      " 11  mobile              68741 non-null  float64\n",
      " 12  social              68741 non-null  float64\n",
      " 13  web                 68741 non-null  float64\n",
      " 14  bogo                68741 non-null  float64\n",
      " 15  discount            68741 non-null  float64\n",
      " 16  informational       68741 non-null  float64\n",
      "dtypes: float64(15), int64(2)\n",
      "memory usage: 8.9 MB\n"
     ]
    }
   ],
   "source": [
    "df.drop(columns=\"Unnamed: 0\", inplace=True)\n",
    "df.info()"
   ]
  },
  {
   "cell_type": "code",
   "execution_count": 6,
   "metadata": {},
   "outputs": [
    {
     "data": {
      "text/html": [
       "<div>\n",
       "<style scoped>\n",
       "    .dataframe tbody tr th:only-of-type {\n",
       "        vertical-align: middle;\n",
       "    }\n",
       "\n",
       "    .dataframe tbody tr th {\n",
       "        vertical-align: top;\n",
       "    }\n",
       "\n",
       "    .dataframe thead th {\n",
       "        text-align: right;\n",
       "    }\n",
       "</style>\n",
       "<table border=\"1\" class=\"dataframe\">\n",
       "  <thead>\n",
       "    <tr style=\"text-align: right;\">\n",
       "      <th></th>\n",
       "      <th>transaction_amount</th>\n",
       "      <th>event</th>\n",
       "      <th>days_since_test</th>\n",
       "      <th>age</th>\n",
       "      <th>income</th>\n",
       "      <th>male</th>\n",
       "      <th>membership_days</th>\n",
       "      <th>reward</th>\n",
       "      <th>difficulty</th>\n",
       "      <th>duration</th>\n",
       "      <th>email</th>\n",
       "      <th>mobile</th>\n",
       "      <th>social</th>\n",
       "      <th>web</th>\n",
       "      <th>bogo</th>\n",
       "      <th>discount</th>\n",
       "      <th>informational</th>\n",
       "    </tr>\n",
       "  </thead>\n",
       "  <tbody>\n",
       "    <tr>\n",
       "      <th>0</th>\n",
       "      <td>0.0</td>\n",
       "      <td>4</td>\n",
       "      <td>2</td>\n",
       "      <td>45.0</td>\n",
       "      <td>62000.0</td>\n",
       "      <td>0.0</td>\n",
       "      <td>608.0</td>\n",
       "      <td>2.0</td>\n",
       "      <td>10.0</td>\n",
       "      <td>10.0</td>\n",
       "      <td>1.0</td>\n",
       "      <td>1.0</td>\n",
       "      <td>1.0</td>\n",
       "      <td>1.0</td>\n",
       "      <td>0.0</td>\n",
       "      <td>1.0</td>\n",
       "      <td>0.0</td>\n",
       "    </tr>\n",
       "    <tr>\n",
       "      <th>1</th>\n",
       "      <td>0.0</td>\n",
       "      <td>3</td>\n",
       "      <td>18</td>\n",
       "      <td>71.0</td>\n",
       "      <td>56000.0</td>\n",
       "      <td>1.0</td>\n",
       "      <td>158.0</td>\n",
       "      <td>2.0</td>\n",
       "      <td>10.0</td>\n",
       "      <td>10.0</td>\n",
       "      <td>1.0</td>\n",
       "      <td>1.0</td>\n",
       "      <td>1.0</td>\n",
       "      <td>1.0</td>\n",
       "      <td>0.0</td>\n",
       "      <td>1.0</td>\n",
       "      <td>0.0</td>\n",
       "    </tr>\n",
       "    <tr>\n",
       "      <th>2</th>\n",
       "      <td>0.0</td>\n",
       "      <td>4</td>\n",
       "      <td>8</td>\n",
       "      <td>71.0</td>\n",
       "      <td>73000.0</td>\n",
       "      <td>1.0</td>\n",
       "      <td>268.0</td>\n",
       "      <td>2.0</td>\n",
       "      <td>10.0</td>\n",
       "      <td>10.0</td>\n",
       "      <td>1.0</td>\n",
       "      <td>1.0</td>\n",
       "      <td>1.0</td>\n",
       "      <td>1.0</td>\n",
       "      <td>0.0</td>\n",
       "      <td>1.0</td>\n",
       "      <td>0.0</td>\n",
       "    </tr>\n",
       "    <tr>\n",
       "      <th>3</th>\n",
       "      <td>0.0</td>\n",
       "      <td>4</td>\n",
       "      <td>0</td>\n",
       "      <td>69.0</td>\n",
       "      <td>83000.0</td>\n",
       "      <td>0.0</td>\n",
       "      <td>1040.0</td>\n",
       "      <td>2.0</td>\n",
       "      <td>10.0</td>\n",
       "      <td>10.0</td>\n",
       "      <td>1.0</td>\n",
       "      <td>1.0</td>\n",
       "      <td>1.0</td>\n",
       "      <td>1.0</td>\n",
       "      <td>0.0</td>\n",
       "      <td>1.0</td>\n",
       "      <td>0.0</td>\n",
       "    </tr>\n",
       "    <tr>\n",
       "      <th>4</th>\n",
       "      <td>0.0</td>\n",
       "      <td>4</td>\n",
       "      <td>7</td>\n",
       "      <td>59.0</td>\n",
       "      <td>93000.0</td>\n",
       "      <td>0.0</td>\n",
       "      <td>329.0</td>\n",
       "      <td>2.0</td>\n",
       "      <td>10.0</td>\n",
       "      <td>10.0</td>\n",
       "      <td>1.0</td>\n",
       "      <td>1.0</td>\n",
       "      <td>1.0</td>\n",
       "      <td>1.0</td>\n",
       "      <td>0.0</td>\n",
       "      <td>1.0</td>\n",
       "      <td>0.0</td>\n",
       "    </tr>\n",
       "    <tr>\n",
       "      <th>5</th>\n",
       "      <td>0.0</td>\n",
       "      <td>4</td>\n",
       "      <td>2</td>\n",
       "      <td>87.0</td>\n",
       "      <td>47000.0</td>\n",
       "      <td>0.0</td>\n",
       "      <td>498.0</td>\n",
       "      <td>2.0</td>\n",
       "      <td>10.0</td>\n",
       "      <td>10.0</td>\n",
       "      <td>1.0</td>\n",
       "      <td>1.0</td>\n",
       "      <td>1.0</td>\n",
       "      <td>1.0</td>\n",
       "      <td>0.0</td>\n",
       "      <td>1.0</td>\n",
       "      <td>0.0</td>\n",
       "    </tr>\n",
       "    <tr>\n",
       "      <th>6</th>\n",
       "      <td>0.0</td>\n",
       "      <td>4</td>\n",
       "      <td>21</td>\n",
       "      <td>67.0</td>\n",
       "      <td>95000.0</td>\n",
       "      <td>0.0</td>\n",
       "      <td>5.0</td>\n",
       "      <td>2.0</td>\n",
       "      <td>10.0</td>\n",
       "      <td>10.0</td>\n",
       "      <td>1.0</td>\n",
       "      <td>1.0</td>\n",
       "      <td>1.0</td>\n",
       "      <td>1.0</td>\n",
       "      <td>0.0</td>\n",
       "      <td>1.0</td>\n",
       "      <td>0.0</td>\n",
       "    </tr>\n",
       "    <tr>\n",
       "      <th>7</th>\n",
       "      <td>0.0</td>\n",
       "      <td>4</td>\n",
       "      <td>20</td>\n",
       "      <td>57.0</td>\n",
       "      <td>118000.0</td>\n",
       "      <td>0.0</td>\n",
       "      <td>1058.0</td>\n",
       "      <td>2.0</td>\n",
       "      <td>10.0</td>\n",
       "      <td>10.0</td>\n",
       "      <td>1.0</td>\n",
       "      <td>1.0</td>\n",
       "      <td>1.0</td>\n",
       "      <td>1.0</td>\n",
       "      <td>0.0</td>\n",
       "      <td>1.0</td>\n",
       "      <td>0.0</td>\n",
       "    </tr>\n",
       "    <tr>\n",
       "      <th>8</th>\n",
       "      <td>0.0</td>\n",
       "      <td>4</td>\n",
       "      <td>26</td>\n",
       "      <td>50.0</td>\n",
       "      <td>86000.0</td>\n",
       "      <td>1.0</td>\n",
       "      <td>330.0</td>\n",
       "      <td>2.0</td>\n",
       "      <td>10.0</td>\n",
       "      <td>10.0</td>\n",
       "      <td>1.0</td>\n",
       "      <td>1.0</td>\n",
       "      <td>1.0</td>\n",
       "      <td>1.0</td>\n",
       "      <td>0.0</td>\n",
       "      <td>1.0</td>\n",
       "      <td>0.0</td>\n",
       "    </tr>\n",
       "    <tr>\n",
       "      <th>9</th>\n",
       "      <td>0.0</td>\n",
       "      <td>4</td>\n",
       "      <td>1</td>\n",
       "      <td>43.0</td>\n",
       "      <td>67000.0</td>\n",
       "      <td>0.0</td>\n",
       "      <td>1091.0</td>\n",
       "      <td>2.0</td>\n",
       "      <td>10.0</td>\n",
       "      <td>10.0</td>\n",
       "      <td>1.0</td>\n",
       "      <td>1.0</td>\n",
       "      <td>1.0</td>\n",
       "      <td>1.0</td>\n",
       "      <td>0.0</td>\n",
       "      <td>1.0</td>\n",
       "      <td>0.0</td>\n",
       "    </tr>\n",
       "  </tbody>\n",
       "</table>\n",
       "</div>"
      ],
      "text/plain": [
       "   transaction_amount  event  days_since_test   age    income  male  \\\n",
       "0                 0.0      4                2  45.0   62000.0   0.0   \n",
       "1                 0.0      3               18  71.0   56000.0   1.0   \n",
       "2                 0.0      4                8  71.0   73000.0   1.0   \n",
       "3                 0.0      4                0  69.0   83000.0   0.0   \n",
       "4                 0.0      4                7  59.0   93000.0   0.0   \n",
       "5                 0.0      4                2  87.0   47000.0   0.0   \n",
       "6                 0.0      4               21  67.0   95000.0   0.0   \n",
       "7                 0.0      4               20  57.0  118000.0   0.0   \n",
       "8                 0.0      4               26  50.0   86000.0   1.0   \n",
       "9                 0.0      4                1  43.0   67000.0   0.0   \n",
       "\n",
       "   membership_days  reward  difficulty  duration  email  mobile  social  web  \\\n",
       "0            608.0     2.0        10.0      10.0    1.0     1.0     1.0  1.0   \n",
       "1            158.0     2.0        10.0      10.0    1.0     1.0     1.0  1.0   \n",
       "2            268.0     2.0        10.0      10.0    1.0     1.0     1.0  1.0   \n",
       "3           1040.0     2.0        10.0      10.0    1.0     1.0     1.0  1.0   \n",
       "4            329.0     2.0        10.0      10.0    1.0     1.0     1.0  1.0   \n",
       "5            498.0     2.0        10.0      10.0    1.0     1.0     1.0  1.0   \n",
       "6              5.0     2.0        10.0      10.0    1.0     1.0     1.0  1.0   \n",
       "7           1058.0     2.0        10.0      10.0    1.0     1.0     1.0  1.0   \n",
       "8            330.0     2.0        10.0      10.0    1.0     1.0     1.0  1.0   \n",
       "9           1091.0     2.0        10.0      10.0    1.0     1.0     1.0  1.0   \n",
       "\n",
       "   bogo  discount  informational  \n",
       "0   0.0       1.0            0.0  \n",
       "1   0.0       1.0            0.0  \n",
       "2   0.0       1.0            0.0  \n",
       "3   0.0       1.0            0.0  \n",
       "4   0.0       1.0            0.0  \n",
       "5   0.0       1.0            0.0  \n",
       "6   0.0       1.0            0.0  \n",
       "7   0.0       1.0            0.0  \n",
       "8   0.0       1.0            0.0  \n",
       "9   0.0       1.0            0.0  "
      ]
     },
     "execution_count": 6,
     "metadata": {},
     "output_type": "execute_result"
    }
   ],
   "source": [
    "df.head(10)"
   ]
  },
  {
   "cell_type": "code",
   "execution_count": 7,
   "metadata": {},
   "outputs": [
    {
     "data": {
      "text/html": [
       "<div>\n",
       "<style scoped>\n",
       "    .dataframe tbody tr th:only-of-type {\n",
       "        vertical-align: middle;\n",
       "    }\n",
       "\n",
       "    .dataframe tbody tr th {\n",
       "        vertical-align: top;\n",
       "    }\n",
       "\n",
       "    .dataframe thead th {\n",
       "        text-align: right;\n",
       "    }\n",
       "</style>\n",
       "<table border=\"1\" class=\"dataframe\">\n",
       "  <thead>\n",
       "    <tr style=\"text-align: right;\">\n",
       "      <th></th>\n",
       "      <th>transaction_amount</th>\n",
       "      <th>event</th>\n",
       "      <th>days_since_test</th>\n",
       "      <th>age</th>\n",
       "      <th>income</th>\n",
       "      <th>male</th>\n",
       "      <th>membership_days</th>\n",
       "      <th>reward</th>\n",
       "      <th>difficulty</th>\n",
       "      <th>duration</th>\n",
       "      <th>email</th>\n",
       "      <th>mobile</th>\n",
       "      <th>social</th>\n",
       "      <th>web</th>\n",
       "      <th>bogo</th>\n",
       "      <th>discount</th>\n",
       "      <th>informational</th>\n",
       "    </tr>\n",
       "  </thead>\n",
       "  <tbody>\n",
       "    <tr>\n",
       "      <th>count</th>\n",
       "      <td>68741.000000</td>\n",
       "      <td>68741.000000</td>\n",
       "      <td>68741.000000</td>\n",
       "      <td>68741.000000</td>\n",
       "      <td>68741.000000</td>\n",
       "      <td>68741.000000</td>\n",
       "      <td>68741.000000</td>\n",
       "      <td>68741.000000</td>\n",
       "      <td>68741.000000</td>\n",
       "      <td>68741.000000</td>\n",
       "      <td>68741.000000</td>\n",
       "      <td>68741.000000</td>\n",
       "      <td>68741.000000</td>\n",
       "      <td>68741.000000</td>\n",
       "      <td>68741.000000</td>\n",
       "      <td>68741.000000</td>\n",
       "      <td>68741.000000</td>\n",
       "    </tr>\n",
       "    <tr>\n",
       "      <th>mean</th>\n",
       "      <td>3.097166</td>\n",
       "      <td>2.865088</td>\n",
       "      <td>12.637742</td>\n",
       "      <td>54.333862</td>\n",
       "      <td>65388.007157</td>\n",
       "      <td>0.581022</td>\n",
       "      <td>523.530295</td>\n",
       "      <td>3.332233</td>\n",
       "      <td>6.116612</td>\n",
       "      <td>5.155831</td>\n",
       "      <td>0.792147</td>\n",
       "      <td>0.711977</td>\n",
       "      <td>0.474768</td>\n",
       "      <td>0.633276</td>\n",
       "      <td>0.316536</td>\n",
       "      <td>0.317365</td>\n",
       "      <td>0.158246</td>\n",
       "    </tr>\n",
       "    <tr>\n",
       "      <th>std</th>\n",
       "      <td>15.436389</td>\n",
       "      <td>1.154521</td>\n",
       "      <td>8.742691</td>\n",
       "      <td>17.415733</td>\n",
       "      <td>21655.181548</td>\n",
       "      <td>0.493395</td>\n",
       "      <td>419.954176</td>\n",
       "      <td>3.476804</td>\n",
       "      <td>5.847533</td>\n",
       "      <td>3.290752</td>\n",
       "      <td>0.405774</td>\n",
       "      <td>0.452845</td>\n",
       "      <td>0.499367</td>\n",
       "      <td>0.481914</td>\n",
       "      <td>0.465128</td>\n",
       "      <td>0.465454</td>\n",
       "      <td>0.364974</td>\n",
       "    </tr>\n",
       "    <tr>\n",
       "      <th>min</th>\n",
       "      <td>0.000000</td>\n",
       "      <td>1.000000</td>\n",
       "      <td>0.000000</td>\n",
       "      <td>18.000000</td>\n",
       "      <td>30000.000000</td>\n",
       "      <td>0.000000</td>\n",
       "      <td>0.000000</td>\n",
       "      <td>0.000000</td>\n",
       "      <td>0.000000</td>\n",
       "      <td>0.000000</td>\n",
       "      <td>0.000000</td>\n",
       "      <td>0.000000</td>\n",
       "      <td>0.000000</td>\n",
       "      <td>0.000000</td>\n",
       "      <td>0.000000</td>\n",
       "      <td>0.000000</td>\n",
       "      <td>0.000000</td>\n",
       "    </tr>\n",
       "    <tr>\n",
       "      <th>25%</th>\n",
       "      <td>0.000000</td>\n",
       "      <td>2.000000</td>\n",
       "      <td>4.000000</td>\n",
       "      <td>42.000000</td>\n",
       "      <td>49000.000000</td>\n",
       "      <td>0.000000</td>\n",
       "      <td>208.000000</td>\n",
       "      <td>0.000000</td>\n",
       "      <td>0.000000</td>\n",
       "      <td>3.000000</td>\n",
       "      <td>1.000000</td>\n",
       "      <td>0.000000</td>\n",
       "      <td>0.000000</td>\n",
       "      <td>0.000000</td>\n",
       "      <td>0.000000</td>\n",
       "      <td>0.000000</td>\n",
       "      <td>0.000000</td>\n",
       "    </tr>\n",
       "    <tr>\n",
       "      <th>50%</th>\n",
       "      <td>0.000000</td>\n",
       "      <td>3.000000</td>\n",
       "      <td>14.000000</td>\n",
       "      <td>55.000000</td>\n",
       "      <td>64000.000000</td>\n",
       "      <td>1.000000</td>\n",
       "      <td>359.000000</td>\n",
       "      <td>2.000000</td>\n",
       "      <td>5.000000</td>\n",
       "      <td>5.000000</td>\n",
       "      <td>1.000000</td>\n",
       "      <td>1.000000</td>\n",
       "      <td>0.000000</td>\n",
       "      <td>1.000000</td>\n",
       "      <td>0.000000</td>\n",
       "      <td>0.000000</td>\n",
       "      <td>0.000000</td>\n",
       "    </tr>\n",
       "    <tr>\n",
       "      <th>75%</th>\n",
       "      <td>0.000000</td>\n",
       "      <td>4.000000</td>\n",
       "      <td>21.000000</td>\n",
       "      <td>66.000000</td>\n",
       "      <td>80000.000000</td>\n",
       "      <td>1.000000</td>\n",
       "      <td>799.000000</td>\n",
       "      <td>5.000000</td>\n",
       "      <td>10.000000</td>\n",
       "      <td>7.000000</td>\n",
       "      <td>1.000000</td>\n",
       "      <td>1.000000</td>\n",
       "      <td>1.000000</td>\n",
       "      <td>1.000000</td>\n",
       "      <td>1.000000</td>\n",
       "      <td>1.000000</td>\n",
       "      <td>0.000000</td>\n",
       "    </tr>\n",
       "    <tr>\n",
       "      <th>max</th>\n",
       "      <td>962.100000</td>\n",
       "      <td>4.000000</td>\n",
       "      <td>29.000000</td>\n",
       "      <td>101.000000</td>\n",
       "      <td>120000.000000</td>\n",
       "      <td>1.000000</td>\n",
       "      <td>1823.000000</td>\n",
       "      <td>10.000000</td>\n",
       "      <td>20.000000</td>\n",
       "      <td>10.000000</td>\n",
       "      <td>1.000000</td>\n",
       "      <td>1.000000</td>\n",
       "      <td>1.000000</td>\n",
       "      <td>1.000000</td>\n",
       "      <td>1.000000</td>\n",
       "      <td>1.000000</td>\n",
       "      <td>1.000000</td>\n",
       "    </tr>\n",
       "  </tbody>\n",
       "</table>\n",
       "</div>"
      ],
      "text/plain": [
       "       transaction_amount         event  days_since_test           age  \\\n",
       "count        68741.000000  68741.000000     68741.000000  68741.000000   \n",
       "mean             3.097166      2.865088        12.637742     54.333862   \n",
       "std             15.436389      1.154521         8.742691     17.415733   \n",
       "min              0.000000      1.000000         0.000000     18.000000   \n",
       "25%              0.000000      2.000000         4.000000     42.000000   \n",
       "50%              0.000000      3.000000        14.000000     55.000000   \n",
       "75%              0.000000      4.000000        21.000000     66.000000   \n",
       "max            962.100000      4.000000        29.000000    101.000000   \n",
       "\n",
       "              income          male  membership_days        reward  \\\n",
       "count   68741.000000  68741.000000     68741.000000  68741.000000   \n",
       "mean    65388.007157      0.581022       523.530295      3.332233   \n",
       "std     21655.181548      0.493395       419.954176      3.476804   \n",
       "min     30000.000000      0.000000         0.000000      0.000000   \n",
       "25%     49000.000000      0.000000       208.000000      0.000000   \n",
       "50%     64000.000000      1.000000       359.000000      2.000000   \n",
       "75%     80000.000000      1.000000       799.000000      5.000000   \n",
       "max    120000.000000      1.000000      1823.000000     10.000000   \n",
       "\n",
       "         difficulty      duration         email        mobile        social  \\\n",
       "count  68741.000000  68741.000000  68741.000000  68741.000000  68741.000000   \n",
       "mean       6.116612      5.155831      0.792147      0.711977      0.474768   \n",
       "std        5.847533      3.290752      0.405774      0.452845      0.499367   \n",
       "min        0.000000      0.000000      0.000000      0.000000      0.000000   \n",
       "25%        0.000000      3.000000      1.000000      0.000000      0.000000   \n",
       "50%        5.000000      5.000000      1.000000      1.000000      0.000000   \n",
       "75%       10.000000      7.000000      1.000000      1.000000      1.000000   \n",
       "max       20.000000     10.000000      1.000000      1.000000      1.000000   \n",
       "\n",
       "                web          bogo      discount  informational  \n",
       "count  68741.000000  68741.000000  68741.000000   68741.000000  \n",
       "mean       0.633276      0.316536      0.317365       0.158246  \n",
       "std        0.481914      0.465128      0.465454       0.364974  \n",
       "min        0.000000      0.000000      0.000000       0.000000  \n",
       "25%        0.000000      0.000000      0.000000       0.000000  \n",
       "50%        1.000000      0.000000      0.000000       0.000000  \n",
       "75%        1.000000      1.000000      1.000000       0.000000  \n",
       "max        1.000000      1.000000      1.000000       1.000000  "
      ]
     },
     "execution_count": 7,
     "metadata": {},
     "output_type": "execute_result"
    }
   ],
   "source": [
    "df.describe()"
   ]
  },
  {
   "cell_type": "markdown",
   "metadata": {},
   "source": [
    "## 2. Univariate Analysis"
   ]
  },
  {
   "cell_type": "markdown",
   "metadata": {},
   "source": [
    "**Customer Demographics**"
   ]
  },
  {
   "cell_type": "code",
   "execution_count": 8,
   "metadata": {},
   "outputs": [
    {
     "data": {
      "text/plain": [
       "Text(0.5, 0, 'Gender')"
      ]
     },
     "execution_count": 8,
     "metadata": {},
     "output_type": "execute_result"
    },
    {
     "data": {
      "image/png": "[encoded data removed]",
      "text/plain": [
       "<Figure size 1152x288 with 3 Axes>"
      ]
     },
     "metadata": {
      "needs_background": "light"
     },
     "output_type": "display_data"
    }
   ],
   "source": [
    "plt.figure(figsize = [16, 4]) # larger figure size for subplots\n",
    "sns.set_style('darkgrid') # set style\n",
    "\n",
    "# histogram on income\n",
    "plt.subplot(1, 3, 1) # 1 row, 3 cols, subplot 1\n",
    "plt.hist(data = df, x = 'income',bins=30)\n",
    "plt.title(\"Income Distribution\", size=20)\n",
    "\n",
    "# histogram on age\n",
    "plt.subplot(1, 3, 2) # 1 row, 3 cols, subplot 2\n",
    "plt.hist(data = df, x = 'age', bins=40)\n",
    "plt.title(\"Age Distribution\", size=20)\n",
    "\n",
    "# countplot on age\n",
    "plt.subplot(1, 3, 3) # 1 row, 3 cols, subplot 3\n",
    "g=sns.countplot(x=\"male\", data=df, palette=\"coolwarm\")\n",
    "plt.title(\"Gender Breakdown\", size=20)\n",
    "g.set_xticklabels(labels=(\"Female\",\"male\"))\n",
    "plt.xlabel(\"Gender\")"
   ]
  },
  {
   "cell_type": "markdown",
   "metadata": {},
   "source": [
    "From the plots above, one can infer that most customers are aged between 40 and 75 years and have an income between approximately 45,000 and 80,000 US dollars. In terms of gender, the breakdown is relatively balanced however there are more male customers than female."
   ]
  },
  {
   "cell_type": "code",
   "execution_count": 9,
   "metadata": {},
   "outputs": [
    {
     "name": "stdout",
     "output_type": "stream",
     "text": [
      "Female customers: 41.9%\n",
      "Male customers: 58.1%\n"
     ]
    }
   ],
   "source": [
    "print(\"Female customers: {}%\".format(round(df[\"male\"].value_counts()[0] / len(df[\"male\"])*100,2)))\n",
    "print(\"Male customers: {}%\".format(round(df[\"male\"].value_counts()[1] / len(df[\"male\"])*100,2)))"
   ]
  },
  {
   "cell_type": "markdown",
   "metadata": {},
   "source": [
    "**App Account Creation Date and Total Membership Days**"
   ]
  },
  {
   "cell_type": "markdown",
   "metadata": {},
   "source": [
    "App Account Creating Date"
   ]
  },
  {
   "cell_type": "code",
   "execution_count": 11,
   "metadata": {},
   "outputs": [],
   "source": [
    "profile = pd.read_json('profile.json', orient='records', lines=True)"
   ]
  },
  {
   "cell_type": "code",
   "execution_count": 12,
   "metadata": {},
   "outputs": [],
   "source": [
    "# convert became_member_on to datetime and then extract year\n",
    "profile['became_member_on'] = pd.to_datetime(profile[\"became_member_on\"], format='%Y%m%d')\n",
    "profile[\"year\"] =  pd.DatetimeIndex(profile['became_member_on']).year"
   ]
  },
  {
   "cell_type": "code",
   "execution_count": 13,
   "metadata": {},
   "outputs": [
    {
     "data": {
      "text/plain": [
       "Text(0.5, 1.0, 'Year of Account Creation')"
      ]
     },
     "execution_count": 13,
     "metadata": {},
     "output_type": "execute_result"
    },
    {
     "data": {
      "image/png": "[encoded data removed]",
      "text/plain": [
       "<Figure size 864x432 with 1 Axes>"
      ]
     },
     "metadata": {},
     "output_type": "display_data"
    }
   ],
   "source": [
    "# set style\n",
    "sns.set_style('darkgrid')\n",
    "\n",
    "# set figure size\n",
    "plt.figure(figsize = [12, 6]) \n",
    "\n",
    "# countplot on year of account creation\n",
    "sns.countplot(x=profile[\"year\"], data=profile, color=\"blue\",alpha=0.75) # palette coolwarm or color = teal\n",
    "plt.title(\"Year of Account Creation\", size=20)"
   ]
  },
  {
   "cell_type": "markdown",
   "metadata": {},
   "source": [
    "As depicted in the exhibit above, one can see that the customer transaction dataset contains entries from the years 2013 to 2018.One can derive that most customers created their accounts between 2016 and 2018, with 2017 showing the highest number of accounts created. This makes sense because smartphone ownership experienced rapid growth over the years and mobile payment became slightly more accepted among consumers. However, it is important to note that US consumers still perceive moblile payments as poorly protected compared to traditional payment methods. Another interesting finding is that the number of account creations decreased in the most recent year compared to 2017. \n",
    "\n",
    "Sources:\n",
    "- https://www.pewresearch.org/internet/fact-sheet/mobile/\n",
    "- https://www.pewtrusts.org/en/research-and-analysis/issue-briefs/2019/10/are-americans-embracing-mobile-payments"
   ]
  },
  {
   "cell_type": "markdown",
   "metadata": {},
   "source": [
    "**Response Variable: Offer Completed**"
   ]
  },
  {
   "cell_type": "markdown",
   "metadata": {},
   "source": [
    "The feature **Offer Completed** is identified as the response variable for this project. Let's take a closer look at our response variable."
   ]
  },
  {
   "cell_type": "code",
   "execution_count": 14,
   "metadata": {},
   "outputs": [
    {
     "data": {
      "text/plain": [
       "[Text(0, 0, 'Transaction'),\n",
       " Text(0, 0, 'Offer Received'),\n",
       " Text(0, 0, 'Offer Viewed'),\n",
       " Text(0, 0, 'Offer Completed')]"
      ]
     },
     "execution_count": 14,
     "metadata": {},
     "output_type": "execute_result"
    },
    {
     "data": {
      "image/png": "[encoded data removed]",
      "text/plain": [
       "<Figure size 648x432 with 1 Axes>"
      ]
     },
     "metadata": {},
     "output_type": "display_data"
    }
   ],
   "source": [
    "plt.figure(figsize=(9,6))\n",
    "g = sns.countplot(df[\"event\"])\n",
    "sns.set_style('darkgrid')\n",
    "g.set_title('Event Breakdown', size = 20)\n",
    "g.set_xticklabels(labels=(\"Transaction\",\"Offer Received\",\"Offer Viewed\", \"Offer Completed\"))"
   ]
  },
  {
   "cell_type": "code",
   "execution_count": 15,
   "metadata": {},
   "outputs": [
    {
     "name": "stdout",
     "output_type": "stream",
     "text": [
      "Transaction: 20.79%\n",
      "Offer Received: 11.94%\n",
      "Offer Viewed: 27.25%\n",
      "Offer Completed: 40.02%\n",
      "\n",
      "A total of 59.98% of customers did not complete an offer and inversely 40.02% did complete an offer.\n"
     ]
    }
   ],
   "source": [
    "# let's get the exact relative values\n",
    "print(\"Transaction: {}%\".format((round((df[\"event\"].value_counts()[1] / len(df[\"event\"]) * 100), 2))))\n",
    "print(\"Offer Received: {}%\".format((round((df[\"event\"].value_counts()[2] / len(df[\"event\"]) * 100), 2))))\n",
    "print(\"Offer Viewed: {}%\".format((round((df[\"event\"].value_counts()[3] / len(df[\"event\"]) * 100), 2))))\n",
    "print(\"Offer Completed: {}%\".format((round((df[\"event\"].value_counts()[4] / len(df[\"event\"]) * 100), 2))))\n",
    "\n",
    "print(\"\\nA total of {}% of customers did not complete an offer and inversely {}% did complete an offer.\".format(round(\n",
    "    ((df[\"event\"].value_counts()[1] / len(df[\"event\"]))+\n",
    "     (df[\"event\"].value_counts()[2] / len(df[\"event\"]))+\n",
    "     (df[\"event\"].value_counts()[3] / len(df[\"event\"])))*100,2),     \n",
    "    (round((df[\"event\"].value_counts()[4] / len(df[\"event\"]) * 100), 2))))"
   ]
  },
  {
   "cell_type": "markdown",
   "metadata": {},
   "source": [
    "## 3. Bivariate Analysis"
   ]
  },
  {
   "cell_type": "markdown",
   "metadata": {},
   "source": [
    "**Offer Completed and Demographics**"
   ]
  },
  {
   "cell_type": "code",
   "execution_count": 16,
   "metadata": {},
   "outputs": [
    {
     "data": {
      "text/plain": [
       "Text(0.5, 0, 'Offer Completed')"
      ]
     },
     "execution_count": 16,
     "metadata": {},
     "output_type": "execute_result"
    },
    {
     "data": {
      "image/png": "[encoded data removed]",
      "text/plain": [
       "<Figure size 432x288 with 1 Axes>"
      ]
     },
     "metadata": {},
     "output_type": "display_data"
    }
   ],
   "source": [
    "# histogram on year app account created\n",
    "g=sns.boxplot(x=df[\"event\"]==4,y=df[\"membership_days\"], color=\"blue\",saturation=0.25) # palette coolwarm or color = teal\n",
    "plt.title(\"Offer Completed and Total Membership Days\", size=20)\n",
    "g.set_xticklabels(labels=(\"No\",\"Yes\"))\n",
    "g.set_xlabel(\"Offer Completed\") "
   ]
  },
  {
   "cell_type": "markdown",
   "metadata": {},
   "source": [
    "In the boxplot depicted above one can observe that those customers who completed an offer in the past tend to have an app account for longer (approx. 550 days on avg.) than those who did not complete an offer (approx. 300 days on avg.).  "
   ]
  },
  {
   "cell_type": "code",
   "execution_count": 17,
   "metadata": {},
   "outputs": [
    {
     "data": {
      "text/plain": [
       "Text(0.5, 0, 'Gender')"
      ]
     },
     "execution_count": 17,
     "metadata": {},
     "output_type": "execute_result"
    },
    {
     "data": {
      "image/png": "[encoded data removed]",
      "text/plain": [
       "<Figure size 1152x288 with 3 Axes>"
      ]
     },
     "metadata": {},
     "output_type": "display_data"
    }
   ],
   "source": [
    "base_color = sns.color_palette()[0]\n",
    "\n",
    "plt.figure(figsize = [16, 4]) # larger figure size for subplots\n",
    "\n",
    "# histogram on income\n",
    "plt.subplot(1, 3, 1) # 1 row, 3 cols, subplot 1\n",
    "g=sns.boxplot(x=\"event\", y=\"income\",data=df,color = base_color)\n",
    "g.set_xticklabels(labels=(\"Transaction\",\"Received\",\"Viewed\", \"Completed\"))\n",
    "plt.title(\"Income Distribution\", size=20)\n",
    "\n",
    "# histogram on age\n",
    "plt.subplot(1, 3, 2) # 1 row, 3 cols, subplot 2\n",
    "g1=sns.boxplot(x=\"event\", y=\"age\",data=df,color = base_color)\n",
    "g1.set_xticklabels(labels=(\"Transaction\",\"Received\",\"Viewed\", \"Completed\"))\n",
    "plt.title(\"Age Distribution\", size=20)\n",
    "\n",
    "# countplot on gender\n",
    "plt.subplot(1, 3, 3) # 1 row, 3 cols, subplot 3\n",
    "g2=sns.countplot(x=\"male\", hue=\"event\",data=df)\n",
    "g2.set_xticklabels(labels=(\"Female\",\"Male\"))\n",
    "plt.title(\"Gender Breakdown\", size=20)\n",
    "g2.set_xlabel(\"Gender\")"
   ]
  },
  {
   "cell_type": "markdown",
   "metadata": {},
   "source": [
    "From the bivariate analysis presented above, one can observe that customers who do complete an offer earn slightly more on average than those who did not complete an offer. Furthermore, customers who did complete an offer in the past tend to be slightly older than those who did not. If we look at the breakdown by gender, we can see similar tendencies for both male and female customers. THis could mean that even though there are less females documented in the dataset they almost complete the same amount of offers as men. We can also observe that men conduct more transactions without using any offer."
   ]
  },
  {
   "cell_type": "code",
   "execution_count": 18,
   "metadata": {},
   "outputs": [
    {
     "name": "stdout",
     "output_type": "stream",
     "text": [
      "Average income of customers who did complete an offer in the past: $69398.28\n",
      "Average income of customers who did not complete an offer: $62711.8\n",
      "Average age of customers who did complete an offer in the past: 55.8 years\n",
      "Average age of customers who did not complete an offer: 53.37 years\n"
     ]
    }
   ],
   "source": [
    "# calculate weighted averages\n",
    "print(\"Average income of customers who did complete an offer in the past: ${}\".format(round(np.average(df[\"income\"], \n",
    "                                                                          weights=(df[\"event\"] == 4)),2)))\n",
    "\n",
    "print(\"Average income of customers who did not complete an offer: ${}\".format(round(np.average(df[\"income\"], \n",
    "                                                                          weights=(df[\"event\"] != 4)),2)))\n",
    "                                                                     \n",
    "print(\"Average age of customers who did complete an offer in the past: {} years\".format(round(np.average(df[\"age\"], \n",
    "                                                                          weights=(df[\"event\"] == 4)),1)))\n",
    "                                                                                               \n",
    "print(\"Average age of customers who did not complete an offer: {} years\".format(round(np.average(df[\"age\"], \n",
    "                                                                          weights=(df[\"event\"] != 4)),2)))"
   ]
  },
  {
   "cell_type": "code",
   "execution_count": 19,
   "metadata": {},
   "outputs": [
    {
     "data": {
      "text/html": [
       "<div>\n",
       "<style scoped>\n",
       "    .dataframe tbody tr th:only-of-type {\n",
       "        vertical-align: middle;\n",
       "    }\n",
       "\n",
       "    .dataframe tbody tr th {\n",
       "        vertical-align: top;\n",
       "    }\n",
       "\n",
       "    .dataframe thead th {\n",
       "        text-align: right;\n",
       "    }\n",
       "</style>\n",
       "<table border=\"1\" class=\"dataframe\">\n",
       "  <thead>\n",
       "    <tr style=\"text-align: right;\">\n",
       "      <th>male</th>\n",
       "      <th>0.0</th>\n",
       "      <th>1.0</th>\n",
       "    </tr>\n",
       "    <tr>\n",
       "      <th>event</th>\n",
       "      <th></th>\n",
       "      <th></th>\n",
       "    </tr>\n",
       "  </thead>\n",
       "  <tbody>\n",
       "    <tr>\n",
       "      <th>1</th>\n",
       "      <td>0.419443</td>\n",
       "      <td>0.580557</td>\n",
       "    </tr>\n",
       "    <tr>\n",
       "      <th>2</th>\n",
       "      <td>0.343807</td>\n",
       "      <td>0.656193</td>\n",
       "    </tr>\n",
       "    <tr>\n",
       "      <th>3</th>\n",
       "      <td>0.359122</td>\n",
       "      <td>0.640878</td>\n",
       "    </tr>\n",
       "    <tr>\n",
       "      <th>4</th>\n",
       "      <td>0.481918</td>\n",
       "      <td>0.518082</td>\n",
       "    </tr>\n",
       "  </tbody>\n",
       "</table>\n",
       "</div>"
      ],
      "text/plain": [
       "male        0.0       1.0\n",
       "event                    \n",
       "1      0.419443  0.580557\n",
       "2      0.343807  0.656193\n",
       "3      0.359122  0.640878\n",
       "4      0.481918  0.518082"
      ]
     },
     "execution_count": 19,
     "metadata": {},
     "output_type": "execute_result"
    }
   ],
   "source": [
    "pd.crosstab(df.event,df.male,normalize='index')"
   ]
  },
  {
   "cell_type": "markdown",
   "metadata": {},
   "source": [
    "In the crosstab depicted above, one can see that generally, the proportion of men and women who make use of the promotions are similar (around 50%). However, women tend to make slightly less use of the promotions than men (48.19% vs. 51.81%). One can also observe that men received more promotions and more often view these promotions than women."
   ]
  },
  {
   "cell_type": "code",
   "execution_count": 21,
   "metadata": {},
   "outputs": [
    {
     "name": "stdout",
     "output_type": "stream",
     "text": [
      "Male: 1 \n",
      "Female: 0\n",
      " male  event\n",
      "0.0   1         5993\n",
      "      2         2823\n",
      "      3         6726\n",
      "      4        13259\n",
      "1.0   1         8295\n",
      "      2         5388\n",
      "      3        12003\n",
      "      4        14254\n",
      "dtype: int64\n",
      "\n",
      "Proportion of male customers who completed an offer: 35.69%\n",
      "Proportion of female customers who completed an offer: 46.04%\n"
     ]
    }
   ],
   "source": [
    "print(\"Male: 1 \\nFemale: 0\\n\",df.groupby(['male', 'event']).size())\n",
    "print(\"\\nProportion of male customers who completed an offer: {}%\".format(\n",
    "     round(df.groupby(['male', 'event']).size()[1][4] / df.groupby(['male', 'event']).size()[1].sum()*100,2)))\n",
    "print(\"Proportion of female customers who completed an offer: {}%\".format(\n",
    "     round(df.groupby(['male', 'event']).size()[0][4] / df.groupby(['male', 'event']).size()[0].sum()*100,2)))"
   ]
  },
  {
   "cell_type": "markdown",
   "metadata": {},
   "source": [
    "Based on these findings, women tend to react more positively towards the promotions than men since a larger proportion of women completed an offer when compared to men."
   ]
  },
  {
   "cell_type": "markdown",
   "metadata": {},
   "source": [
    "**Offer Completed and Discount Types**"
   ]
  },
  {
   "cell_type": "code",
   "execution_count": 22,
   "metadata": {},
   "outputs": [
    {
     "data": {
      "text/plain": [
       "Text(0.5, 1.0, 'Received Informational')"
      ]
     },
     "execution_count": 22,
     "metadata": {},
     "output_type": "execute_result"
    },
    {
     "data": {
      "image/png": "[encoded data removed]",
      "text/plain": [
       "<Figure size 1440x432 with 3 Axes>"
      ]
     },
     "metadata": {},
     "output_type": "display_data"
    }
   ],
   "source": [
    "plt.figure(figsize = [20, 6]) # larger figure size for subplots\n",
    "\n",
    "# countplot on bogo\n",
    "plt.subplot(1, 3, 1) # 1 row, 3 cols, subplot 1\n",
    "g=sns.countplot(x=\"bogo\", hue=\"event\", data=df)\n",
    "g.set_xticklabels(labels=(\"No\",\"Yes\"))\n",
    "plt.title(\"Received Buy One Get One\", size=20)\n",
    "\n",
    "# countplot on discount\n",
    "plt.subplot(1, 3, 2) # 1 row, 3 cols, subplot 2\n",
    "g1=sns.countplot(x=\"discount\", hue=\"event\", data=df)\n",
    "g1.set_xticklabels(labels=(\"No\",\"Yes\"))\n",
    "plt.title(\"Received Discount\", size=20)\n",
    "\n",
    "# countplot on informational\n",
    "plt.subplot(1, 3, 3) # 1 row, 3 cols, subplot 3\n",
    "g2=sns.countplot(x=\"informational\", hue =\"event\",data=df)\n",
    "g2.set_xticklabels(labels=(\"No\",\"Yes\"))\n",
    "plt.title(\"Received Informational\", size=20)"
   ]
  },
  {
   "cell_type": "markdown",
   "metadata": {},
   "source": [
    "From the visualizations presented above, one can infer that most customers received a **discount** offer, followed by **BOGO** and **informational**, respectively. One can also notice that receiving **informational** offers does not translate to a purchase. The reason for this is because it is probably not possible to track this. It appears that **discount** has the highest success rate among the 3 offer types. Let's confirm this observation."
   ]
  },
  {
   "cell_type": "code",
   "execution_count": 23,
   "metadata": {},
   "outputs": [
    {
     "name": "stdout",
     "output_type": "stream",
     "text": [
      "Customers who received BOGO: 31.65%\n",
      "Customers who received Discount: 31.74%\n",
      "Customers who received Informational: 15.82%\n",
      "Customers who didn't receive an offer: 20.79%\n"
     ]
    }
   ],
   "source": [
    "print(\"Customers who received BOGO: {}%\".format(round((df[\"bogo\"]==1).sum() / len(df)*100,2)))\n",
    "print(\"Customers who received Discount: {}%\".format(round((df[\"discount\"]==1).sum() / len(df)*100,2)))\n",
    "print(\"Customers who received Informational: {}%\".format(round((df[\"informational\"]==1).sum() / len(df)*100,2)))\n",
    "print(\"Customers who didn't receive an offer: {}%\".format(round(len(df.loc[(df['discount'] == 0) & \n",
    "                                                                        (df['informational'] == 0) & \n",
    "                                                                        (df['bogo'] == 0)])/len(df)*100,2)))"
   ]
  },
  {
   "cell_type": "code",
   "execution_count": 24,
   "metadata": {},
   "outputs": [
    {
     "name": "stdout",
     "output_type": "stream",
     "text": [
      "BOGO success rate: 59.69%\n",
      "Discount success rate: 66.58%\n",
      "Informational success rate: 0.0%\n"
     ]
    }
   ],
   "source": [
    "print(\"BOGO success rate: {}%\".format(round(df[\"bogo\"].where(df[\"event\"]==4).sum() / (df[\"bogo\"]==1).sum()*100,2)))\n",
    "print(\"Discount success rate: {}%\".format(round(df[\"discount\"].where(df[\"event\"]==4).sum() / (df[\"discount\"]==1).sum()*100,2)))\n",
    "print(\"Informational success rate: {}%\".format(round(df[\"informational\"].where(df[\"event\"]==4).sum() / (df[\"informational\"]==1).sum()*100,2)))"
   ]
  },
  {
   "cell_type": "markdown",
   "metadata": {},
   "source": [
    "In fact, **discounts** show the highest success rate among the 3 offer types and is also the most frequent promotion sent to customers. Furthermore, out of all offers sent out to customers, **informational** promotions make up approx. 15% of offers. 20.79% of customers did not receive any promotion. This could be improved by sending discounts to these customers in order to incentivize them to complete an offer.\n",
    "\n"
   ]
  },
  {
   "cell_type": "markdown",
   "metadata": {},
   "source": [
    "**Offer Completed and Communication Channels**\n"
   ]
  },
  {
   "cell_type": "code",
   "execution_count": 26,
   "metadata": {},
   "outputs": [
    {
     "data": {
      "text/plain": [
       "Text(0.5, 1.0, 'Email')"
      ]
     },
     "execution_count": 26,
     "metadata": {},
     "output_type": "execute_result"
    },
    {
     "data": {
      "image/png": "[encoded data removed]",
      "text/plain": [
       "<Figure size 1152x288 with 4 Axes>"
      ]
     },
     "metadata": {},
     "output_type": "display_data"
    }
   ],
   "source": [
    "plt.figure(figsize = [16, 4]) # larger figure size for subplots\n",
    "\n",
    "# countplot on social media\n",
    "plt.subplot(1, 4, 1) # 1 row, 4 cols, subplot 1\n",
    "g=sns.countplot(x=\"social\", hue=df[\"event\"], data=df)\n",
    "g.set_xticklabels(labels=(\"No\",\"Yes\"))\n",
    "plt.title(\"Social Media\", size=20)\n",
    "\n",
    "# countplot on web\n",
    "plt.subplot(1, 4, 2) # 1 row, 4 cols, subplot 2\n",
    "g1=sns.countplot(x=\"web\", hue=\"event\", data=df)\n",
    "g1.set_xticklabels(labels=(\"No\",\"Yes\"))\n",
    "plt.title(\"Web\", size=20)\n",
    "\n",
    "# countplot on mobile device\n",
    "plt.subplot(1, 4, 3) # 1 row, 4 cols, subplot 3\n",
    "g2=sns.countplot(x=\"mobile\", hue =\"event\",data=df)\n",
    "g2.set_xticklabels(labels=(\"No\",\"Yes\"))\n",
    "plt.title(\"Mobile Device\", size=20)\n",
    "\n",
    "# countplot on email\n",
    "plt.subplot(1, 4, 4) # 1 row, 4 cols, subplot 4\n",
    "g2=sns.countplot(x=\"email\", hue =\"event\",data=df)\n",
    "g2.set_xticklabels(labels=(\"No\",\"Yes\"))\n",
    "plt.title(\"Email\", size=20)"
   ]
  },
  {
   "cell_type": "code",
   "execution_count": 27,
   "metadata": {},
   "outputs": [
    {
     "name": "stdout",
     "output_type": "stream",
     "text": [
      "Customers contacted via social media: 47.48%\n",
      "Customers contacted via web: 63.33%\n",
      "Customers contacted via mobile device: 71.2%\n",
      "Customers contacted via email: 79.21%\n",
      "\n",
      "Customers not contacted at all: 20.79%\n",
      "\n",
      "**Note: Customers can be contacted through 0 or multiple contact methods.\n"
     ]
    }
   ],
   "source": [
    "print(\"Customers contacted via social media: {}%\".format(round((df[\"social\"]==1).sum() / len(df)*100,2)))\n",
    "print(\"Customers contacted via web: {}%\".format(round((df[\"web\"]==1).sum() / len(df)*100,2)))\n",
    "print(\"Customers contacted via mobile device: {}%\".format(round((df[\"mobile\"]==1).sum() / len(df)*100,2)))\n",
    "print(\"Customers contacted via email: {}%\".format(round((df[\"email\"]==1).sum() / len(df)*100,2)))\n",
    "\n",
    "print(\"\\nCustomers not contacted at all: {}%\".format(round(len(df.loc[(df['social'] == 0) & \n",
    "                                                                    (df['web'] == 0)    & \n",
    "                                                                    (df['social'] == 0) &\n",
    "                                                                    (df['mobile'] == 0)])/len(df)*100,2)))\n",
    "print(\"\\n**Note: Customers can be contacted through 0 or multiple contact methods.\")"
   ]
  },
  {
   "cell_type": "code",
   "execution_count": 28,
   "metadata": {},
   "outputs": [
    {
     "name": "stdout",
     "output_type": "stream",
     "text": [
      "Social media success rate: 54.31%\n",
      "Web success rate: 56.09%\n",
      "Mobile success rate: 50.3%\n",
      "Email success rate: 50.53%\n"
     ]
    }
   ],
   "source": [
    "print(\"Social media success rate: {}%\".format(round(df[\"social\"].where(df[\"event\"]==4).sum() / (df[\"social\"]==1).sum()*100,2)))\n",
    "print(\"Web success rate: {}%\".format(round(df[\"web\"].where(df[\"event\"]==4).sum() / (df[\"web\"]==1).sum()*100,2)))\n",
    "print(\"Mobile success rate: {}%\".format(round(df[\"mobile\"].where(df[\"event\"]==4).sum() / (df[\"mobile\"]==1).sum()*100,2)))\n",
    "print(\"Email success rate: {}%\".format(round(df[\"email\"].where(df[\"event\"]==4).sum() / (df[\"email\"]==1).sum()*100,2)))"
   ]
  },
  {
   "cell_type": "markdown",
   "metadata": {},
   "source": [
    "Derived from the findings above, customers contacted through **web** led to the highest success rate among the 4 contact methods. This is followed by **social media** as second most effective channel to reach customers. While **mobile** and **email** are the 2 contact methods utlized the most, they have the lowest success rate among the 4 contact methods."
   ]
  },
  {
   "cell_type": "markdown",
   "metadata": {},
   "source": [
    "**Event Compared to Difficulty and Duration**"
   ]
  },
  {
   "cell_type": "code",
   "execution_count": 29,
   "metadata": {},
   "outputs": [
    {
     "data": {
      "text/plain": [
       "Text(0.5, 1.0, 'Event Compared to Duration in Days')"
      ]
     },
     "execution_count": 29,
     "metadata": {},
     "output_type": "execute_result"
    },
    {
     "data": {
      "image/png": "[encoded data removed]",
      "text/plain": [
       "<Figure size 1152x288 with 2 Axes>"
      ]
     },
     "metadata": {},
     "output_type": "display_data"
    }
   ],
   "source": [
    "plt.figure(figsize = [16, 4]) # larger figure size for subplots\n",
    "\n",
    "# countplot on social media\n",
    "plt.subplot(1, 2, 1) # 1 row, 3 cols, subplot 1\n",
    "g=sns.countplot(x=\"difficulty\", hue=\"event\", data=df)\n",
    "g.set_xticklabels(labels=(\"$0\", \"$5\", \"$7\", \"$10\", \"$20\"))\n",
    "plt.title(\"Event Compared to Difficulty in $\", size=20)\n",
    "\n",
    "# countplot on web\n",
    "plt.subplot(1, 2, 2) # 1 row, 3 cols, subplot 2\n",
    "g1=sns.countplot(x=\"duration\", hue=\"event\", data=df)\n",
    "g1.set_xticklabels(labels=(\"0 days\", \"3 days\", \"4 days\", \"5 days\", \"7 days\", \"10 days\"))\n",
    "plt.title(\"Event Compared to Duration in Days\", size=20)"
   ]
  },
  {
   "cell_type": "markdown",
   "metadata": {},
   "source": [
    "- Difficulty refers to the amount of money a customer has to spend in order to be eligible for a reward. \n",
    "- Duration refers to the number of days a discount is valid\n",
    "\n",
    "From the plots presented above, one can infer that a difficulty level of 10 USD leads to the most completed offers, followed by a level of 5 USD. In terms of duration, most offers were completed for promotions that were only valid for 7 days, followed by 10 days and 5 days respectively. No offers were completed for offers that are only valid for 3 or 4 days."
   ]
  },
  {
   "cell_type": "markdown",
   "metadata": {},
   "source": [
    "# End of 2) Exploratory Data Analysis (EDA)"
   ]
  }
 ],
 "metadata": {
  "kernelspec": {
   "display_name": "Python 3",
   "language": "python",
   "name": "python3"
  },
  "language_info": {
   "codemirror_mode": {
    "name": "ipython",
    "version": 3
   },
   "file_extension": ".py",
   "mimetype": "text/x-python",
   "name": "python",
   "nbconvert_exporter": "python",
   "pygments_lexer": "ipython3",
   "version": "3.7.6"
  }
 },
 "nbformat": 4,
 "nbformat_minor": 4
}
