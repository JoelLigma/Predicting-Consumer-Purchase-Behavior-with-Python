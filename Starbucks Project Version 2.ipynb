{
 "cells": [
  {
   "cell_type": "markdown",
   "metadata": {},
   "source": [
    "# Starbucks App Reward Program"
   ]
  },
  {
   "cell_type": "markdown",
   "metadata": {},
   "source": [
    "**Authors: Joel Ligma**            \n",
    "<br>\n",
    "**Date: July 2020**\n"
   ]
  },
  {
   "cell_type": "markdown",
   "metadata": {},
   "source": [
    "**Context**\n",
    "<br>\n",
    "\n",
    "The goal of this project was to predict customer responsiveness to specific marketing efforts. One of the main challenges of this project was to generate a single dataset derived from 3 datasets and to prepare the data for later analysis. The data files used for this project were sourced from Kaggle:\n",
    "https://www.kaggle.com/blacktile/starbucks-app-customer-reward-program-data"
   ]
  },
  {
   "cell_type": "markdown",
   "metadata": {},
   "source": [
    "## Table of Contents\n",
    "**1) Preprocessing and Combining Multiple Datasets** \n",
    "- Data Clearning\n",
    "- Feature Engineering\n",
    "- Merging/Concatenating/Joining\n",
    "<br>\n",
    "\n",
    "**2) Exploratory Data Analysis (EDA)**\n",
    "- Summary Statistics\n",
    "- Univariate Analysis\n",
    "- Bivariate Analysis\n",
    "<br>\n",
    "\n",
    "**3) Data Preparation**\n",
    "- Feature Correlation\n",
    "- Dummy Coding\n",
    "- Training, Validation and Test Split\n",
    "- Scaling Data\n",
    "<br>\n",
    "\n",
    "**4) Model Building & Validation**\n",
    "- Baseline Accuracy\n",
    "- Random Forest Classifier\n",
    "- Neural Network Classifier\n",
    "- XGBoost Classifier\n",
    "- Model Comparison\n",
    "<br>\n",
    "\n",
    "**5) Saving the Model**\n",
    "- Saving the Best Performing Model for Future Deployment\n",
    "<br>\n",
    "\n",
    "**6) Conclusion**\n",
    "- Business Implications and Recommendations"
   ]
  },
  {
   "cell_type": "markdown",
   "metadata": {},
   "source": [
    "# 1) Combining Multple Datasets"
   ]
  },
  {
   "cell_type": "code",
   "execution_count": 2,
   "metadata": {},
   "outputs": [
    {
     "name": "stderr",
     "output_type": "stream",
     "text": [
      "C:\\Users\\joell\\anaconda3\\lib\\site-packages\\sklearn\\externals\\joblib\\__init__.py:15: FutureWarning: sklearn.externals.joblib is deprecated in 0.21 and will be removed in 0.23. Please import this functionality directly from joblib, which can be installed with: pip install joblib. If this warning is raised when loading pickled models, you may need to re-serialize those models with scikit-learn 0.21+.\n",
      "  warnings.warn(msg, category=FutureWarning)\n"
     ]
    }
   ],
   "source": [
    "# load imports\n",
    "import pandas as pd\n",
    "import numpy as np\n",
    "import seaborn as sns\n",
    "import matplotlib.pyplot as plt\n",
    "%matplotlib inline\n",
    "from sklearn.preprocessing import MultiLabelBinarizer # awesome for multiple values in one cell\n",
    "import csv # write csv file of the complete dataset\n",
    "from datetime import date \n",
    "from sklearn.model_selection import train_test_split, GridSearchCV\n",
    "from sklearn.preprocessing import MinMaxScaler # for scaling\n",
    "from xgboost import XGBClassifier\n",
    "from sklearn.metrics import classification_report, confusion_matrix, accuracy_score # model validation\n",
    "from sklearn.ensemble import RandomForestClassifier\n",
    "from tensorflow.keras.models import Sequential\n",
    "from tensorflow.keras.layers import Dense, Dropout\n",
    "import keras\n",
    "from keras.wrappers.scikit_learn import KerasClassifier\n",
    "from keras import optimizers\n",
    "from sklearn.externals import joblib"
   ]
  },
  {
   "cell_type": "code",
   "execution_count": 40,
   "metadata": {},
   "outputs": [],
   "source": [
    "# Read in files\n",
    "portfolio = pd.read_json('portfolio.json', orient='records', lines=True)\n",
    "profile = pd.read_json('profile.json', orient='records', lines=True)\n",
    "transcript = pd.read_json('transcript.json', orient='records', lines=True)"
   ]
  },
  {
   "cell_type": "markdown",
   "metadata": {},
   "source": [
    "## Examine Dataset One: Portfolio"
   ]
  },
  {
   "cell_type": "code",
   "execution_count": 50,
   "metadata": {},
   "outputs": [
    {
     "name": "stdout",
     "output_type": "stream",
     "text": [
      "<class 'pandas.core.frame.DataFrame'>\n",
      "RangeIndex: 10 entries, 0 to 9\n",
      "Data columns (total 6 columns):\n",
      " #   Column      Non-Null Count  Dtype \n",
      "---  ------      --------------  ----- \n",
      " 0   reward      10 non-null     int64 \n",
      " 1   channels    10 non-null     object\n",
      " 2   difficulty  10 non-null     int64 \n",
      " 3   duration    10 non-null     int64 \n",
      " 4   offer_type  10 non-null     object\n",
      " 5   id          10 non-null     object\n",
      "dtypes: int64(3), object(3)\n",
      "memory usage: 608.0+ bytes\n"
     ]
    }
   ],
   "source": [
    "portfolio.info() "
   ]
  },
  {
   "cell_type": "code",
   "execution_count": 51,
   "metadata": {},
   "outputs": [
    {
     "data": {
      "text/html": [
       "<div>\n",
       "<style scoped>\n",
       "    .dataframe tbody tr th:only-of-type {\n",
       "        vertical-align: middle;\n",
       "    }\n",
       "\n",
       "    .dataframe tbody tr th {\n",
       "        vertical-align: top;\n",
       "    }\n",
       "\n",
       "    .dataframe thead th {\n",
       "        text-align: right;\n",
       "    }\n",
       "</style>\n",
       "<table border=\"1\" class=\"dataframe\">\n",
       "  <thead>\n",
       "    <tr style=\"text-align: right;\">\n",
       "      <th></th>\n",
       "      <th>reward</th>\n",
       "      <th>channels</th>\n",
       "      <th>difficulty</th>\n",
       "      <th>duration</th>\n",
       "      <th>offer_type</th>\n",
       "      <th>id</th>\n",
       "    </tr>\n",
       "  </thead>\n",
       "  <tbody>\n",
       "    <tr>\n",
       "      <th>0</th>\n",
       "      <td>10</td>\n",
       "      <td>[email, mobile, social]</td>\n",
       "      <td>10</td>\n",
       "      <td>7</td>\n",
       "      <td>bogo</td>\n",
       "      <td>ae264e3637204a6fb9bb56bc8210ddfd</td>\n",
       "    </tr>\n",
       "    <tr>\n",
       "      <th>1</th>\n",
       "      <td>10</td>\n",
       "      <td>[web, email, mobile, social]</td>\n",
       "      <td>10</td>\n",
       "      <td>5</td>\n",
       "      <td>bogo</td>\n",
       "      <td>4d5c57ea9a6940dd891ad53e9dbe8da0</td>\n",
       "    </tr>\n",
       "    <tr>\n",
       "      <th>2</th>\n",
       "      <td>0</td>\n",
       "      <td>[web, email, mobile]</td>\n",
       "      <td>0</td>\n",
       "      <td>4</td>\n",
       "      <td>informational</td>\n",
       "      <td>3f207df678b143eea3cee63160fa8bed</td>\n",
       "    </tr>\n",
       "    <tr>\n",
       "      <th>3</th>\n",
       "      <td>5</td>\n",
       "      <td>[web, email, mobile]</td>\n",
       "      <td>5</td>\n",
       "      <td>7</td>\n",
       "      <td>bogo</td>\n",
       "      <td>9b98b8c7a33c4b65b9aebfe6a799e6d9</td>\n",
       "    </tr>\n",
       "    <tr>\n",
       "      <th>4</th>\n",
       "      <td>5</td>\n",
       "      <td>[web, email]</td>\n",
       "      <td>20</td>\n",
       "      <td>10</td>\n",
       "      <td>discount</td>\n",
       "      <td>0b1e1539f2cc45b7b9fa7c272da2e1d7</td>\n",
       "    </tr>\n",
       "  </tbody>\n",
       "</table>\n",
       "</div>"
      ],
      "text/plain": [
       "   reward                      channels  difficulty  duration     offer_type  \\\n",
       "0      10       [email, mobile, social]          10         7           bogo   \n",
       "1      10  [web, email, mobile, social]          10         5           bogo   \n",
       "2       0          [web, email, mobile]           0         4  informational   \n",
       "3       5          [web, email, mobile]           5         7           bogo   \n",
       "4       5                  [web, email]          20        10       discount   \n",
       "\n",
       "                                 id  \n",
       "0  ae264e3637204a6fb9bb56bc8210ddfd  \n",
       "1  4d5c57ea9a6940dd891ad53e9dbe8da0  \n",
       "2  3f207df678b143eea3cee63160fa8bed  \n",
       "3  9b98b8c7a33c4b65b9aebfe6a799e6d9  \n",
       "4  0b1e1539f2cc45b7b9fa7c272da2e1d7  "
      ]
     },
     "execution_count": 51,
     "metadata": {},
     "output_type": "execute_result"
    }
   ],
   "source": [
    "portfolio.head()"
   ]
  },
  {
   "cell_type": "markdown",
   "metadata": {},
   "source": [
    "As specified in the source description, the **ID** column listed in the portfolio file refers to **Offer ID**.\n",
    "<br>\n",
    "\n",
    "Let's change the name of this column to **Offer ID**."
   ]
  },
  {
   "cell_type": "code",
   "execution_count": 52,
   "metadata": {},
   "outputs": [],
   "source": [
    "portfolio.rename(columns = {'id':'offer_id'},inplace=True)"
   ]
  },
  {
   "cell_type": "markdown",
   "metadata": {},
   "source": [
    "Check for unique values in **Offer Type** and **Channels**. This is not necessarily important here because we only have 10 rows \n",
    "but will be useful for bigger datasets. Let's do it anyway."
   ]
  },
  {
   "cell_type": "code",
   "execution_count": 53,
   "metadata": {},
   "outputs": [
    {
     "name": "stdout",
     "output_type": "stream",
     "text": [
      "offer_type unique values: ['bogo' 'informational' 'discount']\n"
     ]
    }
   ],
   "source": [
    "print(\"offer_type unique values: {}\".format(portfolio['offer_type'].unique()))"
   ]
  },
  {
   "cell_type": "code",
   "execution_count": 54,
   "metadata": {},
   "outputs": [
    {
     "name": "stdout",
     "output_type": "stream",
     "text": [
      "['email', 'mobile', 'social']\n",
      "['web', 'email', 'mobile', 'social']\n",
      "['web', 'email', 'mobile']\n",
      "['web', 'email']\n"
     ]
    }
   ],
   "source": [
    "# check for unique values/ combinations in list \"channels\"\n",
    "unique_list = [] \n",
    "# loop through list      \n",
    "for channels in portfolio.channels: \n",
    "    if channels not in unique_list: \n",
    "        unique_list.append(channels) \n",
    "        \n",
    "# print unique combinations\n",
    "for channels in unique_list: \n",
    "    print (channels) "
   ]
  },
  {
   "cell_type": "markdown",
   "metadata": {},
   "source": [
    "One can see that both features are not in an appropriate format for machine learning models. Thus, let's create new columns out of these 2 columns with the aim to separate the entries in each row. Subsequently, we will drop the old columns."
   ]
  },
  {
   "cell_type": "code",
   "execution_count": 55,
   "metadata": {},
   "outputs": [
    {
     "data": {
      "text/html": [
       "<div>\n",
       "<style scoped>\n",
       "    .dataframe tbody tr th:only-of-type {\n",
       "        vertical-align: middle;\n",
       "    }\n",
       "\n",
       "    .dataframe tbody tr th {\n",
       "        vertical-align: top;\n",
       "    }\n",
       "\n",
       "    .dataframe thead th {\n",
       "        text-align: right;\n",
       "    }\n",
       "</style>\n",
       "<table border=\"1\" class=\"dataframe\">\n",
       "  <thead>\n",
       "    <tr style=\"text-align: right;\">\n",
       "      <th></th>\n",
       "      <th>reward</th>\n",
       "      <th>channels</th>\n",
       "      <th>difficulty</th>\n",
       "      <th>duration</th>\n",
       "      <th>offer_type</th>\n",
       "      <th>offer_id</th>\n",
       "      <th>email</th>\n",
       "      <th>mobile</th>\n",
       "      <th>social</th>\n",
       "      <th>web</th>\n",
       "      <th>bogo</th>\n",
       "      <th>discount</th>\n",
       "      <th>informational</th>\n",
       "    </tr>\n",
       "  </thead>\n",
       "  <tbody>\n",
       "    <tr>\n",
       "      <th>0</th>\n",
       "      <td>10</td>\n",
       "      <td>[email, mobile, social]</td>\n",
       "      <td>10</td>\n",
       "      <td>7</td>\n",
       "      <td>bogo</td>\n",
       "      <td>ae264e3637204a6fb9bb56bc8210ddfd</td>\n",
       "      <td>1</td>\n",
       "      <td>1</td>\n",
       "      <td>1</td>\n",
       "      <td>0</td>\n",
       "      <td>1</td>\n",
       "      <td>0</td>\n",
       "      <td>0</td>\n",
       "    </tr>\n",
       "    <tr>\n",
       "      <th>1</th>\n",
       "      <td>10</td>\n",
       "      <td>[web, email, mobile, social]</td>\n",
       "      <td>10</td>\n",
       "      <td>5</td>\n",
       "      <td>bogo</td>\n",
       "      <td>4d5c57ea9a6940dd891ad53e9dbe8da0</td>\n",
       "      <td>1</td>\n",
       "      <td>1</td>\n",
       "      <td>1</td>\n",
       "      <td>1</td>\n",
       "      <td>1</td>\n",
       "      <td>0</td>\n",
       "      <td>0</td>\n",
       "    </tr>\n",
       "    <tr>\n",
       "      <th>2</th>\n",
       "      <td>0</td>\n",
       "      <td>[web, email, mobile]</td>\n",
       "      <td>0</td>\n",
       "      <td>4</td>\n",
       "      <td>informational</td>\n",
       "      <td>3f207df678b143eea3cee63160fa8bed</td>\n",
       "      <td>1</td>\n",
       "      <td>1</td>\n",
       "      <td>0</td>\n",
       "      <td>1</td>\n",
       "      <td>0</td>\n",
       "      <td>0</td>\n",
       "      <td>1</td>\n",
       "    </tr>\n",
       "    <tr>\n",
       "      <th>3</th>\n",
       "      <td>5</td>\n",
       "      <td>[web, email, mobile]</td>\n",
       "      <td>5</td>\n",
       "      <td>7</td>\n",
       "      <td>bogo</td>\n",
       "      <td>9b98b8c7a33c4b65b9aebfe6a799e6d9</td>\n",
       "      <td>1</td>\n",
       "      <td>1</td>\n",
       "      <td>0</td>\n",
       "      <td>1</td>\n",
       "      <td>1</td>\n",
       "      <td>0</td>\n",
       "      <td>0</td>\n",
       "    </tr>\n",
       "    <tr>\n",
       "      <th>4</th>\n",
       "      <td>5</td>\n",
       "      <td>[web, email]</td>\n",
       "      <td>20</td>\n",
       "      <td>10</td>\n",
       "      <td>discount</td>\n",
       "      <td>0b1e1539f2cc45b7b9fa7c272da2e1d7</td>\n",
       "      <td>1</td>\n",
       "      <td>0</td>\n",
       "      <td>0</td>\n",
       "      <td>1</td>\n",
       "      <td>0</td>\n",
       "      <td>1</td>\n",
       "      <td>0</td>\n",
       "    </tr>\n",
       "    <tr>\n",
       "      <th>5</th>\n",
       "      <td>3</td>\n",
       "      <td>[web, email, mobile, social]</td>\n",
       "      <td>7</td>\n",
       "      <td>7</td>\n",
       "      <td>discount</td>\n",
       "      <td>2298d6c36e964ae4a3e7e9706d1fb8c2</td>\n",
       "      <td>1</td>\n",
       "      <td>1</td>\n",
       "      <td>1</td>\n",
       "      <td>1</td>\n",
       "      <td>0</td>\n",
       "      <td>1</td>\n",
       "      <td>0</td>\n",
       "    </tr>\n",
       "    <tr>\n",
       "      <th>6</th>\n",
       "      <td>2</td>\n",
       "      <td>[web, email, mobile, social]</td>\n",
       "      <td>10</td>\n",
       "      <td>10</td>\n",
       "      <td>discount</td>\n",
       "      <td>fafdcd668e3743c1bb461111dcafc2a4</td>\n",
       "      <td>1</td>\n",
       "      <td>1</td>\n",
       "      <td>1</td>\n",
       "      <td>1</td>\n",
       "      <td>0</td>\n",
       "      <td>1</td>\n",
       "      <td>0</td>\n",
       "    </tr>\n",
       "    <tr>\n",
       "      <th>7</th>\n",
       "      <td>0</td>\n",
       "      <td>[email, mobile, social]</td>\n",
       "      <td>0</td>\n",
       "      <td>3</td>\n",
       "      <td>informational</td>\n",
       "      <td>5a8bc65990b245e5a138643cd4eb9837</td>\n",
       "      <td>1</td>\n",
       "      <td>1</td>\n",
       "      <td>1</td>\n",
       "      <td>0</td>\n",
       "      <td>0</td>\n",
       "      <td>0</td>\n",
       "      <td>1</td>\n",
       "    </tr>\n",
       "    <tr>\n",
       "      <th>8</th>\n",
       "      <td>5</td>\n",
       "      <td>[web, email, mobile, social]</td>\n",
       "      <td>5</td>\n",
       "      <td>5</td>\n",
       "      <td>bogo</td>\n",
       "      <td>f19421c1d4aa40978ebb69ca19b0e20d</td>\n",
       "      <td>1</td>\n",
       "      <td>1</td>\n",
       "      <td>1</td>\n",
       "      <td>1</td>\n",
       "      <td>1</td>\n",
       "      <td>0</td>\n",
       "      <td>0</td>\n",
       "    </tr>\n",
       "    <tr>\n",
       "      <th>9</th>\n",
       "      <td>2</td>\n",
       "      <td>[web, email, mobile]</td>\n",
       "      <td>10</td>\n",
       "      <td>7</td>\n",
       "      <td>discount</td>\n",
       "      <td>2906b810c7d4411798c6938adc9daaa5</td>\n",
       "      <td>1</td>\n",
       "      <td>1</td>\n",
       "      <td>0</td>\n",
       "      <td>1</td>\n",
       "      <td>0</td>\n",
       "      <td>1</td>\n",
       "      <td>0</td>\n",
       "    </tr>\n",
       "  </tbody>\n",
       "</table>\n",
       "</div>"
      ],
      "text/plain": [
       "   reward                      channels  difficulty  duration     offer_type  \\\n",
       "0      10       [email, mobile, social]          10         7           bogo   \n",
       "1      10  [web, email, mobile, social]          10         5           bogo   \n",
       "2       0          [web, email, mobile]           0         4  informational   \n",
       "3       5          [web, email, mobile]           5         7           bogo   \n",
       "4       5                  [web, email]          20        10       discount   \n",
       "5       3  [web, email, mobile, social]           7         7       discount   \n",
       "6       2  [web, email, mobile, social]          10        10       discount   \n",
       "7       0       [email, mobile, social]           0         3  informational   \n",
       "8       5  [web, email, mobile, social]           5         5           bogo   \n",
       "9       2          [web, email, mobile]          10         7       discount   \n",
       "\n",
       "                           offer_id  email  mobile  social  web  bogo  \\\n",
       "0  ae264e3637204a6fb9bb56bc8210ddfd      1       1       1    0     1   \n",
       "1  4d5c57ea9a6940dd891ad53e9dbe8da0      1       1       1    1     1   \n",
       "2  3f207df678b143eea3cee63160fa8bed      1       1       0    1     0   \n",
       "3  9b98b8c7a33c4b65b9aebfe6a799e6d9      1       1       0    1     1   \n",
       "4  0b1e1539f2cc45b7b9fa7c272da2e1d7      1       0       0    1     0   \n",
       "5  2298d6c36e964ae4a3e7e9706d1fb8c2      1       1       1    1     0   \n",
       "6  fafdcd668e3743c1bb461111dcafc2a4      1       1       1    1     0   \n",
       "7  5a8bc65990b245e5a138643cd4eb9837      1       1       1    0     0   \n",
       "8  f19421c1d4aa40978ebb69ca19b0e20d      1       1       1    1     1   \n",
       "9  2906b810c7d4411798c6938adc9daaa5      1       1       0    1     0   \n",
       "\n",
       "   discount  informational  \n",
       "0         0              0  \n",
       "1         0              0  \n",
       "2         0              1  \n",
       "3         0              0  \n",
       "4         1              0  \n",
       "5         1              0  \n",
       "6         1              0  \n",
       "7         0              1  \n",
       "8         0              0  \n",
       "9         1              0  "
      ]
     },
     "execution_count": 55,
     "metadata": {},
     "output_type": "execute_result"
    }
   ],
   "source": [
    "# separate the entires in the \"channels\" column and dummy code them\n",
    "mlb = MultiLabelBinarizer()\n",
    "channels_array = mlb.fit_transform(portfolio[\"channels\"])\n",
    "channels_df = pd.DataFrame(data=channels_array, columns=mlb.classes_)\n",
    "# merge channels_df with portfolio again\n",
    "portfolio = pd.concat([portfolio, channels_df], axis=1)\n",
    "\n",
    "# also dummy code \"offer_type\" \n",
    "portfolio = pd.concat([portfolio, pd.get_dummies(portfolio['offer_type'])], axis=1)\n",
    "\n",
    "# examine if it worked porperly\n",
    "portfolio.head(10)"
   ]
  },
  {
   "cell_type": "code",
   "execution_count": 56,
   "metadata": {},
   "outputs": [
    {
     "data": {
      "text/html": [
       "<div>\n",
       "<style scoped>\n",
       "    .dataframe tbody tr th:only-of-type {\n",
       "        vertical-align: middle;\n",
       "    }\n",
       "\n",
       "    .dataframe tbody tr th {\n",
       "        vertical-align: top;\n",
       "    }\n",
       "\n",
       "    .dataframe thead th {\n",
       "        text-align: right;\n",
       "    }\n",
       "</style>\n",
       "<table border=\"1\" class=\"dataframe\">\n",
       "  <thead>\n",
       "    <tr style=\"text-align: right;\">\n",
       "      <th></th>\n",
       "      <th>reward</th>\n",
       "      <th>difficulty</th>\n",
       "      <th>duration</th>\n",
       "      <th>offer_id</th>\n",
       "      <th>email</th>\n",
       "      <th>mobile</th>\n",
       "      <th>social</th>\n",
       "      <th>web</th>\n",
       "      <th>bogo</th>\n",
       "      <th>discount</th>\n",
       "      <th>informational</th>\n",
       "    </tr>\n",
       "  </thead>\n",
       "  <tbody>\n",
       "    <tr>\n",
       "      <th>0</th>\n",
       "      <td>10</td>\n",
       "      <td>10</td>\n",
       "      <td>7</td>\n",
       "      <td>ae264e3637204a6fb9bb56bc8210ddfd</td>\n",
       "      <td>1</td>\n",
       "      <td>1</td>\n",
       "      <td>1</td>\n",
       "      <td>0</td>\n",
       "      <td>1</td>\n",
       "      <td>0</td>\n",
       "      <td>0</td>\n",
       "    </tr>\n",
       "    <tr>\n",
       "      <th>1</th>\n",
       "      <td>10</td>\n",
       "      <td>10</td>\n",
       "      <td>5</td>\n",
       "      <td>4d5c57ea9a6940dd891ad53e9dbe8da0</td>\n",
       "      <td>1</td>\n",
       "      <td>1</td>\n",
       "      <td>1</td>\n",
       "      <td>1</td>\n",
       "      <td>1</td>\n",
       "      <td>0</td>\n",
       "      <td>0</td>\n",
       "    </tr>\n",
       "    <tr>\n",
       "      <th>2</th>\n",
       "      <td>0</td>\n",
       "      <td>0</td>\n",
       "      <td>4</td>\n",
       "      <td>3f207df678b143eea3cee63160fa8bed</td>\n",
       "      <td>1</td>\n",
       "      <td>1</td>\n",
       "      <td>0</td>\n",
       "      <td>1</td>\n",
       "      <td>0</td>\n",
       "      <td>0</td>\n",
       "      <td>1</td>\n",
       "    </tr>\n",
       "    <tr>\n",
       "      <th>3</th>\n",
       "      <td>5</td>\n",
       "      <td>5</td>\n",
       "      <td>7</td>\n",
       "      <td>9b98b8c7a33c4b65b9aebfe6a799e6d9</td>\n",
       "      <td>1</td>\n",
       "      <td>1</td>\n",
       "      <td>0</td>\n",
       "      <td>1</td>\n",
       "      <td>1</td>\n",
       "      <td>0</td>\n",
       "      <td>0</td>\n",
       "    </tr>\n",
       "    <tr>\n",
       "      <th>4</th>\n",
       "      <td>5</td>\n",
       "      <td>20</td>\n",
       "      <td>10</td>\n",
       "      <td>0b1e1539f2cc45b7b9fa7c272da2e1d7</td>\n",
       "      <td>1</td>\n",
       "      <td>0</td>\n",
       "      <td>0</td>\n",
       "      <td>1</td>\n",
       "      <td>0</td>\n",
       "      <td>1</td>\n",
       "      <td>0</td>\n",
       "    </tr>\n",
       "  </tbody>\n",
       "</table>\n",
       "</div>"
      ],
      "text/plain": [
       "   reward  difficulty  duration                          offer_id  email  \\\n",
       "0      10          10         7  ae264e3637204a6fb9bb56bc8210ddfd      1   \n",
       "1      10          10         5  4d5c57ea9a6940dd891ad53e9dbe8da0      1   \n",
       "2       0           0         4  3f207df678b143eea3cee63160fa8bed      1   \n",
       "3       5           5         7  9b98b8c7a33c4b65b9aebfe6a799e6d9      1   \n",
       "4       5          20        10  0b1e1539f2cc45b7b9fa7c272da2e1d7      1   \n",
       "\n",
       "   mobile  social  web  bogo  discount  informational  \n",
       "0       1       1    0     1         0              0  \n",
       "1       1       1    1     1         0              0  \n",
       "2       1       0    1     0         0              1  \n",
       "3       1       0    1     1         0              0  \n",
       "4       0       0    1     0         1              0  "
      ]
     },
     "execution_count": 56,
     "metadata": {},
     "output_type": "execute_result"
    }
   ],
   "source": [
    "# quick comment: all missing data in \"channels\" were assigned a \"0\"\n",
    "\n",
    "# drop \"channels\" and \"offer_type\" columns since they are now redundant\n",
    "portfolio.drop(\"channels\", axis=1, inplace=True)\n",
    "portfolio.drop(\"offer_type\", axis=1, inplace=True)\n",
    "\n",
    "portfolio.head() # we keep offer_id to be able to merge the data sets later"
   ]
  },
  {
   "cell_type": "markdown",
   "metadata": {},
   "source": [
    "As a result, the first dataset is now ready to be used for machine learning. The **Offer ID** column remains in its current state because it will be used to merge the datasets later on."
   ]
  },
  {
   "cell_type": "markdown",
   "metadata": {},
   "source": [
    "## Examine Dataset Two: Transcript"
   ]
  },
  {
   "cell_type": "code",
   "execution_count": 57,
   "metadata": {},
   "outputs": [
    {
     "name": "stdout",
     "output_type": "stream",
     "text": [
      "<class 'pandas.core.frame.DataFrame'>\n",
      "RangeIndex: 306534 entries, 0 to 306533\n",
      "Data columns (total 4 columns):\n",
      " #   Column  Non-Null Count   Dtype \n",
      "---  ------  --------------   ----- \n",
      " 0   person  306534 non-null  object\n",
      " 1   event   306534 non-null  object\n",
      " 2   value   306534 non-null  object\n",
      " 3   time    306534 non-null  int64 \n",
      "dtypes: int64(1), object(3)\n",
      "memory usage: 9.4+ MB\n"
     ]
    }
   ],
   "source": [
    "transcript.info()"
   ]
  },
  {
   "cell_type": "code",
   "execution_count": 58,
   "metadata": {},
   "outputs": [
    {
     "data": {
      "text/html": [
       "<div>\n",
       "<style scoped>\n",
       "    .dataframe tbody tr th:only-of-type {\n",
       "        vertical-align: middle;\n",
       "    }\n",
       "\n",
       "    .dataframe tbody tr th {\n",
       "        vertical-align: top;\n",
       "    }\n",
       "\n",
       "    .dataframe thead th {\n",
       "        text-align: right;\n",
       "    }\n",
       "</style>\n",
       "<table border=\"1\" class=\"dataframe\">\n",
       "  <thead>\n",
       "    <tr style=\"text-align: right;\">\n",
       "      <th></th>\n",
       "      <th>person</th>\n",
       "      <th>event</th>\n",
       "      <th>value</th>\n",
       "      <th>time</th>\n",
       "    </tr>\n",
       "  </thead>\n",
       "  <tbody>\n",
       "    <tr>\n",
       "      <th>0</th>\n",
       "      <td>78afa995795e4d85b5d9ceeca43f5fef</td>\n",
       "      <td>offer received</td>\n",
       "      <td>{'offer id': '9b98b8c7a33c4b65b9aebfe6a799e6d9'}</td>\n",
       "      <td>0</td>\n",
       "    </tr>\n",
       "    <tr>\n",
       "      <th>1</th>\n",
       "      <td>a03223e636434f42ac4c3df47e8bac43</td>\n",
       "      <td>offer received</td>\n",
       "      <td>{'offer id': '0b1e1539f2cc45b7b9fa7c272da2e1d7'}</td>\n",
       "      <td>0</td>\n",
       "    </tr>\n",
       "    <tr>\n",
       "      <th>2</th>\n",
       "      <td>e2127556f4f64592b11af22de27a7932</td>\n",
       "      <td>offer received</td>\n",
       "      <td>{'offer id': '2906b810c7d4411798c6938adc9daaa5'}</td>\n",
       "      <td>0</td>\n",
       "    </tr>\n",
       "    <tr>\n",
       "      <th>3</th>\n",
       "      <td>8ec6ce2a7e7949b1bf142def7d0e0586</td>\n",
       "      <td>offer received</td>\n",
       "      <td>{'offer id': 'fafdcd668e3743c1bb461111dcafc2a4'}</td>\n",
       "      <td>0</td>\n",
       "    </tr>\n",
       "    <tr>\n",
       "      <th>4</th>\n",
       "      <td>68617ca6246f4fbc85e91a2a49552598</td>\n",
       "      <td>offer received</td>\n",
       "      <td>{'offer id': '4d5c57ea9a6940dd891ad53e9dbe8da0'}</td>\n",
       "      <td>0</td>\n",
       "    </tr>\n",
       "  </tbody>\n",
       "</table>\n",
       "</div>"
      ],
      "text/plain": [
       "                             person           event  \\\n",
       "0  78afa995795e4d85b5d9ceeca43f5fef  offer received   \n",
       "1  a03223e636434f42ac4c3df47e8bac43  offer received   \n",
       "2  e2127556f4f64592b11af22de27a7932  offer received   \n",
       "3  8ec6ce2a7e7949b1bf142def7d0e0586  offer received   \n",
       "4  68617ca6246f4fbc85e91a2a49552598  offer received   \n",
       "\n",
       "                                              value  time  \n",
       "0  {'offer id': '9b98b8c7a33c4b65b9aebfe6a799e6d9'}     0  \n",
       "1  {'offer id': '0b1e1539f2cc45b7b9fa7c272da2e1d7'}     0  \n",
       "2  {'offer id': '2906b810c7d4411798c6938adc9daaa5'}     0  \n",
       "3  {'offer id': 'fafdcd668e3743c1bb461111dcafc2a4'}     0  \n",
       "4  {'offer id': '4d5c57ea9a6940dd891ad53e9dbe8da0'}     0  "
      ]
     },
     "execution_count": 58,
     "metadata": {},
     "output_type": "execute_result"
    }
   ],
   "source": [
    "transcript.head()"
   ]
  },
  {
   "cell_type": "markdown",
   "metadata": {},
   "source": [
    "According to the information given on Kaggle, **Person** refers to **Customer ID** so let's rename this column."
   ]
  },
  {
   "cell_type": "code",
   "execution_count": 59,
   "metadata": {},
   "outputs": [],
   "source": [
    "transcript.rename(columns = {'person': 'customer_id'}, inplace = True)"
   ]
  },
  {
   "cell_type": "markdown",
   "metadata": {},
   "source": [
    "Next, the feature **Value** will be examined."
   ]
  },
  {
   "cell_type": "code",
   "execution_count": 60,
   "metadata": {},
   "outputs": [
    {
     "data": {
      "text/plain": [
       "{'offer id': 10, 'amount': 5103, 'offer_id': 8, 'reward': 4}"
      ]
     },
     "execution_count": 60,
     "metadata": {},
     "output_type": "execute_result"
    }
   ],
   "source": [
    "# check for unique values in \"value\" column\n",
    "values_per_key = {}\n",
    "for d in transcript.value:\n",
    "    for k, v in d.items():\n",
    "        values_per_key.setdefault(k, set()).add(v)\n",
    "counts = {k: len(v) for k, v in values_per_key.items()}\n",
    "counts"
   ]
  },
  {
   "cell_type": "markdown",
   "metadata": {},
   "source": [
    "Looks like the data for multiple columns ended up in this single column or the file didn't read in properly. In its current state the **Value** column contains information from 3 separate columns. This is based on the assumption that **Offer_ID** and **Offer ID** are the same column.\n",
    "\n",
    "**My approach:**\n",
    "\n",
    "- split the column into separate columns and store them into a new dataframe\n",
    "- check values and then combine the two offer_id columns\n",
    "- drop the old columns\n",
    "- combine the two dataframes"
   ]
  },
  {
   "cell_type": "code",
   "execution_count": 61,
   "metadata": {},
   "outputs": [
    {
     "data": {
      "text/html": [
       "<div>\n",
       "<style scoped>\n",
       "    .dataframe tbody tr th:only-of-type {\n",
       "        vertical-align: middle;\n",
       "    }\n",
       "\n",
       "    .dataframe tbody tr th {\n",
       "        vertical-align: top;\n",
       "    }\n",
       "\n",
       "    .dataframe thead th {\n",
       "        text-align: right;\n",
       "    }\n",
       "</style>\n",
       "<table border=\"1\" class=\"dataframe\">\n",
       "  <thead>\n",
       "    <tr style=\"text-align: right;\">\n",
       "      <th></th>\n",
       "      <th>customer_id</th>\n",
       "      <th>event</th>\n",
       "      <th>value</th>\n",
       "      <th>time</th>\n",
       "      <th>amount</th>\n",
       "      <th>reward</th>\n",
       "      <th>offer_id</th>\n",
       "    </tr>\n",
       "  </thead>\n",
       "  <tbody>\n",
       "    <tr>\n",
       "      <th>0</th>\n",
       "      <td>78afa995795e4d85b5d9ceeca43f5fef</td>\n",
       "      <td>offer received</td>\n",
       "      <td>{'offer id': '9b98b8c7a33c4b65b9aebfe6a799e6d9'}</td>\n",
       "      <td>0</td>\n",
       "      <td>NaN</td>\n",
       "      <td>NaN</td>\n",
       "      <td>9b98b8c7a33c4b65b9aebfe6a799e6d9</td>\n",
       "    </tr>\n",
       "    <tr>\n",
       "      <th>1</th>\n",
       "      <td>a03223e636434f42ac4c3df47e8bac43</td>\n",
       "      <td>offer received</td>\n",
       "      <td>{'offer id': '0b1e1539f2cc45b7b9fa7c272da2e1d7'}</td>\n",
       "      <td>0</td>\n",
       "      <td>NaN</td>\n",
       "      <td>NaN</td>\n",
       "      <td>0b1e1539f2cc45b7b9fa7c272da2e1d7</td>\n",
       "    </tr>\n",
       "    <tr>\n",
       "      <th>2</th>\n",
       "      <td>e2127556f4f64592b11af22de27a7932</td>\n",
       "      <td>offer received</td>\n",
       "      <td>{'offer id': '2906b810c7d4411798c6938adc9daaa5'}</td>\n",
       "      <td>0</td>\n",
       "      <td>NaN</td>\n",
       "      <td>NaN</td>\n",
       "      <td>2906b810c7d4411798c6938adc9daaa5</td>\n",
       "    </tr>\n",
       "    <tr>\n",
       "      <th>3</th>\n",
       "      <td>8ec6ce2a7e7949b1bf142def7d0e0586</td>\n",
       "      <td>offer received</td>\n",
       "      <td>{'offer id': 'fafdcd668e3743c1bb461111dcafc2a4'}</td>\n",
       "      <td>0</td>\n",
       "      <td>NaN</td>\n",
       "      <td>NaN</td>\n",
       "      <td>fafdcd668e3743c1bb461111dcafc2a4</td>\n",
       "    </tr>\n",
       "    <tr>\n",
       "      <th>4</th>\n",
       "      <td>68617ca6246f4fbc85e91a2a49552598</td>\n",
       "      <td>offer received</td>\n",
       "      <td>{'offer id': '4d5c57ea9a6940dd891ad53e9dbe8da0'}</td>\n",
       "      <td>0</td>\n",
       "      <td>NaN</td>\n",
       "      <td>NaN</td>\n",
       "      <td>4d5c57ea9a6940dd891ad53e9dbe8da0</td>\n",
       "    </tr>\n",
       "    <tr>\n",
       "      <th>5</th>\n",
       "      <td>389bc3fa690240e798340f5a15918d5c</td>\n",
       "      <td>offer received</td>\n",
       "      <td>{'offer id': 'f19421c1d4aa40978ebb69ca19b0e20d'}</td>\n",
       "      <td>0</td>\n",
       "      <td>NaN</td>\n",
       "      <td>NaN</td>\n",
       "      <td>f19421c1d4aa40978ebb69ca19b0e20d</td>\n",
       "    </tr>\n",
       "    <tr>\n",
       "      <th>6</th>\n",
       "      <td>c4863c7985cf408faee930f111475da3</td>\n",
       "      <td>offer received</td>\n",
       "      <td>{'offer id': '2298d6c36e964ae4a3e7e9706d1fb8c2'}</td>\n",
       "      <td>0</td>\n",
       "      <td>NaN</td>\n",
       "      <td>NaN</td>\n",
       "      <td>2298d6c36e964ae4a3e7e9706d1fb8c2</td>\n",
       "    </tr>\n",
       "    <tr>\n",
       "      <th>7</th>\n",
       "      <td>2eeac8d8feae4a8cad5a6af0499a211d</td>\n",
       "      <td>offer received</td>\n",
       "      <td>{'offer id': '3f207df678b143eea3cee63160fa8bed'}</td>\n",
       "      <td>0</td>\n",
       "      <td>NaN</td>\n",
       "      <td>NaN</td>\n",
       "      <td>3f207df678b143eea3cee63160fa8bed</td>\n",
       "    </tr>\n",
       "    <tr>\n",
       "      <th>8</th>\n",
       "      <td>aa4862eba776480b8bb9c68455b8c2e1</td>\n",
       "      <td>offer received</td>\n",
       "      <td>{'offer id': '0b1e1539f2cc45b7b9fa7c272da2e1d7'}</td>\n",
       "      <td>0</td>\n",
       "      <td>NaN</td>\n",
       "      <td>NaN</td>\n",
       "      <td>0b1e1539f2cc45b7b9fa7c272da2e1d7</td>\n",
       "    </tr>\n",
       "    <tr>\n",
       "      <th>9</th>\n",
       "      <td>31dda685af34476cad5bc968bdb01c53</td>\n",
       "      <td>offer received</td>\n",
       "      <td>{'offer id': '0b1e1539f2cc45b7b9fa7c272da2e1d7'}</td>\n",
       "      <td>0</td>\n",
       "      <td>NaN</td>\n",
       "      <td>NaN</td>\n",
       "      <td>0b1e1539f2cc45b7b9fa7c272da2e1d7</td>\n",
       "    </tr>\n",
       "  </tbody>\n",
       "</table>\n",
       "</div>"
      ],
      "text/plain": [
       "                        customer_id           event  \\\n",
       "0  78afa995795e4d85b5d9ceeca43f5fef  offer received   \n",
       "1  a03223e636434f42ac4c3df47e8bac43  offer received   \n",
       "2  e2127556f4f64592b11af22de27a7932  offer received   \n",
       "3  8ec6ce2a7e7949b1bf142def7d0e0586  offer received   \n",
       "4  68617ca6246f4fbc85e91a2a49552598  offer received   \n",
       "5  389bc3fa690240e798340f5a15918d5c  offer received   \n",
       "6  c4863c7985cf408faee930f111475da3  offer received   \n",
       "7  2eeac8d8feae4a8cad5a6af0499a211d  offer received   \n",
       "8  aa4862eba776480b8bb9c68455b8c2e1  offer received   \n",
       "9  31dda685af34476cad5bc968bdb01c53  offer received   \n",
       "\n",
       "                                              value  time  amount  reward  \\\n",
       "0  {'offer id': '9b98b8c7a33c4b65b9aebfe6a799e6d9'}     0     NaN     NaN   \n",
       "1  {'offer id': '0b1e1539f2cc45b7b9fa7c272da2e1d7'}     0     NaN     NaN   \n",
       "2  {'offer id': '2906b810c7d4411798c6938adc9daaa5'}     0     NaN     NaN   \n",
       "3  {'offer id': 'fafdcd668e3743c1bb461111dcafc2a4'}     0     NaN     NaN   \n",
       "4  {'offer id': '4d5c57ea9a6940dd891ad53e9dbe8da0'}     0     NaN     NaN   \n",
       "5  {'offer id': 'f19421c1d4aa40978ebb69ca19b0e20d'}     0     NaN     NaN   \n",
       "6  {'offer id': '2298d6c36e964ae4a3e7e9706d1fb8c2'}     0     NaN     NaN   \n",
       "7  {'offer id': '3f207df678b143eea3cee63160fa8bed'}     0     NaN     NaN   \n",
       "8  {'offer id': '0b1e1539f2cc45b7b9fa7c272da2e1d7'}     0     NaN     NaN   \n",
       "9  {'offer id': '0b1e1539f2cc45b7b9fa7c272da2e1d7'}     0     NaN     NaN   \n",
       "\n",
       "                           offer_id  \n",
       "0  9b98b8c7a33c4b65b9aebfe6a799e6d9  \n",
       "1  0b1e1539f2cc45b7b9fa7c272da2e1d7  \n",
       "2  2906b810c7d4411798c6938adc9daaa5  \n",
       "3  fafdcd668e3743c1bb461111dcafc2a4  \n",
       "4  4d5c57ea9a6940dd891ad53e9dbe8da0  \n",
       "5  f19421c1d4aa40978ebb69ca19b0e20d  \n",
       "6  2298d6c36e964ae4a3e7e9706d1fb8c2  \n",
       "7  3f207df678b143eea3cee63160fa8bed  \n",
       "8  0b1e1539f2cc45b7b9fa7c272da2e1d7  \n",
       "9  0b1e1539f2cc45b7b9fa7c272da2e1d7  "
      ]
     },
     "execution_count": 61,
     "metadata": {},
     "output_type": "execute_result"
    }
   ],
   "source": [
    "# split the columns and create new dataframe with these columns\n",
    "df = transcript[\"value\"].apply(pd.Series)\n",
    "\n",
    "# combine \"offer_id\" and \"offer id\" into a single columns based on NaNs and drop both afterwards\n",
    "df[\"offer_id_new\"] = df['offer_id'].fillna(df[\"offer id\"])\n",
    "df.drop(columns = 'offer_id', inplace = True )\n",
    "df.drop(columns = 'offer id', inplace = True )\n",
    "\n",
    "# combine the new column with the transcript dataframe again\n",
    "transcript_1 = pd.concat([transcript, df], axis=1)\n",
    "\n",
    "# change the \"offer_id_new\" column label to \"offer_id\"\n",
    "transcript_1.rename(columns = {'offer_id_new': 'offer_id'}, inplace = True)\n",
    "\n",
    "transcript_1.head(10)"
   ]
  },
  {
   "cell_type": "markdown",
   "metadata": {},
   "source": [
    "Looks like it worked as intended. Next, let's drop the original **Value** column since it is now redundant."
   ]
  },
  {
   "cell_type": "code",
   "execution_count": 62,
   "metadata": {},
   "outputs": [],
   "source": [
    "transcript_1.drop(columns = \"value\", inplace=True)"
   ]
  },
  {
   "cell_type": "markdown",
   "metadata": {},
   "source": [
    "Taking a closer look look at **Offer ID** and **Customer ID**. "
   ]
  },
  {
   "cell_type": "code",
   "execution_count": 63,
   "metadata": {},
   "outputs": [
    {
     "data": {
      "text/html": [
       "<div>\n",
       "<style scoped>\n",
       "    .dataframe tbody tr th:only-of-type {\n",
       "        vertical-align: middle;\n",
       "    }\n",
       "\n",
       "    .dataframe tbody tr th {\n",
       "        vertical-align: top;\n",
       "    }\n",
       "\n",
       "    .dataframe thead th {\n",
       "        text-align: right;\n",
       "    }\n",
       "</style>\n",
       "<table border=\"1\" class=\"dataframe\">\n",
       "  <thead>\n",
       "    <tr style=\"text-align: right;\">\n",
       "      <th></th>\n",
       "      <th>customer_id</th>\n",
       "      <th>event</th>\n",
       "      <th>time</th>\n",
       "      <th>amount</th>\n",
       "      <th>reward</th>\n",
       "      <th>offer_id</th>\n",
       "    </tr>\n",
       "  </thead>\n",
       "  <tbody>\n",
       "    <tr>\n",
       "      <th>247879</th>\n",
       "      <td>0009655768c64bdeb2e877511632db8f</td>\n",
       "      <td>offer received</td>\n",
       "      <td>576</td>\n",
       "      <td>NaN</td>\n",
       "      <td>NaN</td>\n",
       "      <td>2906b810c7d4411798c6938adc9daaa5</td>\n",
       "    </tr>\n",
       "    <tr>\n",
       "      <th>258884</th>\n",
       "      <td>0009655768c64bdeb2e877511632db8f</td>\n",
       "      <td>offer completed</td>\n",
       "      <td>576</td>\n",
       "      <td>NaN</td>\n",
       "      <td>2.0</td>\n",
       "      <td>2906b810c7d4411798c6938adc9daaa5</td>\n",
       "    </tr>\n",
       "    <tr>\n",
       "      <th>113605</th>\n",
       "      <td>0009655768c64bdeb2e877511632db8f</td>\n",
       "      <td>offer received</td>\n",
       "      <td>336</td>\n",
       "      <td>NaN</td>\n",
       "      <td>NaN</td>\n",
       "      <td>3f207df678b143eea3cee63160fa8bed</td>\n",
       "    </tr>\n",
       "    <tr>\n",
       "      <th>139992</th>\n",
       "      <td>0009655768c64bdeb2e877511632db8f</td>\n",
       "      <td>offer viewed</td>\n",
       "      <td>372</td>\n",
       "      <td>NaN</td>\n",
       "      <td>NaN</td>\n",
       "      <td>3f207df678b143eea3cee63160fa8bed</td>\n",
       "    </tr>\n",
       "    <tr>\n",
       "      <th>55972</th>\n",
       "      <td>0009655768c64bdeb2e877511632db8f</td>\n",
       "      <td>offer received</td>\n",
       "      <td>168</td>\n",
       "      <td>NaN</td>\n",
       "      <td>NaN</td>\n",
       "      <td>5a8bc65990b245e5a138643cd4eb9837</td>\n",
       "    </tr>\n",
       "    <tr>\n",
       "      <th>77705</th>\n",
       "      <td>0009655768c64bdeb2e877511632db8f</td>\n",
       "      <td>offer viewed</td>\n",
       "      <td>192</td>\n",
       "      <td>NaN</td>\n",
       "      <td>NaN</td>\n",
       "      <td>5a8bc65990b245e5a138643cd4eb9837</td>\n",
       "    </tr>\n",
       "    <tr>\n",
       "      <th>153401</th>\n",
       "      <td>0009655768c64bdeb2e877511632db8f</td>\n",
       "      <td>offer received</td>\n",
       "      <td>408</td>\n",
       "      <td>NaN</td>\n",
       "      <td>NaN</td>\n",
       "      <td>f19421c1d4aa40978ebb69ca19b0e20d</td>\n",
       "    </tr>\n",
       "    <tr>\n",
       "      <th>168413</th>\n",
       "      <td>0009655768c64bdeb2e877511632db8f</td>\n",
       "      <td>offer completed</td>\n",
       "      <td>414</td>\n",
       "      <td>NaN</td>\n",
       "      <td>5.0</td>\n",
       "      <td>f19421c1d4aa40978ebb69ca19b0e20d</td>\n",
       "    </tr>\n",
       "    <tr>\n",
       "      <th>187554</th>\n",
       "      <td>0009655768c64bdeb2e877511632db8f</td>\n",
       "      <td>offer viewed</td>\n",
       "      <td>456</td>\n",
       "      <td>NaN</td>\n",
       "      <td>NaN</td>\n",
       "      <td>f19421c1d4aa40978ebb69ca19b0e20d</td>\n",
       "    </tr>\n",
       "    <tr>\n",
       "      <th>204340</th>\n",
       "      <td>0009655768c64bdeb2e877511632db8f</td>\n",
       "      <td>offer received</td>\n",
       "      <td>504</td>\n",
       "      <td>NaN</td>\n",
       "      <td>NaN</td>\n",
       "      <td>fafdcd668e3743c1bb461111dcafc2a4</td>\n",
       "    </tr>\n",
       "  </tbody>\n",
       "</table>\n",
       "</div>"
      ],
      "text/plain": [
       "                             customer_id            event  time  amount  \\\n",
       "247879  0009655768c64bdeb2e877511632db8f   offer received   576     NaN   \n",
       "258884  0009655768c64bdeb2e877511632db8f  offer completed   576     NaN   \n",
       "113605  0009655768c64bdeb2e877511632db8f   offer received   336     NaN   \n",
       "139992  0009655768c64bdeb2e877511632db8f     offer viewed   372     NaN   \n",
       "55972   0009655768c64bdeb2e877511632db8f   offer received   168     NaN   \n",
       "77705   0009655768c64bdeb2e877511632db8f     offer viewed   192     NaN   \n",
       "153401  0009655768c64bdeb2e877511632db8f   offer received   408     NaN   \n",
       "168413  0009655768c64bdeb2e877511632db8f  offer completed   414     NaN   \n",
       "187554  0009655768c64bdeb2e877511632db8f     offer viewed   456     NaN   \n",
       "204340  0009655768c64bdeb2e877511632db8f   offer received   504     NaN   \n",
       "\n",
       "        reward                          offer_id  \n",
       "247879     NaN  2906b810c7d4411798c6938adc9daaa5  \n",
       "258884     2.0  2906b810c7d4411798c6938adc9daaa5  \n",
       "113605     NaN  3f207df678b143eea3cee63160fa8bed  \n",
       "139992     NaN  3f207df678b143eea3cee63160fa8bed  \n",
       "55972      NaN  5a8bc65990b245e5a138643cd4eb9837  \n",
       "77705      NaN  5a8bc65990b245e5a138643cd4eb9837  \n",
       "153401     NaN  f19421c1d4aa40978ebb69ca19b0e20d  \n",
       "168413     5.0  f19421c1d4aa40978ebb69ca19b0e20d  \n",
       "187554     NaN  f19421c1d4aa40978ebb69ca19b0e20d  \n",
       "204340     NaN  fafdcd668e3743c1bb461111dcafc2a4  "
      ]
     },
     "execution_count": 63,
     "metadata": {},
     "output_type": "execute_result"
    }
   ],
   "source": [
    "transcript_1.sort_values(['customer_id', \"offer_id\"]).head(10)"
   ]
  },
  {
   "cell_type": "markdown",
   "metadata": {},
   "source": [
    "Many customers received multiple offers (**Offer IDs**) and each step along the process was recorded in this dataset.\n",
    "<br>\n",
    "\n",
    "**Process:** Offer Received -> Offer Viewed -> Offer Completed\n",
    "<br>\n",
    "\n",
    "Not all customers act on these offers but some do. However, let's assume a customer receives an offer, views it and then completes the offer by purchasing something, using the offer sent to him. In this case, all 3 steps are included in this dataset which poses a problem. The problem is that when e.g. a customer completes a purchase, we know that he/she received and viewed an offer. We do not need any additional entries to know this. Same applies to when a customer simply viewed an offer. In this case, we also know that the customer must have received an offer. Once again, both steps are recorded in the dataset.\n",
    "<br>\n",
    "\n",
    "Solution: Drop redundant rows for each **Customer IDs** and **Offer IDs**.\n",
    "<br>\n",
    "\n",
    "Approach: \n",
    "- Reorder the **transcript_1** dataframe\n",
    "- set **Customer ID** and **Offer ID** as index\n",
    "- rename **Amount** to **Transaction Amount** because once an amount is recorded a transaction has been performed\n",
    "- encode the **Event** column\n",
    "- sort values by **Customer ID**, **Offer ID** and **Event** (**Event** in decending order\n",
    "- store the sorted dataset in a new dataframe\n",
    "- remove any duplicate **Offer IDs** per **Customer ID** and keep first occurance which retains the most recent progress step per customer per Offer ID in the dataframe since we sorted the encoded **Event** feature in decending order.\n"
   ]
  },
  {
   "cell_type": "code",
   "execution_count": 64,
   "metadata": {},
   "outputs": [
    {
     "data": {
      "text/html": [
       "<div>\n",
       "<style scoped>\n",
       "    .dataframe tbody tr th:only-of-type {\n",
       "        vertical-align: middle;\n",
       "    }\n",
       "\n",
       "    .dataframe tbody tr th {\n",
       "        vertical-align: top;\n",
       "    }\n",
       "\n",
       "    .dataframe thead th {\n",
       "        text-align: right;\n",
       "    }\n",
       "</style>\n",
       "<table border=\"1\" class=\"dataframe\">\n",
       "  <thead>\n",
       "    <tr style=\"text-align: right;\">\n",
       "      <th></th>\n",
       "      <th></th>\n",
       "      <th>event</th>\n",
       "      <th>transaction_amount</th>\n",
       "      <th>reward</th>\n",
       "      <th>time</th>\n",
       "    </tr>\n",
       "    <tr>\n",
       "      <th>customer_id</th>\n",
       "      <th>offer_id</th>\n",
       "      <th></th>\n",
       "      <th></th>\n",
       "      <th></th>\n",
       "      <th></th>\n",
       "    </tr>\n",
       "  </thead>\n",
       "  <tbody>\n",
       "    <tr>\n",
       "      <th rowspan=\"20\" valign=\"top\">0009655768c64bdeb2e877511632db8f</th>\n",
       "      <th>2906b810c7d4411798c6938adc9daaa5</th>\n",
       "      <td>offer completed</td>\n",
       "      <td>NaN</td>\n",
       "      <td>2.0</td>\n",
       "      <td>576</td>\n",
       "    </tr>\n",
       "    <tr>\n",
       "      <th>2906b810c7d4411798c6938adc9daaa5</th>\n",
       "      <td>offer received</td>\n",
       "      <td>NaN</td>\n",
       "      <td>NaN</td>\n",
       "      <td>576</td>\n",
       "    </tr>\n",
       "    <tr>\n",
       "      <th>3f207df678b143eea3cee63160fa8bed</th>\n",
       "      <td>offer received</td>\n",
       "      <td>NaN</td>\n",
       "      <td>NaN</td>\n",
       "      <td>336</td>\n",
       "    </tr>\n",
       "    <tr>\n",
       "      <th>3f207df678b143eea3cee63160fa8bed</th>\n",
       "      <td>offer viewed</td>\n",
       "      <td>NaN</td>\n",
       "      <td>NaN</td>\n",
       "      <td>372</td>\n",
       "    </tr>\n",
       "    <tr>\n",
       "      <th>5a8bc65990b245e5a138643cd4eb9837</th>\n",
       "      <td>offer received</td>\n",
       "      <td>NaN</td>\n",
       "      <td>NaN</td>\n",
       "      <td>168</td>\n",
       "    </tr>\n",
       "    <tr>\n",
       "      <th>5a8bc65990b245e5a138643cd4eb9837</th>\n",
       "      <td>offer viewed</td>\n",
       "      <td>NaN</td>\n",
       "      <td>NaN</td>\n",
       "      <td>192</td>\n",
       "    </tr>\n",
       "    <tr>\n",
       "      <th>f19421c1d4aa40978ebb69ca19b0e20d</th>\n",
       "      <td>offer completed</td>\n",
       "      <td>NaN</td>\n",
       "      <td>5.0</td>\n",
       "      <td>414</td>\n",
       "    </tr>\n",
       "    <tr>\n",
       "      <th>f19421c1d4aa40978ebb69ca19b0e20d</th>\n",
       "      <td>offer received</td>\n",
       "      <td>NaN</td>\n",
       "      <td>NaN</td>\n",
       "      <td>408</td>\n",
       "    </tr>\n",
       "    <tr>\n",
       "      <th>f19421c1d4aa40978ebb69ca19b0e20d</th>\n",
       "      <td>offer viewed</td>\n",
       "      <td>NaN</td>\n",
       "      <td>NaN</td>\n",
       "      <td>456</td>\n",
       "    </tr>\n",
       "    <tr>\n",
       "      <th>fafdcd668e3743c1bb461111dcafc2a4</th>\n",
       "      <td>offer completed</td>\n",
       "      <td>NaN</td>\n",
       "      <td>2.0</td>\n",
       "      <td>528</td>\n",
       "    </tr>\n",
       "    <tr>\n",
       "      <th>fafdcd668e3743c1bb461111dcafc2a4</th>\n",
       "      <td>offer received</td>\n",
       "      <td>NaN</td>\n",
       "      <td>NaN</td>\n",
       "      <td>504</td>\n",
       "    </tr>\n",
       "    <tr>\n",
       "      <th>fafdcd668e3743c1bb461111dcafc2a4</th>\n",
       "      <td>offer viewed</td>\n",
       "      <td>NaN</td>\n",
       "      <td>NaN</td>\n",
       "      <td>540</td>\n",
       "    </tr>\n",
       "    <tr>\n",
       "      <th>NaN</th>\n",
       "      <td>transaction</td>\n",
       "      <td>22.16</td>\n",
       "      <td>NaN</td>\n",
       "      <td>228</td>\n",
       "    </tr>\n",
       "    <tr>\n",
       "      <th>NaN</th>\n",
       "      <td>transaction</td>\n",
       "      <td>8.57</td>\n",
       "      <td>NaN</td>\n",
       "      <td>414</td>\n",
       "    </tr>\n",
       "    <tr>\n",
       "      <th>NaN</th>\n",
       "      <td>transaction</td>\n",
       "      <td>14.11</td>\n",
       "      <td>NaN</td>\n",
       "      <td>528</td>\n",
       "    </tr>\n",
       "    <tr>\n",
       "      <th>NaN</th>\n",
       "      <td>transaction</td>\n",
       "      <td>13.56</td>\n",
       "      <td>NaN</td>\n",
       "      <td>552</td>\n",
       "    </tr>\n",
       "    <tr>\n",
       "      <th>NaN</th>\n",
       "      <td>transaction</td>\n",
       "      <td>10.27</td>\n",
       "      <td>NaN</td>\n",
       "      <td>576</td>\n",
       "    </tr>\n",
       "    <tr>\n",
       "      <th>NaN</th>\n",
       "      <td>transaction</td>\n",
       "      <td>12.36</td>\n",
       "      <td>NaN</td>\n",
       "      <td>660</td>\n",
       "    </tr>\n",
       "    <tr>\n",
       "      <th>NaN</th>\n",
       "      <td>transaction</td>\n",
       "      <td>28.16</td>\n",
       "      <td>NaN</td>\n",
       "      <td>690</td>\n",
       "    </tr>\n",
       "    <tr>\n",
       "      <th>NaN</th>\n",
       "      <td>transaction</td>\n",
       "      <td>18.41</td>\n",
       "      <td>NaN</td>\n",
       "      <td>696</td>\n",
       "    </tr>\n",
       "  </tbody>\n",
       "</table>\n",
       "</div>"
      ],
      "text/plain": [
       "                                                                             event  \\\n",
       "customer_id                      offer_id                                            \n",
       "0009655768c64bdeb2e877511632db8f 2906b810c7d4411798c6938adc9daaa5  offer completed   \n",
       "                                 2906b810c7d4411798c6938adc9daaa5   offer received   \n",
       "                                 3f207df678b143eea3cee63160fa8bed   offer received   \n",
       "                                 3f207df678b143eea3cee63160fa8bed     offer viewed   \n",
       "                                 5a8bc65990b245e5a138643cd4eb9837   offer received   \n",
       "                                 5a8bc65990b245e5a138643cd4eb9837     offer viewed   \n",
       "                                 f19421c1d4aa40978ebb69ca19b0e20d  offer completed   \n",
       "                                 f19421c1d4aa40978ebb69ca19b0e20d   offer received   \n",
       "                                 f19421c1d4aa40978ebb69ca19b0e20d     offer viewed   \n",
       "                                 fafdcd668e3743c1bb461111dcafc2a4  offer completed   \n",
       "                                 fafdcd668e3743c1bb461111dcafc2a4   offer received   \n",
       "                                 fafdcd668e3743c1bb461111dcafc2a4     offer viewed   \n",
       "                                 NaN                                   transaction   \n",
       "                                 NaN                                   transaction   \n",
       "                                 NaN                                   transaction   \n",
       "                                 NaN                                   transaction   \n",
       "                                 NaN                                   transaction   \n",
       "                                 NaN                                   transaction   \n",
       "                                 NaN                                   transaction   \n",
       "                                 NaN                                   transaction   \n",
       "\n",
       "                                                                   transaction_amount  \\\n",
       "customer_id                      offer_id                                               \n",
       "0009655768c64bdeb2e877511632db8f 2906b810c7d4411798c6938adc9daaa5                 NaN   \n",
       "                                 2906b810c7d4411798c6938adc9daaa5                 NaN   \n",
       "                                 3f207df678b143eea3cee63160fa8bed                 NaN   \n",
       "                                 3f207df678b143eea3cee63160fa8bed                 NaN   \n",
       "                                 5a8bc65990b245e5a138643cd4eb9837                 NaN   \n",
       "                                 5a8bc65990b245e5a138643cd4eb9837                 NaN   \n",
       "                                 f19421c1d4aa40978ebb69ca19b0e20d                 NaN   \n",
       "                                 f19421c1d4aa40978ebb69ca19b0e20d                 NaN   \n",
       "                                 f19421c1d4aa40978ebb69ca19b0e20d                 NaN   \n",
       "                                 fafdcd668e3743c1bb461111dcafc2a4                 NaN   \n",
       "                                 fafdcd668e3743c1bb461111dcafc2a4                 NaN   \n",
       "                                 fafdcd668e3743c1bb461111dcafc2a4                 NaN   \n",
       "                                 NaN                                            22.16   \n",
       "                                 NaN                                             8.57   \n",
       "                                 NaN                                            14.11   \n",
       "                                 NaN                                            13.56   \n",
       "                                 NaN                                            10.27   \n",
       "                                 NaN                                            12.36   \n",
       "                                 NaN                                            28.16   \n",
       "                                 NaN                                            18.41   \n",
       "\n",
       "                                                                   reward  \\\n",
       "customer_id                      offer_id                                   \n",
       "0009655768c64bdeb2e877511632db8f 2906b810c7d4411798c6938adc9daaa5     2.0   \n",
       "                                 2906b810c7d4411798c6938adc9daaa5     NaN   \n",
       "                                 3f207df678b143eea3cee63160fa8bed     NaN   \n",
       "                                 3f207df678b143eea3cee63160fa8bed     NaN   \n",
       "                                 5a8bc65990b245e5a138643cd4eb9837     NaN   \n",
       "                                 5a8bc65990b245e5a138643cd4eb9837     NaN   \n",
       "                                 f19421c1d4aa40978ebb69ca19b0e20d     5.0   \n",
       "                                 f19421c1d4aa40978ebb69ca19b0e20d     NaN   \n",
       "                                 f19421c1d4aa40978ebb69ca19b0e20d     NaN   \n",
       "                                 fafdcd668e3743c1bb461111dcafc2a4     2.0   \n",
       "                                 fafdcd668e3743c1bb461111dcafc2a4     NaN   \n",
       "                                 fafdcd668e3743c1bb461111dcafc2a4     NaN   \n",
       "                                 NaN                                  NaN   \n",
       "                                 NaN                                  NaN   \n",
       "                                 NaN                                  NaN   \n",
       "                                 NaN                                  NaN   \n",
       "                                 NaN                                  NaN   \n",
       "                                 NaN                                  NaN   \n",
       "                                 NaN                                  NaN   \n",
       "                                 NaN                                  NaN   \n",
       "\n",
       "                                                                   time  \n",
       "customer_id                      offer_id                                \n",
       "0009655768c64bdeb2e877511632db8f 2906b810c7d4411798c6938adc9daaa5   576  \n",
       "                                 2906b810c7d4411798c6938adc9daaa5   576  \n",
       "                                 3f207df678b143eea3cee63160fa8bed   336  \n",
       "                                 3f207df678b143eea3cee63160fa8bed   372  \n",
       "                                 5a8bc65990b245e5a138643cd4eb9837   168  \n",
       "                                 5a8bc65990b245e5a138643cd4eb9837   192  \n",
       "                                 f19421c1d4aa40978ebb69ca19b0e20d   414  \n",
       "                                 f19421c1d4aa40978ebb69ca19b0e20d   408  \n",
       "                                 f19421c1d4aa40978ebb69ca19b0e20d   456  \n",
       "                                 fafdcd668e3743c1bb461111dcafc2a4   528  \n",
       "                                 fafdcd668e3743c1bb461111dcafc2a4   504  \n",
       "                                 fafdcd668e3743c1bb461111dcafc2a4   540  \n",
       "                                 NaN                                228  \n",
       "                                 NaN                                414  \n",
       "                                 NaN                                528  \n",
       "                                 NaN                                552  \n",
       "                                 NaN                                576  \n",
       "                                 NaN                                660  \n",
       "                                 NaN                                690  \n",
       "                                 NaN                                696  "
      ]
     },
     "execution_count": 64,
     "metadata": {},
     "output_type": "execute_result"
    }
   ],
   "source": [
    "# reorder the df\n",
    "transcript_1 = transcript_1[[\"customer_id\",\"offer_id\", \"event\", \"amount\", \"reward\",\"time\"]]\n",
    "\n",
    "# set Customer ID and Offer ID as multi-index  \n",
    "transcript_1 = transcript_1.set_index([\"customer_id\", \"offer_id\"])\n",
    "\n",
    "# rename the Amount column to Transaction Amount which already implies that a transaction was conducted so the transaction label\n",
    "# in the Events column can be dropped later\n",
    "transcript_1.rename(columns={\"amount\": \"transaction_amount\"},inplace=True)\n",
    "\n",
    "transcript_1.sort_values(['customer_id', \"offer_id\", \"event\"]).head(20) "
   ]
  },
  {
   "cell_type": "markdown",
   "metadata": {},
   "source": [
    "Label encode the **Event** feature from 1 - 4 which is needed to sort in descending order later, drop the old column and store the sorted data in a new dataframe."
   ]
  },
  {
   "cell_type": "code",
   "execution_count": 65,
   "metadata": {},
   "outputs": [
    {
     "data": {
      "text/html": [
       "<div>\n",
       "<style scoped>\n",
       "    .dataframe tbody tr th:only-of-type {\n",
       "        vertical-align: middle;\n",
       "    }\n",
       "\n",
       "    .dataframe tbody tr th {\n",
       "        vertical-align: top;\n",
       "    }\n",
       "\n",
       "    .dataframe thead th {\n",
       "        text-align: right;\n",
       "    }\n",
       "</style>\n",
       "<table border=\"1\" class=\"dataframe\">\n",
       "  <thead>\n",
       "    <tr style=\"text-align: right;\">\n",
       "      <th></th>\n",
       "      <th></th>\n",
       "      <th>transaction_amount</th>\n",
       "      <th>reward</th>\n",
       "      <th>time</th>\n",
       "      <th>event_new</th>\n",
       "    </tr>\n",
       "    <tr>\n",
       "      <th>customer_id</th>\n",
       "      <th>offer_id</th>\n",
       "      <th></th>\n",
       "      <th></th>\n",
       "      <th></th>\n",
       "      <th></th>\n",
       "    </tr>\n",
       "  </thead>\n",
       "  <tbody>\n",
       "    <tr>\n",
       "      <th rowspan=\"30\" valign=\"top\">ffff82501cea40309d5fdd7edcca4a07</th>\n",
       "      <th>fafdcd668e3743c1bb461111dcafc2a4</th>\n",
       "      <td>NaN</td>\n",
       "      <td>2.0</td>\n",
       "      <td>60</td>\n",
       "      <td>4</td>\n",
       "    </tr>\n",
       "    <tr>\n",
       "      <th>fafdcd668e3743c1bb461111dcafc2a4</th>\n",
       "      <td>NaN</td>\n",
       "      <td>NaN</td>\n",
       "      <td>6</td>\n",
       "      <td>3</td>\n",
       "    </tr>\n",
       "    <tr>\n",
       "      <th>fafdcd668e3743c1bb461111dcafc2a4</th>\n",
       "      <td>NaN</td>\n",
       "      <td>NaN</td>\n",
       "      <td>0</td>\n",
       "      <td>2</td>\n",
       "    </tr>\n",
       "    <tr>\n",
       "      <th>9b98b8c7a33c4b65b9aebfe6a799e6d9</th>\n",
       "      <td>NaN</td>\n",
       "      <td>5.0</td>\n",
       "      <td>504</td>\n",
       "      <td>4</td>\n",
       "    </tr>\n",
       "    <tr>\n",
       "      <th>9b98b8c7a33c4b65b9aebfe6a799e6d9</th>\n",
       "      <td>NaN</td>\n",
       "      <td>NaN</td>\n",
       "      <td>534</td>\n",
       "      <td>3</td>\n",
       "    </tr>\n",
       "    <tr>\n",
       "      <th>9b98b8c7a33c4b65b9aebfe6a799e6d9</th>\n",
       "      <td>NaN</td>\n",
       "      <td>NaN</td>\n",
       "      <td>504</td>\n",
       "      <td>2</td>\n",
       "    </tr>\n",
       "    <tr>\n",
       "      <th>2906b810c7d4411798c6938adc9daaa5</th>\n",
       "      <td>NaN</td>\n",
       "      <td>2.0</td>\n",
       "      <td>384</td>\n",
       "      <td>4</td>\n",
       "    </tr>\n",
       "    <tr>\n",
       "      <th>2906b810c7d4411798c6938adc9daaa5</th>\n",
       "      <td>NaN</td>\n",
       "      <td>2.0</td>\n",
       "      <td>414</td>\n",
       "      <td>4</td>\n",
       "    </tr>\n",
       "    <tr>\n",
       "      <th>2906b810c7d4411798c6938adc9daaa5</th>\n",
       "      <td>NaN</td>\n",
       "      <td>2.0</td>\n",
       "      <td>576</td>\n",
       "      <td>4</td>\n",
       "    </tr>\n",
       "    <tr>\n",
       "      <th>2906b810c7d4411798c6938adc9daaa5</th>\n",
       "      <td>NaN</td>\n",
       "      <td>NaN</td>\n",
       "      <td>354</td>\n",
       "      <td>3</td>\n",
       "    </tr>\n",
       "    <tr>\n",
       "      <th>2906b810c7d4411798c6938adc9daaa5</th>\n",
       "      <td>NaN</td>\n",
       "      <td>NaN</td>\n",
       "      <td>414</td>\n",
       "      <td>3</td>\n",
       "    </tr>\n",
       "    <tr>\n",
       "      <th>2906b810c7d4411798c6938adc9daaa5</th>\n",
       "      <td>NaN</td>\n",
       "      <td>NaN</td>\n",
       "      <td>582</td>\n",
       "      <td>3</td>\n",
       "    </tr>\n",
       "    <tr>\n",
       "      <th>2906b810c7d4411798c6938adc9daaa5</th>\n",
       "      <td>NaN</td>\n",
       "      <td>NaN</td>\n",
       "      <td>336</td>\n",
       "      <td>2</td>\n",
       "    </tr>\n",
       "    <tr>\n",
       "      <th>2906b810c7d4411798c6938adc9daaa5</th>\n",
       "      <td>NaN</td>\n",
       "      <td>NaN</td>\n",
       "      <td>408</td>\n",
       "      <td>2</td>\n",
       "    </tr>\n",
       "    <tr>\n",
       "      <th>2906b810c7d4411798c6938adc9daaa5</th>\n",
       "      <td>NaN</td>\n",
       "      <td>NaN</td>\n",
       "      <td>576</td>\n",
       "      <td>2</td>\n",
       "    </tr>\n",
       "    <tr>\n",
       "      <th>0b1e1539f2cc45b7b9fa7c272da2e1d7</th>\n",
       "      <td>NaN</td>\n",
       "      <td>5.0</td>\n",
       "      <td>198</td>\n",
       "      <td>4</td>\n",
       "    </tr>\n",
       "    <tr>\n",
       "      <th>0b1e1539f2cc45b7b9fa7c272da2e1d7</th>\n",
       "      <td>NaN</td>\n",
       "      <td>NaN</td>\n",
       "      <td>174</td>\n",
       "      <td>3</td>\n",
       "    </tr>\n",
       "    <tr>\n",
       "      <th>0b1e1539f2cc45b7b9fa7c272da2e1d7</th>\n",
       "      <td>NaN</td>\n",
       "      <td>NaN</td>\n",
       "      <td>168</td>\n",
       "      <td>2</td>\n",
       "    </tr>\n",
       "    <tr>\n",
       "      <th>NaN</th>\n",
       "      <td>16.06</td>\n",
       "      <td>NaN</td>\n",
       "      <td>60</td>\n",
       "      <td>1</td>\n",
       "    </tr>\n",
       "    <tr>\n",
       "      <th>NaN</th>\n",
       "      <td>7.18</td>\n",
       "      <td>NaN</td>\n",
       "      <td>78</td>\n",
       "      <td>1</td>\n",
       "    </tr>\n",
       "    <tr>\n",
       "      <th>NaN</th>\n",
       "      <td>9.12</td>\n",
       "      <td>NaN</td>\n",
       "      <td>120</td>\n",
       "      <td>1</td>\n",
       "    </tr>\n",
       "    <tr>\n",
       "      <th>NaN</th>\n",
       "      <td>22.88</td>\n",
       "      <td>NaN</td>\n",
       "      <td>198</td>\n",
       "      <td>1</td>\n",
       "    </tr>\n",
       "    <tr>\n",
       "      <th>NaN</th>\n",
       "      <td>15.23</td>\n",
       "      <td>NaN</td>\n",
       "      <td>204</td>\n",
       "      <td>1</td>\n",
       "    </tr>\n",
       "    <tr>\n",
       "      <th>NaN</th>\n",
       "      <td>18.08</td>\n",
       "      <td>NaN</td>\n",
       "      <td>234</td>\n",
       "      <td>1</td>\n",
       "    </tr>\n",
       "    <tr>\n",
       "      <th>NaN</th>\n",
       "      <td>23.32</td>\n",
       "      <td>NaN</td>\n",
       "      <td>264</td>\n",
       "      <td>1</td>\n",
       "    </tr>\n",
       "    <tr>\n",
       "      <th>NaN</th>\n",
       "      <td>16.86</td>\n",
       "      <td>NaN</td>\n",
       "      <td>312</td>\n",
       "      <td>1</td>\n",
       "    </tr>\n",
       "    <tr>\n",
       "      <th>NaN</th>\n",
       "      <td>15.57</td>\n",
       "      <td>NaN</td>\n",
       "      <td>384</td>\n",
       "      <td>1</td>\n",
       "    </tr>\n",
       "    <tr>\n",
       "      <th>NaN</th>\n",
       "      <td>17.55</td>\n",
       "      <td>NaN</td>\n",
       "      <td>414</td>\n",
       "      <td>1</td>\n",
       "    </tr>\n",
       "    <tr>\n",
       "      <th>NaN</th>\n",
       "      <td>13.17</td>\n",
       "      <td>NaN</td>\n",
       "      <td>498</td>\n",
       "      <td>1</td>\n",
       "    </tr>\n",
       "    <tr>\n",
       "      <th>NaN</th>\n",
       "      <td>7.79</td>\n",
       "      <td>NaN</td>\n",
       "      <td>504</td>\n",
       "      <td>1</td>\n",
       "    </tr>\n",
       "  </tbody>\n",
       "</table>\n",
       "</div>"
      ],
      "text/plain": [
       "                                                                   transaction_amount  \\\n",
       "customer_id                      offer_id                                               \n",
       "ffff82501cea40309d5fdd7edcca4a07 fafdcd668e3743c1bb461111dcafc2a4                 NaN   \n",
       "                                 fafdcd668e3743c1bb461111dcafc2a4                 NaN   \n",
       "                                 fafdcd668e3743c1bb461111dcafc2a4                 NaN   \n",
       "                                 9b98b8c7a33c4b65b9aebfe6a799e6d9                 NaN   \n",
       "                                 9b98b8c7a33c4b65b9aebfe6a799e6d9                 NaN   \n",
       "                                 9b98b8c7a33c4b65b9aebfe6a799e6d9                 NaN   \n",
       "                                 2906b810c7d4411798c6938adc9daaa5                 NaN   \n",
       "                                 2906b810c7d4411798c6938adc9daaa5                 NaN   \n",
       "                                 2906b810c7d4411798c6938adc9daaa5                 NaN   \n",
       "                                 2906b810c7d4411798c6938adc9daaa5                 NaN   \n",
       "                                 2906b810c7d4411798c6938adc9daaa5                 NaN   \n",
       "                                 2906b810c7d4411798c6938adc9daaa5                 NaN   \n",
       "                                 2906b810c7d4411798c6938adc9daaa5                 NaN   \n",
       "                                 2906b810c7d4411798c6938adc9daaa5                 NaN   \n",
       "                                 2906b810c7d4411798c6938adc9daaa5                 NaN   \n",
       "                                 0b1e1539f2cc45b7b9fa7c272da2e1d7                 NaN   \n",
       "                                 0b1e1539f2cc45b7b9fa7c272da2e1d7                 NaN   \n",
       "                                 0b1e1539f2cc45b7b9fa7c272da2e1d7                 NaN   \n",
       "                                 NaN                                            16.06   \n",
       "                                 NaN                                             7.18   \n",
       "                                 NaN                                             9.12   \n",
       "                                 NaN                                            22.88   \n",
       "                                 NaN                                            15.23   \n",
       "                                 NaN                                            18.08   \n",
       "                                 NaN                                            23.32   \n",
       "                                 NaN                                            16.86   \n",
       "                                 NaN                                            15.57   \n",
       "                                 NaN                                            17.55   \n",
       "                                 NaN                                            13.17   \n",
       "                                 NaN                                             7.79   \n",
       "\n",
       "                                                                   reward  \\\n",
       "customer_id                      offer_id                                   \n",
       "ffff82501cea40309d5fdd7edcca4a07 fafdcd668e3743c1bb461111dcafc2a4     2.0   \n",
       "                                 fafdcd668e3743c1bb461111dcafc2a4     NaN   \n",
       "                                 fafdcd668e3743c1bb461111dcafc2a4     NaN   \n",
       "                                 9b98b8c7a33c4b65b9aebfe6a799e6d9     5.0   \n",
       "                                 9b98b8c7a33c4b65b9aebfe6a799e6d9     NaN   \n",
       "                                 9b98b8c7a33c4b65b9aebfe6a799e6d9     NaN   \n",
       "                                 2906b810c7d4411798c6938adc9daaa5     2.0   \n",
       "                                 2906b810c7d4411798c6938adc9daaa5     2.0   \n",
       "                                 2906b810c7d4411798c6938adc9daaa5     2.0   \n",
       "                                 2906b810c7d4411798c6938adc9daaa5     NaN   \n",
       "                                 2906b810c7d4411798c6938adc9daaa5     NaN   \n",
       "                                 2906b810c7d4411798c6938adc9daaa5     NaN   \n",
       "                                 2906b810c7d4411798c6938adc9daaa5     NaN   \n",
       "                                 2906b810c7d4411798c6938adc9daaa5     NaN   \n",
       "                                 2906b810c7d4411798c6938adc9daaa5     NaN   \n",
       "                                 0b1e1539f2cc45b7b9fa7c272da2e1d7     5.0   \n",
       "                                 0b1e1539f2cc45b7b9fa7c272da2e1d7     NaN   \n",
       "                                 0b1e1539f2cc45b7b9fa7c272da2e1d7     NaN   \n",
       "                                 NaN                                  NaN   \n",
       "                                 NaN                                  NaN   \n",
       "                                 NaN                                  NaN   \n",
       "                                 NaN                                  NaN   \n",
       "                                 NaN                                  NaN   \n",
       "                                 NaN                                  NaN   \n",
       "                                 NaN                                  NaN   \n",
       "                                 NaN                                  NaN   \n",
       "                                 NaN                                  NaN   \n",
       "                                 NaN                                  NaN   \n",
       "                                 NaN                                  NaN   \n",
       "                                 NaN                                  NaN   \n",
       "\n",
       "                                                                   time  \\\n",
       "customer_id                      offer_id                                 \n",
       "ffff82501cea40309d5fdd7edcca4a07 fafdcd668e3743c1bb461111dcafc2a4    60   \n",
       "                                 fafdcd668e3743c1bb461111dcafc2a4     6   \n",
       "                                 fafdcd668e3743c1bb461111dcafc2a4     0   \n",
       "                                 9b98b8c7a33c4b65b9aebfe6a799e6d9   504   \n",
       "                                 9b98b8c7a33c4b65b9aebfe6a799e6d9   534   \n",
       "                                 9b98b8c7a33c4b65b9aebfe6a799e6d9   504   \n",
       "                                 2906b810c7d4411798c6938adc9daaa5   384   \n",
       "                                 2906b810c7d4411798c6938adc9daaa5   414   \n",
       "                                 2906b810c7d4411798c6938adc9daaa5   576   \n",
       "                                 2906b810c7d4411798c6938adc9daaa5   354   \n",
       "                                 2906b810c7d4411798c6938adc9daaa5   414   \n",
       "                                 2906b810c7d4411798c6938adc9daaa5   582   \n",
       "                                 2906b810c7d4411798c6938adc9daaa5   336   \n",
       "                                 2906b810c7d4411798c6938adc9daaa5   408   \n",
       "                                 2906b810c7d4411798c6938adc9daaa5   576   \n",
       "                                 0b1e1539f2cc45b7b9fa7c272da2e1d7   198   \n",
       "                                 0b1e1539f2cc45b7b9fa7c272da2e1d7   174   \n",
       "                                 0b1e1539f2cc45b7b9fa7c272da2e1d7   168   \n",
       "                                 NaN                                 60   \n",
       "                                 NaN                                 78   \n",
       "                                 NaN                                120   \n",
       "                                 NaN                                198   \n",
       "                                 NaN                                204   \n",
       "                                 NaN                                234   \n",
       "                                 NaN                                264   \n",
       "                                 NaN                                312   \n",
       "                                 NaN                                384   \n",
       "                                 NaN                                414   \n",
       "                                 NaN                                498   \n",
       "                                 NaN                                504   \n",
       "\n",
       "                                                                   event_new  \n",
       "customer_id                      offer_id                                     \n",
       "ffff82501cea40309d5fdd7edcca4a07 fafdcd668e3743c1bb461111dcafc2a4          4  \n",
       "                                 fafdcd668e3743c1bb461111dcafc2a4          3  \n",
       "                                 fafdcd668e3743c1bb461111dcafc2a4          2  \n",
       "                                 9b98b8c7a33c4b65b9aebfe6a799e6d9          4  \n",
       "                                 9b98b8c7a33c4b65b9aebfe6a799e6d9          3  \n",
       "                                 9b98b8c7a33c4b65b9aebfe6a799e6d9          2  \n",
       "                                 2906b810c7d4411798c6938adc9daaa5          4  \n",
       "                                 2906b810c7d4411798c6938adc9daaa5          4  \n",
       "                                 2906b810c7d4411798c6938adc9daaa5          4  \n",
       "                                 2906b810c7d4411798c6938adc9daaa5          3  \n",
       "                                 2906b810c7d4411798c6938adc9daaa5          3  \n",
       "                                 2906b810c7d4411798c6938adc9daaa5          3  \n",
       "                                 2906b810c7d4411798c6938adc9daaa5          2  \n",
       "                                 2906b810c7d4411798c6938adc9daaa5          2  \n",
       "                                 2906b810c7d4411798c6938adc9daaa5          2  \n",
       "                                 0b1e1539f2cc45b7b9fa7c272da2e1d7          4  \n",
       "                                 0b1e1539f2cc45b7b9fa7c272da2e1d7          3  \n",
       "                                 0b1e1539f2cc45b7b9fa7c272da2e1d7          2  \n",
       "                                 NaN                                       1  \n",
       "                                 NaN                                       1  \n",
       "                                 NaN                                       1  \n",
       "                                 NaN                                       1  \n",
       "                                 NaN                                       1  \n",
       "                                 NaN                                       1  \n",
       "                                 NaN                                       1  \n",
       "                                 NaN                                       1  \n",
       "                                 NaN                                       1  \n",
       "                                 NaN                                       1  \n",
       "                                 NaN                                       1  \n",
       "                                 NaN                                       1  "
      ]
     },
     "execution_count": 65,
     "metadata": {},
     "output_type": "execute_result"
    }
   ],
   "source": [
    "# label encode the Event feature\n",
    "transcript_1['event_new'] = transcript_1['event'].map({'offer completed':4,\n",
    "                                                       'offer viewed':3, \n",
    "                                                       \"offer received\":2, \n",
    "                                                       \"transaction\":1})\n",
    "# drop the original Event feature\n",
    "transcript_1.drop(columns=\"event\", inplace=True)\n",
    "\n",
    "# sort values by Customer ID, Offer ID and Event New in ascending order and store it as dataframe\n",
    "transcript_2 = transcript_1.sort_values([\"customer_id\",\"offer_id\", \"event_new\"], ascending=False)\n",
    "transcript_2.head(30)"
   ]
  },
  {
   "cell_type": "code",
   "execution_count": 66,
   "metadata": {},
   "outputs": [
    {
     "data": {
      "text/plain": [
       "4    28996\n",
       "3    24675\n",
       "1    16578\n",
       "2     9617\n",
       "Name: event, dtype: int64"
      ]
     },
     "execution_count": 66,
     "metadata": {},
     "output_type": "execute_result"
    }
   ],
   "source": [
    "# drop index Offer ID if there are any duplicates\n",
    "# yes, some information will be lost but the majority of information will be retained. Why lost? Because some customers received\n",
    "# the same Offer ID multiple times\n",
    "transcript_2 = transcript_2.loc[~transcript_2.index.duplicated(keep='first')]\n",
    "\n",
    "# let's rename the Event New feature\n",
    "transcript_2.rename(columns= {\"event_new\": \"event\"}, inplace=True)\n",
    "\n",
    "# let's take a look at the processed transcript df\n",
    "transcript_2[\"event\"].value_counts() # 4: Offer Completed 3: Offer Viewed 2: Offer Received 1: Transaction"
   ]
  },
  {
   "cell_type": "markdown",
   "metadata": {},
   "source": [
    "Let's convert **Offer ID** back to column."
   ]
  },
  {
   "cell_type": "code",
   "execution_count": 67,
   "metadata": {},
   "outputs": [
    {
     "name": "stdout",
     "output_type": "stream",
     "text": [
      "<class 'pandas.core.frame.DataFrame'>\n",
      "Index: 79866 entries, ffff82501cea40309d5fdd7edcca4a07 to 0009655768c64bdeb2e877511632db8f\n",
      "Data columns (total 5 columns):\n",
      " #   Column              Non-Null Count  Dtype  \n",
      "---  ------              --------------  -----  \n",
      " 0   offer_id            63288 non-null  object \n",
      " 1   transaction_amount  16578 non-null  float64\n",
      " 2   reward              28996 non-null  float64\n",
      " 3   time                79866 non-null  int64  \n",
      " 4   event               79866 non-null  int64  \n",
      "dtypes: float64(2), int64(2), object(1)\n",
      "memory usage: 3.7+ MB\n"
     ]
    }
   ],
   "source": [
    "transcript_2.reset_index(level=['offer_id'], inplace=True)\n",
    "transcript_2.info()"
   ]
  },
  {
   "cell_type": "markdown",
   "metadata": {},
   "source": [
    "Further, as described on Kaggle, the **Time** column is measured in hours:\n",
    "\"time in hours since the start of the test. The data begins at time t=0.\" Let's inspect this feature below."
   ]
  },
  {
   "cell_type": "code",
   "execution_count": 68,
   "metadata": {},
   "outputs": [
    {
     "data": {
      "text/plain": [
       "<matplotlib.axes._subplots.AxesSubplot at 0x2613c5fc5c8>"
      ]
     },
     "execution_count": 68,
     "metadata": {},
     "output_type": "execute_result"
    },
    {
     "data": {
      "image/png": "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\n",
      "text/plain": [
       "<Figure size 432x288 with 1 Axes>"
      ]
     },
     "metadata": {},
     "output_type": "display_data"
    }
   ],
   "source": [
    "sns.set_style('darkgrid')\n",
    "sns.distplot(transcript_2[\"time\"],kde=False)"
   ]
  },
  {
   "cell_type": "markdown",
   "metadata": {},
   "source": [
    "One can see that in many instances the number of hours is quite high. Let's convert the measurement from hours to days instead."
   ]
  },
  {
   "cell_type": "code",
   "execution_count": 69,
   "metadata": {},
   "outputs": [],
   "source": [
    "transcript_2['days_since_test'] = transcript_2['time'] // 24 # divison without remainders\n",
    "transcript_2.drop(columns = 'time', inplace = True)"
   ]
  },
  {
   "cell_type": "markdown",
   "metadata": {},
   "source": [
    "The second dataset is now processed and ready for merging to create a complete dataset."
   ]
  },
  {
   "cell_type": "markdown",
   "metadata": {},
   "source": [
    "## Examine Dataset Three: Profile"
   ]
  },
  {
   "cell_type": "code",
   "execution_count": 64,
   "metadata": {},
   "outputs": [
    {
     "name": "stdout",
     "output_type": "stream",
     "text": [
      "<class 'pandas.core.frame.DataFrame'>\n",
      "RangeIndex: 17000 entries, 0 to 16999\n",
      "Data columns (total 5 columns):\n",
      " #   Column            Non-Null Count  Dtype  \n",
      "---  ------            --------------  -----  \n",
      " 0   gender            14825 non-null  object \n",
      " 1   age               17000 non-null  int64  \n",
      " 2   customer_id       17000 non-null  object \n",
      " 3   became_member_on  17000 non-null  int64  \n",
      " 4   income            14825 non-null  float64\n",
      "dtypes: float64(1), int64(2), object(2)\n",
      "memory usage: 664.2+ KB\n"
     ]
    }
   ],
   "source": [
    "profile.info()"
   ]
  },
  {
   "cell_type": "code",
   "execution_count": 63,
   "metadata": {},
   "outputs": [
    {
     "data": {
      "text/html": [
       "<div>\n",
       "<style scoped>\n",
       "    .dataframe tbody tr th:only-of-type {\n",
       "        vertical-align: middle;\n",
       "    }\n",
       "\n",
       "    .dataframe tbody tr th {\n",
       "        vertical-align: top;\n",
       "    }\n",
       "\n",
       "    .dataframe thead th {\n",
       "        text-align: right;\n",
       "    }\n",
       "</style>\n",
       "<table border=\"1\" class=\"dataframe\">\n",
       "  <thead>\n",
       "    <tr style=\"text-align: right;\">\n",
       "      <th></th>\n",
       "      <th>gender</th>\n",
       "      <th>age</th>\n",
       "      <th>customer_id</th>\n",
       "      <th>became_member_on</th>\n",
       "      <th>income</th>\n",
       "    </tr>\n",
       "  </thead>\n",
       "  <tbody>\n",
       "    <tr>\n",
       "      <th>0</th>\n",
       "      <td>None</td>\n",
       "      <td>118</td>\n",
       "      <td>68be06ca386d4c31939f3a4f0e3dd783</td>\n",
       "      <td>20170212</td>\n",
       "      <td>NaN</td>\n",
       "    </tr>\n",
       "    <tr>\n",
       "      <th>1</th>\n",
       "      <td>F</td>\n",
       "      <td>55</td>\n",
       "      <td>0610b486422d4921ae7d2bf64640c50b</td>\n",
       "      <td>20170715</td>\n",
       "      <td>112000.0</td>\n",
       "    </tr>\n",
       "    <tr>\n",
       "      <th>2</th>\n",
       "      <td>None</td>\n",
       "      <td>118</td>\n",
       "      <td>38fe809add3b4fcf9315a9694bb96ff5</td>\n",
       "      <td>20180712</td>\n",
       "      <td>NaN</td>\n",
       "    </tr>\n",
       "    <tr>\n",
       "      <th>3</th>\n",
       "      <td>F</td>\n",
       "      <td>75</td>\n",
       "      <td>78afa995795e4d85b5d9ceeca43f5fef</td>\n",
       "      <td>20170509</td>\n",
       "      <td>100000.0</td>\n",
       "    </tr>\n",
       "    <tr>\n",
       "      <th>4</th>\n",
       "      <td>None</td>\n",
       "      <td>118</td>\n",
       "      <td>a03223e636434f42ac4c3df47e8bac43</td>\n",
       "      <td>20170804</td>\n",
       "      <td>NaN</td>\n",
       "    </tr>\n",
       "  </tbody>\n",
       "</table>\n",
       "</div>"
      ],
      "text/plain": [
       "  gender  age                       customer_id  became_member_on    income\n",
       "0   None  118  68be06ca386d4c31939f3a4f0e3dd783          20170212       NaN\n",
       "1      F   55  0610b486422d4921ae7d2bf64640c50b          20170715  112000.0\n",
       "2   None  118  38fe809add3b4fcf9315a9694bb96ff5          20180712       NaN\n",
       "3      F   75  78afa995795e4d85b5d9ceeca43f5fef          20170509  100000.0\n",
       "4   None  118  a03223e636434f42ac4c3df47e8bac43          20170804       NaN"
      ]
     },
     "execution_count": 63,
     "metadata": {},
     "output_type": "execute_result"
    }
   ],
   "source": [
    "profile.head()"
   ]
  },
  {
   "cell_type": "markdown",
   "metadata": {},
   "source": [
    "As written on Kaggle, **ID** refers to **Customer ID** and therefore we will rename the column."
   ]
  },
  {
   "cell_type": "code",
   "execution_count": 70,
   "metadata": {},
   "outputs": [],
   "source": [
    "profile.rename(columns = {'id':'customer_id'},inplace=True)"
   ]
  },
  {
   "cell_type": "markdown",
   "metadata": {},
   "source": [
    "One can observe that the profile dataset contains missing values for **Gender** and **Income**. In fact, they show the exact same total number of missing values. We have 2175 missing entries for **Ggender**. We can see in the output of .info() that **Income** has the same number of missing values. I suspect that for these two columns there are missing data in the same rows. Let's check and then drop these rows."
   ]
  },
  {
   "cell_type": "code",
   "execution_count": 22,
   "metadata": {},
   "outputs": [
    {
     "data": {
      "text/plain": [
       "<matplotlib.axes._subplots.AxesSubplot at 0x23908be7348>"
      ]
     },
     "execution_count": 22,
     "metadata": {},
     "output_type": "execute_result"
    },
    {
     "data": {
      "image/png": "iVBORw0KGgoAAAANSUhEUgAAAV0AAAD3CAYAAAC+eIeLAAAABHNCSVQICAgIfAhkiAAAAAlwSFlzAAALEgAACxIB0t1+/AAAADh0RVh0U29mdHdhcmUAbWF0cGxvdGxpYiB2ZXJzaW9uMy4xLjMsIGh0dHA6Ly9tYXRwbG90bGliLm9yZy+AADFEAAAJd0lEQVR4nO3dX2jV5R/A8c/GzAQzmUS6ItDBMqMEi0AISSjGgnWlEEjQRYRB/7EcMygzpXXRRV1VGLspSEkoAhG9EJMQXI0ovJgtQ0VsogP/jMncnq5+3fzaqQOnz845vV63D2c8Bx7efPd8v9/ntJRSSgCQonWuJwDwXyK6AIlEFyCR6AIkEl2ARG2VBh9r3Zg1D4CmcXBm76xjFaMbEXHg3I81nQzUQnfHamuThtRS6TldV7oA1at0pWtPFyCR6AIkEl2ARKILkEh0ARKJLkAi0QVIJLoAiUQXIFHF6HrNknplbdKoKka3u2N11jygKtYmjcr2AkAi0QVIJLoAiUQXIJHoAiQSXYBEoguQSHQBEokuQCLRBUgkugCJRBcgkegCJBJdgESiC5BIdAESiS5AItEFSCS6AIlEFyCR6AIkEl2ARC2llDLb4Mz5rsy5ADSF1qUjs461Vfpgd8fqmk8GoNkdnJl9zPYCQKKK0T1w7seseUBVrE0aVcXo2l6gXlmbNCo30gBqzI00gERupAHUCdEFSGRPF6DGKu3putIFSORGGkCNuZEGUCfs6QLUmOd0ARLZXgCoE6ILkEh0ARKJLkAi0QVIJLoAiUQXIJGXIwBqzMsRAIm8HAFQJ0QXIJHoAiQSXYBEoguQSHQBEokuQKKK0T1w7seseUBVrE0aVcXoejmCemVt0qhsLwAkEl2ARKILkEh0ARJVPGUswl1i6lN3x2prk4bkPF2AGnOeLkAi5+kC1AnRBUgkugCJRBcgkegCJBJdgESiC5BIdAESiS5AItEFSCS6AIlEFyCR6AIkEl2ARKILkEh0ARKJLkAi0QVIVDG6fviPemVt0qgqRtdvpFGvrE0ale0FgESiC5BIdAESiS5AIk8v0JCsTRpVSymlzDY4c74rcy4ATaF16cisY22VPuixHIDqHZyZfcyeLkAi0QVIJLoAiTy9QEOyNmlUzl6gIVmbNCrbCwCJRBcgkZcjAGqs0ssR9nRpSNYmjarile5jrRsz5wLQFA7O7J11zJ4uQCLRBUgkugCJRBcgkUfGAGrMeboAiZynC1AnRBcgkegCJKq4pxvh3FLqU3fHamuThuQ1YIAa8xowQJ0QXYBEoguQSHQBEokuQCLRBUgkugCJRBcgkegCJBJdgESiC5BIdAESiS5AItEFSCS6AIlEFyCR6AIkqvjLETPnuzLnAtAUWpeOzDpW8TfSujtW13wyAM3u4MzsY7YXABKJLkAi0QVIJLoAiUQXIJHoAiQSXYBEoguQSHQBEokuQCLRBUjkwBuAGnPgDUAiB94A1AnRBUgkugCJRBcgkegCJBJdgESiC5DIyxEANeblCIBEXo4AqBOiC5DIni5AjVXa03WlC5BIdAESeXoBoMY8vQBQJ0QXIJHoAiQSXYBEntMFqDFnLwAk8vQCQJ0QXYBEoguQSHQBEokuQCLRBUgkugCJRBcgkegCJBJdgESiC5BIdAESiS5AItEFSCS6AIkcYg5QY5UOMa94pesQc+qVtUmjqnil+1jrxsy5ADSFgzN7Zx2zpwuQSHQBEokuQCLRBUgkugCJRBcgkegCJBJdgESiC5BIdAESiS5AItEFSCS6AIlEFyCR6AIkEl2ARKILkEh0ARKJLkAi0QVIJLoAiUQXIJHoAiRqKaWUuZ4EwH+FK12ARKILkEh0ARKJLkAi0QVIJLoAiUQXIJHozqEjR45EX1/fXE+DJnHkyJH44osv5noa/I22uZ4AUBvr1q2b6ynwD4hulSYnJ+P111+PsbGxWLZsWRw/fjx2794d77zzTkRELF68OHbt2hUnTpyITz75JObNmxdnz56Nxx9/PJ577rkYHR2N/v7+WLBgQSxYsCBuvfXWiIjYv39/DA4ORmtrazzwwAOxZcuW+PDDD2N4eDgmJiZi586d0dnZOZdfnTq3b9+++Pbbb+PcuXOxdOnSOHPmTNx3332xffv2uHjxYvT19cWVK1eilBIDAwPR3t4er732Wly9ejWmp6fjpZdeirVr10Zvb288+OCDMTIyEsuXL48lS5bE0NBQ3HTTTfHxxx/H5ORkbNu2LcbHxyMi4o033oi77757jr99AylUZXBwsAwMDJRSSvnll1/KypUry8aNG8vJkydLKaXs2bOnvP/+++XYsWOlp6enTE1NlWvXrpU1a9aUUkp54YUXytGjR0sppXz00Udl69atZXx8vPT09JSJiYlSSilbtmwpR48eLR988EHZsWPHHHxLGtGXX35ZXn755fLQQw+VK1eulBs3bpRHHnmkjI2NlR07dpTPP/+8lFLKd999V7766qvy7rvvlsHBwVJKKefPny/r168v09PTZf369WVoaKiUUkp3d3c5fPhwKaWUTZs2lRMnTpT33nuvfPbZZ6WUUk6dOlWefPLJOfi2jcuVbpVGR0f//Deus7Mz2tvbY3R0NLZv3x4REVNTU7F8+fKIiOjq6oq2trZoa2uLm2++OSIiTp48Gffff39ERKxZsyZ+/fXXOH36dFy6dCmeffbZiIi4du1anDlzJiLiz78F/9Rdd90VCxcujIiI2267La5fvx6nTp2KDRs2RETE2rVrIyLim2++id7e3oiIuP3222PhwoVx6dKliIi49957IyJi0aJFf/6HtWjRorh+/XqMjIzEsWPHYv/+/RERcfny5bwv1wREt0pdXV0xPDwcjz76aJw+fTrGx8dj1apVMTAwEB0dHfH999/HhQsXIiKipaXl/z6/YsWKGB4ejnXr1sXPP/8cERF33nlnLFu2LD799NOYN29e7Nu3L+655544dOhQtLa610l1/mrddXZ2xk8//RQrV66M48ePx+HDh6OzszOGhoZi1apV8fvvv8fly5dj8eLFs/6N/1mxYkU88cQT0dvbGxcvXoy9e/f+a9+lGYlulTZs2BB9fX2xadOm6OjoiPnz58dbb70VW7dujenp6YiI2LlzZ4yNjf3l599888145ZVXYvfu3dHe3h7z58+P9vb2ePrpp+Opp56K6enpuOOOO6Knpyfza9HkNm/eHP39/fH1119HRMSuXbvilltuif7+/jhw4EBMTk7G22+/HW1tf5+EzZs3x7Zt22LPnj1x9erVeP755//t6TcVRztW6YcffoiJiYl4+OGH47fffotnnnkmDh06NNfTAhqE6FbpwoUL8eqrr8bU1FTcuHEjXnzxRY/qAP+Y6AIkcpcGIJHoAiQSXYBEoguQSHQBEv0BZ2xG3yTCE+4AAAAASUVORK5CYII=\n",
      "text/plain": [
       "<Figure size 432x288 with 1 Axes>"
      ]
     },
     "metadata": {},
     "output_type": "display_data"
    }
   ],
   "source": [
    "# for a closer comparison\n",
    "gender_income = profile[[\"gender\", \"income\"]].copy()\n",
    "sns.heatmap(gender_income.isnull(),yticklabels=False,cbar=False,cmap='viridis')"
   ]
  },
  {
   "cell_type": "code",
   "execution_count": 71,
   "metadata": {},
   "outputs": [
    {
     "data": {
      "text/plain": [
       "gender              0\n",
       "age                 0\n",
       "customer_id         0\n",
       "became_member_on    0\n",
       "income              0\n",
       "dtype: int64"
      ]
     },
     "execution_count": 71,
     "metadata": {},
     "output_type": "execute_result"
    }
   ],
   "source": [
    "profile.dropna(inplace=True)\n",
    "profile.reset_index(inplace=True,drop=True) # resetting the index due to dropped values\n",
    "profile.isna().sum()"
   ]
  },
  {
   "cell_type": "markdown",
   "metadata": {},
   "source": [
    "No missing values left."
   ]
  },
  {
   "cell_type": "code",
   "execution_count": 25,
   "metadata": {},
   "outputs": [
    {
     "data": {
      "text/plain": [
       "M    8484\n",
       "F    6129\n",
       "O     212\n",
       "Name: gender, dtype: int64"
      ]
     },
     "execution_count": 25,
     "metadata": {},
     "output_type": "execute_result"
    }
   ],
   "source": [
    "profile[\"gender\"].value_counts()"
   ]
  },
  {
   "cell_type": "markdown",
   "metadata": {},
   "source": [
    "Upon further examination of the **Gender** feature, one can see that 212 customers did not want to give an answer or specify their gender. Let's remove these entries because this will not yield useful insights for our analysis later on. As last step for the **Gender** feature, the column will be dummy-coded and the original column dropped."
   ]
  },
  {
   "cell_type": "code",
   "execution_count": 72,
   "metadata": {},
   "outputs": [
    {
     "data": {
      "text/html": [
       "<div>\n",
       "<style scoped>\n",
       "    .dataframe tbody tr th:only-of-type {\n",
       "        vertical-align: middle;\n",
       "    }\n",
       "\n",
       "    .dataframe tbody tr th {\n",
       "        vertical-align: top;\n",
       "    }\n",
       "\n",
       "    .dataframe thead th {\n",
       "        text-align: right;\n",
       "    }\n",
       "</style>\n",
       "<table border=\"1\" class=\"dataframe\">\n",
       "  <thead>\n",
       "    <tr style=\"text-align: right;\">\n",
       "      <th></th>\n",
       "      <th>gender</th>\n",
       "      <th>male</th>\n",
       "    </tr>\n",
       "  </thead>\n",
       "  <tbody>\n",
       "    <tr>\n",
       "      <th>0</th>\n",
       "      <td>F</td>\n",
       "      <td>0</td>\n",
       "    </tr>\n",
       "    <tr>\n",
       "      <th>1</th>\n",
       "      <td>F</td>\n",
       "      <td>0</td>\n",
       "    </tr>\n",
       "    <tr>\n",
       "      <th>2</th>\n",
       "      <td>M</td>\n",
       "      <td>1</td>\n",
       "    </tr>\n",
       "    <tr>\n",
       "      <th>3</th>\n",
       "      <td>M</td>\n",
       "      <td>1</td>\n",
       "    </tr>\n",
       "    <tr>\n",
       "      <th>4</th>\n",
       "      <td>M</td>\n",
       "      <td>1</td>\n",
       "    </tr>\n",
       "    <tr>\n",
       "      <th>...</th>\n",
       "      <td>...</td>\n",
       "      <td>...</td>\n",
       "    </tr>\n",
       "    <tr>\n",
       "      <th>14820</th>\n",
       "      <td>F</td>\n",
       "      <td>0</td>\n",
       "    </tr>\n",
       "    <tr>\n",
       "      <th>14821</th>\n",
       "      <td>M</td>\n",
       "      <td>1</td>\n",
       "    </tr>\n",
       "    <tr>\n",
       "      <th>14822</th>\n",
       "      <td>M</td>\n",
       "      <td>1</td>\n",
       "    </tr>\n",
       "    <tr>\n",
       "      <th>14823</th>\n",
       "      <td>F</td>\n",
       "      <td>0</td>\n",
       "    </tr>\n",
       "    <tr>\n",
       "      <th>14824</th>\n",
       "      <td>F</td>\n",
       "      <td>0</td>\n",
       "    </tr>\n",
       "  </tbody>\n",
       "</table>\n",
       "<p>14613 rows × 2 columns</p>\n",
       "</div>"
      ],
      "text/plain": [
       "      gender  male\n",
       "0          F     0\n",
       "1          F     0\n",
       "2          M     1\n",
       "3          M     1\n",
       "4          M     1\n",
       "...      ...   ...\n",
       "14820      F     0\n",
       "14821      M     1\n",
       "14822      M     1\n",
       "14823      F     0\n",
       "14824      F     0\n",
       "\n",
       "[14613 rows x 2 columns]"
      ]
     },
     "execution_count": 72,
     "metadata": {},
     "output_type": "execute_result"
    }
   ],
   "source": [
    "profile = profile[profile.gender != 'O']\n",
    "profile['male'] = profile['gender'].map({'M':1,'F':0}) # 1 is male, 0 is female\n",
    "profile[['gender','male']] # to check if it worked proprely"
   ]
  },
  {
   "cell_type": "code",
   "execution_count": 73,
   "metadata": {},
   "outputs": [],
   "source": [
    "# now we can drop the original column\n",
    "profile.drop(columns = 'gender', inplace = True) "
   ]
  },
  {
   "cell_type": "markdown",
   "metadata": {},
   "source": [
    "The feature **Became Member On** is supposed to be in datetime format. However, this is not the case here. Moreover, in order to be able to use this feature in any machine learning model, it must be feature engineered. \n",
    "\n",
    "My approach:\n",
    "\n",
    "First, convert the current column format (int) to datetime and then calculate the total number of membership days per customer. Lastly, I will drop the old column.\n"
   ]
  },
  {
   "cell_type": "code",
   "execution_count": 74,
   "metadata": {},
   "outputs": [],
   "source": [
    "# convert column to datetime\n",
    "profile['became_member_on'] = pd.to_datetime(profile['became_member_on'], format=\"%Y%m%d\")"
   ]
  },
  {
   "cell_type": "code",
   "execution_count": 75,
   "metadata": {},
   "outputs": [
    {
     "name": "stdout",
     "output_type": "stream",
     "text": [
      "2013-07-29 00:00:00 2018-07-26 00:00:00\n"
     ]
    }
   ],
   "source": [
    "# let's see the timeframe the customer data was collected\n",
    "print(profile[\"became_member_on\"].min(),profile[\"became_member_on\"].max()) "
   ]
  },
  {
   "cell_type": "markdown",
   "metadata": {},
   "source": [
    "The customer data was collected between July 29th, 2013 and July 26th, 2018"
   ]
  },
  {
   "cell_type": "code",
   "execution_count": 76,
   "metadata": {},
   "outputs": [],
   "source": [
    "# create a function to convert the column into total number of days\n",
    "def total_days_converter(start_date, end_date= profile[\"became_member_on\"].max()):\n",
    "    for date in start_date:\n",
    "        days = (end_date-start_date)\n",
    "        return days "
   ]
  },
  {
   "cell_type": "code",
   "execution_count": 77,
   "metadata": {},
   "outputs": [
    {
     "data": {
      "text/plain": [
       "0   376 days\n",
       "1   443 days\n",
       "2    91 days\n",
       "3   167 days\n",
       "4   257 days\n",
       "Name: membership_days, dtype: timedelta64[ns]"
      ]
     },
     "execution_count": 77,
     "metadata": {},
     "output_type": "execute_result"
    }
   ],
   "source": [
    "# apply function to perform the conversion\n",
    "profile[\"membership_days\"] = total_days_converter(profile[\"became_member_on\"])\n",
    "profile.drop(columns=\"became_member_on\", inplace=True)\n",
    "profile[\"membership_days\"].head()"
   ]
  },
  {
   "cell_type": "code",
   "execution_count": 79,
   "metadata": {},
   "outputs": [],
   "source": [
    "# since we are only interested in the total number of days we can extract the number of days and convert it to integer format\n",
    "profile['membership_days'] = pd.to_numeric(profile['membership_days'].dt.days, downcast='integer')"
   ]
  },
  {
   "cell_type": "markdown",
   "metadata": {},
   "source": [
    "The third and final dataset is ready to be used for merging. The **Customer ID** column remains in its current state because it will be used to merge the datasets next. However, this dataset is not yet suitable for machine learning because the 3 datetime columns need more processing which will be conducted later."
   ]
  },
  {
   "cell_type": "markdown",
   "metadata": {},
   "source": [
    "## Merging the Three Datasets into a Complete Dataset"
   ]
  },
  {
   "cell_type": "markdown",
   "metadata": {},
   "source": [
    "**Step 1:** Let's start by merging the cleaned **Transcript** dataset with the **Profile** dataset on **Customer ID**."
   ]
  },
  {
   "cell_type": "code",
   "execution_count": 82,
   "metadata": {},
   "outputs": [
    {
     "name": "stdout",
     "output_type": "stream",
     "text": [
      "<class 'pandas.core.frame.DataFrame'>\n",
      "Int64Index: 79866 entries, 0 to 79865\n",
      "Data columns (total 10 columns):\n",
      " #   Column              Non-Null Count  Dtype  \n",
      "---  ------              --------------  -----  \n",
      " 0   customer_id         79866 non-null  object \n",
      " 1   offer_id            63288 non-null  object \n",
      " 2   transaction_amount  16578 non-null  float64\n",
      " 3   reward              28996 non-null  float64\n",
      " 4   event               79866 non-null  int64  \n",
      " 5   days_since_test     79866 non-null  int64  \n",
      " 6   age                 68741 non-null  float64\n",
      " 7   income              68741 non-null  float64\n",
      " 8   male                68741 non-null  float64\n",
      " 9   membership_days     68741 non-null  float64\n",
      "dtypes: float64(6), int64(2), object(2)\n",
      "memory usage: 6.7+ MB\n"
     ]
    }
   ],
   "source": [
    "# we merge them with \"how = 'outer'\" to retain all rows even if there is not a match on \"customer_id\" \n",
    "step1 = pd.merge(transcript_2, profile, on=\"customer_id\", how=\"outer\")\n",
    "step1.info()"
   ]
  },
  {
   "cell_type": "markdown",
   "metadata": {},
   "source": [
    "**Step 2:** Let's merge the **Step1** dataset with the **Portfolio** dataset on **Offer ID** to create the complete dataset."
   ]
  },
  {
   "cell_type": "code",
   "execution_count": 83,
   "metadata": {},
   "outputs": [
    {
     "name": "stdout",
     "output_type": "stream",
     "text": [
      "<class 'pandas.core.frame.DataFrame'>\n",
      "Int64Index: 79866 entries, 0 to 79865\n",
      "Data columns (total 20 columns):\n",
      " #   Column              Non-Null Count  Dtype  \n",
      "---  ------              --------------  -----  \n",
      " 0   customer_id         79866 non-null  object \n",
      " 1   offer_id            63288 non-null  object \n",
      " 2   transaction_amount  16578 non-null  float64\n",
      " 3   reward_x            28996 non-null  float64\n",
      " 4   event               79866 non-null  int64  \n",
      " 5   days_since_test     79866 non-null  int64  \n",
      " 6   age                 68741 non-null  float64\n",
      " 7   income              68741 non-null  float64\n",
      " 8   male                68741 non-null  float64\n",
      " 9   membership_days     68741 non-null  float64\n",
      " 10  reward_y            63288 non-null  float64\n",
      " 11  difficulty          63288 non-null  float64\n",
      " 12  duration            63288 non-null  float64\n",
      " 13  email               63288 non-null  float64\n",
      " 14  mobile              63288 non-null  float64\n",
      " 15  social              63288 non-null  float64\n",
      " 16  web                 63288 non-null  float64\n",
      " 17  bogo                63288 non-null  float64\n",
      " 18  discount            63288 non-null  float64\n",
      " 19  informational       63288 non-null  float64\n",
      "dtypes: float64(16), int64(2), object(2)\n",
      "memory usage: 12.8+ MB\n"
     ]
    }
   ],
   "source": [
    "step2 = pd.merge(step1, portfolio, on=\"offer_id\", how=\"outer\") # outer to avoid dropping NaNs or no match on Offer ID\n",
    "step2.info()"
   ]
  },
  {
   "cell_type": "markdown",
   "metadata": {},
   "source": [
    "# Preparing the Complete Dataset"
   ]
  },
  {
   "cell_type": "markdown",
   "metadata": {},
   "source": [
    "Finally, after merging the datasets into the complete dataset we have to do some last preprocessing steps before we can start with our analysis.\n",
    "<br>\n",
    "\n",
    "- drop **Customer ID** and **Offer ID** columns since we are now done with merging datasets and don't need them anymore\n",
    "- fill NaNs in **Transaction Amount**, **Difficulty**, **Duration, **Email**, **Mobile**, **Social**, **Web**, **Bogo**, **Discount** and **Informational** with 0s\n",
    "- examine if **reward_x** and **reward_y** are identical and then drop one, fill the remaining NaNs with 0 and rename the feature"
   ]
  },
  {
   "cell_type": "code",
   "execution_count": 84,
   "metadata": {},
   "outputs": [],
   "source": [
    "step2.drop(columns=[\"customer_id\", \"offer_id\"], inplace=True)"
   ]
  },
  {
   "cell_type": "code",
   "execution_count": 85,
   "metadata": {},
   "outputs": [],
   "source": [
    "# fill NaNs in with 0s \n",
    "step2[\"transaction_amount\"].fillna(value=0, inplace=True)\n",
    "step2[\"difficulty\"].fillna(value=0, inplace=True)\n",
    "step2[\"duration\"].fillna(value=0, inplace=True)\n",
    "step2[\"email\"].fillna(value=0, inplace=True)\n",
    "step2[\"mobile\"].fillna(value=0, inplace=True)\n",
    "step2[\"social\"].fillna(value=0, inplace=True)\n",
    "step2[\"web\"].fillna(value=0, inplace=True)\n",
    "step2[\"bogo\"].fillna(value=0, inplace=True)\n",
    "step2[\"discount\"].fillna(value=0, inplace=True)\n",
    "step2[\"informational\"].fillna(value=0, inplace=True)"
   ]
  },
  {
   "cell_type": "code",
   "execution_count": 86,
   "metadata": {},
   "outputs": [
    {
     "data": {
      "text/plain": [
       "True"
      ]
     },
     "execution_count": 86,
     "metadata": {},
     "output_type": "execute_result"
    }
   ],
   "source": [
    "# check if reward_x values are all in reward_y\n",
    "step2[\"reward_x\"].isin(step2[\"reward_y\"]).all()"
   ]
  },
  {
   "cell_type": "code",
   "execution_count": 87,
   "metadata": {},
   "outputs": [],
   "source": [
    "# this means we can drop reward_x, rename reward_y to reward and fill any missing values with 0\n",
    "step2.drop(columns=\"reward_x\", inplace=True)\n",
    "step2.rename(columns={\"reward_y\" : \"reward\"},inplace=True)\n",
    "step2[\"reward\"].fillna(value=0, inplace=True)"
   ]
  },
  {
   "cell_type": "markdown",
   "metadata": {},
   "source": [
    "Let's check for any additional missing values. If there are still find missing data we will drop them."
   ]
  },
  {
   "cell_type": "code",
   "execution_count": 41,
   "metadata": {},
   "outputs": [
    {
     "data": {
      "text/plain": [
       "<matplotlib.axes._subplots.AxesSubplot at 0x218bf44adc8>"
      ]
     },
     "execution_count": 41,
     "metadata": {},
     "output_type": "execute_result"
    },
    {
     "data": {
      "image/png": "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\n",
      "text/plain": [
       "<Figure size 1152x576 with 1 Axes>"
      ]
     },
     "metadata": {},
     "output_type": "display_data"
    }
   ],
   "source": [
    "plt.figure(figsize=(16,8))\n",
    "sns.heatmap(step2.isnull(),yticklabels=False,cbar=False,cmap='viridis')"
   ]
  },
  {
   "cell_type": "code",
   "execution_count": 88,
   "metadata": {},
   "outputs": [
    {
     "name": "stdout",
     "output_type": "stream",
     "text": [
      "<class 'pandas.core.frame.DataFrame'>\n",
      "RangeIndex: 68741 entries, 0 to 68740\n",
      "Data columns (total 17 columns):\n",
      " #   Column              Non-Null Count  Dtype  \n",
      "---  ------              --------------  -----  \n",
      " 0   transaction_amount  68741 non-null  float64\n",
      " 1   event               68741 non-null  int64  \n",
      " 2   days_since_test     68741 non-null  int64  \n",
      " 3   age                 68741 non-null  float64\n",
      " 4   income              68741 non-null  float64\n",
      " 5   male                68741 non-null  float64\n",
      " 6   membership_days     68741 non-null  float64\n",
      " 7   reward              68741 non-null  float64\n",
      " 8   difficulty          68741 non-null  float64\n",
      " 9   duration            68741 non-null  float64\n",
      " 10  email               68741 non-null  float64\n",
      " 11  mobile              68741 non-null  float64\n",
      " 12  social              68741 non-null  float64\n",
      " 13  web                 68741 non-null  float64\n",
      " 14  bogo                68741 non-null  float64\n",
      " 15  discount            68741 non-null  float64\n",
      " 16  informational       68741 non-null  float64\n",
      "dtypes: float64(15), int64(2)\n",
      "memory usage: 8.9 MB\n"
     ]
    }
   ],
   "source": [
    "# drop NaNs\n",
    "step2.dropna(inplace=True)\n",
    "step2.reset_index(inplace=True,drop=True) # resetting the index caused by dropped values\n",
    "step2.info()"
   ]
  },
  {
   "cell_type": "markdown",
   "metadata": {},
   "source": [
    "No missing data left. The final dataset contains 68,741 observations and 17 columns. Let's save it as a csv file and begin with our analysis."
   ]
  },
  {
   "cell_type": "code",
   "execution_count": 89,
   "metadata": {},
   "outputs": [],
   "source": [
    "# Write csv file of the step2 data set \n",
    "step2.to_csv(\"starbucks.csv\")"
   ]
  },
  {
   "cell_type": "markdown",
   "metadata": {},
   "source": [
    "# 2) Exploratory Data Analysis (EDA)"
   ]
  },
  {
   "cell_type": "code",
   "execution_count": 73,
   "metadata": {},
   "outputs": [],
   "source": [
    "# load dataset\n",
    "df = pd.read_csv(\"starbucks.csv\")"
   ]
  },
  {
   "cell_type": "markdown",
   "metadata": {},
   "source": [
    "## 1. Summary Statistics"
   ]
  },
  {
   "cell_type": "markdown",
   "metadata": {},
   "source": [
    "The loaded dataset contains a new column titled \"Unnamed: 0\" which is presumably added automatically as index. Let's drop this column before conducting the EDA."
   ]
  },
  {
   "cell_type": "code",
   "execution_count": 74,
   "metadata": {},
   "outputs": [
    {
     "name": "stdout",
     "output_type": "stream",
     "text": [
      "<class 'pandas.core.frame.DataFrame'>\n",
      "RangeIndex: 68741 entries, 0 to 68740\n",
      "Data columns (total 17 columns):\n",
      " #   Column              Non-Null Count  Dtype  \n",
      "---  ------              --------------  -----  \n",
      " 0   transaction_amount  68741 non-null  float64\n",
      " 1   event               68741 non-null  int64  \n",
      " 2   days_since_test     68741 non-null  int64  \n",
      " 3   age                 68741 non-null  float64\n",
      " 4   income              68741 non-null  float64\n",
      " 5   male                68741 non-null  float64\n",
      " 6   membership_days     68741 non-null  float64\n",
      " 7   reward              68741 non-null  float64\n",
      " 8   difficulty          68741 non-null  float64\n",
      " 9   duration            68741 non-null  float64\n",
      " 10  email               68741 non-null  float64\n",
      " 11  mobile              68741 non-null  float64\n",
      " 12  social              68741 non-null  float64\n",
      " 13  web                 68741 non-null  float64\n",
      " 14  bogo                68741 non-null  float64\n",
      " 15  discount            68741 non-null  float64\n",
      " 16  informational       68741 non-null  float64\n",
      "dtypes: float64(15), int64(2)\n",
      "memory usage: 8.9 MB\n"
     ]
    }
   ],
   "source": [
    "df.drop(columns=\"Unnamed: 0\", inplace=True)\n",
    "df.info()"
   ]
  },
  {
   "cell_type": "code",
   "execution_count": 92,
   "metadata": {},
   "outputs": [
    {
     "data": {
      "text/html": [
       "<div>\n",
       "<style scoped>\n",
       "    .dataframe tbody tr th:only-of-type {\n",
       "        vertical-align: middle;\n",
       "    }\n",
       "\n",
       "    .dataframe tbody tr th {\n",
       "        vertical-align: top;\n",
       "    }\n",
       "\n",
       "    .dataframe thead th {\n",
       "        text-align: right;\n",
       "    }\n",
       "</style>\n",
       "<table border=\"1\" class=\"dataframe\">\n",
       "  <thead>\n",
       "    <tr style=\"text-align: right;\">\n",
       "      <th></th>\n",
       "      <th>transaction_amount</th>\n",
       "      <th>event</th>\n",
       "      <th>days_since_test</th>\n",
       "      <th>age</th>\n",
       "      <th>income</th>\n",
       "      <th>male</th>\n",
       "      <th>membership_days</th>\n",
       "      <th>reward</th>\n",
       "      <th>difficulty</th>\n",
       "      <th>duration</th>\n",
       "      <th>email</th>\n",
       "      <th>mobile</th>\n",
       "      <th>social</th>\n",
       "      <th>web</th>\n",
       "      <th>bogo</th>\n",
       "      <th>discount</th>\n",
       "      <th>informational</th>\n",
       "    </tr>\n",
       "  </thead>\n",
       "  <tbody>\n",
       "    <tr>\n",
       "      <th>0</th>\n",
       "      <td>0.0</td>\n",
       "      <td>4</td>\n",
       "      <td>2</td>\n",
       "      <td>45.0</td>\n",
       "      <td>62000.0</td>\n",
       "      <td>0.0</td>\n",
       "      <td>608.0</td>\n",
       "      <td>2.0</td>\n",
       "      <td>10.0</td>\n",
       "      <td>10.0</td>\n",
       "      <td>1.0</td>\n",
       "      <td>1.0</td>\n",
       "      <td>1.0</td>\n",
       "      <td>1.0</td>\n",
       "      <td>0.0</td>\n",
       "      <td>1.0</td>\n",
       "      <td>0.0</td>\n",
       "    </tr>\n",
       "    <tr>\n",
       "      <th>1</th>\n",
       "      <td>0.0</td>\n",
       "      <td>3</td>\n",
       "      <td>18</td>\n",
       "      <td>71.0</td>\n",
       "      <td>56000.0</td>\n",
       "      <td>1.0</td>\n",
       "      <td>158.0</td>\n",
       "      <td>2.0</td>\n",
       "      <td>10.0</td>\n",
       "      <td>10.0</td>\n",
       "      <td>1.0</td>\n",
       "      <td>1.0</td>\n",
       "      <td>1.0</td>\n",
       "      <td>1.0</td>\n",
       "      <td>0.0</td>\n",
       "      <td>1.0</td>\n",
       "      <td>0.0</td>\n",
       "    </tr>\n",
       "    <tr>\n",
       "      <th>2</th>\n",
       "      <td>0.0</td>\n",
       "      <td>4</td>\n",
       "      <td>8</td>\n",
       "      <td>71.0</td>\n",
       "      <td>73000.0</td>\n",
       "      <td>1.0</td>\n",
       "      <td>268.0</td>\n",
       "      <td>2.0</td>\n",
       "      <td>10.0</td>\n",
       "      <td>10.0</td>\n",
       "      <td>1.0</td>\n",
       "      <td>1.0</td>\n",
       "      <td>1.0</td>\n",
       "      <td>1.0</td>\n",
       "      <td>0.0</td>\n",
       "      <td>1.0</td>\n",
       "      <td>0.0</td>\n",
       "    </tr>\n",
       "    <tr>\n",
       "      <th>3</th>\n",
       "      <td>0.0</td>\n",
       "      <td>4</td>\n",
       "      <td>0</td>\n",
       "      <td>69.0</td>\n",
       "      <td>83000.0</td>\n",
       "      <td>0.0</td>\n",
       "      <td>1040.0</td>\n",
       "      <td>2.0</td>\n",
       "      <td>10.0</td>\n",
       "      <td>10.0</td>\n",
       "      <td>1.0</td>\n",
       "      <td>1.0</td>\n",
       "      <td>1.0</td>\n",
       "      <td>1.0</td>\n",
       "      <td>0.0</td>\n",
       "      <td>1.0</td>\n",
       "      <td>0.0</td>\n",
       "    </tr>\n",
       "    <tr>\n",
       "      <th>4</th>\n",
       "      <td>0.0</td>\n",
       "      <td>4</td>\n",
       "      <td>7</td>\n",
       "      <td>59.0</td>\n",
       "      <td>93000.0</td>\n",
       "      <td>0.0</td>\n",
       "      <td>329.0</td>\n",
       "      <td>2.0</td>\n",
       "      <td>10.0</td>\n",
       "      <td>10.0</td>\n",
       "      <td>1.0</td>\n",
       "      <td>1.0</td>\n",
       "      <td>1.0</td>\n",
       "      <td>1.0</td>\n",
       "      <td>0.0</td>\n",
       "      <td>1.0</td>\n",
       "      <td>0.0</td>\n",
       "    </tr>\n",
       "    <tr>\n",
       "      <th>5</th>\n",
       "      <td>0.0</td>\n",
       "      <td>4</td>\n",
       "      <td>2</td>\n",
       "      <td>87.0</td>\n",
       "      <td>47000.0</td>\n",
       "      <td>0.0</td>\n",
       "      <td>498.0</td>\n",
       "      <td>2.0</td>\n",
       "      <td>10.0</td>\n",
       "      <td>10.0</td>\n",
       "      <td>1.0</td>\n",
       "      <td>1.0</td>\n",
       "      <td>1.0</td>\n",
       "      <td>1.0</td>\n",
       "      <td>0.0</td>\n",
       "      <td>1.0</td>\n",
       "      <td>0.0</td>\n",
       "    </tr>\n",
       "    <tr>\n",
       "      <th>6</th>\n",
       "      <td>0.0</td>\n",
       "      <td>4</td>\n",
       "      <td>21</td>\n",
       "      <td>67.0</td>\n",
       "      <td>95000.0</td>\n",
       "      <td>0.0</td>\n",
       "      <td>5.0</td>\n",
       "      <td>2.0</td>\n",
       "      <td>10.0</td>\n",
       "      <td>10.0</td>\n",
       "      <td>1.0</td>\n",
       "      <td>1.0</td>\n",
       "      <td>1.0</td>\n",
       "      <td>1.0</td>\n",
       "      <td>0.0</td>\n",
       "      <td>1.0</td>\n",
       "      <td>0.0</td>\n",
       "    </tr>\n",
       "    <tr>\n",
       "      <th>7</th>\n",
       "      <td>0.0</td>\n",
       "      <td>4</td>\n",
       "      <td>20</td>\n",
       "      <td>57.0</td>\n",
       "      <td>118000.0</td>\n",
       "      <td>0.0</td>\n",
       "      <td>1058.0</td>\n",
       "      <td>2.0</td>\n",
       "      <td>10.0</td>\n",
       "      <td>10.0</td>\n",
       "      <td>1.0</td>\n",
       "      <td>1.0</td>\n",
       "      <td>1.0</td>\n",
       "      <td>1.0</td>\n",
       "      <td>0.0</td>\n",
       "      <td>1.0</td>\n",
       "      <td>0.0</td>\n",
       "    </tr>\n",
       "    <tr>\n",
       "      <th>8</th>\n",
       "      <td>0.0</td>\n",
       "      <td>4</td>\n",
       "      <td>26</td>\n",
       "      <td>50.0</td>\n",
       "      <td>86000.0</td>\n",
       "      <td>1.0</td>\n",
       "      <td>330.0</td>\n",
       "      <td>2.0</td>\n",
       "      <td>10.0</td>\n",
       "      <td>10.0</td>\n",
       "      <td>1.0</td>\n",
       "      <td>1.0</td>\n",
       "      <td>1.0</td>\n",
       "      <td>1.0</td>\n",
       "      <td>0.0</td>\n",
       "      <td>1.0</td>\n",
       "      <td>0.0</td>\n",
       "    </tr>\n",
       "    <tr>\n",
       "      <th>9</th>\n",
       "      <td>0.0</td>\n",
       "      <td>4</td>\n",
       "      <td>1</td>\n",
       "      <td>43.0</td>\n",
       "      <td>67000.0</td>\n",
       "      <td>0.0</td>\n",
       "      <td>1091.0</td>\n",
       "      <td>2.0</td>\n",
       "      <td>10.0</td>\n",
       "      <td>10.0</td>\n",
       "      <td>1.0</td>\n",
       "      <td>1.0</td>\n",
       "      <td>1.0</td>\n",
       "      <td>1.0</td>\n",
       "      <td>0.0</td>\n",
       "      <td>1.0</td>\n",
       "      <td>0.0</td>\n",
       "    </tr>\n",
       "  </tbody>\n",
       "</table>\n",
       "</div>"
      ],
      "text/plain": [
       "   transaction_amount  event  days_since_test   age    income  male  \\\n",
       "0                 0.0      4                2  45.0   62000.0   0.0   \n",
       "1                 0.0      3               18  71.0   56000.0   1.0   \n",
       "2                 0.0      4                8  71.0   73000.0   1.0   \n",
       "3                 0.0      4                0  69.0   83000.0   0.0   \n",
       "4                 0.0      4                7  59.0   93000.0   0.0   \n",
       "5                 0.0      4                2  87.0   47000.0   0.0   \n",
       "6                 0.0      4               21  67.0   95000.0   0.0   \n",
       "7                 0.0      4               20  57.0  118000.0   0.0   \n",
       "8                 0.0      4               26  50.0   86000.0   1.0   \n",
       "9                 0.0      4                1  43.0   67000.0   0.0   \n",
       "\n",
       "   membership_days  reward  difficulty  duration  email  mobile  social  web  \\\n",
       "0            608.0     2.0        10.0      10.0    1.0     1.0     1.0  1.0   \n",
       "1            158.0     2.0        10.0      10.0    1.0     1.0     1.0  1.0   \n",
       "2            268.0     2.0        10.0      10.0    1.0     1.0     1.0  1.0   \n",
       "3           1040.0     2.0        10.0      10.0    1.0     1.0     1.0  1.0   \n",
       "4            329.0     2.0        10.0      10.0    1.0     1.0     1.0  1.0   \n",
       "5            498.0     2.0        10.0      10.0    1.0     1.0     1.0  1.0   \n",
       "6              5.0     2.0        10.0      10.0    1.0     1.0     1.0  1.0   \n",
       "7           1058.0     2.0        10.0      10.0    1.0     1.0     1.0  1.0   \n",
       "8            330.0     2.0        10.0      10.0    1.0     1.0     1.0  1.0   \n",
       "9           1091.0     2.0        10.0      10.0    1.0     1.0     1.0  1.0   \n",
       "\n",
       "   bogo  discount  informational  \n",
       "0   0.0       1.0            0.0  \n",
       "1   0.0       1.0            0.0  \n",
       "2   0.0       1.0            0.0  \n",
       "3   0.0       1.0            0.0  \n",
       "4   0.0       1.0            0.0  \n",
       "5   0.0       1.0            0.0  \n",
       "6   0.0       1.0            0.0  \n",
       "7   0.0       1.0            0.0  \n",
       "8   0.0       1.0            0.0  \n",
       "9   0.0       1.0            0.0  "
      ]
     },
     "execution_count": 92,
     "metadata": {},
     "output_type": "execute_result"
    }
   ],
   "source": [
    "df.head(10)"
   ]
  },
  {
   "cell_type": "code",
   "execution_count": 93,
   "metadata": {},
   "outputs": [
    {
     "data": {
      "text/html": [
       "<div>\n",
       "<style scoped>\n",
       "    .dataframe tbody tr th:only-of-type {\n",
       "        vertical-align: middle;\n",
       "    }\n",
       "\n",
       "    .dataframe tbody tr th {\n",
       "        vertical-align: top;\n",
       "    }\n",
       "\n",
       "    .dataframe thead th {\n",
       "        text-align: right;\n",
       "    }\n",
       "</style>\n",
       "<table border=\"1\" class=\"dataframe\">\n",
       "  <thead>\n",
       "    <tr style=\"text-align: right;\">\n",
       "      <th></th>\n",
       "      <th>transaction_amount</th>\n",
       "      <th>event</th>\n",
       "      <th>days_since_test</th>\n",
       "      <th>age</th>\n",
       "      <th>income</th>\n",
       "      <th>male</th>\n",
       "      <th>membership_days</th>\n",
       "      <th>reward</th>\n",
       "      <th>difficulty</th>\n",
       "      <th>duration</th>\n",
       "      <th>email</th>\n",
       "      <th>mobile</th>\n",
       "      <th>social</th>\n",
       "      <th>web</th>\n",
       "      <th>bogo</th>\n",
       "      <th>discount</th>\n",
       "      <th>informational</th>\n",
       "    </tr>\n",
       "  </thead>\n",
       "  <tbody>\n",
       "    <tr>\n",
       "      <th>count</th>\n",
       "      <td>68741.000000</td>\n",
       "      <td>68741.000000</td>\n",
       "      <td>68741.000000</td>\n",
       "      <td>68741.000000</td>\n",
       "      <td>68741.000000</td>\n",
       "      <td>68741.000000</td>\n",
       "      <td>68741.000000</td>\n",
       "      <td>68741.000000</td>\n",
       "      <td>68741.000000</td>\n",
       "      <td>68741.000000</td>\n",
       "      <td>68741.000000</td>\n",
       "      <td>68741.000000</td>\n",
       "      <td>68741.000000</td>\n",
       "      <td>68741.000000</td>\n",
       "      <td>68741.000000</td>\n",
       "      <td>68741.000000</td>\n",
       "      <td>68741.000000</td>\n",
       "    </tr>\n",
       "    <tr>\n",
       "      <th>mean</th>\n",
       "      <td>3.097166</td>\n",
       "      <td>2.865088</td>\n",
       "      <td>12.637742</td>\n",
       "      <td>54.333862</td>\n",
       "      <td>65388.007157</td>\n",
       "      <td>0.581022</td>\n",
       "      <td>523.530295</td>\n",
       "      <td>3.332233</td>\n",
       "      <td>6.116612</td>\n",
       "      <td>5.155831</td>\n",
       "      <td>0.792147</td>\n",
       "      <td>0.711977</td>\n",
       "      <td>0.474768</td>\n",
       "      <td>0.633276</td>\n",
       "      <td>0.316536</td>\n",
       "      <td>0.317365</td>\n",
       "      <td>0.158246</td>\n",
       "    </tr>\n",
       "    <tr>\n",
       "      <th>std</th>\n",
       "      <td>15.436389</td>\n",
       "      <td>1.154521</td>\n",
       "      <td>8.742691</td>\n",
       "      <td>17.415733</td>\n",
       "      <td>21655.181548</td>\n",
       "      <td>0.493395</td>\n",
       "      <td>419.954176</td>\n",
       "      <td>3.476804</td>\n",
       "      <td>5.847533</td>\n",
       "      <td>3.290752</td>\n",
       "      <td>0.405774</td>\n",
       "      <td>0.452845</td>\n",
       "      <td>0.499367</td>\n",
       "      <td>0.481914</td>\n",
       "      <td>0.465128</td>\n",
       "      <td>0.465454</td>\n",
       "      <td>0.364974</td>\n",
       "    </tr>\n",
       "    <tr>\n",
       "      <th>min</th>\n",
       "      <td>0.000000</td>\n",
       "      <td>1.000000</td>\n",
       "      <td>0.000000</td>\n",
       "      <td>18.000000</td>\n",
       "      <td>30000.000000</td>\n",
       "      <td>0.000000</td>\n",
       "      <td>0.000000</td>\n",
       "      <td>0.000000</td>\n",
       "      <td>0.000000</td>\n",
       "      <td>0.000000</td>\n",
       "      <td>0.000000</td>\n",
       "      <td>0.000000</td>\n",
       "      <td>0.000000</td>\n",
       "      <td>0.000000</td>\n",
       "      <td>0.000000</td>\n",
       "      <td>0.000000</td>\n",
       "      <td>0.000000</td>\n",
       "    </tr>\n",
       "    <tr>\n",
       "      <th>25%</th>\n",
       "      <td>0.000000</td>\n",
       "      <td>2.000000</td>\n",
       "      <td>4.000000</td>\n",
       "      <td>42.000000</td>\n",
       "      <td>49000.000000</td>\n",
       "      <td>0.000000</td>\n",
       "      <td>208.000000</td>\n",
       "      <td>0.000000</td>\n",
       "      <td>0.000000</td>\n",
       "      <td>3.000000</td>\n",
       "      <td>1.000000</td>\n",
       "      <td>0.000000</td>\n",
       "      <td>0.000000</td>\n",
       "      <td>0.000000</td>\n",
       "      <td>0.000000</td>\n",
       "      <td>0.000000</td>\n",
       "      <td>0.000000</td>\n",
       "    </tr>\n",
       "    <tr>\n",
       "      <th>50%</th>\n",
       "      <td>0.000000</td>\n",
       "      <td>3.000000</td>\n",
       "      <td>14.000000</td>\n",
       "      <td>55.000000</td>\n",
       "      <td>64000.000000</td>\n",
       "      <td>1.000000</td>\n",
       "      <td>359.000000</td>\n",
       "      <td>2.000000</td>\n",
       "      <td>5.000000</td>\n",
       "      <td>5.000000</td>\n",
       "      <td>1.000000</td>\n",
       "      <td>1.000000</td>\n",
       "      <td>0.000000</td>\n",
       "      <td>1.000000</td>\n",
       "      <td>0.000000</td>\n",
       "      <td>0.000000</td>\n",
       "      <td>0.000000</td>\n",
       "    </tr>\n",
       "    <tr>\n",
       "      <th>75%</th>\n",
       "      <td>0.000000</td>\n",
       "      <td>4.000000</td>\n",
       "      <td>21.000000</td>\n",
       "      <td>66.000000</td>\n",
       "      <td>80000.000000</td>\n",
       "      <td>1.000000</td>\n",
       "      <td>799.000000</td>\n",
       "      <td>5.000000</td>\n",
       "      <td>10.000000</td>\n",
       "      <td>7.000000</td>\n",
       "      <td>1.000000</td>\n",
       "      <td>1.000000</td>\n",
       "      <td>1.000000</td>\n",
       "      <td>1.000000</td>\n",
       "      <td>1.000000</td>\n",
       "      <td>1.000000</td>\n",
       "      <td>0.000000</td>\n",
       "    </tr>\n",
       "    <tr>\n",
       "      <th>max</th>\n",
       "      <td>962.100000</td>\n",
       "      <td>4.000000</td>\n",
       "      <td>29.000000</td>\n",
       "      <td>101.000000</td>\n",
       "      <td>120000.000000</td>\n",
       "      <td>1.000000</td>\n",
       "      <td>1823.000000</td>\n",
       "      <td>10.000000</td>\n",
       "      <td>20.000000</td>\n",
       "      <td>10.000000</td>\n",
       "      <td>1.000000</td>\n",
       "      <td>1.000000</td>\n",
       "      <td>1.000000</td>\n",
       "      <td>1.000000</td>\n",
       "      <td>1.000000</td>\n",
       "      <td>1.000000</td>\n",
       "      <td>1.000000</td>\n",
       "    </tr>\n",
       "  </tbody>\n",
       "</table>\n",
       "</div>"
      ],
      "text/plain": [
       "       transaction_amount         event  days_since_test           age  \\\n",
       "count        68741.000000  68741.000000     68741.000000  68741.000000   \n",
       "mean             3.097166      2.865088        12.637742     54.333862   \n",
       "std             15.436389      1.154521         8.742691     17.415733   \n",
       "min              0.000000      1.000000         0.000000     18.000000   \n",
       "25%              0.000000      2.000000         4.000000     42.000000   \n",
       "50%              0.000000      3.000000        14.000000     55.000000   \n",
       "75%              0.000000      4.000000        21.000000     66.000000   \n",
       "max            962.100000      4.000000        29.000000    101.000000   \n",
       "\n",
       "              income          male  membership_days        reward  \\\n",
       "count   68741.000000  68741.000000     68741.000000  68741.000000   \n",
       "mean    65388.007157      0.581022       523.530295      3.332233   \n",
       "std     21655.181548      0.493395       419.954176      3.476804   \n",
       "min     30000.000000      0.000000         0.000000      0.000000   \n",
       "25%     49000.000000      0.000000       208.000000      0.000000   \n",
       "50%     64000.000000      1.000000       359.000000      2.000000   \n",
       "75%     80000.000000      1.000000       799.000000      5.000000   \n",
       "max    120000.000000      1.000000      1823.000000     10.000000   \n",
       "\n",
       "         difficulty      duration         email        mobile        social  \\\n",
       "count  68741.000000  68741.000000  68741.000000  68741.000000  68741.000000   \n",
       "mean       6.116612      5.155831      0.792147      0.711977      0.474768   \n",
       "std        5.847533      3.290752      0.405774      0.452845      0.499367   \n",
       "min        0.000000      0.000000      0.000000      0.000000      0.000000   \n",
       "25%        0.000000      3.000000      1.000000      0.000000      0.000000   \n",
       "50%        5.000000      5.000000      1.000000      1.000000      0.000000   \n",
       "75%       10.000000      7.000000      1.000000      1.000000      1.000000   \n",
       "max       20.000000     10.000000      1.000000      1.000000      1.000000   \n",
       "\n",
       "                web          bogo      discount  informational  \n",
       "count  68741.000000  68741.000000  68741.000000   68741.000000  \n",
       "mean       0.633276      0.316536      0.317365       0.158246  \n",
       "std        0.481914      0.465128      0.465454       0.364974  \n",
       "min        0.000000      0.000000      0.000000       0.000000  \n",
       "25%        0.000000      0.000000      0.000000       0.000000  \n",
       "50%        1.000000      0.000000      0.000000       0.000000  \n",
       "75%        1.000000      1.000000      1.000000       0.000000  \n",
       "max        1.000000      1.000000      1.000000       1.000000  "
      ]
     },
     "execution_count": 93,
     "metadata": {},
     "output_type": "execute_result"
    }
   ],
   "source": [
    "df.describe()"
   ]
  },
  {
   "cell_type": "markdown",
   "metadata": {},
   "source": [
    "## 2. Univariate Analysis"
   ]
  },
  {
   "cell_type": "markdown",
   "metadata": {},
   "source": [
    "**Customer Demographics**"
   ]
  },
  {
   "cell_type": "code",
   "execution_count": 94,
   "metadata": {},
   "outputs": [
    {
     "data": {
      "text/plain": [
       "Text(0.5, 0, 'Gender')"
      ]
     },
     "execution_count": 94,
     "metadata": {},
     "output_type": "execute_result"
    },
    {
     "data": {
      "image/png": "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\n",
      "text/plain": [
       "<Figure size 1152x288 with 3 Axes>"
      ]
     },
     "metadata": {},
     "output_type": "display_data"
    }
   ],
   "source": [
    "plt.figure(figsize = [16, 4]) # larger figure size for subplots\n",
    "sns.set_style('darkgrid') # set style\n",
    "\n",
    "# histogram on income\n",
    "plt.subplot(1, 3, 1) # 1 row, 3 cols, subplot 1\n",
    "plt.hist(data = df, x = 'income',bins=30)\n",
    "plt.title(\"Income Distribution\", size=20)\n",
    "\n",
    "# histogram on age\n",
    "plt.subplot(1, 3, 2) # 1 row, 3 cols, subplot 2\n",
    "plt.hist(data = df, x = 'age', bins=40)\n",
    "plt.title(\"Age Distribution\", size=20)\n",
    "\n",
    "# countplot on age\n",
    "plt.subplot(1, 3, 3) # 1 row, 3 cols, subplot 3\n",
    "g=sns.countplot(x=\"male\", data=df, palette=\"coolwarm\")\n",
    "plt.title(\"Gender Breakdown\", size=20)\n",
    "g.set_xticklabels(labels=(\"Female\",\"male\"))\n",
    "plt.xlabel(\"Gender\")"
   ]
  },
  {
   "cell_type": "markdown",
   "metadata": {},
   "source": [
    "From the plots above, one can infer that most customers are aged between 40 and 75 years and have an income between approximately 45,000 and 80,000 US dollars. In terms of gender, the breakdown is relatively balanced however there are more male customers than female.  "
   ]
  },
  {
   "cell_type": "code",
   "execution_count": 95,
   "metadata": {},
   "outputs": [
    {
     "name": "stdout",
     "output_type": "stream",
     "text": [
      "Female customers: 41.9%\n",
      "Male customers: 58.1%\n"
     ]
    }
   ],
   "source": [
    "print(\"Female customers: {}%\".format(round(df[\"male\"].value_counts()[0] / len(df[\"male\"])*100,2)))\n",
    "print(\"Male customers: {}%\".format(round(df[\"male\"].value_counts()[1] / len(df[\"male\"])*100,2)))"
   ]
  },
  {
   "cell_type": "markdown",
   "metadata": {},
   "source": [
    "**App Account Creation Date and Total Membership Days**"
   ]
  },
  {
   "cell_type": "markdown",
   "metadata": {},
   "source": [
    "App Account Creating Date"
   ]
  },
  {
   "cell_type": "code",
   "execution_count": 41,
   "metadata": {},
   "outputs": [],
   "source": [
    "# convert became_member_on to datetime and then extract year\n",
    "profile['became_member_on'] = pd.to_datetime(profile[\"became_member_on\"], format='%Y%m%d')\n",
    "profile[\"year\"] =  pd.DatetimeIndex(profile['became_member_on']).year"
   ]
  },
  {
   "cell_type": "code",
   "execution_count": 48,
   "metadata": {},
   "outputs": [
    {
     "data": {
      "text/plain": [
       "Text(0.5, 1.0, 'Year of Account Creation')"
      ]
     },
     "execution_count": 48,
     "metadata": {},
     "output_type": "execute_result"
    },
    {
     "data": {
      "image/png": "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\n",
      "text/plain": [
       "<Figure size 864x432 with 1 Axes>"
      ]
     },
     "metadata": {},
     "output_type": "display_data"
    }
   ],
   "source": [
    "# set style\n",
    "sns.set_style('darkgrid')\n",
    "\n",
    "# set figure size\n",
    "plt.figure(figsize = [12, 6]) \n",
    "\n",
    "# countplot on year of account creation\n",
    "sns.countplot(x=profile[\"year\"], data=profile, color=\"blue\",alpha=0.75) # palette coolwarm or color = teal\n",
    "plt.title(\"Year of Account Creation\", size=20)"
   ]
  },
  {
   "cell_type": "markdown",
   "metadata": {},
   "source": [
    "As depicted in the exhibit above, one can see that the customer transaction dataset contains entries from the years 2013 to 2018.One can derive that most customers created their accounts between 2016 and 2018, with 2017 showing the highest number of accounts created. This makes sense because smartphone ownership experienced rapid growth over the years and mobile payment became slightly more accepted among consumers. However, it is important to note that US consumers still perceive moblile payments as poorly protected compared to traditional payment methods. Another interesting finding is that the number of account creations decreased in the most recent year compared to 2017. \n",
    "\n",
    "Sources:\n",
    "- https://www.pewresearch.org/internet/fact-sheet/mobile/\n",
    "- https://www.pewtrusts.org/en/research-and-analysis/issue-briefs/2019/10/are-americans-embracing-mobile-payments"
   ]
  },
  {
   "cell_type": "markdown",
   "metadata": {},
   "source": [
    "**Response Variable: Offer Completed**"
   ]
  },
  {
   "cell_type": "markdown",
   "metadata": {},
   "source": [
    "The feature \"offer_completed\" is identified as the response variable for this project. Let's take a closer look at our response variable."
   ]
  },
  {
   "cell_type": "code",
   "execution_count": 58,
   "metadata": {},
   "outputs": [
    {
     "data": {
      "text/plain": [
       "[Text(0, 0, 'Transaction'),\n",
       " Text(0, 0, 'Offer Received'),\n",
       " Text(0, 0, 'Offer Viewed'),\n",
       " Text(0, 0, 'Offer Completed')]"
      ]
     },
     "execution_count": 58,
     "metadata": {},
     "output_type": "execute_result"
    },
    {
     "data": {
      "image/png": "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\n",
      "text/plain": [
       "<Figure size 648x432 with 1 Axes>"
      ]
     },
     "metadata": {},
     "output_type": "display_data"
    }
   ],
   "source": [
    "plt.figure(figsize=(9,6))\n",
    "g = sns.countplot(df[\"event\"])\n",
    "sns.set_style('darkgrid')\n",
    "g.set_title('Event Breakdown', size = 20)\n",
    "g.set_xticklabels(labels=(\"Transaction\",\"Offer Received\",\"Offer Viewed\", \"Offer Completed\"))"
   ]
  },
  {
   "cell_type": "code",
   "execution_count": 98,
   "metadata": {
    "scrolled": true
   },
   "outputs": [
    {
     "name": "stdout",
     "output_type": "stream",
     "text": [
      "Transaction: 20.79%\n",
      "Offer Received: 11.94%\n",
      "Offer Viewed: 27.25%\n",
      "Offer Completed: 40.02%\n",
      "\n",
      "A total of 59.98% of customers did not complete an offer and inversely 40.02% did complete an offer.\n"
     ]
    }
   ],
   "source": [
    "# let's get the exact relative values\n",
    "print(\"Transaction: {}%\".format((round((df[\"event\"].value_counts()[1] / len(df[\"event\"]) * 100), 2))))\n",
    "print(\"Offer Received: {}%\".format((round((df[\"event\"].value_counts()[2] / len(df[\"event\"]) * 100), 2))))\n",
    "print(\"Offer Viewed: {}%\".format((round((df[\"event\"].value_counts()[3] / len(df[\"event\"]) * 100), 2))))\n",
    "print(\"Offer Completed: {}%\".format((round((df[\"event\"].value_counts()[4] / len(df[\"event\"]) * 100), 2))))\n",
    "\n",
    "print(\"\\nA total of {}% of customers did not complete an offer and inversely {}% did complete an offer.\".format(round(\n",
    "    ((df[\"event\"].value_counts()[1] / len(df[\"event\"]))+\n",
    "     (df[\"event\"].value_counts()[2] / len(df[\"event\"]))+\n",
    "     (df[\"event\"].value_counts()[3] / len(df[\"event\"])))*100,2),     \n",
    "    (round((df[\"event\"].value_counts()[4] / len(df[\"event\"]) * 100), 2))))"
   ]
  },
  {
   "cell_type": "markdown",
   "metadata": {},
   "source": [
    "## 3. Bivariate Analysis"
   ]
  },
  {
   "cell_type": "markdown",
   "metadata": {},
   "source": [
    "**Offer Completed and Demographics**"
   ]
  },
  {
   "cell_type": "code",
   "execution_count": 126,
   "metadata": {},
   "outputs": [
    {
     "data": {
      "text/plain": [
       "Text(0.5, 0, 'Offer Completed')"
      ]
     },
     "execution_count": 126,
     "metadata": {},
     "output_type": "execute_result"
    },
    {
     "data": {
      "image/png": "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\n",
      "text/plain": [
       "<Figure size 432x288 with 1 Axes>"
      ]
     },
     "metadata": {},
     "output_type": "display_data"
    }
   ],
   "source": [
    "# histogram on year app account created\n",
    "g=sns.boxplot(x=df[\"event\"]==4,y=df[\"membership_days\"], color=\"blue\",saturation=0.25) # palette coolwarm or color = teal\n",
    "plt.title(\"Offer Completed and Total Membership Days\", size=20)\n",
    "g.set_xticklabels(labels=(\"No\",\"Yes\"))\n",
    "g.set_xlabel(\"Offer Completed\") "
   ]
  },
  {
   "cell_type": "markdown",
   "metadata": {},
   "source": [
    "In the boxplot depicted above one can observe that those customers who completed an offer in the past tend to have an app account for longer (approx. 550 days on avg.) than those who did not complete an offer (approx. 300 days on avg.).  "
   ]
  },
  {
   "cell_type": "code",
   "execution_count": 106,
   "metadata": {},
   "outputs": [
    {
     "data": {
      "text/plain": [
       "Text(0.5, 0, 'Gender')"
      ]
     },
     "execution_count": 106,
     "metadata": {},
     "output_type": "execute_result"
    },
    {
     "data": {
      "image/png": "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\n",
      "text/plain": [
       "<Figure size 1152x288 with 3 Axes>"
      ]
     },
     "metadata": {},
     "output_type": "display_data"
    }
   ],
   "source": [
    "base_color = sns.color_palette()[0]\n",
    "\n",
    "plt.figure(figsize = [16, 4]) # larger figure size for subplots\n",
    "\n",
    "# histogram on income\n",
    "plt.subplot(1, 3, 1) # 1 row, 3 cols, subplot 1\n",
    "g=sns.boxplot(x=\"event\", y=\"income\",data=df,color = base_color)\n",
    "g.set_xticklabels(labels=(\"Transaction\",\"Received\",\"Viewed\", \"Completed\"))\n",
    "plt.title(\"Income Distribution\", size=20)\n",
    "\n",
    "# histogram on age\n",
    "plt.subplot(1, 3, 2) # 1 row, 3 cols, subplot 2\n",
    "g1=sns.boxplot(x=\"event\", y=\"age\",data=df,color = base_color)\n",
    "g1.set_xticklabels(labels=(\"Transaction\",\"Received\",\"Viewed\", \"Completed\"))\n",
    "plt.title(\"Age Distribution\", size=20)\n",
    "\n",
    "# countplot on gender\n",
    "plt.subplot(1, 3, 3) # 1 row, 3 cols, subplot 3\n",
    "g2=sns.countplot(x=\"male\", hue=\"event\",data=df)\n",
    "g2.set_xticklabels(labels=(\"Female\",\"Male\"))\n",
    "plt.title(\"Gender Breakdown\", size=20)\n",
    "g2.set_xlabel(\"Gender\")"
   ]
  },
  {
   "cell_type": "markdown",
   "metadata": {},
   "source": [
    "From the bivariate analysis presented above, one can observe that customers who do complete an offer earn slightly more on average than those who did not complete an offer. Furthermore, customers who did complete an offer in the past tend to be slightly older than those who did not. If we look at the breakdown by gender, we can see similar tendencies for both male and female customers. THis could mean that even though there are less females documented in the dataset they almost complete the same amount of offers as men. We can also observe that men conduct more transactions without using any offer. "
   ]
  },
  {
   "cell_type": "code",
   "execution_count": 227,
   "metadata": {},
   "outputs": [
    {
     "name": "stdout",
     "output_type": "stream",
     "text": [
      "Average income of customers who did complete an offer in the past: $69398.28\n",
      "Average income of customers who did not complete an offer: $62711.8\n",
      "Average age of customers who did complete an offer in the past: 55.8 years\n",
      "Average age of customers who did not complete an offer: 53.37 years\n"
     ]
    }
   ],
   "source": [
    "# calculate weighted averages\n",
    "print(\"Average income of customers who did complete an offer in the past: ${}\".format(round(np.average(df[\"income\"], \n",
    "                                                                          weights=(df[\"event\"] == 4)),2)))\n",
    "\n",
    "print(\"Average income of customers who did not complete an offer: ${}\".format(round(np.average(df[\"income\"], \n",
    "                                                                          weights=(df[\"event\"] != 4)),2)))\n",
    "                                                                     \n",
    "print(\"Average age of customers who did complete an offer in the past: {} years\".format(round(np.average(df[\"age\"], \n",
    "                                                                          weights=(df[\"event\"] == 4)),1)))\n",
    "                                                                                               \n",
    "print(\"Average age of customers who did not complete an offer: {} years\".format(round(np.average(df[\"age\"], \n",
    "                                                                          weights=(df[\"event\"] != 4)),2)))"
   ]
  },
  {
   "cell_type": "code",
   "execution_count": 255,
   "metadata": {},
   "outputs": [
    {
     "data": {
      "text/html": [
       "<div>\n",
       "<style scoped>\n",
       "    .dataframe tbody tr th:only-of-type {\n",
       "        vertical-align: middle;\n",
       "    }\n",
       "\n",
       "    .dataframe tbody tr th {\n",
       "        vertical-align: top;\n",
       "    }\n",
       "\n",
       "    .dataframe thead th {\n",
       "        text-align: right;\n",
       "    }\n",
       "</style>\n",
       "<table border=\"1\" class=\"dataframe\">\n",
       "  <thead>\n",
       "    <tr style=\"text-align: right;\">\n",
       "      <th>male</th>\n",
       "      <th>0.0</th>\n",
       "      <th>1.0</th>\n",
       "    </tr>\n",
       "    <tr>\n",
       "      <th>event</th>\n",
       "      <th></th>\n",
       "      <th></th>\n",
       "    </tr>\n",
       "  </thead>\n",
       "  <tbody>\n",
       "    <tr>\n",
       "      <th>1</th>\n",
       "      <td>0.419443</td>\n",
       "      <td>0.580557</td>\n",
       "    </tr>\n",
       "    <tr>\n",
       "      <th>2</th>\n",
       "      <td>0.343807</td>\n",
       "      <td>0.656193</td>\n",
       "    </tr>\n",
       "    <tr>\n",
       "      <th>3</th>\n",
       "      <td>0.359122</td>\n",
       "      <td>0.640878</td>\n",
       "    </tr>\n",
       "    <tr>\n",
       "      <th>4</th>\n",
       "      <td>0.481918</td>\n",
       "      <td>0.518082</td>\n",
       "    </tr>\n",
       "  </tbody>\n",
       "</table>\n",
       "</div>"
      ],
      "text/plain": [
       "male        0.0       1.0\n",
       "event                    \n",
       "1      0.419443  0.580557\n",
       "2      0.343807  0.656193\n",
       "3      0.359122  0.640878\n",
       "4      0.481918  0.518082"
      ]
     },
     "execution_count": 255,
     "metadata": {},
     "output_type": "execute_result"
    }
   ],
   "source": [
    "pd.crosstab(df.event,df.male,normalize='index')"
   ]
  },
  {
   "cell_type": "markdown",
   "metadata": {},
   "source": [
    "In the crosstab depicted above, one can see that generally, the proportion of men and women who make use of the promotions are similar (around 50%). However, women tend to make slightly less use of the promotions than men (48.19% vs. 51.81%). One can also observe that men received more promotions and more often view these promotions than women."
   ]
  },
  {
   "cell_type": "code",
   "execution_count": 285,
   "metadata": {},
   "outputs": [
    {
     "name": "stdout",
     "output_type": "stream",
     "text": [
      "Male: 1 \n",
      "Female: 0\n",
      " male  event\n",
      "0.0   1         5993\n",
      "      2         2823\n",
      "      3         6726\n",
      "      4        13259\n",
      "1.0   1         8295\n",
      "      2         5388\n",
      "      3        12003\n",
      "      4        14254\n",
      "dtype: int64\n",
      "\n",
      "Proportion of male customers who completed an offer: 35.69%\n",
      "Proportion of female customers who completed an offer: 46.04%\n"
     ]
    }
   ],
   "source": [
    "print(\"Male: 1 \\nFemale: 0\\n\",df.groupby(['male', 'event']).size())\n",
    "print(\"\\nProportion of male customers who completed an offer: {}%\".format(\n",
    "     round(df.groupby(['male', 'event']).size()[1][4] / df.groupby(['male', 'event']).size()[1].sum()*100,2)))\n",
    "print(\"Proportion of female customers who completed an offer: {}%\".format(\n",
    "     round(df.groupby(['male', 'event']).size()[0][4] / df.groupby(['male', 'event']).size()[0].sum()*100,2)))"
   ]
  },
  {
   "cell_type": "markdown",
   "metadata": {},
   "source": [
    "Based on these findings, women tend to react more positively towards the promotions than men since a larger proportion of women completed an offer when compared to men."
   ]
  },
  {
   "cell_type": "markdown",
   "metadata": {},
   "source": [
    "**Offer Completed and Discount Types**"
   ]
  },
  {
   "cell_type": "code",
   "execution_count": 302,
   "metadata": {},
   "outputs": [
    {
     "data": {
      "text/plain": [
       "Text(0.5, 1.0, 'Received Informational')"
      ]
     },
     "execution_count": 302,
     "metadata": {},
     "output_type": "execute_result"
    },
    {
     "data": {
      "image/png": "iVBORw0KGgoAAAANSUhEUgAABJoAAAGGCAYAAAAzRevBAAAABHNCSVQICAgIfAhkiAAAAAlwSFlzAAALEgAACxIB0t1+/AAAADh0RVh0U29mdHdhcmUAbWF0cGxvdGxpYiB2ZXJzaW9uMy4xLjMsIGh0dHA6Ly9tYXRwbG90bGliLm9yZy+AADFEAAAgAElEQVR4nOzdeVhU1f8H8Pcw7JtIgomISzq4ICbglopfFEVNM8hQUaw0U1QUM5cQl3JPxRLE1CwTS8Wl0lwTRdxRyiUUyyWVJEMRZYZNZu7vD35zc2TYdGAGfL+ep6dnzpy599x78HxmPvfecySCIAggIiIiIiIiIiJ6Tkb6bgAREREREREREdUMTDQREREREREREZFOMNFEREREREREREQ6wUQTERERERERERHpBBNNRERERERERESkE0w0ERERERERERGRThjruwEvuh07duDjjz/W+p6pqSns7Ozg7u6OUaNG4dVXX63i1pWue/fuePToEc6ePauX/Q8YMACpqam4cuVKqfWioqIQHR1drNzKygouLi54/fXX8e6778LExKSymlpu6enp+Pbbb3Hs2DH8/fffMDY2hrOzM7p3747BgwfDwcFB300UCYKAxMRE/PDDD7h06RLu3r0LExMTuLi4oHv37ggODkatWrWeax///vsvjh49irfeeqvcn8nKysKGDRtw+PBh3Lp1CyqVCs7OzujcuTOGDh2KBg0aPFebiKg4xrJn9zyxTCKRwNzcHI6OjujQoQPeffddvPLKKxp10tLS0KNHD/To0QMxMTE6b78hyc7Oxk8//YRhw4bpuylE1R7H9WdX3nFdPT63b98esbGxz7SvnJwczJ07F4cOHUJubi46deqE1atXP9O2DMGxY8dga2sLd3d3AMDp06cxfPhwDB8+HDNmzNBz6/6jjskrV66Er6+vvptjkJhoMhDt27dH+/btNcoePXqECxcu4ODBg0hISMC3334LLy8vPbWwuOHDh6OgoEDfzSi3Hj16oEWLFgAApVIJuVyOs2fPYunSpTh//rzWZFRV+vnnnzFjxgzk5eXBy8sLXbt2xePHj/H7778jOjoa69evx5IlS9C9e3e9thMAHj58iKlTpyIhIQE2Njbo3LkzevXqhfz8fJw9exZRUVGIjY3FV199hdatWz/TPu7fv4/evXujY8eO5U40nTx5EmFhYcjKykKrVq0QEBAAqVSKK1euYP369di4cSNmzZqFwMDAZ2oTEZWOsazyPRnLVCoV5HI5UlNTERcXh507d+KLL77A//73P7G+ra0txo8fjyZNmuipxVXHz88PDg4OTDQR6RDHdcO2atUq7NixA25ubnjttdfQuHFjfTfpmX3//ff45JNPsHLlSrGsfv36GD9+PNq0aaPHltGzYKLJQLRv3x6hoaFa3/viiy8QExODpUuXYvPmzVXcspK9++67+m5Chfj6+iIgIECjTBAEhISE4JdffsHJkyfRqVMnvbTt8OHD+Oijj+Do6IhvvvkGHh4eGu+fPHkSEydOxNixY7Fu3Tp07txZL+0Eis7ZuHHjcObMGfj7+2PGjBmwsbHRqLN3715MmTIFoaGh2LNnDywtLSu8n9zcXCgUinLXT0lJwQcffAAzMzOtVxcuX76MsWPHYubMmZBIJHj77bcr3CYiKh1jWeXTFssA4MiRIxg3bhwmTZqEH3/8EQ0bNgRQlGgqqU9qmvv37xvUnb9ENQHHdcN26dIlAEBkZKQ47ldX9+/fL1bm7Oz8wsSwmoZzNFUDISEhMDExwW+//Ybc3Fx9N6dGkUgk4hf2M2fO6KUN+fn5iIiIgImJCdauXVssyQQAnTp1QkxMDARBQEREBPLz8/XQ0iJbtmzBmTNn4OHhgYULFxZLMgFAnz59MHLkSKSnp2P37t1V0q7w8HAUFBTg888/13oLa4sWLbB+/XqYmppi0aJFyMjIqJJ2EVERxrLK1a1bN0ycOBE5OTk1/hE5IjIMHNf1T33nVu3atfXcEiJNTDRVA6amprC2tgaAYreBnjx5Eu+99x48PT3x6quvYtCgQdi3b5/W7Zw5cwajR49Ghw4d4OnpicGDB+PgwYPF6qWkpGDs2LHo0KED3N3dMWDAAGzatAmCIGjU6969u3ib7P79++Hq6orIyMhi2ysoKICXlxf69u0rlgmCgE2bNsHf3x/u7u5o164dxowZI2bln5SXl4fIyEh0794d7u7uCAwM1GlSSCqVAig6z2qnT5+Gq6sr5s+fX6z+9OnT4erqisuXLwMAevbsiTZt2kAulxerGx0dDVdXV5w4caLE/e/evRv37t1Dnz594OrqWmI9Ly8v+Pj44M6dO0hISBDL1fMhXbt2DWPGjIGnpyfatm2LUaNGITU1tdh2MjIyMGfOHHh7e8PNzQ3du3fHkiVLtLZfG/UVq/DwcEgkkhLrDRkyBP369YOLi4tGeUFBAVavXo2+ffuidevW6NSpEyZPnozbt2+LdXbs2IEePXoAAOLj4+Hq6oodO3aUuK/Tp08jNTUVXl5e6NKlS4n1GjZsiEGDBkEul2PXrl1ieXBwMLp3745//vkHkydPRocOHdCmTRsMHToUp0+fLrYduVyOpUuXwtfXF25ubujatStmz56t9UoMERVhLKvcWAYAw4YNg5mZGQ4cOIDCwkIARXOAuLq6YuzYsWK9wsJCREdHo3///mjTpg3at2+PkSNH4uTJk8W2mZmZiQULFojt9vPzw/Lly4vdcfrvv/9i1qxZ6NatG9zc3NCtWzfMmjUL//77r0a9p2Pok1xdXTFgwADx9Y4dO+Dq6oqTJ09i3bp16NWrF1q3bg1fX1+sWrUKSqUSwH8xGwBSU1Ph6uqKqKioZzyLRFReHNd1P66rx+yoqCjEx8dj4MCBcHd3R6dOnRAREYHMzEwA/417SUlJAIB27drB1dUVaWlp4rF9+eWX6Nu3L9zc3NChQweEhITg4sWLGvtTj7N79+7FyJEj0bp1a/j4+OD27duYPn06WrZsiQcPHiAiIgIdO3ZE27ZtMXLkSNy6dQsFBQVYsmQJunTpAg8PDwQHB2v97XH48GG8//776NixI1q1aoWOHTti7NixGnEgODhYnMZk3Lhx4phe0m+yGzdu4KOPPsJrr70GNzc3+Pr64rPPPkN2drZGPXXMefjwIWbPno3OnTujdevWCAgIwP79+4u19e+//8bs2bPh6+uL1q1bo23btggICMCmTZsq1I/ERFO18Pvvv+PBgwdwcnLSmFx569ateO+993DlyhX07dsXgwYNwv379zFx4kR8+eWXGtv46aef8M477+DMmTPw9vbGW2+9hfT0dIwbNw7btm0T6x05cgSDBw/GqVOn4OPjg2HDhkGlUmHOnDmYNWtWiW308fGBra0t9uzZU+y9xMREZGdn44033hDLpk2bhjlz5uDx48cYPHgwevfujbNnz2Lw4MEaX3RVKhVGjRqF1atX46WXXsKQIUNgbGyMESNGID09/ZnO55MEQcAPP/wAqVT6zBO5DRgwAHl5eVoD4q5du+Do6IiOHTuW+Hl1Esrb27vMffXq1QsAiu0rPT0dQ4YMwf379xEYGIgOHTogMTERw4cP10gg3blzBwMHDsTmzZvRqlUrvPvuu2jcuDG++uorBAcHIycnp9T9//3337h8+TLq1atX5txLL7/8MpYtW4YOHTqIZY8fP8aoUaMQGRkJKysrDBs2DF27dsWBAwcwcOBA/PHHHwCK7j4aPnw4AKBx48YYP368OCeJNhU5hz179gRQ/BwqFAoEBQUhNTUVb775Jnx9ffHrr7+KwVQtOzsbQ4YMwdq1a+Hs7Izhw4ejbdu2iIuLw9tvv13sRxURFWEsq7xYpmZhYYGWLVsiJydHayJHbe7cuYiKioKdnR2GDRuG3r174/z58xg5cqRGcj0jIwMDBw7Et99+C2dnZwwdOhQvv/wyvvzyS4wbN05MZt26dQv+/v7YsmULmjRpgmHDhqFJkybYsmULAgICNC4kPIslS5YgOjoanp6eCAoKQl5eHj7//HNxwlv1HB4AUKdOHYwfP77YnDJEpHsc1ytvXD98+DDGjx8PBwcHBAcHo27duti6dSs+/PBDAP+Ne/Xr1wcAjBo1CuPHj4etrS3y8/Px7rvvYvny5ZBKpRgyZAhee+01HDt2DEOGDNH6m2XevHnIzMxEcHAwWrduLS6eIwgChg8fjt9++w3+/v7w8PDAsWPHMHr0aEyYMAF79+5F79690bVrVyQlJeGDDz7QuLtt48aNGDNmDG7evIl+/fph+PDhaNq0KeLj4zF06FDxe7O/v784bvft21cc07U5f/48AgICsHv3brz66qsYOnQoXnrpJaxbtw6BgYHIysoq9pn33nsPR48eRZ8+fdC/f3/8+eefmDhxosaE8WlpaXjrrbfw448/4tVXX8W7776Lnj174tq1a5gzZw42btxY0W58sQmkV9u3bxdkMpmwYsUKjXKVSiU8fPhQSEhIEHx9fQWZTCZs3bpVfD89PV1wc3MT+vTpI2RmZorlubm5wqBBg4TmzZsLV65cEQRBELKysgRPT0+hY8eOwvXr18W69+/fF7p06SK0b99eKCgoEHJycoSOHTsKHTt2FG7fvi3WUyqVQmhoqCCTyYSEhASx3MfHR/D09BRfz5gxQ5DJZMKFCxc0jiUsLExwdXUVt7lnzx5BJpMJH374ofD48WOx3q1bt4T27dsLXbt2FfLz8wVBEIRt27YJMplM+PjjjwWlUinWXbx4sSCTyQSZTFbmOV6xYoUgk8mEkJAQYcWKFcKKFSuEL774QliwYIHw5ptvCq1atRK+//57jc+cOnVKkMlkwrx584ptb9q0aYJMJhMuXbokttvV1VUYOXKkRr3z588LMplMWLx4cantCwgIEGQymfD777+XeSznzp0TZDKZMGjQILHMx8dHkMlkwieffCKoVCqxPCIiotjfzahRowRXV1fh0KFDGtv99ttvy9XWEydOCDKZTHj//ffLbKs2a9euFWQymfDZZ59ptPXChQtCq1athLfeekssu337tthvZVH/fe7fv7/MuhkZGYJMJhO6dOkilg0bNkzcV0FBgVi+atUqQSaTCZ9//rlYNmfOHEEmkwkbN27U2O7BgwcFmUwmTJgwocw2ENU0jGVVF8u2b99ear0JEyYIMplMiI+PFwSh+FianZ0tNG/eXBg6dKjG5y5cuCDIZDIhNDRULJsyZYogk8mEb775RqPuzJkzNcbc4cOHCzKZTIiLi9Oo99133wkymUwYPny4WPZ0DH2STCYT3njjDfG1+u/K09NT+Ouvv8Ty27dvC61atRK6detW6ueJ6NlxXK/8cV09Pg8bNqxYmUwmE/bs2SOWFxQUCK+//rogk8mEmzdviuXq77APHz4Uy6KjowWZTCZMnz5d4zguXrwouLu7C15eXkJ2drYgCP/1s7e3t5CTk6PRPvV4/fbbb4vHLQiCMGjQIEEmkwndu3cXtyMIgjB9+nSNvsjPzxc8PDyEXr16CQqFQmPbs2fPFmQymbB582axTB3nfvnlF7Hs6d9khYWFQq9evYSWLVsKR44c0djmkiVLxD55+hgGDhyo0YadO3cKMplMmDJlilimjm3Hjx/X2K76N92Tv7+0tZU08Y4mA6F+xEr9X/PmzdGuXTt88MEHePDgAaZPn46BAweK9Xfu3ImCggJMmDBB45lcc3NzTJgwASqVCj/88AOAoisA2dnZeOeddzRWIrC3t8fHH3+M999/Hzk5OTh06BAyMzPx/vvvw9nZWaxnZGSEyZMnAwC2b99e4jGorwY8ecUgNzcXCQkJaNu2rbhN9dWJGTNmwNj4v/noGzRogMGDB+Pu3bviHSq7d++GRCLB5MmTYWT0359rWFiY1rmBShMfH4/o6GhxKcr169fj0qVLsLS0xKNHj8Rb8CuqQYMG8PT0xMmTJ8XbWYGiPgKg8RiANuo7jtS3HpdGfbXowYMHxd4bNWqUxqNs3bp1AwD89ddfAIoea0hMTES3bt3g4+Oj8dlhw4ahXr16pT6eBvw3SZ+trW2x97KyshAVFVXsv/Xr14t1tm3bBhsbG4SFhWm0tXXr1ujduzcuXryIP//8s9Q2aKOrczhixAiYmJiIr58+h4WFhfjxxx/RrFkzDB06VOOzPXr0gIeHB3755ZdyP4ZIVNMwllV+LCuL+jHwksYhlUoFQRBw584djavurVu3xsGDB7Fs2TIARY9d/PLLL2jUqFGxiXVHjx6NMWPGwMHBAf/88w9OnToFLy+vYossBAUFoXXr1jh16pT4OMez6NWrl8Ykt87OznjllVeQnp6u1zkLiV4EHNf1M643aNAAffr0EV+bmJiIixapv5eW5IcffoCFhUWx43Bzc0NQUBAePXqEAwcOaHymW7dusLCw0Lq9IUOGaEwx0rZtWwDAoEGDNL57u7u7Ayh6AgIoWuV77ty5mD9/frGFgdR3L1V02onffvsNf/31F15//fViTzJMmDABdevWxa5du4o9yjl06FCNNjz9HR8o+juZP38+XnvtNY3Puru7w9zcnFNkVBBXnTMQTy4dKpfLsW/fPvzzzz944403MHfuXJibm2vU//333wEUPf/89A9z9eNP6mdk1f9/9dVXi+33yWeS1dtMSUnROreBVCrV+tytWrt27eDk5IR9+/Zh6tSpkEgkOHz4MHJycjRuSU1JSYGZmRm+++67Ytu4ceMGgKIVwv73v/8hNTUVTk5OeOmllzTqmZqaolWrVjh16lSJ7XnawoULNVbqycnJwfXr17FixQpERkbir7/+wsKFC8u9vSe9+eabOHv2LPbu3YuhQ4dCqVRi7969aN68eanzLgH/JW3y8vLK3I/6VlR7e3uNcjMzM9SrV0+j7Oln5i9dugRBEMSE0NNMTEyQnp6Ou3fvom7dulr3r07SPHr0qNh7Dx8+FJ+tflL9+vXx7rvvQqFQ4MaNG3BwcCh22zQA3Lt3D0BR3zdr1kzr/kuii3MIAI0aNdJ4/fQ5vHHjBnJycqBUKrWew/z8fCiVSly5cgWenp4VOgaimoCxrEhlxrKyqOdOKmm1T1tbW/Tt2xe7d+9Gz5490bZtW3h7e8PHxwdNmzYV6926dQs5OTlaz3f9+vUxadIkAMChQ4cAoMSlzT08PHDx4kWkpqZq/ECsiKfHZgDiD7mCggKYmZk903aJqGwc14tU9bhe1rhXErlcjtu3b8PDw0PrBVhPT098/fXXxc6X+hE8bZ6eb1UdX54e09Vjsbp9FhYWYj/euHED165dw61bt/Dnn3+KjyGqVKoS96uN+rHwdu3aFXvP1NRUvGhy/fp1NG/eXHzvyUQmoP1cenl5wcvLC1lZWbh8+TJu3bqFGzdu4Ny5c+J3fCo/JpoMxNNLh06cOBEffPABdu7cCRsbm2LPHqsnOittKdGHDx8C+C8pUNbdHuptlrZKmHqb2kgkEvTr1w9r1qzBuXPn0LZtW+zevRsmJibo3bu3xn7UE5GWp+1PD+BqTz4L/iwsLS3h5uaG6Oho+Pr6YseOHRg1ahSaNGlS4W316dMH8+bNw88//4yhQ4fi+PHjuHfvHkaOHFnmZ11cXHDhwgX89ddfZSalrl69CgBwcnLSKH/yKoOa+o4h4f8nSFT/HZw7dw7nzp0rcR9ZWVklJprUAeXmzZvF3mvYsCGuXLmiUfbkDw/11fWMjIxy9X1FqANgWVd4gJLPIVD8PJZ0Dq9fv67zYyCqCRjLSm57ZcWyp6mvJKvn19Bm8eLFcHNzw44dO5CUlISkpCQsXboUbm5umDdvHlq0aCG2vazzrR7bS7qC7+joCKB8FwJKUp4YR0SVg+N6yW2vzHG9tHGvNOqLDRUdk0tL2Jd04UJbG5925swZLFy4ECkpKeJ+mjdvjlatWiE9Pb3CY3hZTzGoj+/pVRDL+o4PFPXtwoUL8fPPP+Px48eQSCSoX78+OnbsqHUyeCodE00GytLSEp9//jkGDBiA7777DjKZDIMHD9Z4Hyia0Li0L5NP1n16hRigKItrZGQEY2Njsd769evFWzMrasCAAVizZg327t2LZs2aITExEV26dNG4ddbS0hJWVlYaK6eVxNbWttjqAWplTVxdXqampmjbti327duHK1euoEmTJqV+gdW2fKu1tTV69OiBPXv24O7du9i7dy+kUin69etX5v579OiBn3/+GQcPHoSfn1+pddVXjp9l4nJ1/44dOxYTJ06s8OeBoqsBTZo0wfXr1/HHH39AJpNVeP9eXl5arxQ9D19fX6xevRoHDx7EiBEjSq37POfQysoKQNHf+WeffVbxhhK9YBjLilRFLAOKviRfvXoVtra2GncnPc3ExAQjRozAiBEjcOfOHRw/fhz79u0TJ3iNj48Xxztt51vdbvU5AFDiQgjqH5J2dnYASk4QcWl0ouqB43qRqhrXK6qiY3Jl+vvvvzFq1CiYmZlh7ty58PT0RKNGjSCVSrFnzx6tk5KXpTKPb8qUKeKk8wMGDIBMJhMTWk+uVk3lwzmaDFidOnUwZ84cAMCiRYs05jdQ3/ny9BKVQNFdHYsXLxZ/UKuTARcuXChWd926dWjTpg2SkpLEbapvT31SVlYW5s+fj59++qnUNjdt2hQtWrTAoUOHcOjQIRQUFGjckqpu+z///IOMjIxinz98+DCWL18u3s6pznbfuXNHo55SqSx1RZ2KUg9K6uy/ep4ebYGipNVzBgwYAEEQEB8fj8TERHTq1EnMqpemR48eqF+/Pvbs2aO1j9QuXLiAAwcOwNHREd27dy9zu08rrX8BYMWKFVizZk2pt+MCRXNuAEWPIpZ1FeLJ921sbODk5ISrV69qvbL9448/IioqSvw7L89VGzV3d3e0adMGycnJpQattLQ0bNq0CZaWlujfv3+5t6/WuHFjmJqaIiUlReuxr1+/HjExMVrnfyJ6UTGWVV0s27JlCwoLC9GnTx9IpVKtdW7fvo3IyEgcPnwYQNHdnW+//TbWrVuHjh074u7du0hLS0Pjxo1hYmKi9XzfvXsXbdu2xcyZM8UVQZ9cuedJZ86cgUQiERNfJcXXJ1f3JCLDxnG96sb1irK2toazszNu3LihMXes2pkzZwCg1IsRunLw4EHk5uZiwoQJCAwMxCuvvCLGpmvXrgHQ/K1Qnu/+6piTnJxc7D2VSoXk5GRYWlqW+iigNo8ePcKRI0fg5uaGTz75ROPRw7S0NOTn5/MO2gpiosnA9ezZE7169UJubq44oANFk5VJpVJ8/vnnGoNhYWEh5s6di6+//lpc2tHX1xeWlpaIjY0Vb6kHigbmLVu2wMrKCq+++ip69uwJa2trfPXVV+JzyGpLlizBhg0byvVF8I033sDt27exbt06WFlZFUuK+Pv7QxAEzJ07VyOp8e+//2LOnDlYs2aNeOXC398fQFEQe/z4sVh33bp14pw+z+v8+fNISkpCrVq1xEe9GjZsCKlUilOnTmlcZU1ISBBv/Xxaly5d4ODggK+++gr37t0rcxJwNTMzM8yfPx8qlQpjxozR+mX97NmzGDNmDAoLC7FgwYJnmo+iQYMGaNeuHRITE7Fv3z6N93788UesXLkSR48eLfM22KFDh6JTp044ceIEJkyYoDWI3bx5EyEhIZDL5RpBw9/fH1lZWVi6dKnGM9lXr17Fp59+im+++Ua8AqGevPDJfi/NggULYG5ujilTpuCXX34p9v6ff/6JESNGQC6XY/r06SU+HlgaMzMz9O3bF1evXsU333yj8d7p06fx2WefYfv27Tp/FIaoumMsq/xYdvLkSaxcuRKWlpYYPXp0ifXMzc2xdu1afPHFFxrtLigoQEZGBkxNTeHg4AAzMzP4+fnh2rVr2Lp1q8Y21PPsderUCU5OTujQoQNSUlKwadMmjXpbt27Fr7/+ig4dOuDll18GAPHxdHWiCyj6caBt7r6KMjExKXfMIKLnw3G98sf1Z+Xv74+8vDwsWLAAhYWFYnlKSgo2btwIW1vbZ7poXVHq3ytPn4/U1FRs2LABADTap/7uX9pFb09PTzRs2BAHDhzAkSNHNN5bsWIF0tPT0adPn3I91vckExMTGBkZ4dGjRxr7z8vLw9y5cwGU/zcJFeGjc9VAREQETpw4gaNHj+Lnn39Gv3790KhRI0yZMgWLFi1Cv3790L17d9SqVQuJiYm4du0afHx8xCy9nZ0dZs2ahY8//hj+/v7o0aMHrKyssG/fPnG+HFNTU5iammLevHn46KOP4O/vD19fXzg6OiIpKQkXL15E69aty3wsCQD69euHJUuWIDU1Ff7+/sUmCQwICMChQ4ewf/9+XLlyBV27dkVhYSH27t2LrKwsTJ48WZxzp2/fvti/fz/27duHGzduoFOnTrh69SpOnTqF+vXrawSlshw8eFCjvlKpxNWrV5GQkAClUonw8HCxrfb29vD19cX+/fvx9ttvo1u3brh9+zYOHToET09PrVl0qVSK/v374+uvv4alpSV69uxZ7rZ16tQJMTExmDx5MoYNG4Z27drBzc0NQNEVobNnz4q3Knft2rXc233ap59+iqFDh2LixInw9vZGs2bNcOPGDSQkJMDOzg6zZ88ucxtGRkZYuXIlZs+ejV27diEhIQGdO3dG48aNUVhYiEuXLuHXX3+FSqVCmzZt8Omnn4qf/eCDD3Ds2DHExsYiOTkZ7du3x6NHj7Bv3z7k5uZiyZIl4tWD2rVrw9TUFKdPn8bChQvRs2fPEiebBYquzGzYsAHjxo3D+PHj4ebmBi8vLxgbG+PKlSs4efIkJBIJZsyYgUGDBj3zOZw2bRp+++03LF68GPHx8XB3d8fdu3dx4MABGBsbY8GCBRqrjxBREcYy3ccyQRCQnZ2NS5cu4ezZszA3N8fy5ctLvZLr4OCAd955B9988w369euHbt26wcjICEePHsW1a9cwduxYcRyeOnUqkpOTERERgf3796NZs2a4ePEizpw5A19fX3GSV3VsmTNnDg4cOABXV1f88ccfOH78OBwdHcUv6erz+sUXX2DdunW4ffs2nJ2dcfz4cTx69Ejr3HkV4ejoiOvXr2P27Nno1q1blfyQInqRcVzXzbiua6NGjcKxY8ewa9cuXLlyBYdbaaoAACAASURBVB07dsT9+/dx8OBBCIKA5cuXl2ul5ufl4+ODZcuWYfXq1bh+/TpcXFxw8+ZNHD58WHyKRJ10BCBeBF61ahUuX76M8ePHF9umkZERFi1ahJEjR2LMmDHw8fGBi4sLfvvtN5w7dw6vvPIKpk6dWuG2WlhYoGfPnuJvv86dOyMnJweHDx/GvXv3UKtWLWRnZ0OlUvF7fjkx0VQN1K1bF5MmTcLcuXOxYMECdO3aFbVq1cJ7772HJk2a4Ouvv8aBAwegUqnQoEEDTJ8+HUOHDtVYztLf3x9169bF6tWrsX//fhQWFqJly5aYP3++uLwjUDSp9csvv4zVq1fj6NGjyM3NRf369TF27FiMHDlSfC62NI6OjujUqROOHz+u9fEkiUSCFStW4LvvvsOOHTuwdetWmJubo2nTpnjvvfeKzZ0TGRkJNzc3bNu2DZs2bUKjRo0QHR2Nbdu2VWgQj4+PR3x8vPjaxMQE9vb28PHxQXBwsLiihtqCBQvg6OiIffv2ITY2Fs2aNcOKFStw69YtrYkmoOj8ff311+jVq1eJS4SWxMfHB/v378emTZtw+PBh8Qqys7Mzxo4di0GDBj3TXThPatKkCXbs2IGYmBgcOXIEJ0+ehKOjIwYMGIBx48aV+Sy9mpWVFZYuXYrBgwdjx44d+O2333D69GkARf3v7++P/v37F3uO3tzcHBs2bMBXX32FPXv24Pvvv4eNjQ08PDwwevRojT4wNTXFrFmzsGLFCrFeaYkmAGjTpg327NmDbdu2Ye/evfjxxx9RUFCA+vXrY9iwYRg8eHCxVScqyt7eHnFxcVi9ejV++eUXxMbGwt7eHt27d8fYsWM1Vrggov8wllVOLLOwsBDHuHfeeafY6kDaTJkyBQ0bNsTWrVvxww8/QKlUomnTpli0aJF4lR4o6rOtW7ciKioKhw8fxsmTJ1G3bl2EhIRg7NixYr1GjRph+/btWLlyJRISEnDmzBk4OjoiODgYISEhGhPm1qlTBxs2bEBkZCQSExNhYmKCrl27YurUqaXeiVUes2bNwrx587B9+3YUFhYy0URUyTiu62Zc1zUzMzOsX78e69atw65du7Bp0ybY2trCx8cHo0ePRsuWLaukHXXr1sU333yDyMhInDp1CseOHYOTkxOCg4MxevRo9OrVC0ePHoUgCJBIJOjbty+OHDmChIQEfP/99xrx6EkeHh7Ytm0bYmJixESnk5MTQkJCMGrUqHL9LWizYMECvPzyyzh48CA2btwIBwcHtG7dGh988AF+/vlnfPvttzh9+vQzzxP2opEIfNiQSGe2bNmCWbNmPddkhURERERERETVFRNNRDqSnZ2NQYMG4fHjxzhw4ECFJrMmIiIiIiIiqgn46BzRc0pKSsKCBQuQlpaG7OxsLF68mEkmIiIiIiIieiFxJiui5+To6Ih79+5BKpViwoQJePPNN/XdJCIiIiIiIiK94KNzRERERERERESkE7yjiYiIiIiIiIiIdKJGz9GkUqmgVPKGLSKip5mYSPXdBIPAOEFEpB3jRBHGCSIi7UqLEzU60aRUCsjKytF3M4iIDI6Dg42+m2AQGCeIiLRjnCjCOEFEpF1pcYKPzhERERERERERkU4w0URERERERERERDrBRBMREREREREREelEjZ6jiYiosimVhXjwIAOFhQX6bopWxsamqF3bAVIph3sioqpm6DECYJx4Fober+xTItI3jj5ERM/hwYMMmJtbwsrqZUgkEn03R4MgCFAoHuHBgwzUqVNP380hInrhGHKMABgnnpUh9yv7lIgMAR+dIyJ6DoWFBbCysjW4L5oAIJFIYGVla7BXXImIajpDjhEA48SzMuR+ZZ8SkSFgoomI6DkZ4hdNNUNuGxHRi8DQx2FDb5+hMuTzZshtI6IXAxNNRETVzLVrV3Hu3K/6bgYRERkoxomaif1KRNUFE01ERNVMQkI8/vrrur6bQUREBopxomZivxJRdcHJwImIKlFhYSGWLFmAtLTbUKlU6N69J44eTcCKFV8CAKZODcP774+BQqHAmjUxkEqlcHKqj6lTZ+DAgb04efI48vPz8PffaRg69B20a9cBe/f+DGNjE8hkzdGypZuej5CIiJ4H40TNxH4lohcZE01ERJVo164fUauWHT7+eBYePszCuHEfwMrKCv/8kw5jYxNkZWWhWTNXDBnyFlat+gq1a9tj7dpV2LNnF4yNjaFQyBEZGY3bt29h2rRJ6Nu3P/r06YeXXnqJXzKJiGoAxomaif1KRC8yJpqIiCrRtWtXceHCb7h06XcAgFJZiK5du2Hfvt0wMTFB3779kZX1APfv38PMmdMBAPn5+WjfviPq13dG06YyAICjY10UFHAFGSKimoZxomZivxLRi4yJJiKiStSwYSM4Ojpi+PARyM/Pw7fffg1//4EICxsHiUSC5cujYWFhCUdHRyxaFAlra2scO3YEFhaWuHv3H60rxxgZGUGlEvRwNEREpGuMEzUT+5WIXmRMNFG1UNvaBMYW5nptQ2FuHh7IH+u1DVT9DBgQgMWL52H8+A+gUMjh7/82rKys0bSpDEplIaysrAEAEyd+hClTJkIQBFhaWmHmzE9w9+4/Wrfp6toCMTFfoFGjxvDw8KrKwyHSyrqWCSxM9TtG5xbkQf6QYzRVP4wTNRP71fDo+/cEf0vQi0QiCEKNTYs/fqxEVlaOvptBOuDgYIMj3t302oZuiUeQkZGt1zaQ4fnnn5t4+eWG+m5GqbS10cHBRk+tMSyME7rh4GCDzlGd9dqG46HHOUaTwakOMQJgnCiNtjhRHfq1OrSxqun79wR/S1BNU1qcMKrCdhARERERERERUQ3GRBMREREREREREekEE01ERERERERERKQTnAy8FNa25rAwM9FrG3LzH0P+KE+vbSAiIiIiIiIiKg8mmkphYWYCzykb9NqG5CXDIQcTTURERERERERk+PjoHBERERERERER6USl3dF0/vx5LF26FLGxsWLZrl27sHHjRmzZsgUAEBcXh82bN8PY2BghISHw8fFBZmYmPvroI+Tl5cHR0RELFy6EhYWF1rpERIZG14/clvfx2ZSU37Fq1QpER6/R2b6JiEi39BUjAMaJysTYT0SkqVISTWvXrsXOnTthYWEhll2+fBnbtm2DIAgAgIyMDMTGxmL79u3Iz89HUFAQOnfujJiYGPTr1w8BAQFYs2YNtmzZgtdff11rXVNT08poPhHRM9P1I7fleXz2u+++xf79e2BublFqPSIi0i99xAiAcaKyMfYTEWmqlEfnXFxcEBUVJb5+8OABli5divDwcLHswoULaNu2LUxNTWFjYwMXFxekpqYiOTkZXbt2BQB4e3vjxIkTJdYlIiKgfn1nzJ+/RN/NICIiA8U4UfOwT4nIkFXKHU1+fn5IS0sDACiVSsyYMQPh4eEwMzMT68jlctjY2IivraysIJfLNcqtrKyQnZ1dYt2ySKUS2NlZ6uqw9KYmHENNwb6gp929K4FUWrnT3ZW1/R49eiI9/Q4kEu11JZKaMRYSEVUXta1NYGxhjn//NYKxceXGiJK2L6gEKFVFTxL87389kJ5+p1LbQVWLfUpEhqzSV51LSUnBzZs3MWfOHOTn5+Pq1auYP38+OnbsCIVCIdZTKBSwsbGBtbU1FAoFzM3NoVAoYGtrK5Y9XbcsSqWArKycZ267g0PZ+6gKz3MMNQX7ggyVIAhQKlWVuo/ybF+pVEEQtNcVhOJjoaH8myIiqomMLcxxxLsbrOfMRvYTc+3U7uSh831lp17RWm7T3BX4/0QTERFRVar0Vefc3d2xe/duxMbGIjIyEk2bNsWMGTPg7u6O5ORk5OfnIzs7G9euXYNMJoOHhweOHDkCAEhMTISnp2eJdYmIiIiIiIiIyHBU+h1NJXFwcEBwcDCCgoIgCAImTZoEMzMzhISEYNq0aYiLi0Pt2rWxbNkyWFpaaq1LRERERERERESGo9ISTc7OzoiLiyu1LDAwEIGBgRp16tSpg3Xr1hXbnra6RESGJjf/MZKXDNfp9sqjXj0nrFmzXmf7pfLR9ZLWz6Iiy5sTkX7l5OTpNEbk5JT/3z7jROVh7Cci0qS3O5qIiGoi+aO8ci01TTWDrpe0fhblXd6ciPTv3vlL+m4CVQLGfiIiTZU+RxMREREREREREb0YmGgiIiK9OH/+PIKDgzXKdu3ahUGDBomv4+LiEBAQgMDAQBw+fBgAkJmZiREjRiAoKAhhYWHIzc0tsS4REREREVUtPjpHRERVbu3atdi5cycsLCzEssuXL2Pbtm0QhKLluDMyMhAbG4vt27cjPz8fQUFB6Ny5M2JiYtCvXz8EBARgzZo12LJlC15//XWtdU1NTfV1iERERERELyTe0URERFXOxcUFUVFR4usHDx5g6dKlCA8PF8suXLiAtm3bwtTUFDY2NnBxcUFqaiqSk5PRtWtXAIC3tzdOnDhRYl0iIiIiIqpavKOJiIiqnJ+fH9LS0gAASqUSM2bMQHh4OMzMzMQ6crkcNjY24msrKyvI5XKNcisrK2RnZ5dYtyxSqQR2dpa6Oiy9qQnHoAs8D0SapNLyXVOWSGrGWEhERIaBiSYiIh2yr2UCqam5zranLMhD5sOSlzkuLCzEwoWfID09HY8fF+Cdd0aiS5duOtt/VUhJScHNmzcxZ84c5Ofn4+rVq5g/fz46duwIhUIh1lMoFLCxsYG1tTUUCgXMzc2hUChga2srlj1dtyxKpYCsrJxnbruDQ9n7qArPcwy6wPNApKmkfxNObWQwtrTW2X4Kc+S4c/6PEt9XKlXlihOCUHwsNJR/19UBYz8RkSYmmoiIdEhqao5bn7bW2fZcZl0EUPKXzf3798DW1g4zZ87Fw4dZeO+9odXuy6a7uzt2794NAEhLS8OHH36IGTNmICMjA59//jny8/NRUFCAa9euQSaTwcPDA0eOHEFAQAASExPh6ekJd3d3rXWJiAyJsaV1JcSI0tWEOGHoGPuJiDQx0UREVI35+PjCx6eH+FoqrTnDuoODA4KDgxEUFARBEDBp0iSYmZkhJCQE06ZNQ1xcHGrXro1ly5bB0tJSa10iohddTY4TLyr2KREZOo5KRETVmKVl0ZwaOTkKRERMw6hRIXpuUfk5OzsjLi6u1LLAwEAEBgZq1KlTpw7WrVtXbHva6hIRveiqc5wg7dinRGTomGgiIqrm7t79B+HhU+DvPxC9evXWd3OIiMjAVLc48fjxY4SHh+Pvv/9GQUEBQkJC8PLLL2PMmDFo1KgRAGDIkCHo27cvoqOjkZCQAGNjY4SHh8Pd3R03b97E9OnTIZFI0KxZM8yePRtGRkZa61ZX1a1PiejFwkQTEVE1lpl5Hx9+OB6TJk2Fl1d7fTeHiIgMTHWMEzt37oSdnR2WLFmCBw8ewN/fH+PGjcN7772HESNGiPVSUlKQlJSErVu3Ij09HaGhodi+fTsWLlyIsLAwdOjQAbNmzUJ8fDycnJy01q2OqmOfEtGLhYkmIqJqbMOGb5CdnY3167/C+vVfAQCWLVsBMzPdrX5DRETVV3WME71794afn5/4WiqV4vfff8eNGzcQHx+Phg0bIjw8HMnJyejSpQskEgmcnJygVCqRmZmJlJQUtG9flIDx9vbG8ePH0bhxY6117e3t9XWYz6w69ikRvViYaCIi0iFlQV65VgGqyPZKExb2EcLCPtLZ/oiIqPIU5sh1GiMKc+Rl1qmOccLKygoAIJfLMWHCBISFhaGgoABvv/023NzcsGrVKqxcuRI2Njaws7PT+Fx2djYEQYBEItEok8vlWuuWlWiSSiWws7PUKLt7VwKp1Eh8XRmx/8ntP23y5KmYPHlqqduQSIq3m/SPfUIvCiaaiIh0KPPhY5S2JDEREb247pz/Q99NqDbS09Mxbtw4BAUFoX///nj06BFsbW0BAD179sTcuXPRo0cPKBQK8TMKhQI2NjYwMjLSKLO1tYW1tbXWumVRKgVkZeVolAmCAKVSJb7OfKiCocV+QSje7hedg0PZ/V3Z2CdUk5T2b6rkVDkREREREVEVu3fvHkaMGIEpU6Zg4MCBAICRI0fiwoULAICTJ0+iVatW8PDwwLFjx6BSqXDnzh2oVCrY29ujZcuWOH36NAAgMTERXl5eJdYlIiLd4x1NRERERERkML788ks8evQIMTExiImJAQBMnz4dCxYsgImJCerUqYO5c+fC2toaXl5eGDRoEFQqFWbNmgUAmDZtGmbOnInIyEg0adIEfn5+kEqlWusSEZHuMdFERFRBta1NYGxRNOHmv/8awdi46m8OFVQClCqhyvdLRERU2SIiIhAREVGsfPPmzcXKQkNDERoaqlHWuHFjbNy4sVx1iYhI95hoIiKqIGMLcxzx7gYAsJ4zG9mPSp+wuzLYNHcFmGgiIiIiIiIDwzmaiIiIiIiIiIhIJ3hHExGRDjm86goLCyudbS83V4GMc1dKfF+pVGLx4nm4ffsmjIykCA+fjfr1nXW2fyIi0p2qjhEA40RVsK5lAgtTc51tL7cgD/KHJa9ixz4lIkPHRBMRkQ5ZWFihc1RnnW3veOjx0t8/fhQAsGrV1/j117OIiorEokWROts/ERHpTlXHCIBxoipYmJrrvF/lKDnRxD4lIkPHRBMRUTXm7f0/vPZaFwDA3bv/oHbtl/TcIiIiMiSMEzUP+5SIDB3naCIiquaMjY0xb95sLF++BD4+PfTdHCIiMjCMEzUP+5SIDBkTTURENUBExCfYtGk7Fi+eh9zcXH03h4iIDAzjRM3DPiUiQ8VEExFRNbZv327Exn4DADA3N4eRkRGMjDi0ExFREcaJmod9SkSGjnM0ERFVY926dceCBZ9g3LhRKCwsxIQJH8LMzEzfzSKqcqr8fDg42Oi1DYW5eXggL3kCXyJ9YJyoedinRGTomGgiItKh3FxFuVYBqsj2SmNhYYG5cxfpbH9E1ZWRmRmOeHfTaxu6JR4BmGiiUlR1jAAYJ6pCbkGebvu1IK/U99mnRGTomGgiItKhjHNX9N0EIiIyUIwRNZP84WPIwSQzEZEaH+YlIiIiIiIiIiKdYKKJiIiIiIiIiIh0gokmIiIiIiIiIiLSCSaaiIiIiIiIiIhIJ5hoIiIiIiIiIiIineCqc0REOlSvtStMrK10tr3HcgXSL5a9StGDB5kYOTIYy5evRMOGjXS2fyIi0h19xQiAcaIy1bY2gbGFuc62V5ibhwfyslexY58SkaGqtETT+fPnsXTpUsTGxuLy5cuYO3cupFIpTE1NsXjxYtSpUwdxcXHYvHkzjI2NERISAh8fH2RmZuKjjz5CXl4eHB0dsXDhQlhYWGitS0RkaEysrXDEu5vOttct8UiZdQoLC/HZZwtgamqms/0SEZHu6SNGAIwTlc3Ywlz3/VpGool9SkSGrFIenVu7di0iIiKQn58PAJg/fz5mzpyJ2NhY9OzZE2vXrkVGRgZiY2OxefNmrFu3DpGRkSgoKEBMTAz69euH77//Hi1btsSWLVtKrEtEREB09Od48823UKdOHX03hYiIDBDjRM3DPiUiQ1YpiSYXFxdERUWJryMjI9GiRQsAgFKphJmZGS5cuIC2bdvC1NQUNjY2cHFxQWpqKpKTk9G1a1cAgLe3N06cOFFiXSKiF92ePbtgZ2eHDh066bspRERkgBgnah72KREZukp5dM7Pzw9paWnia0dHRwDAr7/+io0bN+K7777D0aNHYWNjI9axsrKCXC6HXC4Xy62srJCdna1R9mTdskilEtjZWerqsPSmJhxDTcG+IEMilRphz56dACRITj6Dq1f/wLx5s7FkyXK89NJ/VzglkpoxFhIRUcXt3r0TEokEZ88m/X+cmIVFiyI14gRVL+xTIjJ0VTYZ+J49e7Bq1SqsWbMG9vb2sLa2hkKhEN9XKBSwsbERy83NzaFQKGBra1ti3bIolQKysnKeuc0ODmXvoyo8zzHUFOwLMiSG8veoVKoQHb1WfD1+/AeYMiUcdnb2UCpVYrkgFB8LDeUYiIiocq1cWTxOMCFRvbFPicjQVcqjc0/76aefsHHjRsTGxqJBgwYAAHd3dyQnJyM/Px/Z2dm4du0aZDIZPDw8cORI0cSGiYmJ8PT0LLEuEREREREREREZjkq/o0mpVGL+/PmoV68eQkNDAQDt2rXDhAkTEBwcjKCgIAiCgEmTJsHMzAwhISGYNm0a4uLiULt2bSxbtgyWlpZa6xIRGZrHckW5VwEq7/bKKzp6jc72S0REuqfPGAEwTlSWwtw8nfZrYW5eueuyT4nIEFVaosnZ2RlxcXEAgKSkJK11AgMDERgYqFFWp04drFu3rlx1iYgMTfrFK/puAhERGSjGiJrpgfwxIH+s72YQERmMKnl0joiIiIiIiIiIaj4mmoiISC/Onz+P4OBgAMDly5cRFBSE4OBgjBw5Evfu3QMAxMXFISAgAIGBgTh8+DAAIDMzEyNGjEBQUBDCwsKQm5tbYl0iIiIiIqpaVbbqHBFRjaQSIECABBJ9t0QrQRD03QSt1q5di507d8LCwgIAMH/+fMycORMtWrTA5s2bsXbtWrz//vuIjY3F9u3bkZ+fj6CgIHTu3BkxMTHo168fAgICsGbNGmzZsgWvv/661rqmpqZ6PlIieqEZeIwADDdOGDpBECCRGGa/sk+JSN94RxMR0XNQpacjT1BBgOF9qRMEAQrFIxgbG16yxcXFBVFRUeLryMhItGjRAkDRIhJmZma4cOEC2rZtC1NTU9jY2MDFxQWpqalITk5G165dAQDe3t44ceJEiXWJiPTJkGMEYNhxwpAZG5tCoXhkkAkd9ikRGQLe0URlsq5lAgtTc303g8gg5W7aBAwZAnm9eoBR1V3ZzL5zEyqVqsx6xsamqF3boQpaVDF+fn5IS0sTXzs6OgIAfv31V2zcuBHfffcdjh49ChsbG7GOlZUV5HI55HK5WG5lZYXs7GyNsifrlkUqlcDOzlJXh6U3NeEYagr2BT1JXzECKIoTZSVCJBIJzMzM0KiRC4yNTaqoZdVf7doOePAgA3J5lr6bopWhxn4ienEw0URlsjA1R+eoznptw/HQ43rdP1FJBLkcOWvXVvl+PROPICMju8r3W5n27NmDVatWYc2aNbC3t4e1tTUUiv+W7lYoFLCxsRHLzc3NoVAoYGtrW2LdsiiVArKycp65zQ4OZe+jKjzPMeiCoZwHQ6DvviDDoP43oa8YAVQsTsjljwForprGf9clk0qNUadOPX03g4jIYPHROSIi0ruffvoJGzduRGxsLBo0aAAAcHd3R3JyMvLz85GdnY1r165BJpPBw8MDR44cAQAkJibC09OzxLpERERERFS1eEcTERHplVKpxPz581GvXj2EhoYCANq1a4cJEyYgODgYQUFBEAQBkyZNgpmZGUJCQjBt2jTExcWhdu3aWLZsGSwtLbXWJSIiIiKiqsVEExER6YWzszPi4uIAAElJSVrrBAYGIjAwUKOsTp06WLduXbnqEhERERFR1eKjc0REREREREREpBNMNBERERERERERkU4w0URERERERERERDrBRBMREREREREREekEE01ERERERERERKQTTDQREREREREREZFOMNFEREREREREREQ6wUQTERERERERERHpBBNNRERERERERESkE0w0ERERERERERGRTjDRREREREREREREOsFEExERERERERER6QQTTUREREREREREpBNMNBERERERERERkU4Y67sBREREREREao8fP0Z4eDj+/vtvFBQUICQkBE2bNsX06dMhkUjQrFkzzJ49G0ZGRoiOjkZCQgKMjY0RHh4Od3d33Lx5s9x1iYhI95hoIiIiIiIig7Fz507Y2dlhyZIlePDgAfz9/dG8eXOEhYWhQ4cOmDVrFuLj4+Hk5ISkpCRs3boV6enpCA0Nxfbt27Fw4cJy1yUiIt1joomIiIiIiAxG79694efnJ76WSqVISUlB+/btAQDe3t44fvw4GjdujC5dukAikcDJyQlKpRKZmZkVqmtvb6+XYyQiqsmYaCIiIiIiIoNhZWUFAJDL5ZgwYQLCwsKwePFiSCQS8f3s7GzI5XLY2dlpfC47OxuCIJS7blmJJqlUAjs7S10fIr2g+LdELwommoiIiIiIyKCkp6dj3LhxCAoKQv/+/bFkyRLxPYVCAVtbW1hbW0OhUGiU29jYwMjIqNx1y6JUCsjKytHRUZE+OTiU3d+VjX9LVJOU9m+Kq84REREREZHBuHfvHkaMGIEpU6Zg4MCBAICWLVvi9OnTAIDExER4eXnBw8MDx44dg0qlwp07d6BSqWBvb1+hukREpHu8o4mIiIiIiAzGl19+iUePHiEmJgYxMTEAgBkzZmDevHmIjIxEkyZN4OfnB6lUCi8vLwwaNAgqlQqzZs0CAEybNg0zZ84sV10iItI9JpqIiIiIiMhgREREICIiolj5xo0bi5WFhoYiNDRUo6xx48blrktERLrHR+eIiIiIiIiIiEgnmGgiIiIiIiIiIiKdYKKJiIiIiIiIiIh0gokmIiIiIiIiIiLSiUpLNJ0/fx7BwcEAgJs3b2LIkCEICgrC7NmzoVKpAADR0dEYOHAgBg8ejAsXLlS4LhERERERERERGY5KSTStXbsWERERyM/PBwAsXLgQYWFh+P777yEIAuLj45GSkoKkpCRs3boVkZGR+OSTTypcl4iIiIiIiIiIDEelJJpcXFwQFRUlvk5JSUH79u0BAN7e3jhx4gSSk5PRpUsXSCQSODk5QalUIjMzs0J1iYiIiIiIiIjIcBhXxkb9/PyQlpYmvhYEARKJBABgZWWF7OxsyOVy2NnZiXXU5RWpa29vX2o7pFIJ7OwsdXloelETjqGmYF+QIeHfIxERERERGZpKSTQ9zcjovxunFAoFbG1tYW1tDYVCoVFuY2NTobplUSoFZGXlPHO7l60eEAAAIABJREFUHRzK3kdVeJ5j0AVDOQ+GQN99QYbBUP5N1ITxjYiIiIiIapYqWXWuZcuWOH36NAAgMTERXl5e8PDwwLFjx6BSqXDnzh2oVCrY29tXqC4RERERERERERmOKrmjadq0aZg5cyYiIyPRpEkT+Pn5QSqVwsvLC4MGDYJKpcKsWbMqXJeIiIiIiIiIiAxHpSWanJ2dERcXBwBo3LgxNm7cWKxOaGgoQkNDNcoqUpeIiKqv8+fPY+nSpYiNjcXNmzcxffp0SCQSNGvWDLNnz4aRkRGio6ORkJAAY2NjhIeHw93dvUJ1iYiIiIioalXJo3NERERPWrt2LSIiIpCfnw8AWLhwIcLCwvD9999DEATEx8cjJSUFSUlJ2Lp1KyIjI/HJJ59UuC4REREREVUtJpqIiKjKubi4ICoqSnydkpKC9u3bAwC8vb1x4sQJJCcno0uXLpBIJHBycoJSqURmZmaF6hIRERERUdWqkjmaiIiInuTn54e0tDTxtSAIkEgkAAArKytkZ2dDLpfDzs5OrKMur0jdshaOkEolsLOz1OWh6UVNOIaagn1BhoR/j0REpA9MNBERkd4ZGf13g61CoYCtrS2sra2hUCg0ym1sbCpUtyxKpYCsrJxnbreDQ9n7qArPcwy6YCjnwRDouy/IMBjKv4maML4REVH1w0fniIhI71q2bInTp08DABITE+Hl5QUPDw8cO3YMKpUKd+7cgUqlgr29fYXqEhER0f+1d/9RWpZ1/sDfDzOAyIADCW5E0KCy5Q80nEALaTWJrdZTtrkDFZq62+bquLSW4CgjiIouyrbpqqu7HgvyF0lna8/p7K6YkZjQehZTSi1LQwG1kGRG5cfMfP/oOMkXRNCbeR5mXq+/Zu7nmrk/98z9PJ+Z93Nd9w3QtcxoAqDsZsyYkVmzZmXBggUZNWpUJk+enKqqqtTX16ehoSHt7e1pbm7e47EAAEDXEjQBUBbDhw/PXXfdlSSpq6vLokWLdhjT2NiYxsbG7bbtyVgAAKBrWToHAAAAQCEETQAAAAAUQtAEAAAAQCEETQAAAAAUQtAEAAAAQCEETQAAAAAUQtAEAAAAQCEETQAAAAAUQtAEAAAAQCEETQAAAAAUQtAEAAAAQCEETQAAAAAUQtAEAAAAQCEETQAAAAAUQtAEAAAAQCEETQAAAAAUQtAEAAAAQCEETQAAAAAUQtAEAAAAQCEETQAAAAAUQtAEAAAAQCEETQAAAAAUQtAEAAAAQCEETQAAAAAUQtAEAAAAQCEETQAAAAAUQtAEAAAAQCEETQAAAAAUorqrdrR169bMnDkzzz77bHr16pW5c+emuro6M2fOTKlUyqGHHppLLrkkvXr1ynXXXZf77rsv1dXVaWpqypgxY/L000/vdCwAAAAAlWG3kprFixdv9/k3v/nNPd7RD3/4w2zbti133HFHzjnnnHzta1/LvHnzMn369Nx2223p6OjI0qVLs3r16qxcuTKLFy/OggULMmfOnCTZ6VgAyq+IHgFA96VPAPQsu5zR9J//+Z+59957s2LFijz44INJkra2tvziF7/Iaaedtkc7qqurS1tbW9rb29PS0pLq6uqsWrUq48aNS5JMnDgxy5cvT11dXSZMmJBSqZRhw4alra0tGzZsyOrVq3cYO2nSpLdyzAAUoMgeAUD383b7xMMPP5yrr746CxcuzOrVq/OlL30p73nPe5IkU6dOzcc//vE9Wgmxs7EAFG+XQdPxxx+fIUOGZOPGjWloaEiS9OrVK+9+97v3eEf7779/nn322XzsYx/Liy++mBtvvDE/+clPUiqVkiT9+/fPpk2b0tLSktra2s6ve217R0fHDmPfTFVVKbW1++9xrZWmOxxDd+F3QSUp9/lYZI8AoPt5O33i5ptvzne/+93069cvSfKzn/0sZ5xxRs4888zOMa9fCbFu3bo0Njbm7rvv7lwJMX78+DQ3N2fp0qUZNmzYTscCULxdBk0HHHBAxo8fn/Hjx+d3v/tdNm/enOQP70TsqVtvvTUTJkzI+eefn3Xr1uX000/P1q1bOx9vbW3NwIEDU1NTk9bW1u22DxgwYLvrMb029s20tXVk48aX97jW1wwZMuAtf22R3s4xFKFSfg6VoNy/CypDpTwnyv36VmSPAKD7eTt9YsSIEbn22mtzwQUXJEkeffTR/PrXv87SpUszcuTINDU15aGHHtrtlRBvtGpi8ODBu6yju7xxTWVwLtFT7NbFwOfMmZMf/vCHGTp0aOfMojvuuGOPdjRw4MD07t07yR+azrZt23LYYYdlxYoVGT9+fJYtW5Zjjz02I0aMyPz583PWWWdl/fr1aW9vz+DBg3c6FoDyK6JHANB9vZU+MXny5DzzzDOdn48ZMyannnpqjjjiiNxwww35l3/5lwwYMGC3V0K80aqJNwua3u4b11SOSnij0LlEd7Kr59RuBU0PP/xw7rnnnrd1l7cvfOELaWpqymc/+9ls3bo1X/7yl3PEEUdk1qxZWbBgQUaNGpXJkyenqqoq9fX1aWhoSHt7e5qbm5MkM2bM2GEsAOVXRI9I3J0UoLsqok9MmjSpc0XDpEmTMnfu3HzkIx/Z7ZUQb7RqAoDi7VbQNHLkyGzevLlzjfRb0b9///zzP//zDtsXLVq0w7bGxsY0NjZut62urm6nYwEoryJ6RLL93UmXL1+er33ta9m6detuX2djZ9fkcNMIgPIrok+cddZZmTVrVsaMGZMf//jHOfzwwzN27NjdXgnxRqsmACjebgVN69atywknnJCRI0cmiWURAHQqqkeU4+6k3eXaG93hGLoLvwsqSaWcj0X0idmzZ2fu3Lnp3bt3DjzwwMydOzc1NTW7vRLijVZNAFC83Qqarrnmmr1dBwD7qKJ6RDnuTuqmEcWolJ9DJSj374LKUCnPiUp5fXurfWL48OG56667kiSHH374TsOpPVkJsbOxABRvt4Km73znOztsO/fccwsvBoB9T1E9ohx3JwVg7/O/BEDPsltX5DvwwANz4IEH5h3veEeee+65rFu3bm/XBcA+oqgeMXDgwM4Ls/7/dydNkmXLlqW+vj5jx47N/fffn/b29qxdu3aHa3K8fiwA5ed/CYCeZbdmNE2ZMmW7z//6r/96rxQDwL6nqB7h7qQA3VNP/l+iZuB+6de3d1lreGXz1rS89GpZawB6lt0Kmn796193fvzCCy94FwKATkX1CHcnBeieevL/Ev369s4xX/1mWWt4aP5paYmgCeg6uxU0vf6uDH379s0FF1yw1woCYN+iRwCwK/oEQM+yW0HTwoUL8+KLL2bNmjUZPnx4Bg8evLfrAmAfoUcAsCv6BEDPslsXA//+97+fKVOm5MYbb0xDQ0P+4z/+Y2/XBcA+Qo8AYFf0CYCeZbdmNN16661ZsmRJ+vfvn5aWlpx++un55Cc/ubdrA2AfoEcAsCv6BEDPslszmkqlUvr3758kqampSd++ffdqUQDsO/QIAHZFnwDoWXZrRtOIESNy5ZVXpr6+Pg899FBGjBixt+sCYB+hRwCwK/oEQM+yWzOa/uqv/ioHHHBAHnjggSxZsiSf+9zn9nZdAOwj9AgAdkWfAOhZdmtG05VXXpkrr7wyhxxySM4444zMnDkz3/rWt/Z2bQA7qDmgd/r12a/cZfA6egQAu6JPAPQsuxU0VVdX55BDDkmSvPvd706vXrs1EQqgcP367JcPXfuhstawvHF5WfdfafQIAHZFnwDoWXYraBo2bFgWLFiQo48+Oj/96U8zdOjQvV0XAPsIPQKAXdEnAHqW3Xo7Yd68eRk8eHB++MMfZvDgwZk3b97erguAfYQeAcCu6BMAPctuzWjq27dvvvCFL+zlUgDYF+kRAOyKPgHQs1ggDQAAAEAhBE0AAAAAFELQBAAAAEAhBE0AAAAAFELQBAAAAEAhBE0AAAAAFELQBAAAAEAhqstdALvWsW1zhgwZUO4yAAAAAN6UoKnClar75jeXHlnWGkY0P1LW/QMAAAD7BkvnAAAAACiEoAkAAACAQgiaAAAAACiEoAkAAACAQgiaAAAAACiEoAkAAACAQgiaAAAAACiEoAkAAACAQlR35c7+9V//Nffee2+2bt2aqVOnZty4cZk5c2ZKpVIOPfTQXHLJJenVq1euu+663Hfffamurk5TU1PGjBmTp59+eqdjAQAAAKgMXZbUrFixIv/3f/+X22+/PQsXLsz69eszb968TJ8+Pbfddls6OjqydOnSrF69OitXrszixYuzYMGCzJkzJ0l2OhYAAACAytFlM5ruv//+jB49Ouecc05aWlpywQUX5K677sq4ceOSJBMnTszy5ctTV1eXCRMmpFQqZdiwYWlra8uGDRuyevXqHcZOmjRpl/usqiqltnb/vX5s9BzOJyqJ8xEAAKg0XRY0vfjii1m7dm1uvPHGPPPMMzn77LPT0dGRUqmUJOnfv382bdqUlpaW1NbWdn7da9t3NvbNtLV1ZOPGl99yzUOGDHjLX0v39HbOJ4rheflHXt8AAIBK02VBU21tbUaNGpU+ffpk1KhR6du3b9avX9/5eGtrawYOHJiampq0trZut33AgAHbXY/ptbEAdC+u5QcAAPu2LvsL/JhjjsmPfvSjdHR05Lnnnssrr7yS4447LitWrEiSLFu2LPX19Rk7dmzuv//+tLe3Z+3atWlvb8/gwYNz2GGH7TAWgO7DtfwAAGDf12Uzmk444YT85Cc/yWc+85l0dHSkubk5w4cPz6xZs7JgwYKMGjUqkydPTlVVVerr69PQ0JD29vY0NzcnSWbMmLHDWAC6j3Jcyw8AAChWlwVNSXLBBRfssG3RokU7bGtsbExjY+N22+rq6nY6FoDuoRzX8usuN43oDsfQXfhdUEmcjwCUQ5cGTQDwRspxLb/uctOIct+ooFJ+DpWg3L8LKkOlPCe6w+sbAPseQRMAFeGYY47JN7/5zZxxxhl5/vnnt7uW3/jx47Ns2bIce+yxGTFiRObPn5+zzjor69ev3+Fafq8fCwCUX80BvdOvz37lLgPoIoImACqCa/kBQPfUr89++dC1HyprDcsbl5d1/9CTCJoAqBiu5QcAAPu2Xm8+BAAAAADenKAJAAAAgEIImgAAAAAohKAJAACoOA8//HCmTZuWJHn66aczderUfPazn80ll1yS9vb2JMl1112Xz3zmM5kyZUp++tOf7vFYAIonaAIAACrKzTffnIsvvjibN29OksybNy/Tp0/Pbbfdlo6OjixdujSrV6/OypUrs3jx4ixYsCBz5szZ47EAFE/QBAAAVJQRI0bk2muv7fx89erVGTduXJJk4sSJeeCBB/LQQw9lwoQJKZVKGTZsWNra2rJhw4Y9GgtA8arLXQAAAMDrTZ48Oc8880zn5x0dHSmVSkmS/v37Z9OmTWlpaUltbW3nmNe278nYwYMH77KOqqpSamv3L/LQyqI7HEN34PdATyFoAgAAKlqvXn9ciNHa2pqBAwempqYmra2t220fMGDAHo19M21tHdm48eW3XPeQIW++j67wdo6hCJXycyi3cv8eoEi7el5bOgcAAFS0ww47LCtWrEiSLFu2LPX19Rk7dmzuv//+tLe3Z+3atWlvb8/gwYP3aCwAxTOjCQAAqGgzZszIrFmzsmDBgowaNSqTJ09OVVVV6uvr09DQkPb29jQ3N+/xWACKJ2gCAAAqzvDhw3PXXXclSerq6rJo0aIdxjQ2NqaxsXG7bXsyFoDiWToHAAAAQCEETQAAAAAUQtAEAAAAQCEETQAAAAAUQtAEAAAAQCEETQAAAAAUQtAEAAAAQCEETQAAAAAUQtAEAAAAQCEETQAAAAAUQtAEAAAAQCEETQAAAAAUorrcBQAAb13Hts0ZMmRAucsAAIAkgiYA2KeVqvvmN5ceWdYaRjQ/Utb9AwBQOSydAwAAAKAQgiYAAAAACiFoAgAAAKAQgiYAAAAACiFoAgAAAKAQXX7Xud/97nf59Kc/nVtuuSXV1dWZOXNmSqVSDj300FxyySXp1atXrrvuutx3332prq5OU1NTxowZk6effnqnYwEAAAB2R80BvdOvz35lreGVLa+m5fdby1rD3tSlQdPWrVvT3Nyc/fb7wy913rx5mT59esaPH5/m5uYsXbo0w4YNy8qVK7N48eKsW7cujY2Nufvuu3c6dtKkSV1ZPgAAALAP69dnv3zo2g+VtYbljcvTku4bNHXplKCrrroqU6ZMydChQ5Mkq1evzrhx45IkEydOzAMPPJCHHnooEyZMSKlUyrBhw9LW1pYNGzbsdCwAAAAAlaPLZjQtWbIkgwcPzvHHH5+bbropSdLR0ZFSqZQk6d+/fzZt2pSWlpbU1tZ2ft1r23c29s1UVZVSW7v/XjgaeirnE5Wku56PllgDAMC+q8uCprvvvjulUik//vGP8/Of/zwzZszIhg0bOh9vbW3NwIEDU1NTk9bW1u22DxgwYLt/Fl4b+2ba2jqycePLb7nmIUMGvOWvpXt6O+cTxfC8/KPu+PpmiTUAAOzbuuyt3m9961tZtGhRFi5cmPe973256qqrMnHixKxYsSJJsmzZstTX12fs2LG5//77097enrVr16a9vT2DBw/OYYcdtsNYALoXS6wBAGDf1uV3nXu9GTNmZNasWVmwYEFGjRqVyZMnp6qqKvX19WloaEh7e3uam5vfcCwA3Ycl1nQHzicqifMRgHIoS9C0cOHCzo8XLVq0w+ONjY1pbGzcbltdXd1OxwLQPVhiTXdgiTVJ5bw2eH0DoBxcJRWAimCJNQAA7PvKunQOAHbFEmsAANi3CJoAqDiWWAMAwL7J0jkAAAAACmFGEwAA3UbNAb3Tr89+5S4DAHosQRMAAN1Gvz775UPXfqisNSxvXF7W/QNAOVk6BwAAAEAhzGgCAKAQgw/onSrL1gCgRxM0AQBQiKo+++U3lx5Z1hpGND9S1v0DQE9n6RwAAAAAhRA0AQAAAFAIQRMAAAAAhRA0AQAAAFAIQRMAAAAAhRA0AQAAAFAIQRMAAAAAhRA0AQAAAFAIQRMAAAAAhRA0AQAAAFAIQRMAAAAAhRA0AQAAAFCI6nIXAAAAsDs+9alPZcCAAUmS4cOHp6GhIZdffnmqqqoyYcKEnHvuuWlvb8/s2bPz+OOPp0+fPrnssssycuTIrFq1aoexABRP0AQAAFS8zZs3J0kWLlzYue2Tn/xkrr322rz73e/OF7/4xaxevTrPPvtstmzZkjvvvDOrVq3KlVdemRtuuCGXXHLJDmMPP/zwch1Ol+nYtjlDhgwodxlADyJoAgAAKt5jjz2WV155JWeeeWa2bduWxsbGbNmyJSNGjEiSTJgwIT/+8Y/zwgsv5Pjjj0+SHH300Xn00UfT0tKy07E9IWgqVffNby49sqw1jGh+pKz7B7qWoAkAAKh4++23X84666yceuqpeeqpp/I3f/M3GThwYOfj/fv3z5o1a9LS0pKamprO7VVVVTtse23sm6mqKqW2dv9iD4Qey7nE63Xn80HQBAAAVLy6urqMHDkypVIpdXV1GTBgQDZu3Nj5eGtrawYOHJhXX301ra2tndvb29tTU1Oz3bbXxr6ZtraObNz48luu2ZI1Xu/tnEsUp1Kel/v6+bCrn6O7zgEAABXv29/+dq688sokyXPPPZdXXnkl+++/f37zm9+ko6Mj999/f+rr6zN27NgsW7YsSbJq1aqMHj06NTU16d279w5jASieGU0AAEDF+8xnPpMLL7wwU6dOTalUyhVXXJFevXrlK1/5Stra2jJhwoQcddRROfLII7N8+fJMmTIlHR0dueKKK5Ikc+bM2WEsAMUTNAEAABWvT58+ueaaa3bYftddd233ea9evXLppZfuMO7oo4/eYSwAxbN0DgAAAIBCCJoAAAAAKISgCQAAAIBCCJoAAAAAKISgCQAAAIBCCJoAAAAAKER1V+1o69ataWpqyrPPPpstW7bk7LPPziGHHJKZM2emVCrl0EMPzSWXXJJevXrluuuuy3333Zfq6uo0NTVlzJgxefrpp3c6FgAAAIDK0GVJzXe/+93U1tbmtttuy80335y5c+dm3rx5mT59em677bZ0dHRk6dKlWb16dVauXJnFixdnwYIFmTNnTpLsdCwAAAAAlaPLZjT9+Z//eSZPntz5eVVVVVavXp1x48YlSSZOnJjly5enrq4uEyZMSKlUyrBhw9LW1pYNGzbsdOykSZO6qnwA9jIzXwEAYN/XZUFT//79kyQtLS0577zzMn369Fx11VUplUqdj2/atCktLS2pra3d7us2bdqUjo6OHca+maqqUmpr998LR0NP5XyiknS38/G1ma/z58/Piy++mFNOOSXvfe97M3369IwfPz7Nzc1ZunRphg0b1jnzdd26dWlsbMzdd9/dOfP19WO9IQEAAF2ry4KmJFm3bl3OOeecfPazn83JJ5+c+fPndz7W2tqagQMHpqamJq2trdttHzBgwHbvSr829s20tXVk48aX33K9Q4YMeMtfS/f0ds4niuF5+Ufd7fWtHDNfvSFB0ZxPVBLnIwDl0GVB029/+9uceeaZaW5uznHHHZckOeyww7JixYqMHz8+y5Yty7HHHpsRI0Zk/vz5Oeuss7J+/fq0t7dn8ODBOx0LQPdRjpmv3pCgaD39DQnPicri9Q2Acuiyi1fceOONeemll3L99ddn2rRpmTZtWqZPn55rr702DQ0N2bp1ayZPnpwjjjgi9fX1aWhoSGNjY5qbm5MkM2bM2GEsAN3LunXrctppp+WTn/xkTj755J3OZi1y5isAAFCsLpvRdPHFF+fiiy/eYfuiRYt22NbY2JjGxsbtttXV1e10LADdg5mvAACw7+vSazQBwBt5/czX66+/Pkly0UUX5bLLLsuCBQsyatSoTJ48OVVVVZ0zX9vb27eb+Tpr1qztxgIAAF1L0ARARTDzFQAA9n1ddo0mAAAAALo3M5qA3Tb4gN6p6rNfucsAAACgQgmagN1W1We//ObSI8taw4jmR8q6fwAA4K3xxnXPIGgCAAAA9jpvXPcMrtEEAAAAQCEETQAAAAAUQtAEAAAAQCEETQAAAAAUQtAEAAAAQCEETQAAAAAUQtAEAAAAQCEETQAAAAAUQtAEAAAAQCEETQAAAAAUQtAEAAAAQCEETQAAAAAUQtAEAAAAQCEETQAAAAAUQtAEAAAAQCEETQAAAAAUQtAEAAAAQCEETQAAAAAUQtAEAAAAQCEETQAAAAAUQtAEAAAAQCEETQAAAAAUQtAEAAAAQCEETQAAAAAUQtAEAAAAQCEETQAAAAAUQtAEAAAAQCEETQAAAAAUQtAEAAAAQCGqy13Anmhvb8/s2bPz+OOPp0+fPrnssssycuTIcpcFQIXQJwDYFX0CYO/bp2Y03XPPPdmyZUvuvPPOnH/++bnyyivLXRIAFUSfAGBX9AmAvW+fCpoeeuihHH/88UmSo48+Oo8++miZKwKgkugTAOyKPgGw95U6Ojo6yl3E7rrooovy0Y9+NB/+8IeTJH/2Z3+We+65J9XV+9QKQAD2En0CgF3RJwD2vn1qRlNNTU1aW1s7P29vb9cUAOikTwCwK/oEwN63TwVNY8eOzbJly5Ikq1atyujRo8tcEQCVRJ8AYFf0CYC9b59aOvfaXSKeeOKJdHR05IorrsjBBx9c7rIAqBD6BAC7ok8A7H37VNAEAAAAQOXap5bOAQAAAFC5BE0AAAAAFELQRKcVK1akvr4+69at69x29dVXZ8mSJWWsip7mvPPOy0033dT5eWtrayZPnpzHHnusjFUBiT5BZdAnoHLpE1QCfaL8BE1sp3fv3rnwwgvj0l2Uy+zZs3P77bfnl7/8ZZLkqquuSkNDQ9773veWuTIg0ScoP30CKps+QbnpE+UnaGI7xx57bA444IB861vf2m77Lbfckr/8y79MQ0ND5s+fX6bq6AkGDx6cWbNm5eKLL87KlSuzZs2anHHGGXn88cczbdq0TJs2LY2Njdm0aVM2bNiQ0047LdOmTcuUKVPy+OOPl7t86Pb0CcpNn4DKpk9QbvpE+VWXuwAqz+zZs3PqqadmwoQJSf4w1fD73/9+7rjjjlRXV6exsTE/+MEPcsIJJ5S5UrqrE088Mf/zP/+TmTNn5vbbb0+pVMqsWbNyxRVX5JBDDsnixYvzb//2b3n/+9+fAQMG5Jprrskvf/nLtLS0lLt06BH0CcpNn4DKpk9QbvpEeQma2MGgQYPS1NSUmTNnZuzYsdm8eXOOOuqo9O7dO0lSX1+fX/ziFxoDe9WnPvWpvPrqqznooIOSJE8++WTmzJmTJNm6dWvq6uoyceLEPPXUU/m7v/u7VFdX5+yzzy5nydBj6BNUAn0CKpc+QSXQJ8rH0jl26sQTT0xdXV2+853vpG/fvvnpT3+abdu2paOjIz/5yU9SV1dX7hLpYerq6nLVVVdl4cKF+epXv5oPf/jDWbFiRYYOHZpbbrklZ599dhYsWFDuMqHH0CeoNPoEVBZ9gkqjT3QdM5p4QxdddFEefPDB9O/fPx/72McyderUtLe355hjjslJJ51U7vLoYWbPnp0ZM2akra0tSXL55ZentrY2X/7yl/ONb3wjvXr1yjnnnFPmKqFn0SeoJPoEVB59gkqiT3SdUofbAQAAAABQAEvnAAAAACiEoAkAAACAQgiaAAAAACiEoAkAAACAQgiaAAAAACiEoAnepiVLluTqq68udxkAlNnmzZtz4okn5vLLL8/atWu7dN8bN27M9773vS7dJ0BPtmzZstx55507feyll15KQ0NDzjzzzL1aw9q1a3PvvfcmSaG9Z+bMmVm2bFkh34ueqbrcBQAAdCcXXXRRl+/z8ccfz7333puTTz65y/cN0BNNnDjxDR974oknMnTo0Fx77bV7tYYHH3wwv/rVr3LiiSeWpffAGxE0QQFWrVqV008/PS0tLWlsbEywa/63AAAGr0lEQVTv3r3zta99LX379k1tbW2uuOKKDBgwIHPmzMmjjz6aAw88MM8++2xuuOGGJH/4p2Tbtm0plUq5+OKL8973vrfMRwTA7mhtbc1XvvKVvPTSSxkxYkSSZNq0aZk9e3Y2btyYq666KtXV1Rk4cGCuvvrqVFdX58ILL8zatWuzdevWzJo1K0cccUSampqyZs2atLW15YwzzsjHP/7xzu9z8MEH5/bbb89vf/vbnHLKKTn//PPzJ3/yJ1mzZk2OPPLIzJkzJzfeeGMee+yx3HnnnWloaCjzTwWg+1uyZEl+9KMfZe3atdu9Jl900UWZO3dunn/++Xz961/Ppz/96Z3+rX/CCSdk1KhRGTVqVDZt2pTq6uqsXbs2W7Zsycc//vH84Ac/yLp163L99dfnXe96V5qbm7N+/fq8+OKLmThxYhobG3PTTTfl1Vdfzfvf//7ceuutmT17doYMGZKvfvWraWlpSVtbW/7+7/8+xx13XE4++eSMGzcujz/+eEqlUq6//vrsv//+O3zf6dOnl/tHSzcgaIIC9OvXLzfddFM2bNiQU089NUly++2356CDDso3vvGN3HDDDTnmmGOycePGfPvb386GDRvy0Y9+NEnyj//4j5k2bVpOOumk/PznP09TU1OWLFlSzsMBYDd95zvfyejRo/PlL385Dz/8cFasWNH52D333JNJkyblrLPOyr333puXXnop//3f/513vetd+ad/+qc88cQTeeCBB7J69eoMGjQo8+fPT0tLSz796U/n2GOPfcN9PvXUU/n3f//39OvXLyeddFJeeOGFfOlLX8odd9whZALoYv//a/K5556bpqam3HHHHTnvvPNy3nnn7fRv/XXr1mXJkiUZNGhQZs6cmXe961257LLL0tzcnGeeeSY333xzvv71r+fee+/NSSedlKOPPjqnnnpqNm/e3BkIffGLX8yvfvWrfOQjH8mtt96aJLnhhhvywQ9+MKeffnqee+65TJ06Nffcc09aW1vziU98IrNmzcr555+fZcuW5aijjtrp94W3S9AEBTjmmGNSKpXyjne8I/369UuSHHTQQUmSD3zgA1mwYEEGDRqUo48+OkkyePDgjBo1Kkny5JNP5gMf+ECS5H3ve1/Wr19fhiMA4K34xS9+keOPPz5JctRRR6W6+o9/Wn3pS1/KjTfemNNPPz0HHXRQxowZk1/96ledyy1Gjx6d0aNHZ86cOfngBz+YJKmpqcnBBx+cNWvWbLefjo6Ozo9HjBiRmpqaJMmQIUOyefPmvXqMALyxN3tNfqO/9QcNGpRBgwZ1jjvssMOSJAMHDuz8P2HgwIHZsmVLamtr88gjj+TBBx9MTU1NtmzZ8ob1PPnkk53LqA866KDU1NRkw4YN2+3jne98ZzZv3rxH3xf2hIuBQwEeeeSRJMkLL7yQzZs355VXXsnzzz+fJFm5cmXe85735NBDD82qVauSJL///e/z1FNPJUkOPvjg/O///m+S5Oc//3kOPPDArj8AAN6SUaNGdb62/+xnP8u2bds6H/ve976XU045JQsXLsyhhx6au+66KwcffHBnz1izZk3OP//87fpAS0tLnnjiiQwfPjx9+vTJCy+80Pm9X1MqlXaoo1evXmlvb99rxwnAzu3sNfn13uhv/V69tv9XfFffZ8mSJRkwYECuueaanHnmmXn11VfT0dGx09f+1+/vueeey0svvZTa2tqd7uONvi+8XWY0QQFeffXVnHbaaXn55Zczd+7cdHR0pLGxMaVSKQcccEDmzZuXQYMGZdmyZZkyZUoOPPDA7Lfffundu3cuuOCCzJo1K7fccku2bduWyy+/vNyHA8Bu+tznPpcLL7wwU6dOzahRo9K7d+/Ox4488sjMnDkz+++/f3r37p1LL700Q4cOTVNTUz7/+c+nra0tTU1N+dM//dPMmjUrU6dOzebNm3PuuefmHe94R0477bRceumleec735mhQ4fuso4RI0bkiSeeyK233povfOELe/moAdhdRfytf9xxx+Uf/uEf8tBDD6Vfv34ZOXJknn/++YwePTo33HBDDj/88M6xf/u3f5umpqb813/9V1599dVceuml28223Z3vC29XqUNkCV3iySefzGOPPZZPfOITefHFF/MXf/EX+cEPfpA+ffqUuzQAAAAohKAJusjLL7+c888/P7/73e/S1taWz3/+8znllFPKXRYAAAAURtAEAAAAQCFcDBwAAACAQgiaAAAAACiEoAkAAACAQgiaAAAAACiEoAkAAACAQgiaAAAAACjE/wP3zdXWLHL2bQAAAABJRU5ErkJggg==\n",
      "text/plain": [
       "<Figure size 1440x432 with 3 Axes>"
      ]
     },
     "metadata": {},
     "output_type": "display_data"
    }
   ],
   "source": [
    "plt.figure(figsize = [20, 6]) # larger figure size for subplots\n",
    "\n",
    "# countplot on bogo\n",
    "plt.subplot(1, 3, 1) # 1 row, 3 cols, subplot 1\n",
    "g=sns.countplot(x=\"bogo\", hue=\"event\", data=df)\n",
    "g.set_xticklabels(labels=(\"No\",\"Yes\"))\n",
    "plt.title(\"Received Buy One Get One\", size=20)\n",
    "\n",
    "# countplot on discount\n",
    "plt.subplot(1, 3, 2) # 1 row, 3 cols, subplot 2\n",
    "g1=sns.countplot(x=\"discount\", hue=\"event\", data=df)\n",
    "g1.set_xticklabels(labels=(\"No\",\"Yes\"))\n",
    "plt.title(\"Received Discount\", size=20)\n",
    "\n",
    "# countplot on informational\n",
    "plt.subplot(1, 3, 3) # 1 row, 3 cols, subplot 3\n",
    "g2=sns.countplot(x=\"informational\", hue =\"event\",data=df)\n",
    "g2.set_xticklabels(labels=(\"No\",\"Yes\"))\n",
    "plt.title(\"Received Informational\", size=20)"
   ]
  },
  {
   "cell_type": "markdown",
   "metadata": {},
   "source": [
    "From the visualizations presented above, one can infer that many customers who received a **BOGO** or **Discount** completed a purchase. Receiving an **Informational** promotion did not lead to any completed offers OR is simply not traceable. It also appears as **Discounts** led to the most offers completed. "
   ]
  },
  {
   "cell_type": "markdown",
   "metadata": {},
   "source": [
    "From the visualizations presented above, one can infer that most customers received a Discount offer, followed by BOGO and Informational, respectively. One can also notice that receiving informational offers does not translate to a purchase. The reason for this is because it is probably not possible to track this. It appears that Discount has the highest success rate among the 3 offer types. Let's confirm this observation."
   ]
  },
  {
   "cell_type": "code",
   "execution_count": 103,
   "metadata": {},
   "outputs": [
    {
     "name": "stdout",
     "output_type": "stream",
     "text": [
      "Customers who received BOGO: 31.65%\n",
      "Customers who received Discount: 31.74%\n",
      "Customers who received Informational: 15.82%\n",
      "Customers who didn't receive an offer: 20.79%\n"
     ]
    }
   ],
   "source": [
    "print(\"Customers who received BOGO: {}%\".format(round((df[\"bogo\"]==1).sum() / len(df)*100,2)))\n",
    "print(\"Customers who received Discount: {}%\".format(round((df[\"discount\"]==1).sum() / len(df)*100,2)))\n",
    "print(\"Customers who received Informational: {}%\".format(round((df[\"informational\"]==1).sum() / len(df)*100,2)))\n",
    "print(\"Customers who didn't receive an offer: {}%\".format(round(len(df.loc[(df['discount'] == 0) & \n",
    "                                                                        (df['informational'] == 0) & \n",
    "                                                                        (df['bogo'] == 0)])/len(df)*100,2)))"
   ]
  },
  {
   "cell_type": "code",
   "execution_count": 305,
   "metadata": {},
   "outputs": [
    {
     "name": "stdout",
     "output_type": "stream",
     "text": [
      "BOGO success rate: 59.69%\n",
      "Discount success rate: 66.58%\n",
      "Informational success rate: 0.0%\n"
     ]
    }
   ],
   "source": [
    "print(\"BOGO success rate: {}%\".format(round(df[\"bogo\"].where(df[\"event\"]==4).sum() / (df[\"bogo\"]==1).sum()*100,2)))\n",
    "print(\"Discount success rate: {}%\".format(round(df[\"discount\"].where(df[\"event\"]==4).sum() / (df[\"discount\"]==1).sum()*100,2)))\n",
    "print(\"Informational success rate: {}%\".format(round(df[\"informational\"].where(df[\"event\"]==4).sum() / (df[\"informational\"]==1).sum()*100,2)))"
   ]
  },
  {
   "cell_type": "markdown",
   "metadata": {},
   "source": [
    "Discounts show the highest success rate among the 3 offer types and is also the most frequent promotion sent to customers. Furthermore, out of all offers sent out to customers, informational promotions make up approx. 15% of offers. 20.79% of customers did not receive any promotion. This could be improved by sending discounts to these customers in order to incentivize them to complete an offer."
   ]
  },
  {
   "cell_type": "markdown",
   "metadata": {},
   "source": [
    "**Offer Completed and Ccmmunication Channels**\n"
   ]
  },
  {
   "cell_type": "code",
   "execution_count": 111,
   "metadata": {},
   "outputs": [
    {
     "data": {
      "text/plain": [
       "Text(0.5, 1.0, 'Email')"
      ]
     },
     "execution_count": 111,
     "metadata": {},
     "output_type": "execute_result"
    },
    {
     "data": {
      "image/png": "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\n",
      "text/plain": [
       "<Figure size 1152x288 with 4 Axes>"
      ]
     },
     "metadata": {},
     "output_type": "display_data"
    }
   ],
   "source": [
    "plt.figure(figsize = [16, 4]) # larger figure size for subplots\n",
    "\n",
    "# countplot on social media\n",
    "plt.subplot(1, 4, 1) # 1 row, 4 cols, subplot 1\n",
    "g=sns.countplot(x=\"social\", hue=df[\"event\"], data=df)\n",
    "g.set_xticklabels(labels=(\"No\",\"Yes\"))\n",
    "plt.title(\"Social Media\", size=20)\n",
    "\n",
    "# countplot on web\n",
    "plt.subplot(1, 4, 2) # 1 row, 4 cols, subplot 2\n",
    "g1=sns.countplot(x=\"web\", hue=\"event\", data=df)\n",
    "g1.set_xticklabels(labels=(\"No\",\"Yes\"))\n",
    "plt.title(\"Web\", size=20)\n",
    "\n",
    "# countplot on mobile device\n",
    "plt.subplot(1, 4, 3) # 1 row, 4 cols, subplot 3\n",
    "g2=sns.countplot(x=\"mobile\", hue =\"event\",data=df)\n",
    "g2.set_xticklabels(labels=(\"No\",\"Yes\"))\n",
    "plt.title(\"Mobile Device\", size=20)\n",
    "\n",
    "# countplot on email\n",
    "plt.subplot(1, 4, 4) # 1 row, 4 cols, subplot 4\n",
    "g2=sns.countplot(x=\"email\", hue =\"event\",data=df)\n",
    "g2.set_xticklabels(labels=(\"No\",\"Yes\"))\n",
    "plt.title(\"Email\", size=20)"
   ]
  },
  {
   "cell_type": "code",
   "execution_count": 70,
   "metadata": {},
   "outputs": [
    {
     "name": "stdout",
     "output_type": "stream",
     "text": [
      "Customers contacted via social media: 47.48%\n",
      "Customers contacted via web: 63.33%\n",
      "Customers contacted via mobile device: 71.2%\n",
      "Customers contacted via email: 79.21%\n",
      "\n",
      "Customers not contacted at all: 20.79%\n",
      "\n",
      "**Note: Customers can be contacted through 0 or multiple contact methods.\n"
     ]
    }
   ],
   "source": [
    "print(\"Customers contacted via social media: {}%\".format(round((df[\"social\"]==1).sum() / len(df)*100,2)))\n",
    "print(\"Customers contacted via web: {}%\".format(round((df[\"web\"]==1).sum() / len(df)*100,2)))\n",
    "print(\"Customers contacted via mobile device: {}%\".format(round((df[\"mobile\"]==1).sum() / len(df)*100,2)))\n",
    "print(\"Customers contacted via email: {}%\".format(round((df[\"email\"]==1).sum() / len(df)*100,2)))\n",
    "\n",
    "print(\"\\nCustomers not contacted at all: {}%\".format(round(len(df.loc[(df['social'] == 0) & \n",
    "                                                                    (df['web'] == 0)    & \n",
    "                                                                    (df['social'] == 0) &\n",
    "                                                                    (df['mobile'] == 0)])/len(df)*100,2)))\n",
    "print(\"\\n**Note: Customers can be contacted through 0 or multiple contact methods.\")"
   ]
  },
  {
   "cell_type": "code",
   "execution_count": 78,
   "metadata": {},
   "outputs": [
    {
     "name": "stdout",
     "output_type": "stream",
     "text": [
      "Social media success rate: 54.31%\n",
      "Web success rate: 56.09%\n",
      "Mobile success rate: 50.3%\n",
      "Email success rate: 50.53%\n"
     ]
    }
   ],
   "source": [
    "print(\"Social media success rate: {}%\".format(round(df[\"social\"].where(df[\"event\"]==4).sum() / (df[\"social\"]==1).sum()*100,2)))\n",
    "print(\"Web success rate: {}%\".format(round(df[\"web\"].where(df[\"event\"]==4).sum() / (df[\"web\"]==1).sum()*100,2)))\n",
    "print(\"Mobile success rate: {}%\".format(round(df[\"mobile\"].where(df[\"event\"]==4).sum() / (df[\"mobile\"]==1).sum()*100,2)))\n",
    "print(\"Email success rate: {}%\".format(round(df[\"email\"].where(df[\"event\"]==4).sum() / (df[\"email\"]==1).sum()*100,2)))"
   ]
  },
  {
   "cell_type": "markdown",
   "metadata": {},
   "source": [
    "Derived from the findings above, customers contacted through **web** led to the highest success rate among the 4 contact methods. This is followed by **social media** as second most effective channel to reach customers. While **mobile** and **email** are the 2 contact methods utlized the most, they have the lowest success rate among the 4 contact methods."
   ]
  },
  {
   "cell_type": "markdown",
   "metadata": {},
   "source": [
    "**Event Compared to Difficulty and Duration**"
   ]
  },
  {
   "cell_type": "code",
   "execution_count": 361,
   "metadata": {},
   "outputs": [
    {
     "data": {
      "text/plain": [
       "Text(0.5, 1.0, 'Event Compared to Duration in Days')"
      ]
     },
     "execution_count": 361,
     "metadata": {},
     "output_type": "execute_result"
    },
    {
     "data": {
      "image/png": "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\n",
      "text/plain": [
       "<Figure size 1152x288 with 2 Axes>"
      ]
     },
     "metadata": {},
     "output_type": "display_data"
    }
   ],
   "source": [
    "plt.figure(figsize = [16, 4]) # larger figure size for subplots\n",
    "\n",
    "# countplot on social media\n",
    "plt.subplot(1, 2, 1) # 1 row, 3 cols, subplot 1\n",
    "g=sns.countplot(x=\"difficulty\", hue=\"event\", data=df)\n",
    "g.set_xticklabels(labels=(\"$0\", \"$5\", \"$7\", \"$10\", \"$20\"))\n",
    "plt.title(\"Event Compared to Difficulty in $\", size=20)\n",
    "\n",
    "# countplot on web\n",
    "plt.subplot(1, 2, 2) # 1 row, 3 cols, subplot 2\n",
    "g1=sns.countplot(x=\"duration\", hue=\"event\", data=df)\n",
    "g1.set_xticklabels(labels=(\"0 days\", \"3 days\", \"4 days\", \"5 days\", \"7 days\", \"10 days\"))\n",
    "plt.title(\"Event Compared to Duration in Days\", size=20)"
   ]
  },
  {
   "cell_type": "markdown",
   "metadata": {},
   "source": [
    "- Difficulty refers to the amount of money a customer has to spend in order to be eligible for a reward. \n",
    "- Duration refers to the number of days a discount is valid\n",
    "\n",
    "From the plots presented above, one can infer that a difficulty level of 10 USD leads to the most completed offers, followed by a level of 5 USD. In terms of duration, most offers were completed for promotions that were only valid for 7 days, followed by 10 days and 5 days respectively. No offers were completed for offers that are only valid for 3 or 4 days."
   ]
  },
  {
   "cell_type": "markdown",
   "metadata": {},
   "source": [
    "# 3) Data Preparation"
   ]
  },
  {
   "cell_type": "markdown",
   "metadata": {},
   "source": [
    "**Dummy Coding Features**"
   ]
  },
  {
   "cell_type": "code",
   "execution_count": 37,
   "metadata": {},
   "outputs": [
    {
     "data": {
      "text/html": [
       "<div>\n",
       "<style scoped>\n",
       "    .dataframe tbody tr th:only-of-type {\n",
       "        vertical-align: middle;\n",
       "    }\n",
       "\n",
       "    .dataframe tbody tr th {\n",
       "        vertical-align: top;\n",
       "    }\n",
       "\n",
       "    .dataframe thead th {\n",
       "        text-align: right;\n",
       "    }\n",
       "</style>\n",
       "<table border=\"1\" class=\"dataframe\">\n",
       "  <thead>\n",
       "    <tr style=\"text-align: right;\">\n",
       "      <th></th>\n",
       "      <th>transaction_amount</th>\n",
       "      <th>days_since_test</th>\n",
       "      <th>age</th>\n",
       "      <th>income</th>\n",
       "      <th>male</th>\n",
       "      <th>membership_days</th>\n",
       "      <th>reward</th>\n",
       "      <th>difficulty</th>\n",
       "      <th>duration</th>\n",
       "      <th>email</th>\n",
       "      <th>mobile</th>\n",
       "      <th>social</th>\n",
       "      <th>web</th>\n",
       "      <th>bogo</th>\n",
       "      <th>discount</th>\n",
       "      <th>informational</th>\n",
       "      <th>offer_received</th>\n",
       "      <th>offer_viewed</th>\n",
       "      <th>offer_completed</th>\n",
       "    </tr>\n",
       "  </thead>\n",
       "  <tbody>\n",
       "    <tr>\n",
       "      <th>0</th>\n",
       "      <td>0.0</td>\n",
       "      <td>2</td>\n",
       "      <td>45.0</td>\n",
       "      <td>62000.0</td>\n",
       "      <td>0.0</td>\n",
       "      <td>608.0</td>\n",
       "      <td>2.0</td>\n",
       "      <td>10.0</td>\n",
       "      <td>10.0</td>\n",
       "      <td>1.0</td>\n",
       "      <td>1.0</td>\n",
       "      <td>1.0</td>\n",
       "      <td>1.0</td>\n",
       "      <td>0.0</td>\n",
       "      <td>1.0</td>\n",
       "      <td>0.0</td>\n",
       "      <td>0</td>\n",
       "      <td>0</td>\n",
       "      <td>1</td>\n",
       "    </tr>\n",
       "    <tr>\n",
       "      <th>1</th>\n",
       "      <td>0.0</td>\n",
       "      <td>18</td>\n",
       "      <td>71.0</td>\n",
       "      <td>56000.0</td>\n",
       "      <td>1.0</td>\n",
       "      <td>158.0</td>\n",
       "      <td>2.0</td>\n",
       "      <td>10.0</td>\n",
       "      <td>10.0</td>\n",
       "      <td>1.0</td>\n",
       "      <td>1.0</td>\n",
       "      <td>1.0</td>\n",
       "      <td>1.0</td>\n",
       "      <td>0.0</td>\n",
       "      <td>1.0</td>\n",
       "      <td>0.0</td>\n",
       "      <td>0</td>\n",
       "      <td>1</td>\n",
       "      <td>0</td>\n",
       "    </tr>\n",
       "    <tr>\n",
       "      <th>2</th>\n",
       "      <td>0.0</td>\n",
       "      <td>8</td>\n",
       "      <td>71.0</td>\n",
       "      <td>73000.0</td>\n",
       "      <td>1.0</td>\n",
       "      <td>268.0</td>\n",
       "      <td>2.0</td>\n",
       "      <td>10.0</td>\n",
       "      <td>10.0</td>\n",
       "      <td>1.0</td>\n",
       "      <td>1.0</td>\n",
       "      <td>1.0</td>\n",
       "      <td>1.0</td>\n",
       "      <td>0.0</td>\n",
       "      <td>1.0</td>\n",
       "      <td>0.0</td>\n",
       "      <td>0</td>\n",
       "      <td>0</td>\n",
       "      <td>1</td>\n",
       "    </tr>\n",
       "    <tr>\n",
       "      <th>3</th>\n",
       "      <td>0.0</td>\n",
       "      <td>0</td>\n",
       "      <td>69.0</td>\n",
       "      <td>83000.0</td>\n",
       "      <td>0.0</td>\n",
       "      <td>1040.0</td>\n",
       "      <td>2.0</td>\n",
       "      <td>10.0</td>\n",
       "      <td>10.0</td>\n",
       "      <td>1.0</td>\n",
       "      <td>1.0</td>\n",
       "      <td>1.0</td>\n",
       "      <td>1.0</td>\n",
       "      <td>0.0</td>\n",
       "      <td>1.0</td>\n",
       "      <td>0.0</td>\n",
       "      <td>0</td>\n",
       "      <td>0</td>\n",
       "      <td>1</td>\n",
       "    </tr>\n",
       "    <tr>\n",
       "      <th>4</th>\n",
       "      <td>0.0</td>\n",
       "      <td>7</td>\n",
       "      <td>59.0</td>\n",
       "      <td>93000.0</td>\n",
       "      <td>0.0</td>\n",
       "      <td>329.0</td>\n",
       "      <td>2.0</td>\n",
       "      <td>10.0</td>\n",
       "      <td>10.0</td>\n",
       "      <td>1.0</td>\n",
       "      <td>1.0</td>\n",
       "      <td>1.0</td>\n",
       "      <td>1.0</td>\n",
       "      <td>0.0</td>\n",
       "      <td>1.0</td>\n",
       "      <td>0.0</td>\n",
       "      <td>0</td>\n",
       "      <td>0</td>\n",
       "      <td>1</td>\n",
       "    </tr>\n",
       "  </tbody>\n",
       "</table>\n",
       "</div>"
      ],
      "text/plain": [
       "   transaction_amount  days_since_test   age   income  male  membership_days  \\\n",
       "0                 0.0                2  45.0  62000.0   0.0            608.0   \n",
       "1                 0.0               18  71.0  56000.0   1.0            158.0   \n",
       "2                 0.0                8  71.0  73000.0   1.0            268.0   \n",
       "3                 0.0                0  69.0  83000.0   0.0           1040.0   \n",
       "4                 0.0                7  59.0  93000.0   0.0            329.0   \n",
       "\n",
       "   reward  difficulty  duration  email  mobile  social  web  bogo  discount  \\\n",
       "0     2.0        10.0      10.0    1.0     1.0     1.0  1.0   0.0       1.0   \n",
       "1     2.0        10.0      10.0    1.0     1.0     1.0  1.0   0.0       1.0   \n",
       "2     2.0        10.0      10.0    1.0     1.0     1.0  1.0   0.0       1.0   \n",
       "3     2.0        10.0      10.0    1.0     1.0     1.0  1.0   0.0       1.0   \n",
       "4     2.0        10.0      10.0    1.0     1.0     1.0  1.0   0.0       1.0   \n",
       "\n",
       "   informational  offer_received  offer_viewed  offer_completed  \n",
       "0            0.0               0             0                1  \n",
       "1            0.0               0             1                0  \n",
       "2            0.0               0             0                1  \n",
       "3            0.0               0             0                1  \n",
       "4            0.0               0             0                1  "
      ]
     },
     "execution_count": 37,
     "metadata": {},
     "output_type": "execute_result"
    }
   ],
   "source": [
    "# dummy coding the Event feature\n",
    "df_dummies = pd.get_dummies(df['event'])\n",
    "\n",
    "# combine the df_dummies with the transcript dataframe\n",
    "df = pd.concat([df, df_dummies], axis=1)\n",
    "\n",
    "# rename columns to more suitable names\n",
    "df.rename(columns = {4:'offer_completed', \n",
    "                     3:'offer_viewed',\n",
    "                     2:'offer_received',\n",
    "                     1:'transaction'\n",
    "                     },inplace=True)\n",
    "\n",
    "# let's drop transaction because this information is included in transaction_amount\n",
    "df.drop(columns=[\"event\",\"transaction\"], inplace=True) \n",
    "df.head()"
   ]
  },
  {
   "cell_type": "markdown",
   "metadata": {},
   "source": [
    "After examining the output depicted above, we can determine that the dummy-coding worked as intended. Dummy-codeing the **Event** feature resulted in 4 columns from which we dropped **Transaction** because whether or not a transaction was performed is known as soon as we have a value greater than 0 in **Transaction Amount**.\n",
    "\n",
    "However, we could still use 3 out of these 4 columns to perfectly predict the 4th column:\n",
    "- Transaction Amount\n",
    "- Offer Completed\n",
    "- Offer Viewed\n",
    "- Offer Received\n",
    "\n",
    "In other words, we now deal with the dummy trap problem which is undesirable for machine learning. Let's drop the **Offer Viewed** column to avoid this issue."
   ]
  },
  {
   "cell_type": "code",
   "execution_count": 38,
   "metadata": {},
   "outputs": [],
   "source": [
    "df.drop(columns=\"offer_viewed\",inplace=True)"
   ]
  },
  {
   "cell_type": "markdown",
   "metadata": {},
   "source": [
    "**Examine Feature Correlations**"
   ]
  },
  {
   "cell_type": "code",
   "execution_count": 386,
   "metadata": {},
   "outputs": [
    {
     "data": {
      "text/plain": [
       "<matplotlib.axes._subplots.AxesSubplot at 0x24a5715eb48>"
      ]
     },
     "execution_count": 386,
     "metadata": {},
     "output_type": "execute_result"
    },
    {
     "data": {
      "image/png": "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
