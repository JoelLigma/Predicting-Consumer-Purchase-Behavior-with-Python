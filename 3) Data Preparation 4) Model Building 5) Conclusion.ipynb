{
 "cells": [
  {
   "cell_type": "markdown",
   "metadata": {},
   "source": [
    "# Starbucks App Reward Program\n",
    "\n",
    "This file only contains 3) Data Preparation, 4) Model Building and Validation, 5) Saving the Model and 6) Conclusion"
   ]
  },
  {
   "cell_type": "markdown",
   "metadata": {},
   "source": [
    "**Authors: Joel Ligma**            \n",
    "<br>\n",
    "**Date: July 2020**\n"
   ]
  },
  {
   "cell_type": "markdown",
   "metadata": {},
   "source": [
    "**Context**\n",
    "<br>\n",
    "\n",
    "The goal of this project was to *predict customer responsiveness* to specific marketing efforts. One of the main challenges of this project was to generate a single dataset derived from 3 datasets and to prepare the data for later analysis. The data files used for this project were sourced from Kaggle:\n",
    "https://www.kaggle.com/blacktile/starbucks-app-customer-reward-program-data"
   ]
  },
  {
   "cell_type": "markdown",
   "metadata": {},
   "source": [
    "## Table of Contents\n",
    "**1) Preprocessing and Combining Multiple Datasets** \n",
    "- Data Clearning\n",
    "- Feature Engineering\n",
    "- Merging/Concatenating/Joining\n",
    "<br>\n",
    "\n",
    "**2) Exploratory Data Analysis (EDA)**\n",
    "- Summary Statistics\n",
    "- Univariate Analysis\n",
    "- Bivariate Analysis\n",
    "<br>\n",
    "\n",
    "**3) Data Preparation**\n",
    "- Feature Correlation\n",
    "- Dummy Coding\n",
    "- Training, Validation and Test Split\n",
    "- Scaling Data\n",
    "<br>\n",
    "\n",
    "**4) Model Building & Validation**\n",
    "- Baseline Accuracy\n",
    "- Random Forest Classifier\n",
    "- Neural Network Classifier\n",
    "- XGBoost Classifier\n",
    "- Model Comparison\n",
    "<br>\n",
    "\n",
    "**5) Saving the Model**\n",
    "- Saving the Best Performing Model for Future Deployment\n",
    "<br>\n",
    "\n",
    "**6) Conclusion**\n",
    "- Business Implications and Recommendations"
   ]
  },
  {
   "cell_type": "code",
   "execution_count": 2,
   "metadata": {},
   "outputs": [
    {
     "name": "stderr",
     "output_type": "stream",
     "text": [
      "C:\\Users\\joell\\anaconda3\\lib\\site-packages\\sklearn\\externals\\joblib\\__init__.py:15: FutureWarning: sklearn.externals.joblib is deprecated in 0.21 and will be removed in 0.23. Please import this functionality directly from joblib, which can be installed with: pip install joblib. If this warning is raised when loading pickled models, you may need to re-serialize those models with scikit-learn 0.21+.\n",
      "  warnings.warn(msg, category=FutureWarning)\n"
     ]
    }
   ],
   "source": [
    "# load imports\n",
    "import pandas as pd\n",
    "import numpy as np\n",
    "import seaborn as sns\n",
    "import matplotlib.pyplot as plt\n",
    "%matplotlib inline\n",
    "from sklearn.preprocessing import MultiLabelBinarizer # awesome for multiple values in one cell\n",
    "import csv # write csv file of the complete dataset\n",
    "from datetime import date \n",
    "from sklearn.model_selection import train_test_split, GridSearchCV\n",
    "from sklearn.preprocessing import MinMaxScaler # for scaling\n",
    "from xgboost import XGBClassifier\n",
    "from sklearn.metrics import classification_report, confusion_matrix, accuracy_score # model validation\n",
    "from sklearn.ensemble import RandomForestClassifier\n",
    "from tensorflow.keras.models import Sequential\n",
    "from tensorflow.keras.layers import Dense, Dropout\n",
    "import keras\n",
    "from keras.wrappers.scikit_learn import KerasClassifier\n",
    "from keras import optimizers\n",
    "from sklearn.externals import joblib"
   ]
  },
  {
   "cell_type": "markdown",
   "metadata": {},
   "source": [
    "# 3) Data Preparation"
   ]
  },
  {
   "cell_type": "markdown",
   "metadata": {},
   "source": [
    "**Dummy Coding Features**"
   ]
  },
  {
   "cell_type": "code",
   "execution_count": 37,
   "metadata": {},
   "outputs": [
    {
     "data": {
      "text/html": [
       "<div>\n",
       "<style scoped>\n",
       "    .dataframe tbody tr th:only-of-type {\n",
       "        vertical-align: middle;\n",
       "    }\n",
       "\n",
       "    .dataframe tbody tr th {\n",
       "        vertical-align: top;\n",
       "    }\n",
       "\n",
       "    .dataframe thead th {\n",
       "        text-align: right;\n",
       "    }\n",
       "</style>\n",
       "<table border=\"1\" class=\"dataframe\">\n",
       "  <thead>\n",
       "    <tr style=\"text-align: right;\">\n",
       "      <th></th>\n",
       "      <th>transaction_amount</th>\n",
       "      <th>days_since_test</th>\n",
       "      <th>age</th>\n",
       "      <th>income</th>\n",
       "      <th>male</th>\n",
       "      <th>membership_days</th>\n",
       "      <th>reward</th>\n",
       "      <th>difficulty</th>\n",
       "      <th>duration</th>\n",
       "      <th>email</th>\n",
       "      <th>mobile</th>\n",
       "      <th>social</th>\n",
       "      <th>web</th>\n",
       "      <th>bogo</th>\n",
       "      <th>discount</th>\n",
       "      <th>informational</th>\n",
       "      <th>offer_received</th>\n",
       "      <th>offer_viewed</th>\n",
       "      <th>offer_completed</th>\n",
       "    </tr>\n",
       "  </thead>\n",
       "  <tbody>\n",
       "    <tr>\n",
       "      <th>0</th>\n",
       "      <td>0.0</td>\n",
       "      <td>2</td>\n",
       "      <td>45.0</td>\n",
       "      <td>62000.0</td>\n",
       "      <td>0.0</td>\n",
       "      <td>608.0</td>\n",
       "      <td>2.0</td>\n",
       "      <td>10.0</td>\n",
       "      <td>10.0</td>\n",
       "      <td>1.0</td>\n",
       "      <td>1.0</td>\n",
       "      <td>1.0</td>\n",
       "      <td>1.0</td>\n",
       "      <td>0.0</td>\n",
       "      <td>1.0</td>\n",
       "      <td>0.0</td>\n",
       "      <td>0</td>\n",
       "      <td>0</td>\n",
       "      <td>1</td>\n",
       "    </tr>\n",
       "    <tr>\n",
       "      <th>1</th>\n",
       "      <td>0.0</td>\n",
       "      <td>18</td>\n",
       "      <td>71.0</td>\n",
       "      <td>56000.0</td>\n",
       "      <td>1.0</td>\n",
       "      <td>158.0</td>\n",
       "      <td>2.0</td>\n",
       "      <td>10.0</td>\n",
       "      <td>10.0</td>\n",
       "      <td>1.0</td>\n",
       "      <td>1.0</td>\n",
       "      <td>1.0</td>\n",
       "      <td>1.0</td>\n",
       "      <td>0.0</td>\n",
       "      <td>1.0</td>\n",
       "      <td>0.0</td>\n",
       "      <td>0</td>\n",
       "      <td>1</td>\n",
       "      <td>0</td>\n",
       "    </tr>\n",
       "    <tr>\n",
       "      <th>2</th>\n",
       "      <td>0.0</td>\n",
       "      <td>8</td>\n",
       "      <td>71.0</td>\n",
       "      <td>73000.0</td>\n",
       "      <td>1.0</td>\n",
       "      <td>268.0</td>\n",
       "      <td>2.0</td>\n",
       "      <td>10.0</td>\n",
       "      <td>10.0</td>\n",
       "      <td>1.0</td>\n",
       "      <td>1.0</td>\n",
       "      <td>1.0</td>\n",
       "      <td>1.0</td>\n",
       "      <td>0.0</td>\n",
       "      <td>1.0</td>\n",
       "      <td>0.0</td>\n",
       "      <td>0</td>\n",
       "      <td>0</td>\n",
       "      <td>1</td>\n",
       "    </tr>\n",
       "    <tr>\n",
       "      <th>3</th>\n",
       "      <td>0.0</td>\n",
       "      <td>0</td>\n",
       "      <td>69.0</td>\n",
       "      <td>83000.0</td>\n",
       "      <td>0.0</td>\n",
       "      <td>1040.0</td>\n",
       "      <td>2.0</td>\n",
       "      <td>10.0</td>\n",
       "      <td>10.0</td>\n",
       "      <td>1.0</td>\n",
       "      <td>1.0</td>\n",
       "      <td>1.0</td>\n",
       "      <td>1.0</td>\n",
       "      <td>0.0</td>\n",
       "      <td>1.0</td>\n",
       "      <td>0.0</td>\n",
       "      <td>0</td>\n",
       "      <td>0</td>\n",
       "      <td>1</td>\n",
       "    </tr>\n",
       "    <tr>\n",
       "      <th>4</th>\n",
       "      <td>0.0</td>\n",
       "      <td>7</td>\n",
       "      <td>59.0</td>\n",
       "      <td>93000.0</td>\n",
       "      <td>0.0</td>\n",
       "      <td>329.0</td>\n",
       "      <td>2.0</td>\n",
       "      <td>10.0</td>\n",
       "      <td>10.0</td>\n",
       "      <td>1.0</td>\n",
       "      <td>1.0</td>\n",
       "      <td>1.0</td>\n",
       "      <td>1.0</td>\n",
       "      <td>0.0</td>\n",
       "      <td>1.0</td>\n",
       "      <td>0.0</td>\n",
       "      <td>0</td>\n",
       "      <td>0</td>\n",
       "      <td>1</td>\n",
       "    </tr>\n",
       "  </tbody>\n",
       "</table>\n",
       "</div>"
      ],
      "text/plain": [
       "   transaction_amount  days_since_test   age   income  male  membership_days  \\\n",
       "0                 0.0                2  45.0  62000.0   0.0            608.0   \n",
       "1                 0.0               18  71.0  56000.0   1.0            158.0   \n",
       "2                 0.0                8  71.0  73000.0   1.0            268.0   \n",
       "3                 0.0                0  69.0  83000.0   0.0           1040.0   \n",
       "4                 0.0                7  59.0  93000.0   0.0            329.0   \n",
       "\n",
       "   reward  difficulty  duration  email  mobile  social  web  bogo  discount  \\\n",
       "0     2.0        10.0      10.0    1.0     1.0     1.0  1.0   0.0       1.0   \n",
       "1     2.0        10.0      10.0    1.0     1.0     1.0  1.0   0.0       1.0   \n",
       "2     2.0        10.0      10.0    1.0     1.0     1.0  1.0   0.0       1.0   \n",
       "3     2.0        10.0      10.0    1.0     1.0     1.0  1.0   0.0       1.0   \n",
       "4     2.0        10.0      10.0    1.0     1.0     1.0  1.0   0.0       1.0   \n",
       "\n",
       "   informational  offer_received  offer_viewed  offer_completed  \n",
       "0            0.0               0             0                1  \n",
       "1            0.0               0             1                0  \n",
       "2            0.0               0             0                1  \n",
       "3            0.0               0             0                1  \n",
       "4            0.0               0             0                1  "
      ]
     },
     "execution_count": 37,
     "metadata": {},
     "output_type": "execute_result"
    }
   ],
   "source": [
    "# dummy coding the Event feature\n",
    "df_dummies = pd.get_dummies(df['event'])\n",
    "\n",
    "# combine the df_dummies with the transcript dataframe\n",
    "df = pd.concat([df, df_dummies], axis=1)\n",
    "\n",
    "# rename columns to more suitable names\n",
    "df.rename(columns = {4:'offer_completed', \n",
    "                     3:'offer_viewed',\n",
    "                     2:'offer_received',\n",
    "                     1:'transaction'\n",
    "                     },inplace=True)\n",
    "\n",
    "# let's drop transaction because this information is included in transaction_amount\n",
    "df.drop(columns=[\"event\",\"transaction\"], inplace=True) \n",
    "df.head()"
   ]
  },
  {
   "cell_type": "markdown",
   "metadata": {},
   "source": [
    "After examining the output depicted above, we can determine that the dummy-coding worked as intended. Dummy-codeing the **Event** feature resulted in 4 columns from which we dropped **Transaction** because whether or not a transaction was performed is known as soon as we have a value greater than 0 in **Transaction Amount**.\n",
    "\n",
    "However, we could still use 3 out of these 4 columns to perfectly predict the 4th column:\n",
    "- Transaction Amount\n",
    "- Offer Completed\n",
    "- Offer Viewed\n",
    "- Offer Received\n",
    "\n",
    "In other words, we now deal with the dummy trap problem which is undesirable for machine learning. Let's drop the **Offer Viewed** column to avoid this issue."
   ]
  },
  {
   "cell_type": "code",
   "execution_count": 38,
   "metadata": {},
   "outputs": [],
   "source": [
    "df.drop(columns=\"offer_viewed\",inplace=True)"
   ]
  },
  {
   "cell_type": "markdown",
   "metadata": {},
   "source": [
    "**Examine Feature Correlations**"
   ]
  },
  {
   "cell_type": "code",
   "execution_count": 386,
   "metadata": {},
   "outputs": [
    {
     "data": {
      "text/plain": [
       "<matplotlib.axes._subplots.AxesSubplot at 0x24a5715eb48>"
      ]
     },
     "execution_count": 386,
     "metadata": {},
     "output_type": "execute_result"
    },
    {
     "data": {
      "image/png": "[encoded data removed]",
      "text/plain": [
       "<Figure size 864x720 with 1 Axes>"
      ]
     },
     "metadata": {},
     "output_type": "display_data"
    }
   ],
   "source": [
    "plt.figure(figsize=(12,10))\n",
    "sns.heatmap(df.corr(),yticklabels=True,cbar=False,cmap='coolwarm', annot=True)"
   ]
  },
  {
   "cell_type": "markdown",
   "metadata": {},
   "source": [
    "We can see some relatively highly correlated variables (> .75). However, let's leave them in the dataset for now."
   ]
  },
  {
   "cell_type": "markdown",
   "metadata": {},
   "source": [
    "**Feature Correlation on Dependend Variable Offer Completed**"
   ]
  },
  {
   "cell_type": "code",
   "execution_count": 62,
   "metadata": {},
   "outputs": [
    {
     "data": {
      "text/plain": [
       "<matplotlib.axes._subplots.AxesSubplot at 0x1643a1a3cc8>"
      ]
     },
     "execution_count": 62,
     "metadata": {},
     "output_type": "execute_result"
    },
    {
     "data": {
      "image/png": "[encoded data removed]",
      "text/plain": [
       "<Figure size 720x432 with 1 Axes>"
      ]
     },
     "metadata": {},
     "output_type": "display_data"
    }
   ],
   "source": [
    "sns.set_style('darkgrid')\n",
    "plt.figure(figsize=(10,6))\n",
    "df.corr()[\"offer_completed\"].sort_values().plot(kind=\"bar\")"
   ]
  },
  {
   "cell_type": "markdown",
   "metadata": {},
   "source": [
    "We ignore **Offer Completed** in the plot presented above since it goes without saying that it has 100% correlation with itself. It looks like **Duration**, **Difficulty**, **Web** and **Email** are positively correlated to the response variable. On the other hand, **Informational** and **Offer Received** have a negative correlation to the outcome which is not surprising."
   ]
  },
  {
   "cell_type": "markdown",
   "metadata": {},
   "source": [
    "**Create Training, Validation and Test Split**"
   ]
  },
  {
   "cell_type": "code",
   "execution_count": 39,
   "metadata": {},
   "outputs": [],
   "source": [
    "# Split the data into training, validation and test datasets \n",
    "df_train, df_test = train_test_split(df, test_size=0.2, random_state=1)\n",
    "df_train, df_valid = train_test_split(df_train, test_size=0.2, random_state=1)"
   ]
  },
  {
   "cell_type": "code",
   "execution_count": 40,
   "metadata": {},
   "outputs": [],
   "source": [
    "X_train = df_train.drop(['offer_completed'], axis=1)\n",
    "y_train = df_train.offer_completed.values\n",
    "X_valid = df_valid.drop(['offer_completed'], axis=1)\n",
    "y_valid = df_valid.offer_completed.values\n",
    "X_test = df_test.drop(['offer_completed'], axis=1)\n",
    "y_test = df_test.offer_completed"
   ]
  },
  {
   "cell_type": "markdown",
   "metadata": {},
   "source": [
    "**Normalize Data**"
   ]
  },
  {
   "cell_type": "code",
   "execution_count": 41,
   "metadata": {},
   "outputs": [],
   "source": [
    "# Since we have many different types of features in our dataset e.g. age, income etc. we should normalize the data\n",
    "\n",
    "# create an instance of MinMaxScaler\n",
    "scaler = MinMaxScaler().fit(X_train)\n",
    "\n",
    "# now perform the transformations on the training, validation and test set\n",
    "X_train = scaler.transform(X_train)\n",
    "X_valid = scaler.transform(X_valid)\n",
    "X_test = scaler.transform(X_test)"
   ]
  },
  {
   "cell_type": "code",
   "execution_count": 10,
   "metadata": {},
   "outputs": [
    {
     "name": "stdout",
     "output_type": "stream",
     "text": [
      "Training Data: (43993, 17) (43993,) \n",
      "Validation Data: (10999, 17) (10999,) \n",
      "Test Data: (13749, 17) (13749,)\n"
     ]
    }
   ],
   "source": [
    "print(\"Training Data:\", X_train.shape, y_train.shape,\"\\nValidation Data:\", X_valid.shape, y_valid.shape,\"\\nTest Data:\", X_test.shape, y_test.shape)"
   ]
  },
  {
   "cell_type": "markdown",
   "metadata": {},
   "source": [
    "# 4) Model Building and Validation"
   ]
  },
  {
   "cell_type": "markdown",
   "metadata": {},
   "source": [
    "**Baseline Accuracy to Beat**"
   ]
  },
  {
   "cell_type": "markdown",
   "metadata": {},
   "source": [
    "Let's take a naive approach as a baseline accuracy value to beat for all predictive models. Let's follow a \"most frequent” approach. This approach looks at our response variable and always predicts the most frequent label. For our our response variable that would be:\n"
   ]
  },
  {
   "cell_type": "code",
   "execution_count": 11,
   "metadata": {},
   "outputs": [
    {
     "name": "stdout",
     "output_type": "stream",
     "text": [
      "Accuracy if we assume no customers complete an offer: 59.98%\n"
     ]
    }
   ],
   "source": [
    "print(\"Accuracy if we assume no customers complete an offer: {}%\".format(round((df[\"offer_completed\"]==0).sum() / len(df)*100,2)))"
   ]
  },
  {
   "cell_type": "markdown",
   "metadata": {},
   "source": [
    "## Model 1: Random Forest"
   ]
  },
  {
   "cell_type": "markdown",
   "metadata": {},
   "source": [
    "**Training the model**"
   ]
  },
  {
   "cell_type": "code",
   "execution_count": 12,
   "metadata": {},
   "outputs": [
    {
     "data": {
      "text/plain": [
       "RandomForestClassifier(bootstrap=True, ccp_alpha=0.0, class_weight=None,\n",
       "                       criterion='gini', max_depth=None, max_features='auto',\n",
       "                       max_leaf_nodes=None, max_samples=None,\n",
       "                       min_impurity_decrease=0.0, min_impurity_split=None,\n",
       "                       min_samples_leaf=1, min_samples_split=2,\n",
       "                       min_weight_fraction_leaf=0.0, n_estimators=100,\n",
       "                       n_jobs=None, oob_score=False, random_state=None,\n",
       "                       verbose=0, warm_start=False)"
      ]
     },
     "execution_count": 12,
     "metadata": {},
     "output_type": "execute_result"
    }
   ],
   "source": [
    "# build RandomForestClassifier instance and fit on training data\n",
    "rfc = RandomForestClassifier() # use default parameters first\n",
    "rfc.fit(X_train, y_train)"
   ]
  },
  {
   "cell_type": "markdown",
   "metadata": {},
   "source": [
    "**Validate the Model Accuracy**"
   ]
  },
  {
   "cell_type": "code",
   "execution_count": 13,
   "metadata": {},
   "outputs": [
    {
     "name": "stdout",
     "output_type": "stream",
     "text": [
      "Confusion Matrix\n",
      " [[5715  845]\n",
      " [ 509 3930]]\n",
      "\n",
      "Validation Accuracy: 87.69%\n",
      " \n",
      "\n"
     ]
    }
   ],
   "source": [
    "# predict on the validation set\n",
    "y_pred = rfc.predict(X_valid)\n",
    "print(\"Confusion Matrix\\n {}\".format(confusion_matrix(y_valid, y_pred)))\n",
    "print(\"\\nValidation Accuracy: {:.2f}%\\n \\n\".format(accuracy_score(y_valid, y_pred)*100))"
   ]
  },
  {
   "cell_type": "markdown",
   "metadata": {},
   "source": [
    "87.69% accuracy is not too bad. We already beat the baseline accuracy goal by just taking the default model parameters and not addressing the slight **class imbalance** of roughly 40 : 60."
   ]
  },
  {
   "cell_type": "markdown",
   "metadata": {},
   "source": [
    "#### Random Forest: Addressing Class Imbalance and Tuning Model Parameters with Grid Search"
   ]
  },
  {
   "cell_type": "markdown",
   "metadata": {},
   "source": [
    "**Training the Model**"
   ]
  },
  {
   "cell_type": "markdown",
   "metadata": {},
   "source": [
    "Let's see if we can improve our results."
   ]
  },
  {
   "cell_type": "code",
   "execution_count": 22,
   "metadata": {},
   "outputs": [
    {
     "data": {
      "text/plain": [
       "{0: 0.4007948427643892, 1: 0.5992051572356109}"
      ]
     },
     "execution_count": 22,
     "metadata": {},
     "output_type": "execute_result"
    }
   ],
   "source": [
    "# addressing class imbalance by setting an inverse weight ratio\n",
    "class_weight = {0: sum(y_train==1) / len(y_train), 1: sum(y_train==0) / len(y_train)}\n",
    "class_weight"
   ]
  },
  {
   "cell_type": "code",
   "execution_count": 19,
   "metadata": {},
   "outputs": [],
   "source": [
    "# Used this awesome link as reference:\n",
    "# https://github.com/WillKoehrsen/Machine-Learning-Projects/blob/master/random_forest_explained/Improving%20Random%20Forest%20\n",
    "# Part%202.ipynbfrom sklearn.model_selection import GridSearchCV\n",
    "\n",
    "# Create arbitary parameter grid for random search (keeping them modest due to low computational power)\n",
    "param_grid = {'bootstrap'        : [True],\n",
    "              'max_depth'        : [10, 20, 30],\n",
    "              'max_features'     : [15, 20, 25],\n",
    "              'min_samples_leaf' : [2, 3, 5],\n",
    "              'min_samples_split': [2, 8, 16],\n",
    "              'n_estimators     ': [100, 200, 300]\n",
    "             }\n",
    "\n",
    "# Create the base model with class weight ratio\n",
    "rf = RandomForestClassifier(random_state = 1, class_weight = class_weight)\n",
    "\n",
    "# Create the grid search \n",
    "grid_search = GridSearchCV(estimator = rf, param_grid = param_grid, cv = 3, verbose = 2, n_jobs=-1, return_train_score=True)"
   ]
  },
  {
   "cell_type": "code",
   "execution_count": 20,
   "metadata": {},
   "outputs": [
    {
     "name": "stdout",
     "output_type": "stream",
     "text": [
      "Fitting 3 folds for each of 243 candidates, totalling 729 fits\n"
     ]
    },
    {
     "name": "stderr",
     "output_type": "stream",
     "text": [
      "[Parallel(n_jobs=-1)]: Using backend LokyBackend with 12 concurrent workers.\n",
      "[Parallel(n_jobs=-1)]: Done  17 tasks      | elapsed:   59.0s\n",
      "[Parallel(n_jobs=-1)]: Done 138 tasks      | elapsed:  4.6min\n",
      "[Parallel(n_jobs=-1)]: Done 341 tasks      | elapsed:  9.9min\n",
      "[Parallel(n_jobs=-1)]: Done 624 tasks      | elapsed: 14.9min\n",
      "[Parallel(n_jobs=-1)]: Done 729 out of 729 | elapsed: 15.2min finished\n"
     ]
    },
    {
     "data": {
      "text/plain": [
       "GridSearchCV(cv=3, error_score=nan,\n",
       "             estimator=RandomForestClassifier(bootstrap=True, ccp_alpha=0.0,\n",
       "                                              class_weight={0: 0.3984270224808492,\n",
       "                                                            1: 0.6015729775191507},\n",
       "                                              criterion='gini', max_depth=None,\n",
       "                                              max_features='auto',\n",
       "                                              max_leaf_nodes=None,\n",
       "                                              max_samples=None,\n",
       "                                              min_impurity_decrease=0.0,\n",
       "                                              min_impurity_split=None,\n",
       "                                              min_samples_leaf=1,\n",
       "                                              min_samples_split=2,\n",
       "                                              min_weight_fraction...\n",
       "                                              n_estimators=100, n_jobs=None,\n",
       "                                              oob_score=False, random_state=1,\n",
       "                                              verbose=0, warm_start=False),\n",
       "             iid='deprecated', n_jobs=-1,\n",
       "             param_grid={'bootstrap': [True], 'max_depth': [10, 20, 30],\n",
       "                         'max_features': [15, 20, 25],\n",
       "                         'min_samples_leaf': [2, 3, 5],\n",
       "                         'min_samples_split': [2, 8, 16],\n",
       "                         'n_estimators': [100, 200, 300]},\n",
       "             pre_dispatch='2*n_jobs', refit=True, return_train_score=True,\n",
       "             scoring=None, verbose=2)"
      ]
     },
     "execution_count": 20,
     "metadata": {},
     "output_type": "execute_result"
    }
   ],
   "source": [
    "# fit grid search on the training data\n",
    "grid_search.fit(X_train, y_train)"
   ]
  },
  {
   "cell_type": "code",
   "execution_count": 22,
   "metadata": {},
   "outputs": [
    {
     "data": {
      "text/plain": [
       "{'bootstrap': True,\n",
       " 'max_depth': 30,\n",
       " 'max_features': 15,\n",
       " 'min_samples_leaf': 5,\n",
       " 'min_samples_split': 2,\n",
       " 'n_estimators': 100}"
      ]
     },
     "execution_count": 22,
     "metadata": {},
     "output_type": "execute_result"
    }
   ],
   "source": [
    "# get best parameters from grid search\n",
    "grid_search.best_params_"
   ]
  },
  {
   "cell_type": "markdown",
   "metadata": {},
   "source": [
    "**Validating Our Model Built with the Help of  Grid Search**"
   ]
  },
  {
   "cell_type": "code",
   "execution_count": 25,
   "metadata": {},
   "outputs": [
    {
     "name": "stdout",
     "output_type": "stream",
     "text": [
      "Confusion Matrix\n",
      " [[5615  945]\n",
      " [ 329 4110]]\n",
      "\n",
      "Validation Accuracy: 88.42%\n",
      " \n",
      "\n"
     ]
    }
   ],
   "source": [
    "# define the best model parameters \n",
    "best_grid = grid_search.best_estimator_\n",
    "\n",
    "# predict on validation data with best parameters\n",
    "y_pred1 = best_grid.predict(X_valid)\n",
    "\n",
    "# show confusion matrix and accuracy\n",
    "print(\"Confusion Matrix\\n {}\".format(confusion_matrix(y_valid, y_pred1)))\n",
    "print(\"\\nValidation Accuracy: {:.2f}%\\n \\n\".format(accuracy_score(y_valid, y_pred1)*100))"
   ]
  },
  {
   "cell_type": "markdown",
   "metadata": {},
   "source": [
    "Once we are content with our validation accuracy we can use our model to predict the test data."
   ]
  },
  {
   "cell_type": "markdown",
   "metadata": {},
   "source": [
    "**Use the Model to Predict Test Data**"
   ]
  },
  {
   "cell_type": "code",
   "execution_count": 26,
   "metadata": {},
   "outputs": [
    {
     "name": "stdout",
     "output_type": "stream",
     "text": [
      "Confusion Matrix\n",
      " [[6933 1270]\n",
      " [ 396 5150]]\n",
      "\n",
      "Test Accuracy: 87.88%\n",
      " \n",
      "\n",
      "              precision    recall  f1-score   support\n",
      "\n",
      "           0       0.95      0.85      0.89      8203\n",
      "           1       0.80      0.93      0.86      5546\n",
      "\n",
      "    accuracy                           0.88     13749\n",
      "   macro avg       0.87      0.89      0.88     13749\n",
      "weighted avg       0.89      0.88      0.88     13749\n",
      "\n"
     ]
    }
   ],
   "source": [
    "# make predictions on test data  \n",
    "y_pred2 = best_grid.predict(X_test)\n",
    "\n",
    "# get confusion matrix, test accuracy\n",
    "print(\"Confusion Matrix\\n {}\".format(confusion_matrix(y_test, y_pred2)))\n",
    "print(\"\\nTest Accuracy: {:.2f}%\\n \\n\".format(accuracy_score(y_test, y_pred2)*100))\n",
    "\n",
    "# get classification report\n",
    "print(classification_report(y_test, y_pred2))"
   ]
  },
  {
   "cell_type": "markdown",
   "metadata": {},
   "source": [
    "The final test accuracy equals 87.88%."
   ]
  },
  {
   "cell_type": "markdown",
   "metadata": {},
   "source": [
    "## Model 2: Neural Network Classifier"
   ]
  },
  {
   "cell_type": "markdown",
   "metadata": {},
   "source": [
    "**Training and Validating the Model**"
   ]
  },
  {
   "cell_type": "markdown",
   "metadata": {},
   "source": [
    "- Defining our model by creating a Sequential model and adding layers\n",
    "- Compiling our model by specifing the loss function and optimizer"
   ]
  },
  {
   "cell_type": "code",
   "execution_count": 27,
   "metadata": {},
   "outputs": [],
   "source": [
    "# create the nn model\n",
    "nn = keras.Sequential()\n",
    "nn.add(Dense(units=17,activation=\"relu\")) # 17 because 17 input features\n",
    "nn.add(Dropout(0.5))\n",
    "nn.add(Dense(units=8,activation=\"relu\"))\n",
    "nn.add(Dropout(0.5))\n",
    "nn.add(Dense(units=4,activation=\"relu\"))\n",
    "nn.add(Dropout(0.5))\n",
    "# binary classification so we choose sigmoid activation function\n",
    "nn.add(Dense(units=1,activation=\"sigmoid\")) # one output unit because we deal with binary classification\n",
    "nn.compile(loss=\"binary_crossentropy\", optimizer=\"adam\", metrics=['accuracy'])"
   ]
  },
  {
   "cell_type": "code",
   "execution_count": 29,
   "metadata": {},
   "outputs": [
    {
     "name": "stdout",
     "output_type": "stream",
     "text": [
      "Epoch 1/20\n",
      "1375/1375 [==============================] - 1s 976us/step - loss: 0.5611 - accuracy: 0.6715 - val_loss: 0.3524 - val_accuracy: 0.8457\n",
      "Epoch 2/20\n",
      "1375/1375 [==============================] - 1s 988us/step - loss: 0.4648 - accuracy: 0.7315 - val_loss: 0.3199 - val_accuracy: 0.8494\n",
      "Epoch 3/20\n",
      "1375/1375 [==============================] - 1s 896us/step - loss: 0.4442 - accuracy: 0.7513 - val_loss: 0.3213 - val_accuracy: 0.8449\n",
      "Epoch 4/20\n",
      "1375/1375 [==============================] - 1s 941us/step - loss: 0.4348 - accuracy: 0.7576 - val_loss: 0.3018 - val_accuracy: 0.8652\n",
      "Epoch 5/20\n",
      "1375/1375 [==============================] - 1s 891us/step - loss: 0.4323 - accuracy: 0.7619 - val_loss: 0.3002 - val_accuracy: 0.8688\n",
      "Epoch 6/20\n",
      "1375/1375 [==============================] - 1s 868us/step - loss: 0.4320 - accuracy: 0.7600 - val_loss: 0.3184 - val_accuracy: 0.8695\n",
      "Epoch 7/20\n",
      "1375/1375 [==============================] - 1s 851us/step - loss: 0.4279 - accuracy: 0.7656 - val_loss: 0.3039 - val_accuracy: 0.8658\n",
      "Epoch 8/20\n",
      "1375/1375 [==============================] - 1s 858us/step - loss: 0.4279 - accuracy: 0.7634 - val_loss: 0.2996 - val_accuracy: 0.8615\n",
      "Epoch 9/20\n",
      "1375/1375 [==============================] - 1s 850us/step - loss: 0.4258 - accuracy: 0.7671 - val_loss: 0.3014 - val_accuracy: 0.8673\n",
      "Epoch 10/20\n",
      "1375/1375 [==============================] - 2s 1ms/step - loss: 0.4256 - accuracy: 0.7644 - val_loss: 0.3036 - val_accuracy: 0.8704\n",
      "Epoch 11/20\n",
      "1375/1375 [==============================] - 1s 1ms/step - loss: 0.4258 - accuracy: 0.7700 - val_loss: 0.2970 - val_accuracy: 0.8718\n",
      "Epoch 12/20\n",
      "1375/1375 [==============================] - 2s 1ms/step - loss: 0.4216 - accuracy: 0.7737 - val_loss: 0.2917 - val_accuracy: 0.8686\n",
      "Epoch 13/20\n",
      "1375/1375 [==============================] - 2s 1ms/step - loss: 0.4156 - accuracy: 0.7782 - val_loss: 0.2936 - val_accuracy: 0.8691\n",
      "Epoch 14/20\n",
      "1375/1375 [==============================] - 1s 1ms/step - loss: 0.4149 - accuracy: 0.7797 - val_loss: 0.2906 - val_accuracy: 0.8705\n",
      "Epoch 15/20\n",
      "1375/1375 [==============================] - 1s 869us/step - loss: 0.4141 - accuracy: 0.7793 - val_loss: 0.2995 - val_accuracy: 0.8704\n",
      "Epoch 16/20\n",
      "1375/1375 [==============================] - 1s 881us/step - loss: 0.4137 - accuracy: 0.7779 - val_loss: 0.2939 - val_accuracy: 0.8705\n",
      "Epoch 17/20\n",
      "1375/1375 [==============================] - 1s 946us/step - loss: 0.4116 - accuracy: 0.7816 - val_loss: 0.2917 - val_accuracy: 0.8706\n",
      "Epoch 18/20\n",
      "1375/1375 [==============================] - 2s 1ms/step - loss: 0.4119 - accuracy: 0.7807 - val_loss: 0.2894 - val_accuracy: 0.8704\n",
      "Epoch 19/20\n",
      "1375/1375 [==============================] - 1s 893us/step - loss: 0.4108 - accuracy: 0.7815 - val_loss: 0.2890 - val_accuracy: 0.8691\n",
      "Epoch 20/20\n",
      "1375/1375 [==============================] - 1s 871us/step - loss: 0.4111 - accuracy: 0.7826 - val_loss: 0.2960 - val_accuracy: 0.8671\n"
     ]
    }
   ],
   "source": [
    "# fit the model on the training data \n",
    "history = nn.fit(X_train, y_train, epochs = 20, batch_size=32, validation_data=(X_valid, y_valid), workers = 5).history"
   ]
  },
  {
   "cell_type": "code",
   "execution_count": 31,
   "metadata": {},
   "outputs": [
    {
     "data": {
      "text/plain": [
       "<matplotlib.axes._subplots.AxesSubplot at 0x17c4af75c88>"
      ]
     },
     "execution_count": 31,
     "metadata": {},
     "output_type": "execute_result"
    },
    {
     "data": {
      "image/png": "[encoded data removed]",
      "text/plain": [
       "<Figure size 432x288 with 1 Axes>"
      ]
     },
     "metadata": {
      "needs_background": "light"
     },
     "output_type": "display_data"
    }
   ],
   "source": [
    "losses = pd.DataFrame(nn.history.history)\n",
    "losses.plot()"
   ]
  },
  {
   "cell_type": "markdown",
   "metadata": {},
   "source": [
    "The neural network classifier shows a validation accuracy of around 86.71% which is slightly worse than the initial RF model. However we simply used the default parameters thus far. Let's try to improve the accuracy."
   ]
  },
  {
   "cell_type": "markdown",
   "metadata": {},
   "source": [
    "#### Neural Network Classifier: Tuning Model Parameters with Grid Search"
   ]
  },
  {
   "cell_type": "markdown",
   "metadata": {},
   "source": [
    "**Training the Model**"
   ]
  },
  {
   "cell_type": "markdown",
   "metadata": {},
   "source": [
    "Let's see if we can improve our results."
   ]
  },
  {
   "cell_type": "markdown",
   "metadata": {},
   "source": [
    "- Defining our model by creating a Sequential model and adding layers\n",
    "- Compiling our model by specifing the loss function and optimizer"
   ]
  },
  {
   "cell_type": "code",
   "execution_count": 33,
   "metadata": {},
   "outputs": [],
   "source": [
    "# create the nn model\n",
    "def build_model(lr=0.01):\n",
    "    '''\n",
    "    This function builds a neural network classifier.\n",
    "    '''\n",
    "    nn = Sequential()\n",
    "    nn.add(Dense(units=17,activation=\"relu\")) # 17 because 17 input features\n",
    "    nn.add(Dropout(0.5))\n",
    "    nn.add(Dense(units=8,activation=\"relu\"))\n",
    "    nn.add(Dropout(0.5))\n",
    "    nn.add(Dense(units=4,activation=\"relu\"))\n",
    "    nn.add(Dropout(0.5))\n",
    "    # binary classification so we choose sigmoid activation function\n",
    "    nn.add(Dense(units=1,activation=\"sigmoid\")) # one output unit because we deal with binary classification\n",
    "    # set optimizer\n",
    "    optimizer = keras.optimizers.Adam(learning_rate=lr)\n",
    "    nn.compile(loss=\"binary_crossentropy\", optimizer=optimizer, metrics=['accuracy'])\n",
    "    \n",
    "    return nn"
   ]
  },
  {
   "cell_type": "code",
   "execution_count": 34,
   "metadata": {},
   "outputs": [],
   "source": [
    "# Create the actual model\n",
    "model = KerasClassifier(build_fn=build_model, batch_size=16, epochs=10)"
   ]
  },
  {
   "cell_type": "code",
   "execution_count": 35,
   "metadata": {},
   "outputs": [],
   "source": [
    "# Create arbitary parameter grid for random search (keeping them modest due to low computational power)\n",
    "batch_size = [16, 64, 128, 144]\n",
    "epochs = [10, 50, 100, 200]\n",
    "learn_rate = [0.0001, 0.001, 0.01, 0.1]\n",
    "\n",
    "# create the parameter grid\n",
    "param_grid = dict(lr=learn_rate, batch_size=batch_size,epochs=epochs)\n",
    "\n",
    "# build the grid search\n",
    "grid_search = GridSearchCV(estimator = model, param_grid = param_grid, cv = 3, verbose = 2, n_jobs=-1, return_train_score=True)"
   ]
  },
  {
   "cell_type": "code",
   "execution_count": 36,
   "metadata": {},
   "outputs": [
    {
     "name": "stdout",
     "output_type": "stream",
     "text": [
      "Fitting 3 folds for each of 64 candidates, totalling 192 fits\n"
     ]
    },
    {
     "name": "stderr",
     "output_type": "stream",
     "text": [
      "[Parallel(n_jobs=-1)]: Using backend LokyBackend with 12 concurrent workers.\n",
      "[Parallel(n_jobs=-1)]: Done  17 tasks      | elapsed:  6.3min\n",
      "[Parallel(n_jobs=-1)]: Done 138 tasks      | elapsed: 42.5min\n",
      "[Parallel(n_jobs=-1)]: Done 192 out of 192 | elapsed: 46.5min finished\n"
     ]
    },
    {
     "name": "stdout",
     "output_type": "stream",
     "text": [
      "Epoch 1/200\n",
      "2750/2750 [==============================] - 2s 631us/step - loss: 0.5063 - accuracy: 0.6922\n",
      "Epoch 2/200\n",
      "2750/2750 [==============================] - 2s 637us/step - loss: 0.4029 - accuracy: 0.7744\n",
      "Epoch 3/200\n",
      "2750/2750 [==============================] - 2s 632us/step - loss: 0.3937 - accuracy: 0.7769\n",
      "Epoch 4/200\n",
      "2750/2750 [==============================] - 2s 637us/step - loss: 0.3915 - accuracy: 0.7787\n",
      "Epoch 5/200\n",
      "2750/2750 [==============================] - 2s 631us/step - loss: 0.3921 - accuracy: 0.7776\n",
      "Epoch 6/200\n",
      "2750/2750 [==============================] - 2s 643us/step - loss: 0.3909 - accuracy: 0.7784\n",
      "Epoch 7/200\n",
      "2750/2750 [==============================] - 2s 648us/step - loss: 0.3898 - accuracy: 0.7805\n",
      "Epoch 8/200\n",
      "2750/2750 [==============================] - 2s 634us/step - loss: 0.3885 - accuracy: 0.7818\n",
      "Epoch 9/200\n",
      "2750/2750 [==============================] - 2s 733us/step - loss: 0.3879 - accuracy: 0.7794\n",
      "Epoch 10/200\n",
      "2750/2750 [==============================] - 2s 652us/step - loss: 0.3886 - accuracy: 0.7823\n",
      "Epoch 11/200\n",
      "2750/2750 [==============================] - 2s 641us/step - loss: 0.3865 - accuracy: 0.7817\n",
      "Epoch 12/200\n",
      "2750/2750 [==============================] - 2s 642us/step - loss: 0.3860 - accuracy: 0.7841\n",
      "Epoch 13/200\n",
      "2750/2750 [==============================] - 2s 647us/step - loss: 0.3884 - accuracy: 0.7800\n",
      "Epoch 14/200\n",
      "2750/2750 [==============================] - 2s 641us/step - loss: 0.3877 - accuracy: 0.7830\n",
      "Epoch 15/200\n",
      "2750/2750 [==============================] - 2s 639us/step - loss: 0.3880 - accuracy: 0.7820\n",
      "Epoch 16/200\n",
      "2750/2750 [==============================] - 2s 639us/step - loss: 0.3857 - accuracy: 0.7814\n",
      "Epoch 17/200\n",
      "2750/2750 [==============================] - 2s 655us/step - loss: 0.3865 - accuracy: 0.7818\n",
      "Epoch 18/200\n",
      "2750/2750 [==============================] - 2s 642us/step - loss: 0.3881 - accuracy: 0.7806\n",
      "Epoch 19/200\n",
      "2750/2750 [==============================] - 2s 648us/step - loss: 0.3876 - accuracy: 0.7811\n",
      "Epoch 20/200\n",
      "2750/2750 [==============================] - 2s 652us/step - loss: 0.3860 - accuracy: 0.7839\n",
      "Epoch 21/200\n",
      "2750/2750 [==============================] - 2s 652us/step - loss: 0.3858 - accuracy: 0.7822\n",
      "Epoch 22/200\n",
      "2750/2750 [==============================] - 2s 650us/step - loss: 0.3843 - accuracy: 0.7839\n",
      "Epoch 23/200\n",
      "2750/2750 [==============================] - 2s 644us/step - loss: 0.3872 - accuracy: 0.7810\n",
      "Epoch 24/200\n",
      "2750/2750 [==============================] - 2s 650us/step - loss: 0.3834 - accuracy: 0.7854\n",
      "Epoch 25/200\n",
      "2750/2750 [==============================] - 2s 643us/step - loss: 0.3854 - accuracy: 0.7836\n",
      "Epoch 26/200\n",
      "2750/2750 [==============================] - 2s 650us/step - loss: 0.3846 - accuracy: 0.7838\n",
      "Epoch 27/200\n",
      "2750/2750 [==============================] - 2s 639us/step - loss: 0.3855 - accuracy: 0.7814\n",
      "Epoch 28/200\n",
      "2750/2750 [==============================] - 2s 646us/step - loss: 0.3846 - accuracy: 0.7841\n",
      "Epoch 29/200\n",
      "2750/2750 [==============================] - 2s 649us/step - loss: 0.3850 - accuracy: 0.7844\n",
      "Epoch 30/200\n",
      "2750/2750 [==============================] - 2s 644us/step - loss: 0.3860 - accuracy: 0.7824\n",
      "Epoch 31/200\n",
      "2750/2750 [==============================] - 2s 708us/step - loss: 0.3853 - accuracy: 0.7824\n",
      "Epoch 32/200\n",
      "2750/2750 [==============================] - 3s 1ms/step - loss: 0.3857 - accuracy: 0.7825\n",
      "Epoch 33/200\n",
      "2750/2750 [==============================] - 2s 859us/step - loss: 0.3832 - accuracy: 0.7859\n",
      "Epoch 34/200\n",
      "2750/2750 [==============================] - 2s 755us/step - loss: 0.3842 - accuracy: 0.7846\n",
      "Epoch 35/200\n",
      "2750/2750 [==============================] - 2s 732us/step - loss: 0.3856 - accuracy: 0.7824\n",
      "Epoch 36/200\n",
      "2750/2750 [==============================] - 2s 672us/step - loss: 0.3810 - accuracy: 0.7862\n",
      "Epoch 37/200\n",
      "2750/2750 [==============================] - 2s 674us/step - loss: 0.3839 - accuracy: 0.7844\n",
      "Epoch 38/200\n",
      "2750/2750 [==============================] - 2s 687us/step - loss: 0.3807 - accuracy: 0.7872\n",
      "Epoch 39/200\n",
      "2750/2750 [==============================] - -0s -15us/step - loss: 0.3842 - accuracy: 0.7844\n",
      "Epoch 40/200\n",
      "2750/2750 [==============================] - 2s 675us/step - loss: 0.3843 - accuracy: 0.7841\n",
      "Epoch 41/200\n",
      "2750/2750 [==============================] - 2s 671us/step - loss: 0.3849 - accuracy: 0.7850\n",
      "Epoch 42/200\n",
      "2750/2750 [==============================] - 2s 675us/step - loss: 0.3848 - accuracy: 0.7843\n",
      "Epoch 43/200\n",
      "2750/2750 [==============================] - 2s 670us/step - loss: 0.3829 - accuracy: 0.7847\n",
      "Epoch 44/200\n",
      "2750/2750 [==============================] - 2s 676us/step - loss: 0.3854 - accuracy: 0.7831\n",
      "Epoch 45/200\n",
      "2750/2750 [==============================] - 2s 670us/step - loss: 0.3840 - accuracy: 0.7838\n",
      "Epoch 46/200\n",
      "2750/2750 [==============================] - 2s 668us/step - loss: 0.3825 - accuracy: 0.7866\n",
      "Epoch 47/200\n",
      "2750/2750 [==============================] - 2s 673us/step - loss: 0.3854 - accuracy: 0.7838\n",
      "Epoch 48/200\n",
      "2750/2750 [==============================] - 2s 672us/step - loss: 0.3835 - accuracy: 0.7846\n",
      "Epoch 49/200\n",
      "2750/2750 [==============================] - 2s 673us/step - loss: 0.3826 - accuracy: 0.7842\n",
      "Epoch 50/200\n",
      "2750/2750 [==============================] - 2s 678us/step - loss: 0.3831 - accuracy: 0.7848\n",
      "Epoch 51/200\n",
      "2750/2750 [==============================] - 2s 669us/step - loss: 0.3809 - accuracy: 0.7875\n",
      "Epoch 52/200\n",
      "2750/2750 [==============================] - 2s 719us/step - loss: 0.3800 - accuracy: 0.7879\n",
      "Epoch 53/200\n",
      "2750/2750 [==============================] - 2s 721us/step - loss: 0.3797 - accuracy: 0.7860\n",
      "Epoch 54/200\n",
      "2750/2750 [==============================] - 2s 729us/step - loss: 0.3823 - accuracy: 0.7869\n",
      "Epoch 55/200\n",
      "2750/2750 [==============================] - 2s 755us/step - loss: 0.3846 - accuracy: 0.7827\n",
      "Epoch 56/200\n",
      "2750/2750 [==============================] - 2s 723us/step - loss: 0.3836 - accuracy: 0.7854\n",
      "Epoch 57/200\n",
      "2750/2750 [==============================] - 2s 709us/step - loss: 0.3824 - accuracy: 0.7851\n",
      "Epoch 58/200\n",
      "2750/2750 [==============================] - 2s 727us/step - loss: 0.3814 - accuracy: 0.7875\n",
      "Epoch 59/200\n",
      "2750/2750 [==============================] - 2s 694us/step - loss: 0.3805 - accuracy: 0.7867\n",
      "Epoch 60/200\n",
      "2750/2750 [==============================] - 2s 712us/step - loss: 0.3828 - accuracy: 0.7854\n",
      "Epoch 61/200\n",
      "2750/2750 [==============================] - 2s 675us/step - loss: 0.3808 - accuracy: 0.7869\n",
      "Epoch 62/200\n",
      "2750/2750 [==============================] - 2s 690us/step - loss: 0.3822 - accuracy: 0.7856\n",
      "Epoch 63/200\n",
      "2750/2750 [==============================] - 2s 718us/step - loss: 0.3819 - accuracy: 0.7855\n",
      "Epoch 64/200\n",
      "2750/2750 [==============================] - 2s 728us/step - loss: 0.3806 - accuracy: 0.7873\n",
      "Epoch 65/200\n",
      "2750/2750 [==============================] - 2s 704us/step - loss: 0.3819 - accuracy: 0.7851\n",
      "Epoch 66/200\n",
      "2750/2750 [==============================] - 2s 712us/step - loss: 0.3828 - accuracy: 0.7874\n",
      "Epoch 67/200\n",
      "2750/2750 [==============================] - 2s 718us/step - loss: 0.3810 - accuracy: 0.7882\n",
      "Epoch 68/200\n",
      "2750/2750 [==============================] - 2s 714us/step - loss: 0.3825 - accuracy: 0.7832\n",
      "Epoch 69/200\n",
      "2750/2750 [==============================] - 2s 716us/step - loss: 0.3840 - accuracy: 0.7848\n",
      "Epoch 70/200\n",
      "2750/2750 [==============================] - 2s 720us/step - loss: 0.3831 - accuracy: 0.7856\n",
      "Epoch 71/200\n",
      "2750/2750 [==============================] - 2s 732us/step - loss: 0.3817 - accuracy: 0.7858\n",
      "Epoch 72/200\n",
      "2750/2750 [==============================] - 2s 716us/step - loss: 0.3850 - accuracy: 0.7853\n",
      "Epoch 73/200\n",
      "2750/2750 [==============================] - 2s 734us/step - loss: 0.3823 - accuracy: 0.7860\n",
      "Epoch 74/200\n",
      "2750/2750 [==============================] - 2s 695us/step - loss: 0.3832 - accuracy: 0.7860\n",
      "Epoch 75/200\n",
      "2750/2750 [==============================] - 2s 674us/step - loss: 0.3817 - accuracy: 0.7873\n",
      "Epoch 76/200\n",
      "2750/2750 [==============================] - 2s 720us/step - loss: 0.3798 - accuracy: 0.7863\n",
      "Epoch 77/200\n",
      "2750/2750 [==============================] - 2s 750us/step - loss: 0.3838 - accuracy: 0.7845\n",
      "Epoch 78/200\n",
      "2750/2750 [==============================] - 2s 736us/step - loss: 0.3823 - accuracy: 0.7851\n",
      "Epoch 79/200\n",
      "2750/2750 [==============================] - 2s 746us/step - loss: 0.3845 - accuracy: 0.7850\n",
      "Epoch 80/200\n",
      "2750/2750 [==============================] - 2s 736us/step - loss: 0.3826 - accuracy: 0.7861\n",
      "Epoch 81/200\n",
      "2750/2750 [==============================] - 2s 732us/step - loss: 0.3821 - accuracy: 0.7858\n",
      "Epoch 82/200\n",
      "2750/2750 [==============================] - 2s 746us/step - loss: 0.3820 - accuracy: 0.7874\n",
      "Epoch 83/200\n",
      "2750/2750 [==============================] - 2s 741us/step - loss: 0.3829 - accuracy: 0.7869\n",
      "Epoch 84/200\n",
      "2750/2750 [==============================] - 2s 738us/step - loss: 0.3795 - accuracy: 0.7870\n",
      "Epoch 85/200\n",
      "2750/2750 [==============================] - 2s 704us/step - loss: 0.3836 - accuracy: 0.7845\n",
      "Epoch 86/200\n",
      "2750/2750 [==============================] - 2s 711us/step - loss: 0.3819 - accuracy: 0.7847\n",
      "Epoch 87/200\n",
      "2750/2750 [==============================] - 2s 712us/step - loss: 0.3840 - accuracy: 0.7845\n",
      "Epoch 88/200\n",
      "2750/2750 [==============================] - 2s 724us/step - loss: 0.3820 - accuracy: 0.7869\n",
      "Epoch 89/200\n",
      "2750/2750 [==============================] - 2s 713us/step - loss: 0.3827 - accuracy: 0.7848\n",
      "Epoch 90/200\n",
      "2750/2750 [==============================] - 2s 711us/step - loss: 0.3827 - accuracy: 0.7854\n",
      "Epoch 91/200\n",
      "2750/2750 [==============================] - 2s 707us/step - loss: 0.3804 - accuracy: 0.7883\n",
      "Epoch 92/200\n",
      "2750/2750 [==============================] - 2s 702us/step - loss: 0.3840 - accuracy: 0.7848\n",
      "Epoch 93/200\n",
      "2750/2750 [==============================] - 2s 717us/step - loss: 0.3810 - accuracy: 0.7876\n",
      "Epoch 94/200\n",
      "2750/2750 [==============================] - 2s 721us/step - loss: 0.3832 - accuracy: 0.7838\n",
      "Epoch 95/200\n",
      "2750/2750 [==============================] - 2s 722us/step - loss: 0.3829 - accuracy: 0.7861\n",
      "Epoch 96/200\n",
      "2750/2750 [==============================] - 2s 720us/step - loss: 0.3814 - accuracy: 0.7861\n",
      "Epoch 97/200\n",
      "2750/2750 [==============================] - 2s 715us/step - loss: 0.3821 - accuracy: 0.7861\n",
      "Epoch 98/200\n",
      "2750/2750 [==============================] - 2s 719us/step - loss: 0.3819 - accuracy: 0.7869\n",
      "Epoch 99/200\n",
      "2750/2750 [==============================] - 2s 721us/step - loss: 0.3806 - accuracy: 0.7866\n",
      "Epoch 100/200\n",
      "2750/2750 [==============================] - 2s 716us/step - loss: 0.3816 - accuracy: 0.7858\n",
      "Epoch 101/200\n",
      "2750/2750 [==============================] - 2s 718us/step - loss: 0.3833 - accuracy: 0.7861\n",
      "Epoch 102/200\n",
      "2750/2750 [==============================] - 2s 722us/step - loss: 0.3821 - accuracy: 0.7862\n",
      "Epoch 103/200\n",
      "2750/2750 [==============================] - 2s 724us/step - loss: 0.3847 - accuracy: 0.7837\n",
      "Epoch 104/200\n",
      "2750/2750 [==============================] - 2s 701us/step - loss: 0.3823 - accuracy: 0.7876\n",
      "Epoch 105/200\n",
      "2750/2750 [==============================] - 2s 714us/step - loss: 0.3805 - accuracy: 0.7879\n",
      "Epoch 106/200\n",
      "2750/2750 [==============================] - 2s 717us/step - loss: 0.3818 - accuracy: 0.7860\n",
      "Epoch 107/200\n",
      "2750/2750 [==============================] - 2s 716us/step - loss: 0.3836 - accuracy: 0.7842\n",
      "Epoch 108/200\n",
      "2750/2750 [==============================] - 2s 769us/step - loss: 0.3800 - accuracy: 0.7899\n",
      "Epoch 109/200\n",
      "2750/2750 [==============================] - 2s 730us/step - loss: 0.3826 - accuracy: 0.7848\n",
      "Epoch 110/200\n",
      "2750/2750 [==============================] - 2s 712us/step - loss: 0.3811 - accuracy: 0.7871\n",
      "Epoch 111/200\n",
      "2750/2750 [==============================] - 2s 707us/step - loss: 0.3811 - accuracy: 0.7869\n",
      "Epoch 112/200\n",
      "2750/2750 [==============================] - 2s 708us/step - loss: 0.3785 - accuracy: 0.7883\n",
      "Epoch 113/200\n",
      "2750/2750 [==============================] - 2s 679us/step - loss: 0.3823 - accuracy: 0.7848\n",
      "Epoch 114/200\n",
      "2750/2750 [==============================] - 2s 686us/step - loss: 0.3820 - accuracy: 0.7847\n",
      "Epoch 115/200\n",
      "2750/2750 [==============================] - 2s 708us/step - loss: 0.3839 - accuracy: 0.7829\n",
      "Epoch 116/200\n",
      "2750/2750 [==============================] - 2s 712us/step - loss: 0.3829 - accuracy: 0.7852\n",
      "Epoch 117/200\n",
      "2750/2750 [==============================] - 2s 685us/step - loss: 0.3788 - accuracy: 0.7868\n",
      "Epoch 118/200\n",
      "2750/2750 [==============================] - 2s 696us/step - loss: 0.3801 - accuracy: 0.7871\n",
      "Epoch 119/200\n",
      "2750/2750 [==============================] - 2s 715us/step - loss: 0.3819 - accuracy: 0.7863\n",
      "Epoch 120/200\n",
      "2750/2750 [==============================] - 2s 714us/step - loss: 0.3812 - accuracy: 0.7864\n",
      "Epoch 121/200\n",
      "2750/2750 [==============================] - 2s 717us/step - loss: 0.3818 - accuracy: 0.7873\n",
      "Epoch 122/200\n",
      "2750/2750 [==============================] - 2s 703us/step - loss: 0.3834 - accuracy: 0.7850\n",
      "Epoch 123/200\n",
      "2750/2750 [==============================] - 2s 710us/step - loss: 0.3838 - accuracy: 0.7853\n",
      "Epoch 124/200\n",
      "2750/2750 [==============================] - 2s 701us/step - loss: 0.3822 - accuracy: 0.7855\n",
      "Epoch 125/200\n",
      "2750/2750 [==============================] - 2s 705us/step - loss: 0.3845 - accuracy: 0.7838\n",
      "Epoch 126/200\n",
      "2750/2750 [==============================] - 2s 706us/step - loss: 0.3820 - accuracy: 0.7861\n",
      "Epoch 127/200\n",
      "2750/2750 [==============================] - 2s 692us/step - loss: 0.3793 - accuracy: 0.7887\n",
      "Epoch 128/200\n",
      "2750/2750 [==============================] - 2s 699us/step - loss: 0.3820 - accuracy: 0.7859\n",
      "Epoch 129/200\n",
      "2750/2750 [==============================] - 2s 708us/step - loss: 0.3818 - accuracy: 0.7856\n",
      "Epoch 130/200\n",
      "2750/2750 [==============================] - 2s 716us/step - loss: 0.3826 - accuracy: 0.7860\n",
      "Epoch 131/200\n",
      "2750/2750 [==============================] - 2s 721us/step - loss: 0.3817 - accuracy: 0.7856\n",
      "Epoch 132/200\n",
      "2750/2750 [==============================] - 2s 699us/step - loss: 0.3807 - accuracy: 0.7877\n",
      "Epoch 133/200\n",
      "2750/2750 [==============================] - 2s 682us/step - loss: 0.3822 - accuracy: 0.7838\n",
      "Epoch 134/200\n",
      "2750/2750 [==============================] - 2s 697us/step - loss: 0.3829 - accuracy: 0.7853\n",
      "Epoch 135/200\n",
      "2750/2750 [==============================] - 2s 709us/step - loss: 0.3843 - accuracy: 0.7839\n",
      "Epoch 136/200\n",
      "2750/2750 [==============================] - 2s 702us/step - loss: 0.3800 - accuracy: 0.7874\n",
      "Epoch 137/200\n",
      "2750/2750 [==============================] - 2s 698us/step - loss: 0.3793 - accuracy: 0.7880\n",
      "Epoch 138/200\n",
      "2750/2750 [==============================] - 2s 708us/step - loss: 0.3819 - accuracy: 0.7861\n",
      "Epoch 139/200\n",
      "2750/2750 [==============================] - 2s 688us/step - loss: 0.3823 - accuracy: 0.7863\n",
      "Epoch 140/200\n",
      "2750/2750 [==============================] - 2s 683us/step - loss: 0.3830 - accuracy: 0.7859\n",
      "Epoch 141/200\n",
      "2750/2750 [==============================] - 2s 704us/step - loss: 0.3779 - accuracy: 0.7923\n",
      "Epoch 142/200\n",
      "2750/2750 [==============================] - 2s 678us/step - loss: 0.3825 - accuracy: 0.7865\n",
      "Epoch 143/200\n",
      "2750/2750 [==============================] - 2s 699us/step - loss: 0.3824 - accuracy: 0.7860\n",
      "Epoch 144/200\n",
      "2750/2750 [==============================] - 2s 707us/step - loss: 0.3818 - accuracy: 0.7871\n",
      "Epoch 145/200\n",
      "2750/2750 [==============================] - 2s 696us/step - loss: 0.3813 - accuracy: 0.7856\n",
      "Epoch 146/200\n",
      "2750/2750 [==============================] - 2s 708us/step - loss: 0.3802 - accuracy: 0.7869\n",
      "Epoch 147/200\n",
      "2750/2750 [==============================] - 2s 701us/step - loss: 0.3824 - accuracy: 0.7847\n",
      "Epoch 148/200\n",
      "2750/2750 [==============================] - 2s 713us/step - loss: 0.3808 - accuracy: 0.7878\n",
      "Epoch 149/200\n",
      "2750/2750 [==============================] - 2s 711us/step - loss: 0.3814 - accuracy: 0.7846\n",
      "Epoch 150/200\n",
      "2750/2750 [==============================] - 2s 779us/step - loss: 0.3817 - accuracy: 0.7863\n",
      "Epoch 151/200\n",
      "2750/2750 [==============================] - 2s 788us/step - loss: 0.3793 - accuracy: 0.7885\n",
      "Epoch 152/200\n",
      "2750/2750 [==============================] - 2s 758us/step - loss: 0.3828 - accuracy: 0.7856\n",
      "Epoch 153/200\n",
      "2750/2750 [==============================] - 2s 755us/step - loss: 0.3809 - accuracy: 0.7864\n",
      "Epoch 154/200\n"
     ]
    },
    {
     "name": "stdout",
     "output_type": "stream",
     "text": [
      "2750/2750 [==============================] - 2s 751us/step - loss: 0.3823 - accuracy: 0.7840\n",
      "Epoch 155/200\n",
      "2750/2750 [==============================] - 2s 734us/step - loss: 0.3841 - accuracy: 0.7853\n",
      "Epoch 156/200\n",
      "2750/2750 [==============================] - 2s 725us/step - loss: 0.3830 - accuracy: 0.7869\n",
      "Epoch 157/200\n",
      "2750/2750 [==============================] - 2s 698us/step - loss: 0.3799 - accuracy: 0.7884\n",
      "Epoch 158/200\n",
      "2750/2750 [==============================] - 2s 705us/step - loss: 0.3816 - accuracy: 0.7879\n",
      "Epoch 159/200\n",
      "2750/2750 [==============================] - 2s 705us/step - loss: 0.3812 - accuracy: 0.7878\n",
      "Epoch 160/200\n",
      "2750/2750 [==============================] - 2s 709us/step - loss: 0.3830 - accuracy: 0.7861\n",
      "Epoch 161/200\n",
      "2750/2750 [==============================] - 2s 714us/step - loss: 0.3819 - accuracy: 0.7851\n",
      "Epoch 162/200\n",
      "2750/2750 [==============================] - 2s 695us/step - loss: 0.3821 - accuracy: 0.7838\n",
      "Epoch 163/200\n",
      "2750/2750 [==============================] - 2s 700us/step - loss: 0.3791 - accuracy: 0.7882\n",
      "Epoch 164/200\n",
      "2750/2750 [==============================] - 2s 709us/step - loss: 0.3793 - accuracy: 0.7882\n",
      "Epoch 165/200\n",
      "2750/2750 [==============================] - 2s 705us/step - loss: 0.3813 - accuracy: 0.7857\n",
      "Epoch 166/200\n",
      "2750/2750 [==============================] - 2s 701us/step - loss: 0.3802 - accuracy: 0.7877\n",
      "Epoch 167/200\n",
      "2750/2750 [==============================] - 2s 700us/step - loss: 0.3811 - accuracy: 0.7890\n",
      "Epoch 168/200\n",
      "2750/2750 [==============================] - 2s 697us/step - loss: 0.3805 - accuracy: 0.7878\n",
      "Epoch 169/200\n",
      "2750/2750 [==============================] - 2s 684us/step - loss: 0.3830 - accuracy: 0.7834\n",
      "Epoch 170/200\n",
      "2750/2750 [==============================] - 2s 703us/step - loss: 0.3834 - accuracy: 0.7835\n",
      "Epoch 171/200\n",
      "2750/2750 [==============================] - 2s 675us/step - loss: 0.3826 - accuracy: 0.7863\n",
      "Epoch 172/200\n",
      "2750/2750 [==============================] - 2s 667us/step - loss: 0.3800 - accuracy: 0.7884\n",
      "Epoch 173/200\n",
      "2750/2750 [==============================] - 2s 660us/step - loss: 0.3836 - accuracy: 0.7843\n",
      "Epoch 174/200\n",
      "2750/2750 [==============================] - 2s 678us/step - loss: 0.3787 - accuracy: 0.7868\n",
      "Epoch 175/200\n",
      "2750/2750 [==============================] - 2s 685us/step - loss: 0.3821 - accuracy: 0.7868\n",
      "Epoch 176/200\n",
      "2750/2750 [==============================] - 2s 690us/step - loss: 0.3815 - accuracy: 0.7868\n",
      "Epoch 177/200\n",
      "2750/2750 [==============================] - 2s 704us/step - loss: 0.3799 - accuracy: 0.7881\n",
      "Epoch 178/200\n",
      "2750/2750 [==============================] - 2s 673us/step - loss: 0.3821 - accuracy: 0.7853\n",
      "Epoch 179/200\n",
      "2750/2750 [==============================] - 2s 661us/step - loss: 0.3835 - accuracy: 0.7849\n",
      "Epoch 180/200\n",
      "2750/2750 [==============================] - 2s 658us/step - loss: 0.3813 - accuracy: 0.7843\n",
      "Epoch 181/200\n",
      "2750/2750 [==============================] - 2s 681us/step - loss: 0.3801 - accuracy: 0.7882\n",
      "Epoch 182/200\n",
      "2750/2750 [==============================] - 2s 697us/step - loss: 0.3804 - accuracy: 0.7885\n",
      "Epoch 183/200\n",
      "2750/2750 [==============================] - 2s 679us/step - loss: 0.3819 - accuracy: 0.7870\n",
      "Epoch 184/200\n",
      "2750/2750 [==============================] - 2s 678us/step - loss: 0.3801 - accuracy: 0.7884\n",
      "Epoch 185/200\n",
      "2750/2750 [==============================] - 2s 686us/step - loss: 0.3831 - accuracy: 0.7862\n",
      "Epoch 186/200\n",
      "2750/2750 [==============================] - 2s 695us/step - loss: 0.3794 - accuracy: 0.7883\n",
      "Epoch 187/200\n",
      "2750/2750 [==============================] - 2s 666us/step - loss: 0.3809 - accuracy: 0.7860\n",
      "Epoch 188/200\n",
      "2750/2750 [==============================] - 2s 689us/step - loss: 0.3811 - accuracy: 0.7884\n",
      "Epoch 189/200\n",
      "2750/2750 [==============================] - 2s 690us/step - loss: 0.3796 - accuracy: 0.7890\n",
      "Epoch 190/200\n",
      "2750/2750 [==============================] - 2s 700us/step - loss: 0.3825 - accuracy: 0.7869\n",
      "Epoch 191/200\n",
      "2750/2750 [==============================] - 2s 690us/step - loss: 0.3794 - accuracy: 0.7904\n",
      "Epoch 192/200\n",
      "2750/2750 [==============================] - 2s 688us/step - loss: 0.3823 - accuracy: 0.7861\n",
      "Epoch 193/200\n",
      "2750/2750 [==============================] - 2s 712us/step - loss: 0.3852 - accuracy: 0.7834\n",
      "Epoch 194/200\n",
      "2750/2750 [==============================] - 2s 670us/step - loss: 0.3815 - accuracy: 0.7861\n",
      "Epoch 195/200\n",
      "2750/2750 [==============================] - 2s 656us/step - loss: 0.3805 - accuracy: 0.7864\n",
      "Epoch 196/200\n",
      "2750/2750 [==============================] - 2s 665us/step - loss: 0.3777 - accuracy: 0.7913\n",
      "Epoch 197/200\n",
      "2750/2750 [==============================] - 2s 681us/step - loss: 0.3831 - accuracy: 0.7859\n",
      "Epoch 198/200\n",
      "2750/2750 [==============================] - 2s 696us/step - loss: 0.3813 - accuracy: 0.7882\n",
      "Epoch 199/200\n",
      "2750/2750 [==============================] - 2s 704us/step - loss: 0.3813 - accuracy: 0.7869\n",
      "Epoch 200/200\n",
      "2750/2750 [==============================] - 2s 697us/step - loss: 0.3839 - accuracy: 0.7865\n"
     ]
    }
   ],
   "source": [
    "# fit grid search on the training data\n",
    "grid_results = grid_search.fit(X_train, y_train)"
   ]
  },
  {
   "cell_type": "code",
   "execution_count": 37,
   "metadata": {},
   "outputs": [
    {
     "data": {
      "text/plain": [
       "{'batch_size': 16, 'epochs': 200, 'lr': 0.001}"
      ]
     },
     "execution_count": 37,
     "metadata": {},
     "output_type": "execute_result"
    }
   ],
   "source": [
    "# get best parameters from grid search\n",
    "grid_results.best_params_"
   ]
  },
  {
   "cell_type": "markdown",
   "metadata": {},
   "source": [
    "**Validating Our Model Built with the Help of  Grid Search**"
   ]
  },
  {
   "cell_type": "code",
   "execution_count": 42,
   "metadata": {},
   "outputs": [
    {
     "name": "stdout",
     "output_type": "stream",
     "text": [
      "Confusion Matrix\n",
      " [[5262 1298]\n",
      " [ 131 4308]]\n",
      "\n",
      "Validation Accuracy: 87.01%\n",
      " \n",
      "\n"
     ]
    }
   ],
   "source": [
    "# define the best model parameters \n",
    "best_grid = grid_results.best_estimator_\n",
    "\n",
    "# predict on validation data with best parameters\n",
    "y_pred3 = best_grid.predict(X_valid)\n",
    "\n",
    "# show confusion matrix and accuracy\n",
    "print(\"Confusion Matrix\\n {}\".format(confusion_matrix(y_valid, y_pred3)))\n",
    "print(\"\\nValidation Accuracy: {:.2f}%\\n \\n\".format(accuracy_score(y_valid, y_pred3)*100))"
   ]
  },
  {
   "cell_type": "markdown",
   "metadata": {},
   "source": [
    "Once we are content with our validation accuracy we can use our model to predict the test data."
   ]
  },
  {
   "cell_type": "markdown",
   "metadata": {},
   "source": [
    "**Use the Model to Predict Test Data**"
   ]
  },
  {
   "cell_type": "code",
   "execution_count": 43,
   "metadata": {},
   "outputs": [
    {
     "name": "stdout",
     "output_type": "stream",
     "text": [
      "Confusion Matrix\n",
      " [[6468 1735]\n",
      " [ 150 5396]]\n",
      "\n",
      "Test Accuracy: 86.29%\n",
      " \n",
      "\n",
      "              precision    recall  f1-score   support\n",
      "\n",
      "           0       0.98      0.79      0.87      8203\n",
      "           1       0.76      0.97      0.85      5546\n",
      "\n",
      "    accuracy                           0.86     13749\n",
      "   macro avg       0.87      0.88      0.86     13749\n",
      "weighted avg       0.89      0.86      0.86     13749\n",
      "\n"
     ]
    }
   ],
   "source": [
    "# make predictions on test data  \n",
    "y_pred4 = best_grid.predict(X_test)\n",
    "\n",
    "# get confusion matrix, test accuracy\n",
    "print(\"Confusion Matrix\\n {}\".format(confusion_matrix(y_test, y_pred4)))\n",
    "print(\"\\nTest Accuracy: {:.2f}%\\n \\n\".format(accuracy_score(y_test, y_pred4)*100))\n",
    "\n",
    "# get classification report\n",
    "print(classification_report(y_test, y_pred4))"
   ]
  },
  {
   "cell_type": "markdown",
   "metadata": {},
   "source": [
    "## Model 3: XGBoost\n",
    "<br>\n",
    "\n",
    "XGBoost or eXtreme Gradient Boosting is an advanced implementation of the gradient boosting algorithm.\n",
    "XGBoost is a great choice here because the dataset is quite large with initially 68,741 observations. This is because it is very computationally efficient and typically yields very high accuracy."
   ]
  },
  {
   "cell_type": "markdown",
   "metadata": {},
   "source": [
    "**Training The Model**"
   ]
  },
  {
   "cell_type": "code",
   "execution_count": 54,
   "metadata": {},
   "outputs": [
    {
     "data": {
      "text/plain": [
       "XGBClassifier(base_score=0.5, booster='gbtree', colsample_bylevel=1,\n",
       "              colsample_bynode=1, colsample_bytree=1, gamma=0, gpu_id=-1,\n",
       "              importance_type='gain', interaction_constraints='',\n",
       "              learning_rate=0.300000012, max_delta_step=0, max_depth=6,\n",
       "              min_child_weight=1, missing=nan, monotone_constraints='()',\n",
       "              n_estimators=100, n_jobs=0, num_parallel_tree=1,\n",
       "              objective='binary:logistic', random_state=0, reg_alpha=0,\n",
       "              reg_lambda=1, scale_pos_weight=1, subsample=1,\n",
       "              tree_method='exact', validate_parameters=1, verbosity=None)"
      ]
     },
     "execution_count": 54,
     "metadata": {},
     "output_type": "execute_result"
    }
   ],
   "source": [
    "# set up the classifier. Once again we will use the default parameters as starting point\n",
    "xgbc = XGBClassifier()\n",
    "\n",
    "# fit the model on the training set\n",
    "xgbc.fit(X_train, y_train)"
   ]
  },
  {
   "cell_type": "markdown",
   "metadata": {},
   "source": [
    "**Validating the Model's Performance**"
   ]
  },
  {
   "cell_type": "code",
   "execution_count": 55,
   "metadata": {},
   "outputs": [
    {
     "name": "stdout",
     "output_type": "stream",
     "text": [
      "Confusion Matrix\n",
      " [[5809  751]\n",
      " [ 453 3986]]\n",
      "Validation Accuracy: 89.05%\n"
     ]
    }
   ],
   "source": [
    "# predict validation data\n",
    "y_pred5 = xgbc.predict(X_valid)\n",
    "\n",
    "# show model performance on test data\n",
    "print(\"Confusion Matrix\\n {}\".format(confusion_matrix(y_valid, y_pred5)))\n",
    "print(\"Validation Accuracy: {:.2f}%\".format(accuracy_score(y_valid, y_pred5)*100))"
   ]
  },
  {
   "cell_type": "markdown",
   "metadata": {},
   "source": [
    "As expected, even with default parameters XGBoost yields very high predictive accuracy. In fact, it already shows the highest accuracy among the 3 predictive models without parameter tuning."
   ]
  },
  {
   "cell_type": "markdown",
   "metadata": {},
   "source": [
    "#### XGBoost Classifier: Tuning Model Parameters with Grid Search"
   ]
  },
  {
   "cell_type": "markdown",
   "metadata": {},
   "source": [
    "Here we will tune some of the hyperparameters to boost the model's performance. It won't find the optimal solution, but a solution that is sufficient considering the limited resources available."
   ]
  },
  {
   "cell_type": "markdown",
   "metadata": {},
   "source": [
    "**Training The Model**"
   ]
  },
  {
   "cell_type": "code",
   "execution_count": 31,
   "metadata": {},
   "outputs": [],
   "source": [
    "# define the model\n",
    "xgbc = XGBClassifier()\n",
    "\n",
    "# defining parameter grid for XGBoost\n",
    "parameters = {\"learning_rate\"        : [0.01, 0.10, 0.20],\n",
    "              \"max_depth\"            : [8, 9, 10],\n",
    "              \"min_child_weight\"     : [1, 2],\n",
    "               # gamma: min loss reduction required to make a further partition on a leaf node. The larger the more conservative\n",
    "              \"gamma\"                : [0.0, 0.2 , 0.4, 0.6],\n",
    "              \"colsample_bytree\"     : [0.5, 0.6, 0.8, 1.0],\n",
    "              \"subsample\"            : [0.7, 0.8, 0.9, 1.0], # subsample ratio of the training instances, prevents overfitting\n",
    "              \"n_estimators\"         : [100, 150]\n",
    "             }\n",
    "\n",
    "# setting up the grid search\n",
    "grid_search = GridSearchCV(estimator = xgbc, param_grid = parameters, cv = 3, n_jobs=-1, verbose=2)"
   ]
  },
  {
   "cell_type": "code",
   "execution_count": 32,
   "metadata": {},
   "outputs": [
    {
     "name": "stdout",
     "output_type": "stream",
     "text": [
      "Fitting 3 folds for each of 2304 candidates, totalling 6912 fits\n"
     ]
    },
    {
     "name": "stderr",
     "output_type": "stream",
     "text": [
      "[Parallel(n_jobs=-1)]: Using backend LokyBackend with 12 concurrent workers.\n",
      "[Parallel(n_jobs=-1)]: Done  17 tasks      | elapsed:   13.5s\n",
      "[Parallel(n_jobs=-1)]: Done 138 tasks      | elapsed:  1.6min\n",
      "[Parallel(n_jobs=-1)]: Done 341 tasks      | elapsed:  3.8min\n",
      "[Parallel(n_jobs=-1)]: Done 624 tasks      | elapsed:  6.7min\n",
      "[Parallel(n_jobs=-1)]: Done 989 tasks      | elapsed: 10.7min\n",
      "[Parallel(n_jobs=-1)]: Done 1434 tasks      | elapsed: 15.5min\n",
      "[Parallel(n_jobs=-1)]: Done 1961 tasks      | elapsed: 21.4min\n",
      "[Parallel(n_jobs=-1)]: Done 2568 tasks      | elapsed: 28.9min\n",
      "[Parallel(n_jobs=-1)]: Done 3257 tasks      | elapsed: 39.7min\n",
      "[Parallel(n_jobs=-1)]: Done 4026 tasks      | elapsed: 52.0min\n",
      "[Parallel(n_jobs=-1)]: Done 4877 tasks      | elapsed: 66.4min\n",
      "[Parallel(n_jobs=-1)]: Done 5808 tasks      | elapsed: 85.6min\n",
      "[Parallel(n_jobs=-1)]: Done 6821 tasks      | elapsed: 109.5min\n",
      "[Parallel(n_jobs=-1)]: Done 6912 out of 6912 | elapsed: 111.6min finished\n"
     ]
    }
   ],
   "source": [
    "# fit grid search on the training data\n",
    "grid_results = grid_search.fit(X_train, y_train)"
   ]
  },
  {
   "cell_type": "code",
   "execution_count": 33,
   "metadata": {},
   "outputs": [
    {
     "data": {
      "text/plain": [
       "{'colsample_bytree': 0.6,\n",
       " 'gamma': 0.2,\n",
       " 'learning_rate': 0.1,\n",
       " 'max_depth': 8,\n",
       " 'min_child_weight': 2,\n",
       " 'n_estimators': 100,\n",
       " 'subsample': 0.9}"
      ]
     },
     "execution_count": 33,
     "metadata": {},
     "output_type": "execute_result"
    }
   ],
   "source": [
    "# get best parameters from grid search\n",
    "grid_results.best_params_"
   ]
  },
  {
   "cell_type": "markdown",
   "metadata": {},
   "source": [
    "**Validating Our Model Built with the Help of  Grid Search**"
   ]
  },
  {
   "cell_type": "code",
   "execution_count": 34,
   "metadata": {},
   "outputs": [
    {
     "name": "stdout",
     "output_type": "stream",
     "text": [
      "Confusion Matrix\n",
      " [[5776  784]\n",
      " [ 395 4044]]\n",
      "\n",
      "Validation Accuracy: 89.28%\n",
      " \n",
      "\n"
     ]
    }
   ],
   "source": [
    "# define the best model parameters \n",
    "best_grid = grid_results.best_estimator_\n",
    "\n",
    "# predict on validation data with best parameters\n",
    "y_pred8 = best_grid.predict(X_valid)\n",
    "\n",
    "# show confusion matrix and accuracy\n",
    "print(\"Confusion Matrix\\n {}\".format(confusion_matrix(y_valid, y_pred8)))\n",
    "print(\"\\nValidation Accuracy: {:.2f}%\\n \\n\".format(accuracy_score(y_valid, y_pred8)*100))"
   ]
  },
  {
   "cell_type": "markdown",
   "metadata": {},
   "source": [
    "**Use the Model to Predict Test Data**"
   ]
  },
  {
   "cell_type": "code",
   "execution_count": 35,
   "metadata": {},
   "outputs": [
    {
     "name": "stdout",
     "output_type": "stream",
     "text": [
      "Confusion Matrix\n",
      " [[7125 1078]\n",
      " [ 483 5063]]\n",
      "\n",
      "Test Accuracy: 88.65%\n",
      " \n",
      "\n",
      "              precision    recall  f1-score   support\n",
      "\n",
      "           0       0.94      0.87      0.90      8203\n",
      "           1       0.82      0.91      0.87      5546\n",
      "\n",
      "    accuracy                           0.89     13749\n",
      "   macro avg       0.88      0.89      0.88     13749\n",
      "weighted avg       0.89      0.89      0.89     13749\n",
      "\n"
     ]
    }
   ],
   "source": [
    "# let's use the trained XBG model to predict the test data \n",
    "y_pred9 = best_grid.predict(X_test)\n",
    "\n",
    "# show model performance on test data\n",
    "print(\"Confusion Matrix\\n {}\".format(confusion_matrix(y_test, y_pred9)))\n",
    "print(\"\\nTest Accuracy: {:.2f}%\\n \\n\".format(accuracy_score(y_test, y_pred9)*100))\n",
    "\n",
    "# get classification report\n",
    "print(classification_report(y_test, y_pred9))"
   ]
  },
  {
   "cell_type": "markdown",
   "metadata": {},
   "source": [
    "## Model Comparison"
   ]
  },
  {
   "cell_type": "code",
   "execution_count": 83,
   "metadata": {},
   "outputs": [
    {
     "name": "stdout",
     "output_type": "stream",
     "text": [
      "Random Forest\n",
      "Validation Accuracy:88.42% \n",
      "Test Accuracy: 87.88%\n",
      "\n",
      "Neural Network\n",
      "Validation Accuracy: 87.01%\n",
      "Test Accuracy: 86.29%\n",
      "\n",
      "XGBoost\n",
      "Validation Accuracy: 89.28%\n",
      "Test Accuracy: 88.65%\n",
      "\n"
     ]
    }
   ],
   "source": [
    "print(\"Random Forest\\nValidation Accuracy:{}% \\nTest Accuracy: {}%\".format(88.42, 87.88))\n",
    "print(\"\\nNeural Network\\nValidation Accuracy: {}%\\nTest Accuracy: {}%\".format(87.01, 86.29))\n",
    "print(\"\\nXGBoost\\nValidation Accuracy: {}%\\nTest Accuracy: {}%\\n\".format(89.28, 88.65))"
   ]
  },
  {
   "cell_type": "markdown",
   "metadata": {},
   "source": [
    "# 5) Saving the Model"
   ]
  },
  {
   "cell_type": "code",
   "execution_count": 86,
   "metadata": {},
   "outputs": [
    {
     "name": "stderr",
     "output_type": "stream",
     "text": [
      "C:\\Users\\joell\\anaconda3\\lib\\site-packages\\sklearn\\externals\\joblib\\__init__.py:15: FutureWarning:\n",
      "\n",
      "sklearn.externals.joblib is deprecated in 0.21 and will be removed in 0.23. Please import this functionality directly from joblib, which can be installed with: pip install joblib. If this warning is raised when loading pickled models, you may need to re-serialize those models with scikit-learn 0.21+.\n",
      "\n"
     ]
    },
    {
     "data": {
      "text/plain": [
       "['joblib_final_model.pkl']"
      ]
     },
     "execution_count": 86,
     "metadata": {},
     "output_type": "execute_result"
    }
   ],
   "source": [
    "# Save to file to working directory\n",
    "joblib_file = \"joblib_final_model.pkl\"\n",
    "joblib.dump(best_grid, joblib_file)"
   ]
  },
  {
   "cell_type": "code",
   "execution_count": 57,
   "metadata": {},
   "outputs": [],
   "source": [
    "# Load from file\n",
    "final_model = joblib.load(\"joblib_final_model.pkl\")"
   ]
  },
  {
   "cell_type": "code",
   "execution_count": 60,
   "metadata": {},
   "outputs": [
    {
     "name": "stdout",
     "output_type": "stream",
     "text": [
      "Test Accuracy: 88.65 %\n"
     ]
    }
   ],
   "source": [
    "# Calculate the accuracy and predictions\n",
    "score = final_model.score(X_test, y_test)\n",
    "print(\"Test Accuracy: {0:.2f} %\".format(100 * score))"
   ]
  },
  {
   "cell_type": "markdown",
   "metadata": {},
   "source": [
    "# 6) Conclusion"
   ]
  },
  {
   "cell_type": "markdown",
   "metadata": {},
   "source": [
    "**Demographics**\n",
    "- Most customers are roughly aged between 40 and 75 years with an average age of around 54 years\n",
    "- 41.9% female and 58.1% male customers \n",
    "- Average customer income equals 65,388.01 US dollars\n",
    "- Only 40.02% of customers did complete an offer in the past\n",
    "- Average income of customers who did complete an offer in the past: 69,398.28 US dollars (vs. 62,711.8 US dollars of those who did not)\n",
    "- Average age of customers who did complete an offer in the past: 55.8 years (vs. 53.37 years of those who did not)\n",
    "- The proportion of female customers who completed an offer is higher than male customers (46.04% vs. 35.69%)\n",
    "\n",
    "\n",
    "Based on these findings, women tend to react more positively towards the promotions than men. Despite the fact that women only make up around 40% of the customers in the dataset provided, they almost contribute the same number of **completed offers** than men. (13,260 women vs. 14.254 men).\n",
    "\n",
    "**Offers**\n",
    "- Customers who received **Discount**: 31.74%\n",
    "- Customers who received **BOGO**: 31.65%\n",
    "- Customers who didn't receive an offer: 20.79%\n",
    "- Customers who received **Informational**: 15.82%\n",
    "\n",
    "- The offer type with the highest success rate is **Discount** (66.58%), followed by **BOGO** (59.69%)\n",
    "- **Informational** offers can not be traced to any sales\n",
    "\n",
    "Generally, **discounts** show the highest success rate among the 3 offer types and are also the most frequent promotion sent to customers. Furthermore, out of all offers sent out to customers, **informational** promotions make up approx. 15% of offers. 20.79% of customers did not receive any promotion. \n",
    "\n",
    "In terms of difficulty and duration, one can infer that a difficulty level of 10 USD leads to the most completed offers, followed by a level of 5 USD. Further, most offers were completed for promotions that were only valid for 7 days, followed by 10 days and 5 days respectively. No offers were completed for offers that are only valid for 3 or 4 days.\n",
    "\n",
    "**Contact Methods**\n",
    "\n",
    "When comparing the 4 contact methods used (email, mobile, social, web), most customers were contacted via email and mobile device. However, both of these contact methods showed a lower success rate of customers completing an offer compared to social media and web. \n",
    "\n",
    "- Customers contacted via email: 79.21%\n",
    "- Customers contacted via mobile device: 71.2%\n",
    "- Customers contacted via web: 63.33%\n",
    "- Customers contacted via social media: 47.48%\n",
    "\n",
    "\n",
    "- Web success rate: 56.09%\n",
    "- Social media success rate: 54.31%\n",
    "- Email success rate: 50.53%\n",
    "- Mobile success rate: 50.3%\n",
    "\n",
    "**Predictive Model**\n",
    "\n",
    "We built and tuned 3 classifiaction prediction models with the goal to accurately predict our target customers. Our target customer sare defined as customers who have a high likelihood of completing an offer. The 3 models are Random Forest, Neural Network and eXtreme Gradient Boosting (XGBoost). After training and validating the model performance the following results were geneated:\n",
    "\n",
    "- The Random Forest Classifier showed a predictive accuracy of 87.88%\n",
    "- The Neural Network Classifier showed a predictive accuracy of 86.29%\n",
    "- The **XBGoost** Classifier showed a predictive accuracy of **88.65%** \n",
    "\n",
    "Based on these results, we selected XGBoost as the final classifiaction prediction model with which we managed to predict our target customers with approximately 88.65% accuracy."
   ]
  },
  {
   "cell_type": "markdown",
   "metadata": {},
   "source": [
    "### Recommendations"
   ]
  },
  {
   "cell_type": "markdown",
   "metadata": {},
   "source": [
    "In order to increase the company's marketing strategy effectiveness, we derived the following 3 recommendations based on the analysis findings above.\n",
    "\n",
    "**1) Predicting Target Customers**\n",
    "- Identify target customers using the XGBoost model\n",
    "\n",
    "**2) Choosing the right Contact Method(s)**\n",
    "\n",
    "Increase the usage of the following communication channel(s) to send offers:\n",
    "- Web (because it showed the highest success rate among the 4 contact methods)\n",
    "- Social media (because it showed the second highest success rate among the 4 contact methods)\n",
    "\n",
    "**3) Customizing the Offer Appropriately**\n",
    "- Send out more discounts beacuse they show the highest success rate\n",
    "- Keep the amount of BOGO the same beacuse they still show a decent success rate\n",
    "- Tailor the period an offer is valid around 7 - 10 days because this period showed the highest completed offers\n",
    "- Avoid making offers valid for only 3 - 4 days because these offers didn't result in any completed offers\n",
    "\n",
    "The goal is to decrease the total number of customers who did not receive an offer (20.79%) and to increase the success rate of offers sent out (currently 40.02%). This can be done by increasingly targeting female customers who match the target customer profile of customers with slightly above average income (69,398.28 US dollars) and age (55.8 years).\n",
    "\n",
    "Following these recommendations will ensure a more efficient allocation of resources, an increase in the marketing success rate and ultimately growth in profitability for the organization."
   ]
  }
 ],
 "metadata": {
  "kernelspec": {
   "display_name": "Python 3",
   "language": "python",
   "name": "python3"
  },
  "language_info": {
   "codemirror_mode": {
    "name": "ipython",
    "version": 3
   },
   "file_extension": ".py",
   "mimetype": "text/x-python",
   "name": "python",
   "nbconvert_exporter": "python",
   "pygments_lexer": "ipython3",
   "version": "3.7.6"
  }
 },
 "nbformat": 4,
 "nbformat_minor": 4
}
