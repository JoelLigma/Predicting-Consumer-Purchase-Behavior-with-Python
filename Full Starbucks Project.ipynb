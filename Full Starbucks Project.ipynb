{
 "cells": [
  {
   "cell_type": "markdown",
   "metadata": {},
   "source": [
    "# Starbucks App Reward Program"
   ]
  },
  {
   "cell_type": "markdown",
   "metadata": {},
   "source": [
    "**Author: Joel Ligma**            \n",
    "<br>\n",
    "**Date: May 2020 - July 2020**\n"
   ]
  },
  {
   "cell_type": "markdown",
   "metadata": {},
   "source": [
    "**Context**\n",
    "<br>\n",
    "\n",
    "The goal of this project was to predict customer with a high likelihood of completing an offer. In the context of this project, completing an offer refers to a customer receiving a promotional offer, viewing the offer, and using it to complete a purchase. One of the main challenges of this project was to generate a single dataset derived from multiple dataset sources and to prepare the data for later analysis. The data files used for this project were sourced from Kaggle:\n",
    "https://www.kaggle.com/blacktile/starbucks-app-customer-reward-program-data"
   ]
  },
  {
   "cell_type": "markdown",
   "metadata": {},
   "source": [
    "## Table of Contents\n",
    "**1) Data Preprocessing and Merging Multiple Datasets** \n",
    "- Data Cleaning\n",
    "- Feature Engineering\n",
    "- Merging/Concatenating/Joining\n",
    "<br>\n",
    "\n",
    "**2) Exploratory Data Analysis (EDA)**\n",
    "- Summary Statistics\n",
    "- Univariate Analysis\n",
    "- Bivariate Analysis\n",
    "<br>\n",
    "\n",
    "**3) Data Preparation**\n",
    "- Feature Correlation\n",
    "- Dummy Coding\n",
    "- Training, Validation and Test Split\n",
    "- Scaling Data\n",
    "<br>\n",
    "\n",
    "**4) Model Building & Validation**\n",
    "- Baseline Accuracy\n",
    "- Random Forest Classifier\n",
    "- Neural Network Classifier\n",
    "- XGBoost Classifier\n",
    "- Model Comparison\n",
    "<br>\n",
    "\n",
    "**5) Saving the Model**\n",
    "- Saving the Best Performing Model for Future Deployment\n",
    "<br>\n",
    "\n",
    "**6) Conclusion**\n",
    "- Business Implications and Recommendations"
   ]
  },
  {
   "cell_type": "markdown",
   "metadata": {},
   "source": [
    "# 1) Data Preprocessing and Merging Multple Datasets"
   ]
  },
  {
   "cell_type": "code",
   "execution_count": 1,
   "metadata": {},
   "outputs": [
    {
     "name": "stderr",
     "output_type": "stream",
     "text": [
      "C:\\Users\\joell\\anaconda3\\lib\\site-packages\\sklearn\\externals\\joblib\\__init__.py:15: FutureWarning: sklearn.externals.joblib is deprecated in 0.21 and will be removed in 0.23. Please import this functionality directly from joblib, which can be installed with: pip install joblib. If this warning is raised when loading pickled models, you may need to re-serialize those models with scikit-learn 0.21+.\n",
      "  warnings.warn(msg, category=FutureWarning)\n"
     ]
    }
   ],
   "source": [
    "# load Modules\n",
    "import pandas as pd\n",
    "import numpy as np\n",
    "import seaborn as sns\n",
    "import matplotlib.pyplot as plt\n",
    "%matplotlib inline\n",
    "from sklearn.preprocessing import MultiLabelBinarizer # awesome for multiple values in one cell\n",
    "import csv # write csv file of the complete dataset\n",
    "from datetime import date \n",
    "from sklearn.model_selection import train_test_split, GridSearchCV\n",
    "from sklearn.preprocessing import MinMaxScaler # for scaling\n",
    "from xgboost import XGBClassifier\n",
    "from sklearn.metrics import classification_report, confusion_matrix, accuracy_score # model validation\n",
    "from sklearn.ensemble import RandomForestClassifier\n",
    "from tensorflow.keras.models import Sequential\n",
    "from tensorflow.keras.layers import Dense, Dropout\n",
    "import keras\n",
    "from keras.wrappers.scikit_learn import KerasClassifier\n",
    "from keras import optimizers\n",
    "from sklearn.externals import joblib"
   ]
  },
  {
   "cell_type": "code",
   "execution_count": 40,
   "metadata": {},
   "outputs": [],
   "source": [
    "# Read in files\n",
    "portfolio = pd.read_json('portfolio.json', orient='records', lines=True)\n",
    "profile = pd.read_json('profile.json', orient='records', lines=True)\n",
    "transcript = pd.read_json('transcript.json', orient='records', lines=True)"
   ]
  },
  {
   "cell_type": "markdown",
   "metadata": {},
   "source": [
    "## Examine Dataset One: Portfolio"
   ]
  },
  {
   "cell_type": "code",
   "execution_count": 50,
   "metadata": {},
   "outputs": [
    {
     "name": "stdout",
     "output_type": "stream",
     "text": [
      "<class 'pandas.core.frame.DataFrame'>\n",
      "RangeIndex: 10 entries, 0 to 9\n",
      "Data columns (total 6 columns):\n",
      " #   Column      Non-Null Count  Dtype \n",
      "---  ------      --------------  ----- \n",
      " 0   reward      10 non-null     int64 \n",
      " 1   channels    10 non-null     object\n",
      " 2   difficulty  10 non-null     int64 \n",
      " 3   duration    10 non-null     int64 \n",
      " 4   offer_type  10 non-null     object\n",
      " 5   id          10 non-null     object\n",
      "dtypes: int64(3), object(3)\n",
      "memory usage: 608.0+ bytes\n"
     ]
    }
   ],
   "source": [
    "portfolio.info() "
   ]
  },
  {
   "cell_type": "code",
   "execution_count": 51,
   "metadata": {},
   "outputs": [
    {
     "data": {
      "text/html": [
       "<div>\n",
       "<style scoped>\n",
       "    .dataframe tbody tr th:only-of-type {\n",
       "        vertical-align: middle;\n",
       "    }\n",
       "\n",
       "    .dataframe tbody tr th {\n",
       "        vertical-align: top;\n",
       "    }\n",
       "\n",
       "    .dataframe thead th {\n",
       "        text-align: right;\n",
       "    }\n",
       "</style>\n",
       "<table border=\"1\" class=\"dataframe\">\n",
       "  <thead>\n",
       "    <tr style=\"text-align: right;\">\n",
       "      <th></th>\n",
       "      <th>reward</th>\n",
       "      <th>channels</th>\n",
       "      <th>difficulty</th>\n",
       "      <th>duration</th>\n",
       "      <th>offer_type</th>\n",
       "      <th>id</th>\n",
       "    </tr>\n",
       "  </thead>\n",
       "  <tbody>\n",
       "    <tr>\n",
       "      <th>0</th>\n",
       "      <td>10</td>\n",
       "      <td>[email, mobile, social]</td>\n",
       "      <td>10</td>\n",
       "      <td>7</td>\n",
       "      <td>bogo</td>\n",
       "      <td>ae264e3637204a6fb9bb56bc8210ddfd</td>\n",
       "    </tr>\n",
       "    <tr>\n",
       "      <th>1</th>\n",
       "      <td>10</td>\n",
       "      <td>[web, email, mobile, social]</td>\n",
       "      <td>10</td>\n",
       "      <td>5</td>\n",
       "      <td>bogo</td>\n",
       "      <td>4d5c57ea9a6940dd891ad53e9dbe8da0</td>\n",
       "    </tr>\n",
       "    <tr>\n",
       "      <th>2</th>\n",
       "      <td>0</td>\n",
       "      <td>[web, email, mobile]</td>\n",
       "      <td>0</td>\n",
       "      <td>4</td>\n",
       "      <td>informational</td>\n",
       "      <td>3f207df678b143eea3cee63160fa8bed</td>\n",
       "    </tr>\n",
       "    <tr>\n",
       "      <th>3</th>\n",
       "      <td>5</td>\n",
       "      <td>[web, email, mobile]</td>\n",
       "      <td>5</td>\n",
       "      <td>7</td>\n",
       "      <td>bogo</td>\n",
       "      <td>9b98b8c7a33c4b65b9aebfe6a799e6d9</td>\n",
       "    </tr>\n",
       "    <tr>\n",
       "      <th>4</th>\n",
       "      <td>5</td>\n",
       "      <td>[web, email]</td>\n",
       "      <td>20</td>\n",
       "      <td>10</td>\n",
       "      <td>discount</td>\n",
       "      <td>0b1e1539f2cc45b7b9fa7c272da2e1d7</td>\n",
       "    </tr>\n",
       "  </tbody>\n",
       "</table>\n",
       "</div>"
      ],
      "text/plain": [
       "   reward                      channels  difficulty  duration     offer_type  \\\n",
       "0      10       [email, mobile, social]          10         7           bogo   \n",
       "1      10  [web, email, mobile, social]          10         5           bogo   \n",
       "2       0          [web, email, mobile]           0         4  informational   \n",
       "3       5          [web, email, mobile]           5         7           bogo   \n",
       "4       5                  [web, email]          20        10       discount   \n",
       "\n",
       "                                 id  \n",
       "0  ae264e3637204a6fb9bb56bc8210ddfd  \n",
       "1  4d5c57ea9a6940dd891ad53e9dbe8da0  \n",
       "2  3f207df678b143eea3cee63160fa8bed  \n",
       "3  9b98b8c7a33c4b65b9aebfe6a799e6d9  \n",
       "4  0b1e1539f2cc45b7b9fa7c272da2e1d7  "
      ]
     },
     "execution_count": 51,
     "metadata": {},
     "output_type": "execute_result"
    }
   ],
   "source": [
    "portfolio.head()"
   ]
  },
  {
   "cell_type": "markdown",
   "metadata": {},
   "source": [
    "As specified in the source description, the **ID** column listed in the portfolio file refers to **Offer ID**.\n",
    "<br>\n",
    "\n",
    "Let's change the name of this column to **Offer ID**."
   ]
  },
  {
   "cell_type": "code",
   "execution_count": 52,
   "metadata": {},
   "outputs": [],
   "source": [
    "portfolio.rename(columns = {'id':'offer_id'},inplace=True)"
   ]
  },
  {
   "cell_type": "markdown",
   "metadata": {},
   "source": [
    "Check for unique values in **Offer Type** and **Channels**. This is not necessarily important here because we only have 10 rows \n",
    "but will be useful for bigger datasets. Let's do it anyway."
   ]
  },
  {
   "cell_type": "code",
   "execution_count": 53,
   "metadata": {},
   "outputs": [
    {
     "name": "stdout",
     "output_type": "stream",
     "text": [
      "offer_type unique values: ['bogo' 'informational' 'discount']\n"
     ]
    }
   ],
   "source": [
    "print(\"offer_type unique values: {}\".format(portfolio['offer_type'].unique()))"
   ]
  },
  {
   "cell_type": "code",
   "execution_count": 54,
   "metadata": {},
   "outputs": [
    {
     "name": "stdout",
     "output_type": "stream",
     "text": [
      "['email', 'mobile', 'social']\n",
      "['web', 'email', 'mobile', 'social']\n",
      "['web', 'email', 'mobile']\n",
      "['web', 'email']\n"
     ]
    }
   ],
   "source": [
    "# check for unique values/ combinations in list \"channels\"\n",
    "unique_list = [] \n",
    "# loop through list      \n",
    "for channels in portfolio.channels: \n",
    "    if channels not in unique_list: \n",
    "        unique_list.append(channels) \n",
    "        \n",
    "# print unique combinations\n",
    "for channels in unique_list: \n",
    "    print (channels) "
   ]
  },
  {
   "cell_type": "markdown",
   "metadata": {},
   "source": [
    "One can see that both features are not in an appropriate format for machine learning models. Thus, let's create new columns out of these 2 columns with the aim to separate the entries in each row. Subsequently, we will drop the old columns."
   ]
  },
  {
   "cell_type": "code",
   "execution_count": 55,
   "metadata": {},
   "outputs": [
    {
     "data": {
      "text/html": [
       "<div>\n",
       "<style scoped>\n",
       "    .dataframe tbody tr th:only-of-type {\n",
       "        vertical-align: middle;\n",
       "    }\n",
       "\n",
       "    .dataframe tbody tr th {\n",
       "        vertical-align: top;\n",
       "    }\n",
       "\n",
       "    .dataframe thead th {\n",
       "        text-align: right;\n",
       "    }\n",
       "</style>\n",
       "<table border=\"1\" class=\"dataframe\">\n",
       "  <thead>\n",
       "    <tr style=\"text-align: right;\">\n",
       "      <th></th>\n",
       "      <th>reward</th>\n",
       "      <th>channels</th>\n",
       "      <th>difficulty</th>\n",
       "      <th>duration</th>\n",
       "      <th>offer_type</th>\n",
       "      <th>offer_id</th>\n",
       "      <th>email</th>\n",
       "      <th>mobile</th>\n",
       "      <th>social</th>\n",
       "      <th>web</th>\n",
       "      <th>bogo</th>\n",
       "      <th>discount</th>\n",
       "      <th>informational</th>\n",
       "    </tr>\n",
       "  </thead>\n",
       "  <tbody>\n",
       "    <tr>\n",
       "      <th>0</th>\n",
       "      <td>10</td>\n",
       "      <td>[email, mobile, social]</td>\n",
       "      <td>10</td>\n",
       "      <td>7</td>\n",
       "      <td>bogo</td>\n",
       "      <td>ae264e3637204a6fb9bb56bc8210ddfd</td>\n",
       "      <td>1</td>\n",
       "      <td>1</td>\n",
       "      <td>1</td>\n",
       "      <td>0</td>\n",
       "      <td>1</td>\n",
       "      <td>0</td>\n",
       "      <td>0</td>\n",
       "    </tr>\n",
       "    <tr>\n",
       "      <th>1</th>\n",
       "      <td>10</td>\n",
       "      <td>[web, email, mobile, social]</td>\n",
       "      <td>10</td>\n",
       "      <td>5</td>\n",
       "      <td>bogo</td>\n",
       "      <td>4d5c57ea9a6940dd891ad53e9dbe8da0</td>\n",
       "      <td>1</td>\n",
       "      <td>1</td>\n",
       "      <td>1</td>\n",
       "      <td>1</td>\n",
       "      <td>1</td>\n",
       "      <td>0</td>\n",
       "      <td>0</td>\n",
       "    </tr>\n",
       "    <tr>\n",
       "      <th>2</th>\n",
       "      <td>0</td>\n",
       "      <td>[web, email, mobile]</td>\n",
       "      <td>0</td>\n",
       "      <td>4</td>\n",
       "      <td>informational</td>\n",
       "      <td>3f207df678b143eea3cee63160fa8bed</td>\n",
       "      <td>1</td>\n",
       "      <td>1</td>\n",
       "      <td>0</td>\n",
       "      <td>1</td>\n",
       "      <td>0</td>\n",
       "      <td>0</td>\n",
       "      <td>1</td>\n",
       "    </tr>\n",
       "    <tr>\n",
       "      <th>3</th>\n",
       "      <td>5</td>\n",
       "      <td>[web, email, mobile]</td>\n",
       "      <td>5</td>\n",
       "      <td>7</td>\n",
       "      <td>bogo</td>\n",
       "      <td>9b98b8c7a33c4b65b9aebfe6a799e6d9</td>\n",
       "      <td>1</td>\n",
       "      <td>1</td>\n",
       "      <td>0</td>\n",
       "      <td>1</td>\n",
       "      <td>1</td>\n",
       "      <td>0</td>\n",
       "      <td>0</td>\n",
       "    </tr>\n",
       "    <tr>\n",
       "      <th>4</th>\n",
       "      <td>5</td>\n",
       "      <td>[web, email]</td>\n",
       "      <td>20</td>\n",
       "      <td>10</td>\n",
       "      <td>discount</td>\n",
       "      <td>0b1e1539f2cc45b7b9fa7c272da2e1d7</td>\n",
       "      <td>1</td>\n",
       "      <td>0</td>\n",
       "      <td>0</td>\n",
       "      <td>1</td>\n",
       "      <td>0</td>\n",
       "      <td>1</td>\n",
       "      <td>0</td>\n",
       "    </tr>\n",
       "    <tr>\n",
       "      <th>5</th>\n",
       "      <td>3</td>\n",
       "      <td>[web, email, mobile, social]</td>\n",
       "      <td>7</td>\n",
       "      <td>7</td>\n",
       "      <td>discount</td>\n",
       "      <td>2298d6c36e964ae4a3e7e9706d1fb8c2</td>\n",
       "      <td>1</td>\n",
       "      <td>1</td>\n",
       "      <td>1</td>\n",
       "      <td>1</td>\n",
       "      <td>0</td>\n",
       "      <td>1</td>\n",
       "      <td>0</td>\n",
       "    </tr>\n",
       "    <tr>\n",
       "      <th>6</th>\n",
       "      <td>2</td>\n",
       "      <td>[web, email, mobile, social]</td>\n",
       "      <td>10</td>\n",
       "      <td>10</td>\n",
       "      <td>discount</td>\n",
       "      <td>fafdcd668e3743c1bb461111dcafc2a4</td>\n",
       "      <td>1</td>\n",
       "      <td>1</td>\n",
       "      <td>1</td>\n",
       "      <td>1</td>\n",
       "      <td>0</td>\n",
       "      <td>1</td>\n",
       "      <td>0</td>\n",
       "    </tr>\n",
       "    <tr>\n",
       "      <th>7</th>\n",
       "      <td>0</td>\n",
       "      <td>[email, mobile, social]</td>\n",
       "      <td>0</td>\n",
       "      <td>3</td>\n",
       "      <td>informational</td>\n",
       "      <td>5a8bc65990b245e5a138643cd4eb9837</td>\n",
       "      <td>1</td>\n",
       "      <td>1</td>\n",
       "      <td>1</td>\n",
       "      <td>0</td>\n",
       "      <td>0</td>\n",
       "      <td>0</td>\n",
       "      <td>1</td>\n",
       "    </tr>\n",
       "    <tr>\n",
       "      <th>8</th>\n",
       "      <td>5</td>\n",
       "      <td>[web, email, mobile, social]</td>\n",
       "      <td>5</td>\n",
       "      <td>5</td>\n",
       "      <td>bogo</td>\n",
       "      <td>f19421c1d4aa40978ebb69ca19b0e20d</td>\n",
       "      <td>1</td>\n",
       "      <td>1</td>\n",
       "      <td>1</td>\n",
       "      <td>1</td>\n",
       "      <td>1</td>\n",
       "      <td>0</td>\n",
       "      <td>0</td>\n",
       "    </tr>\n",
       "    <tr>\n",
       "      <th>9</th>\n",
       "      <td>2</td>\n",
       "      <td>[web, email, mobile]</td>\n",
       "      <td>10</td>\n",
       "      <td>7</td>\n",
       "      <td>discount</td>\n",
       "      <td>2906b810c7d4411798c6938adc9daaa5</td>\n",
       "      <td>1</td>\n",
       "      <td>1</td>\n",
       "      <td>0</td>\n",
       "      <td>1</td>\n",
       "      <td>0</td>\n",
       "      <td>1</td>\n",
       "      <td>0</td>\n",
       "    </tr>\n",
       "  </tbody>\n",
       "</table>\n",
       "</div>"
      ],
      "text/plain": [
       "   reward                      channels  difficulty  duration     offer_type  \\\n",
       "0      10       [email, mobile, social]          10         7           bogo   \n",
       "1      10  [web, email, mobile, social]          10         5           bogo   \n",
       "2       0          [web, email, mobile]           0         4  informational   \n",
       "3       5          [web, email, mobile]           5         7           bogo   \n",
       "4       5                  [web, email]          20        10       discount   \n",
       "5       3  [web, email, mobile, social]           7         7       discount   \n",
       "6       2  [web, email, mobile, social]          10        10       discount   \n",
       "7       0       [email, mobile, social]           0         3  informational   \n",
       "8       5  [web, email, mobile, social]           5         5           bogo   \n",
       "9       2          [web, email, mobile]          10         7       discount   \n",
       "\n",
       "                           offer_id  email  mobile  social  web  bogo  \\\n",
       "0  ae264e3637204a6fb9bb56bc8210ddfd      1       1       1    0     1   \n",
       "1  4d5c57ea9a6940dd891ad53e9dbe8da0      1       1       1    1     1   \n",
       "2  3f207df678b143eea3cee63160fa8bed      1       1       0    1     0   \n",
       "3  9b98b8c7a33c4b65b9aebfe6a799e6d9      1       1       0    1     1   \n",
       "4  0b1e1539f2cc45b7b9fa7c272da2e1d7      1       0       0    1     0   \n",
       "5  2298d6c36e964ae4a3e7e9706d1fb8c2      1       1       1    1     0   \n",
       "6  fafdcd668e3743c1bb461111dcafc2a4      1       1       1    1     0   \n",
       "7  5a8bc65990b245e5a138643cd4eb9837      1       1       1    0     0   \n",
       "8  f19421c1d4aa40978ebb69ca19b0e20d      1       1       1    1     1   \n",
       "9  2906b810c7d4411798c6938adc9daaa5      1       1       0    1     0   \n",
       "\n",
       "   discount  informational  \n",
       "0         0              0  \n",
       "1         0              0  \n",
       "2         0              1  \n",
       "3         0              0  \n",
       "4         1              0  \n",
       "5         1              0  \n",
       "6         1              0  \n",
       "7         0              1  \n",
       "8         0              0  \n",
       "9         1              0  "
      ]
     },
     "execution_count": 55,
     "metadata": {},
     "output_type": "execute_result"
    }
   ],
   "source": [
    "# separate the entires in the \"channels\" column and dummy code them\n",
    "mlb = MultiLabelBinarizer()\n",
    "channels_array = mlb.fit_transform(portfolio[\"channels\"])\n",
    "channels_df = pd.DataFrame(data=channels_array, columns=mlb.classes_)\n",
    "# merge channels_df with portfolio again\n",
    "portfolio = pd.concat([portfolio, channels_df], axis=1)\n",
    "\n",
    "# also dummy code \"offer_type\" \n",
    "portfolio = pd.concat([portfolio, pd.get_dummies(portfolio['offer_type'])], axis=1)\n",
    "\n",
    "# examine if it worked porperly\n",
    "portfolio.head(10)"
   ]
  },
  {
   "cell_type": "code",
   "execution_count": 56,
   "metadata": {},
   "outputs": [
    {
     "data": {
      "text/html": [
       "<div>\n",
       "<style scoped>\n",
       "    .dataframe tbody tr th:only-of-type {\n",
       "        vertical-align: middle;\n",
       "    }\n",
       "\n",
       "    .dataframe tbody tr th {\n",
       "        vertical-align: top;\n",
       "    }\n",
       "\n",
       "    .dataframe thead th {\n",
       "        text-align: right;\n",
       "    }\n",
       "</style>\n",
       "<table border=\"1\" class=\"dataframe\">\n",
       "  <thead>\n",
       "    <tr style=\"text-align: right;\">\n",
       "      <th></th>\n",
       "      <th>reward</th>\n",
       "      <th>difficulty</th>\n",
       "      <th>duration</th>\n",
       "      <th>offer_id</th>\n",
       "      <th>email</th>\n",
       "      <th>mobile</th>\n",
       "      <th>social</th>\n",
       "      <th>web</th>\n",
       "      <th>bogo</th>\n",
       "      <th>discount</th>\n",
       "      <th>informational</th>\n",
       "    </tr>\n",
       "  </thead>\n",
       "  <tbody>\n",
       "    <tr>\n",
       "      <th>0</th>\n",
       "      <td>10</td>\n",
       "      <td>10</td>\n",
       "      <td>7</td>\n",
       "      <td>ae264e3637204a6fb9bb56bc8210ddfd</td>\n",
       "      <td>1</td>\n",
       "      <td>1</td>\n",
       "      <td>1</td>\n",
       "      <td>0</td>\n",
       "      <td>1</td>\n",
       "      <td>0</td>\n",
       "      <td>0</td>\n",
       "    </tr>\n",
       "    <tr>\n",
       "      <th>1</th>\n",
       "      <td>10</td>\n",
       "      <td>10</td>\n",
       "      <td>5</td>\n",
       "      <td>4d5c57ea9a6940dd891ad53e9dbe8da0</td>\n",
       "      <td>1</td>\n",
       "      <td>1</td>\n",
       "      <td>1</td>\n",
       "      <td>1</td>\n",
       "      <td>1</td>\n",
       "      <td>0</td>\n",
       "      <td>0</td>\n",
       "    </tr>\n",
       "    <tr>\n",
       "      <th>2</th>\n",
       "      <td>0</td>\n",
       "      <td>0</td>\n",
       "      <td>4</td>\n",
       "      <td>3f207df678b143eea3cee63160fa8bed</td>\n",
       "      <td>1</td>\n",
       "      <td>1</td>\n",
       "      <td>0</td>\n",
       "      <td>1</td>\n",
       "      <td>0</td>\n",
       "      <td>0</td>\n",
       "      <td>1</td>\n",
       "    </tr>\n",
       "    <tr>\n",
       "      <th>3</th>\n",
       "      <td>5</td>\n",
       "      <td>5</td>\n",
       "      <td>7</td>\n",
       "      <td>9b98b8c7a33c4b65b9aebfe6a799e6d9</td>\n",
       "      <td>1</td>\n",
       "      <td>1</td>\n",
       "      <td>0</td>\n",
       "      <td>1</td>\n",
       "      <td>1</td>\n",
       "      <td>0</td>\n",
       "      <td>0</td>\n",
       "    </tr>\n",
       "    <tr>\n",
       "      <th>4</th>\n",
       "      <td>5</td>\n",
       "      <td>20</td>\n",
       "      <td>10</td>\n",
       "      <td>0b1e1539f2cc45b7b9fa7c272da2e1d7</td>\n",
       "      <td>1</td>\n",
       "      <td>0</td>\n",
       "      <td>0</td>\n",
       "      <td>1</td>\n",
       "      <td>0</td>\n",
       "      <td>1</td>\n",
       "      <td>0</td>\n",
       "    </tr>\n",
       "  </tbody>\n",
       "</table>\n",
       "</div>"
      ],
      "text/plain": [
       "   reward  difficulty  duration                          offer_id  email  \\\n",
       "0      10          10         7  ae264e3637204a6fb9bb56bc8210ddfd      1   \n",
       "1      10          10         5  4d5c57ea9a6940dd891ad53e9dbe8da0      1   \n",
       "2       0           0         4  3f207df678b143eea3cee63160fa8bed      1   \n",
       "3       5           5         7  9b98b8c7a33c4b65b9aebfe6a799e6d9      1   \n",
       "4       5          20        10  0b1e1539f2cc45b7b9fa7c272da2e1d7      1   \n",
       "\n",
       "   mobile  social  web  bogo  discount  informational  \n",
       "0       1       1    0     1         0              0  \n",
       "1       1       1    1     1         0              0  \n",
       "2       1       0    1     0         0              1  \n",
       "3       1       0    1     1         0              0  \n",
       "4       0       0    1     0         1              0  "
      ]
     },
     "execution_count": 56,
     "metadata": {},
     "output_type": "execute_result"
    }
   ],
   "source": [
    "# quick comment: all missing data in \"channels\" were assigned a \"0\"\n",
    "\n",
    "# drop \"channels\" and \"offer_type\" columns since they are now redundant\n",
    "portfolio.drop(\"channels\", axis=1, inplace=True)\n",
    "portfolio.drop(\"offer_type\", axis=1, inplace=True)\n",
    "\n",
    "portfolio.head() # we keep offer_id to be able to merge the data sets later"
   ]
  },
  {
   "cell_type": "markdown",
   "metadata": {},
   "source": [
    "As a result, the first dataset is now ready to be used for machine learning. The **Offer ID** column remains in its current state because it will be used to merge the datasets later on."
   ]
  },
  {
   "cell_type": "markdown",
   "metadata": {},
   "source": [
    "## Examine Dataset Two: Transcript"
   ]
  },
  {
   "cell_type": "code",
   "execution_count": 57,
   "metadata": {},
   "outputs": [
    {
     "name": "stdout",
     "output_type": "stream",
     "text": [
      "<class 'pandas.core.frame.DataFrame'>\n",
      "RangeIndex: 306534 entries, 0 to 306533\n",
      "Data columns (total 4 columns):\n",
      " #   Column  Non-Null Count   Dtype \n",
      "---  ------  --------------   ----- \n",
      " 0   person  306534 non-null  object\n",
      " 1   event   306534 non-null  object\n",
      " 2   value   306534 non-null  object\n",
      " 3   time    306534 non-null  int64 \n",
      "dtypes: int64(1), object(3)\n",
      "memory usage: 9.4+ MB\n"
     ]
    }
   ],
   "source": [
    "transcript.info()"
   ]
  },
  {
   "cell_type": "code",
   "execution_count": 58,
   "metadata": {},
   "outputs": [
    {
     "data": {
      "text/html": [
       "<div>\n",
       "<style scoped>\n",
       "    .dataframe tbody tr th:only-of-type {\n",
       "        vertical-align: middle;\n",
       "    }\n",
       "\n",
       "    .dataframe tbody tr th {\n",
       "        vertical-align: top;\n",
       "    }\n",
       "\n",
       "    .dataframe thead th {\n",
       "        text-align: right;\n",
       "    }\n",
       "</style>\n",
       "<table border=\"1\" class=\"dataframe\">\n",
       "  <thead>\n",
       "    <tr style=\"text-align: right;\">\n",
       "      <th></th>\n",
       "      <th>person</th>\n",
       "      <th>event</th>\n",
       "      <th>value</th>\n",
       "      <th>time</th>\n",
       "    </tr>\n",
       "  </thead>\n",
       "  <tbody>\n",
       "    <tr>\n",
       "      <th>0</th>\n",
       "      <td>78afa995795e4d85b5d9ceeca43f5fef</td>\n",
       "      <td>offer received</td>\n",
       "      <td>{'offer id': '9b98b8c7a33c4b65b9aebfe6a799e6d9'}</td>\n",
       "      <td>0</td>\n",
       "    </tr>\n",
       "    <tr>\n",
       "      <th>1</th>\n",
       "      <td>a03223e636434f42ac4c3df47e8bac43</td>\n",
       "      <td>offer received</td>\n",
       "      <td>{'offer id': '0b1e1539f2cc45b7b9fa7c272da2e1d7'}</td>\n",
       "      <td>0</td>\n",
       "    </tr>\n",
       "    <tr>\n",
       "      <th>2</th>\n",
       "      <td>e2127556f4f64592b11af22de27a7932</td>\n",
       "      <td>offer received</td>\n",
       "      <td>{'offer id': '2906b810c7d4411798c6938adc9daaa5'}</td>\n",
       "      <td>0</td>\n",
       "    </tr>\n",
       "    <tr>\n",
       "      <th>3</th>\n",
       "      <td>8ec6ce2a7e7949b1bf142def7d0e0586</td>\n",
       "      <td>offer received</td>\n",
       "      <td>{'offer id': 'fafdcd668e3743c1bb461111dcafc2a4'}</td>\n",
       "      <td>0</td>\n",
       "    </tr>\n",
       "    <tr>\n",
       "      <th>4</th>\n",
       "      <td>68617ca6246f4fbc85e91a2a49552598</td>\n",
       "      <td>offer received</td>\n",
       "      <td>{'offer id': '4d5c57ea9a6940dd891ad53e9dbe8da0'}</td>\n",
       "      <td>0</td>\n",
       "    </tr>\n",
       "  </tbody>\n",
       "</table>\n",
       "</div>"
      ],
      "text/plain": [
       "                             person           event  \\\n",
       "0  78afa995795e4d85b5d9ceeca43f5fef  offer received   \n",
       "1  a03223e636434f42ac4c3df47e8bac43  offer received   \n",
       "2  e2127556f4f64592b11af22de27a7932  offer received   \n",
       "3  8ec6ce2a7e7949b1bf142def7d0e0586  offer received   \n",
       "4  68617ca6246f4fbc85e91a2a49552598  offer received   \n",
       "\n",
       "                                              value  time  \n",
       "0  {'offer id': '9b98b8c7a33c4b65b9aebfe6a799e6d9'}     0  \n",
       "1  {'offer id': '0b1e1539f2cc45b7b9fa7c272da2e1d7'}     0  \n",
       "2  {'offer id': '2906b810c7d4411798c6938adc9daaa5'}     0  \n",
       "3  {'offer id': 'fafdcd668e3743c1bb461111dcafc2a4'}     0  \n",
       "4  {'offer id': '4d5c57ea9a6940dd891ad53e9dbe8da0'}     0  "
      ]
     },
     "execution_count": 58,
     "metadata": {},
     "output_type": "execute_result"
    }
   ],
   "source": [
    "transcript.head()"
   ]
  },
  {
   "cell_type": "markdown",
   "metadata": {},
   "source": [
    "According to the information given on Kaggle, **Person** refers to **Customer ID** so let's rename this column."
   ]
  },
  {
   "cell_type": "code",
   "execution_count": 59,
   "metadata": {},
   "outputs": [],
   "source": [
    "transcript.rename(columns = {'person': 'customer_id'}, inplace = True)"
   ]
  },
  {
   "cell_type": "markdown",
   "metadata": {},
   "source": [
    "Next, the feature **Value** will be examined."
   ]
  },
  {
   "cell_type": "code",
   "execution_count": 60,
   "metadata": {},
   "outputs": [
    {
     "data": {
      "text/plain": [
       "{'offer id': 10, 'amount': 5103, 'offer_id': 8, 'reward': 4}"
      ]
     },
     "execution_count": 60,
     "metadata": {},
     "output_type": "execute_result"
    }
   ],
   "source": [
    "# check for unique values in \"value\" column\n",
    "values_per_key = {}\n",
    "for d in transcript.value:\n",
    "    for k, v in d.items():\n",
    "        values_per_key.setdefault(k, set()).add(v)\n",
    "counts = {k: len(v) for k, v in values_per_key.items()}\n",
    "counts"
   ]
  },
  {
   "cell_type": "markdown",
   "metadata": {},
   "source": [
    "Looks like the data for multiple columns ended up in this single column or the file didn't read in properly. In its current state the **Value** column contains information from 3 separate columns. This is based on the assumption that **Offer_ID** and **Offer ID** are the same column.\n",
    "\n",
    "**My approach:**\n",
    "\n",
    "- split the column into separate columns and store them into a new dataframe\n",
    "- check values and then combine the two offer_id columns\n",
    "- drop the old columns\n",
    "- combine the two dataframes"
   ]
  },
  {
   "cell_type": "code",
   "execution_count": 61,
   "metadata": {},
   "outputs": [
    {
     "data": {
      "text/html": [
       "<div>\n",
       "<style scoped>\n",
       "    .dataframe tbody tr th:only-of-type {\n",
       "        vertical-align: middle;\n",
       "    }\n",
       "\n",
       "    .dataframe tbody tr th {\n",
       "        vertical-align: top;\n",
       "    }\n",
       "\n",
       "    .dataframe thead th {\n",
       "        text-align: right;\n",
       "    }\n",
       "</style>\n",
       "<table border=\"1\" class=\"dataframe\">\n",
       "  <thead>\n",
       "    <tr style=\"text-align: right;\">\n",
       "      <th></th>\n",
       "      <th>customer_id</th>\n",
       "      <th>event</th>\n",
       "      <th>value</th>\n",
       "      <th>time</th>\n",
       "      <th>amount</th>\n",
       "      <th>reward</th>\n",
       "      <th>offer_id</th>\n",
       "    </tr>\n",
       "  </thead>\n",
       "  <tbody>\n",
       "    <tr>\n",
       "      <th>0</th>\n",
       "      <td>78afa995795e4d85b5d9ceeca43f5fef</td>\n",
       "      <td>offer received</td>\n",
       "      <td>{'offer id': '9b98b8c7a33c4b65b9aebfe6a799e6d9'}</td>\n",
       "      <td>0</td>\n",
       "      <td>NaN</td>\n",
       "      <td>NaN</td>\n",
       "      <td>9b98b8c7a33c4b65b9aebfe6a799e6d9</td>\n",
       "    </tr>\n",
       "    <tr>\n",
       "      <th>1</th>\n",
       "      <td>a03223e636434f42ac4c3df47e8bac43</td>\n",
       "      <td>offer received</td>\n",
       "      <td>{'offer id': '0b1e1539f2cc45b7b9fa7c272da2e1d7'}</td>\n",
       "      <td>0</td>\n",
       "      <td>NaN</td>\n",
       "      <td>NaN</td>\n",
       "      <td>0b1e1539f2cc45b7b9fa7c272da2e1d7</td>\n",
       "    </tr>\n",
       "    <tr>\n",
       "      <th>2</th>\n",
       "      <td>e2127556f4f64592b11af22de27a7932</td>\n",
       "      <td>offer received</td>\n",
       "      <td>{'offer id': '2906b810c7d4411798c6938adc9daaa5'}</td>\n",
       "      <td>0</td>\n",
       "      <td>NaN</td>\n",
       "      <td>NaN</td>\n",
       "      <td>2906b810c7d4411798c6938adc9daaa5</td>\n",
       "    </tr>\n",
       "    <tr>\n",
       "      <th>3</th>\n",
       "      <td>8ec6ce2a7e7949b1bf142def7d0e0586</td>\n",
       "      <td>offer received</td>\n",
       "      <td>{'offer id': 'fafdcd668e3743c1bb461111dcafc2a4'}</td>\n",
       "      <td>0</td>\n",
       "      <td>NaN</td>\n",
       "      <td>NaN</td>\n",
       "      <td>fafdcd668e3743c1bb461111dcafc2a4</td>\n",
       "    </tr>\n",
       "    <tr>\n",
       "      <th>4</th>\n",
       "      <td>68617ca6246f4fbc85e91a2a49552598</td>\n",
       "      <td>offer received</td>\n",
       "      <td>{'offer id': '4d5c57ea9a6940dd891ad53e9dbe8da0'}</td>\n",
       "      <td>0</td>\n",
       "      <td>NaN</td>\n",
       "      <td>NaN</td>\n",
       "      <td>4d5c57ea9a6940dd891ad53e9dbe8da0</td>\n",
       "    </tr>\n",
       "    <tr>\n",
       "      <th>5</th>\n",
       "      <td>389bc3fa690240e798340f5a15918d5c</td>\n",
       "      <td>offer received</td>\n",
       "      <td>{'offer id': 'f19421c1d4aa40978ebb69ca19b0e20d'}</td>\n",
       "      <td>0</td>\n",
       "      <td>NaN</td>\n",
       "      <td>NaN</td>\n",
       "      <td>f19421c1d4aa40978ebb69ca19b0e20d</td>\n",
       "    </tr>\n",
       "    <tr>\n",
       "      <th>6</th>\n",
       "      <td>c4863c7985cf408faee930f111475da3</td>\n",
       "      <td>offer received</td>\n",
       "      <td>{'offer id': '2298d6c36e964ae4a3e7e9706d1fb8c2'}</td>\n",
       "      <td>0</td>\n",
       "      <td>NaN</td>\n",
       "      <td>NaN</td>\n",
       "      <td>2298d6c36e964ae4a3e7e9706d1fb8c2</td>\n",
       "    </tr>\n",
       "    <tr>\n",
       "      <th>7</th>\n",
       "      <td>2eeac8d8feae4a8cad5a6af0499a211d</td>\n",
       "      <td>offer received</td>\n",
       "      <td>{'offer id': '3f207df678b143eea3cee63160fa8bed'}</td>\n",
       "      <td>0</td>\n",
       "      <td>NaN</td>\n",
       "      <td>NaN</td>\n",
       "      <td>3f207df678b143eea3cee63160fa8bed</td>\n",
       "    </tr>\n",
       "    <tr>\n",
       "      <th>8</th>\n",
       "      <td>aa4862eba776480b8bb9c68455b8c2e1</td>\n",
       "      <td>offer received</td>\n",
       "      <td>{'offer id': '0b1e1539f2cc45b7b9fa7c272da2e1d7'}</td>\n",
       "      <td>0</td>\n",
       "      <td>NaN</td>\n",
       "      <td>NaN</td>\n",
       "      <td>0b1e1539f2cc45b7b9fa7c272da2e1d7</td>\n",
       "    </tr>\n",
       "    <tr>\n",
       "      <th>9</th>\n",
       "      <td>31dda685af34476cad5bc968bdb01c53</td>\n",
       "      <td>offer received</td>\n",
       "      <td>{'offer id': '0b1e1539f2cc45b7b9fa7c272da2e1d7'}</td>\n",
       "      <td>0</td>\n",
       "      <td>NaN</td>\n",
       "      <td>NaN</td>\n",
       "      <td>0b1e1539f2cc45b7b9fa7c272da2e1d7</td>\n",
       "    </tr>\n",
       "  </tbody>\n",
       "</table>\n",
       "</div>"
      ],
      "text/plain": [
       "                        customer_id           event  \\\n",
       "0  78afa995795e4d85b5d9ceeca43f5fef  offer received   \n",
       "1  a03223e636434f42ac4c3df47e8bac43  offer received   \n",
       "2  e2127556f4f64592b11af22de27a7932  offer received   \n",
       "3  8ec6ce2a7e7949b1bf142def7d0e0586  offer received   \n",
       "4  68617ca6246f4fbc85e91a2a49552598  offer received   \n",
       "5  389bc3fa690240e798340f5a15918d5c  offer received   \n",
       "6  c4863c7985cf408faee930f111475da3  offer received   \n",
       "7  2eeac8d8feae4a8cad5a6af0499a211d  offer received   \n",
       "8  aa4862eba776480b8bb9c68455b8c2e1  offer received   \n",
       "9  31dda685af34476cad5bc968bdb01c53  offer received   \n",
       "\n",
       "                                              value  time  amount  reward  \\\n",
       "0  {'offer id': '9b98b8c7a33c4b65b9aebfe6a799e6d9'}     0     NaN     NaN   \n",
       "1  {'offer id': '0b1e1539f2cc45b7b9fa7c272da2e1d7'}     0     NaN     NaN   \n",
       "2  {'offer id': '2906b810c7d4411798c6938adc9daaa5'}     0     NaN     NaN   \n",
       "3  {'offer id': 'fafdcd668e3743c1bb461111dcafc2a4'}     0     NaN     NaN   \n",
       "4  {'offer id': '4d5c57ea9a6940dd891ad53e9dbe8da0'}     0     NaN     NaN   \n",
       "5  {'offer id': 'f19421c1d4aa40978ebb69ca19b0e20d'}     0     NaN     NaN   \n",
       "6  {'offer id': '2298d6c36e964ae4a3e7e9706d1fb8c2'}     0     NaN     NaN   \n",
       "7  {'offer id': '3f207df678b143eea3cee63160fa8bed'}     0     NaN     NaN   \n",
       "8  {'offer id': '0b1e1539f2cc45b7b9fa7c272da2e1d7'}     0     NaN     NaN   \n",
       "9  {'offer id': '0b1e1539f2cc45b7b9fa7c272da2e1d7'}     0     NaN     NaN   \n",
       "\n",
       "                           offer_id  \n",
       "0  9b98b8c7a33c4b65b9aebfe6a799e6d9  \n",
       "1  0b1e1539f2cc45b7b9fa7c272da2e1d7  \n",
       "2  2906b810c7d4411798c6938adc9daaa5  \n",
       "3  fafdcd668e3743c1bb461111dcafc2a4  \n",
       "4  4d5c57ea9a6940dd891ad53e9dbe8da0  \n",
       "5  f19421c1d4aa40978ebb69ca19b0e20d  \n",
       "6  2298d6c36e964ae4a3e7e9706d1fb8c2  \n",
       "7  3f207df678b143eea3cee63160fa8bed  \n",
       "8  0b1e1539f2cc45b7b9fa7c272da2e1d7  \n",
       "9  0b1e1539f2cc45b7b9fa7c272da2e1d7  "
      ]
     },
     "execution_count": 61,
     "metadata": {},
     "output_type": "execute_result"
    }
   ],
   "source": [
    "# split the columns and create new dataframe with these columns\n",
    "df = transcript[\"value\"].apply(pd.Series)\n",
    "\n",
    "# combine \"offer_id\" and \"offer id\" into a single columns based on NaNs and drop both afterwards\n",
    "df[\"offer_id_new\"] = df['offer_id'].fillna(df[\"offer id\"])\n",
    "df.drop(columns = 'offer_id', inplace = True )\n",
    "df.drop(columns = 'offer id', inplace = True )\n",
    "\n",
    "# combine the new column with the transcript dataframe again\n",
    "transcript_1 = pd.concat([transcript, df], axis=1)\n",
    "\n",
    "# change the \"offer_id_new\" column label to \"offer_id\"\n",
    "transcript_1.rename(columns = {'offer_id_new': 'offer_id'}, inplace = True)\n",
    "\n",
    "transcript_1.head(10)"
   ]
  },
  {
   "cell_type": "markdown",
   "metadata": {},
   "source": [
    "Looks like it worked as intended. Next, let's drop the original **Value** column since it is now redundant."
   ]
  },
  {
   "cell_type": "code",
   "execution_count": 62,
   "metadata": {},
   "outputs": [],
   "source": [
    "transcript_1.drop(columns = \"value\", inplace=True)"
   ]
  },
  {
   "cell_type": "markdown",
   "metadata": {},
   "source": [
    "Taking a closer look look at **Offer ID** and **Customer ID**. "
   ]
  },
  {
   "cell_type": "code",
   "execution_count": 63,
   "metadata": {},
   "outputs": [
    {
     "data": {
      "text/html": [
       "<div>\n",
       "<style scoped>\n",
       "    .dataframe tbody tr th:only-of-type {\n",
       "        vertical-align: middle;\n",
       "    }\n",
       "\n",
       "    .dataframe tbody tr th {\n",
       "        vertical-align: top;\n",
       "    }\n",
       "\n",
       "    .dataframe thead th {\n",
       "        text-align: right;\n",
       "    }\n",
       "</style>\n",
       "<table border=\"1\" class=\"dataframe\">\n",
       "  <thead>\n",
       "    <tr style=\"text-align: right;\">\n",
       "      <th></th>\n",
       "      <th>customer_id</th>\n",
       "      <th>event</th>\n",
       "      <th>time</th>\n",
       "      <th>amount</th>\n",
       "      <th>reward</th>\n",
       "      <th>offer_id</th>\n",
       "    </tr>\n",
       "  </thead>\n",
       "  <tbody>\n",
       "    <tr>\n",
       "      <th>247879</th>\n",
       "      <td>0009655768c64bdeb2e877511632db8f</td>\n",
       "      <td>offer received</td>\n",
       "      <td>576</td>\n",
       "      <td>NaN</td>\n",
       "      <td>NaN</td>\n",
       "      <td>2906b810c7d4411798c6938adc9daaa5</td>\n",
       "    </tr>\n",
       "    <tr>\n",
       "      <th>258884</th>\n",
       "      <td>0009655768c64bdeb2e877511632db8f</td>\n",
       "      <td>offer completed</td>\n",
       "      <td>576</td>\n",
       "      <td>NaN</td>\n",
       "      <td>2.0</td>\n",
       "      <td>2906b810c7d4411798c6938adc9daaa5</td>\n",
       "    </tr>\n",
       "    <tr>\n",
       "      <th>113605</th>\n",
       "      <td>0009655768c64bdeb2e877511632db8f</td>\n",
       "      <td>offer received</td>\n",
       "      <td>336</td>\n",
       "      <td>NaN</td>\n",
       "      <td>NaN</td>\n",
       "      <td>3f207df678b143eea3cee63160fa8bed</td>\n",
       "    </tr>\n",
       "    <tr>\n",
       "      <th>139992</th>\n",
       "      <td>0009655768c64bdeb2e877511632db8f</td>\n",
       "      <td>offer viewed</td>\n",
       "      <td>372</td>\n",
       "      <td>NaN</td>\n",
       "      <td>NaN</td>\n",
       "      <td>3f207df678b143eea3cee63160fa8bed</td>\n",
       "    </tr>\n",
       "    <tr>\n",
       "      <th>55972</th>\n",
       "      <td>0009655768c64bdeb2e877511632db8f</td>\n",
       "      <td>offer received</td>\n",
       "      <td>168</td>\n",
       "      <td>NaN</td>\n",
       "      <td>NaN</td>\n",
       "      <td>5a8bc65990b245e5a138643cd4eb9837</td>\n",
       "    </tr>\n",
       "    <tr>\n",
       "      <th>77705</th>\n",
       "      <td>0009655768c64bdeb2e877511632db8f</td>\n",
       "      <td>offer viewed</td>\n",
       "      <td>192</td>\n",
       "      <td>NaN</td>\n",
       "      <td>NaN</td>\n",
       "      <td>5a8bc65990b245e5a138643cd4eb9837</td>\n",
       "    </tr>\n",
       "    <tr>\n",
       "      <th>153401</th>\n",
       "      <td>0009655768c64bdeb2e877511632db8f</td>\n",
       "      <td>offer received</td>\n",
       "      <td>408</td>\n",
       "      <td>NaN</td>\n",
       "      <td>NaN</td>\n",
       "      <td>f19421c1d4aa40978ebb69ca19b0e20d</td>\n",
       "    </tr>\n",
       "    <tr>\n",
       "      <th>168413</th>\n",
       "      <td>0009655768c64bdeb2e877511632db8f</td>\n",
       "      <td>offer completed</td>\n",
       "      <td>414</td>\n",
       "      <td>NaN</td>\n",
       "      <td>5.0</td>\n",
       "      <td>f19421c1d4aa40978ebb69ca19b0e20d</td>\n",
       "    </tr>\n",
       "    <tr>\n",
       "      <th>187554</th>\n",
       "      <td>0009655768c64bdeb2e877511632db8f</td>\n",
       "      <td>offer viewed</td>\n",
       "      <td>456</td>\n",
       "      <td>NaN</td>\n",
       "      <td>NaN</td>\n",
       "      <td>f19421c1d4aa40978ebb69ca19b0e20d</td>\n",
       "    </tr>\n",
       "    <tr>\n",
       "      <th>204340</th>\n",
       "      <td>0009655768c64bdeb2e877511632db8f</td>\n",
       "      <td>offer received</td>\n",
       "      <td>504</td>\n",
       "      <td>NaN</td>\n",
       "      <td>NaN</td>\n",
       "      <td>fafdcd668e3743c1bb461111dcafc2a4</td>\n",
       "    </tr>\n",
       "  </tbody>\n",
       "</table>\n",
       "</div>"
      ],
      "text/plain": [
       "                             customer_id            event  time  amount  \\\n",
       "247879  0009655768c64bdeb2e877511632db8f   offer received   576     NaN   \n",
       "258884  0009655768c64bdeb2e877511632db8f  offer completed   576     NaN   \n",
       "113605  0009655768c64bdeb2e877511632db8f   offer received   336     NaN   \n",
       "139992  0009655768c64bdeb2e877511632db8f     offer viewed   372     NaN   \n",
       "55972   0009655768c64bdeb2e877511632db8f   offer received   168     NaN   \n",
       "77705   0009655768c64bdeb2e877511632db8f     offer viewed   192     NaN   \n",
       "153401  0009655768c64bdeb2e877511632db8f   offer received   408     NaN   \n",
       "168413  0009655768c64bdeb2e877511632db8f  offer completed   414     NaN   \n",
       "187554  0009655768c64bdeb2e877511632db8f     offer viewed   456     NaN   \n",
       "204340  0009655768c64bdeb2e877511632db8f   offer received   504     NaN   \n",
       "\n",
       "        reward                          offer_id  \n",
       "247879     NaN  2906b810c7d4411798c6938adc9daaa5  \n",
       "258884     2.0  2906b810c7d4411798c6938adc9daaa5  \n",
       "113605     NaN  3f207df678b143eea3cee63160fa8bed  \n",
       "139992     NaN  3f207df678b143eea3cee63160fa8bed  \n",
       "55972      NaN  5a8bc65990b245e5a138643cd4eb9837  \n",
       "77705      NaN  5a8bc65990b245e5a138643cd4eb9837  \n",
       "153401     NaN  f19421c1d4aa40978ebb69ca19b0e20d  \n",
       "168413     5.0  f19421c1d4aa40978ebb69ca19b0e20d  \n",
       "187554     NaN  f19421c1d4aa40978ebb69ca19b0e20d  \n",
       "204340     NaN  fafdcd668e3743c1bb461111dcafc2a4  "
      ]
     },
     "execution_count": 63,
     "metadata": {},
     "output_type": "execute_result"
    }
   ],
   "source": [
    "transcript_1.sort_values(['customer_id', \"offer_id\"]).head(10)"
   ]
  },
  {
   "cell_type": "markdown",
   "metadata": {},
   "source": [
    "Many customers received multiple offers (**Offer IDs**) and each step along the process was recorded in this dataset.\n",
    "<br>\n",
    "\n",
    "**Process:** Offer Received -> Offer Viewed -> Offer Completed\n",
    "<br>\n",
    "\n",
    "Not all customers act on these offers but some do. However, let's assume a customer receives an offer, views it and then completes the offer by purchasing something, using the offer sent to him. In this case, all 3 steps are included in this dataset which poses a problem. The problem is that when e.g. a customer completes a purchase, we know that he/she received and viewed an offer. We do not need any additional entries to know this. Same applies to when a customer simply viewed an offer. In this case, we also know that the customer must have received an offer. Once again, both steps are recorded in the dataset.\n",
    "<br>\n",
    "\n",
    "Solution: Drop redundant rows for each **Customer IDs** and **Offer IDs**.\n",
    "<br>\n",
    "\n",
    "Approach: \n",
    "- Reorder the **transcript_1** dataframe\n",
    "- set **Customer ID** and **Offer ID** as index\n",
    "- rename **Amount** to **Transaction Amount** because once an amount is recorded a transaction has been performed\n",
    "- encode the **Event** column\n",
    "- sort values by **Customer ID**, **Offer ID** and **Event** (**Event** in decending order\n",
    "- store the sorted dataset in a new dataframe\n",
    "- remove any duplicate **Offer IDs** per **Customer ID** and keep first occurance which retains the most recent progress step per customer per Offer ID in the dataframe since we sorted the encoded **Event** feature in decending order."
   ]
  },
  {
   "cell_type": "code",
   "execution_count": 64,
   "metadata": {},
   "outputs": [
    {
     "data": {
      "text/html": [
       "<div>\n",
       "<style scoped>\n",
       "    .dataframe tbody tr th:only-of-type {\n",
       "        vertical-align: middle;\n",
       "    }\n",
       "\n",
       "    .dataframe tbody tr th {\n",
       "        vertical-align: top;\n",
       "    }\n",
       "\n",
       "    .dataframe thead th {\n",
       "        text-align: right;\n",
       "    }\n",
       "</style>\n",
       "<table border=\"1\" class=\"dataframe\">\n",
       "  <thead>\n",
       "    <tr style=\"text-align: right;\">\n",
       "      <th></th>\n",
       "      <th></th>\n",
       "      <th>event</th>\n",
       "      <th>transaction_amount</th>\n",
       "      <th>reward</th>\n",
       "      <th>time</th>\n",
       "    </tr>\n",
       "    <tr>\n",
       "      <th>customer_id</th>\n",
       "      <th>offer_id</th>\n",
       "      <th></th>\n",
       "      <th></th>\n",
       "      <th></th>\n",
       "      <th></th>\n",
       "    </tr>\n",
       "  </thead>\n",
       "  <tbody>\n",
       "    <tr>\n",
       "      <th rowspan=\"20\" valign=\"top\">0009655768c64bdeb2e877511632db8f</th>\n",
       "      <th>2906b810c7d4411798c6938adc9daaa5</th>\n",
       "      <td>offer completed</td>\n",
       "      <td>NaN</td>\n",
       "      <td>2.0</td>\n",
       "      <td>576</td>\n",
       "    </tr>\n",
       "    <tr>\n",
       "      <th>2906b810c7d4411798c6938adc9daaa5</th>\n",
       "      <td>offer received</td>\n",
       "      <td>NaN</td>\n",
       "      <td>NaN</td>\n",
       "      <td>576</td>\n",
       "    </tr>\n",
       "    <tr>\n",
       "      <th>3f207df678b143eea3cee63160fa8bed</th>\n",
       "      <td>offer received</td>\n",
       "      <td>NaN</td>\n",
       "      <td>NaN</td>\n",
       "      <td>336</td>\n",
       "    </tr>\n",
       "    <tr>\n",
       "      <th>3f207df678b143eea3cee63160fa8bed</th>\n",
       "      <td>offer viewed</td>\n",
       "      <td>NaN</td>\n",
       "      <td>NaN</td>\n",
       "      <td>372</td>\n",
       "    </tr>\n",
       "    <tr>\n",
       "      <th>5a8bc65990b245e5a138643cd4eb9837</th>\n",
       "      <td>offer received</td>\n",
       "      <td>NaN</td>\n",
       "      <td>NaN</td>\n",
       "      <td>168</td>\n",
       "    </tr>\n",
       "    <tr>\n",
       "      <th>5a8bc65990b245e5a138643cd4eb9837</th>\n",
       "      <td>offer viewed</td>\n",
       "      <td>NaN</td>\n",
       "      <td>NaN</td>\n",
       "      <td>192</td>\n",
       "    </tr>\n",
       "    <tr>\n",
       "      <th>f19421c1d4aa40978ebb69ca19b0e20d</th>\n",
       "      <td>offer completed</td>\n",
       "      <td>NaN</td>\n",
       "      <td>5.0</td>\n",
       "      <td>414</td>\n",
       "    </tr>\n",
       "    <tr>\n",
       "      <th>f19421c1d4aa40978ebb69ca19b0e20d</th>\n",
       "      <td>offer received</td>\n",
       "      <td>NaN</td>\n",
       "      <td>NaN</td>\n",
       "      <td>408</td>\n",
       "    </tr>\n",
       "    <tr>\n",
       "      <th>f19421c1d4aa40978ebb69ca19b0e20d</th>\n",
       "      <td>offer viewed</td>\n",
       "      <td>NaN</td>\n",
       "      <td>NaN</td>\n",
       "      <td>456</td>\n",
       "    </tr>\n",
       "    <tr>\n",
       "      <th>fafdcd668e3743c1bb461111dcafc2a4</th>\n",
       "      <td>offer completed</td>\n",
       "      <td>NaN</td>\n",
       "      <td>2.0</td>\n",
       "      <td>528</td>\n",
       "    </tr>\n",
       "    <tr>\n",
       "      <th>fafdcd668e3743c1bb461111dcafc2a4</th>\n",
       "      <td>offer received</td>\n",
       "      <td>NaN</td>\n",
       "      <td>NaN</td>\n",
       "      <td>504</td>\n",
       "    </tr>\n",
       "    <tr>\n",
       "      <th>fafdcd668e3743c1bb461111dcafc2a4</th>\n",
       "      <td>offer viewed</td>\n",
       "      <td>NaN</td>\n",
       "      <td>NaN</td>\n",
       "      <td>540</td>\n",
       "    </tr>\n",
       "    <tr>\n",
       "      <th>NaN</th>\n",
       "      <td>transaction</td>\n",
       "      <td>22.16</td>\n",
       "      <td>NaN</td>\n",
       "      <td>228</td>\n",
       "    </tr>\n",
       "    <tr>\n",
       "      <th>NaN</th>\n",
       "      <td>transaction</td>\n",
       "      <td>8.57</td>\n",
       "      <td>NaN</td>\n",
       "      <td>414</td>\n",
       "    </tr>\n",
       "    <tr>\n",
       "      <th>NaN</th>\n",
       "      <td>transaction</td>\n",
       "      <td>14.11</td>\n",
       "      <td>NaN</td>\n",
       "      <td>528</td>\n",
       "    </tr>\n",
       "    <tr>\n",
       "      <th>NaN</th>\n",
       "      <td>transaction</td>\n",
       "      <td>13.56</td>\n",
       "      <td>NaN</td>\n",
       "      <td>552</td>\n",
       "    </tr>\n",
       "    <tr>\n",
       "      <th>NaN</th>\n",
       "      <td>transaction</td>\n",
       "      <td>10.27</td>\n",
       "      <td>NaN</td>\n",
       "      <td>576</td>\n",
       "    </tr>\n",
       "    <tr>\n",
       "      <th>NaN</th>\n",
       "      <td>transaction</td>\n",
       "      <td>12.36</td>\n",
       "      <td>NaN</td>\n",
       "      <td>660</td>\n",
       "    </tr>\n",
       "    <tr>\n",
       "      <th>NaN</th>\n",
       "      <td>transaction</td>\n",
       "      <td>28.16</td>\n",
       "      <td>NaN</td>\n",
       "      <td>690</td>\n",
       "    </tr>\n",
       "    <tr>\n",
       "      <th>NaN</th>\n",
       "      <td>transaction</td>\n",
       "      <td>18.41</td>\n",
       "      <td>NaN</td>\n",
       "      <td>696</td>\n",
       "    </tr>\n",
       "  </tbody>\n",
       "</table>\n",
       "</div>"
      ],
      "text/plain": [
       "                                                                             event  \\\n",
       "customer_id                      offer_id                                            \n",
       "0009655768c64bdeb2e877511632db8f 2906b810c7d4411798c6938adc9daaa5  offer completed   \n",
       "                                 2906b810c7d4411798c6938adc9daaa5   offer received   \n",
       "                                 3f207df678b143eea3cee63160fa8bed   offer received   \n",
       "                                 3f207df678b143eea3cee63160fa8bed     offer viewed   \n",
       "                                 5a8bc65990b245e5a138643cd4eb9837   offer received   \n",
       "                                 5a8bc65990b245e5a138643cd4eb9837     offer viewed   \n",
       "                                 f19421c1d4aa40978ebb69ca19b0e20d  offer completed   \n",
       "                                 f19421c1d4aa40978ebb69ca19b0e20d   offer received   \n",
       "                                 f19421c1d4aa40978ebb69ca19b0e20d     offer viewed   \n",
       "                                 fafdcd668e3743c1bb461111dcafc2a4  offer completed   \n",
       "                                 fafdcd668e3743c1bb461111dcafc2a4   offer received   \n",
       "                                 fafdcd668e3743c1bb461111dcafc2a4     offer viewed   \n",
       "                                 NaN                                   transaction   \n",
       "                                 NaN                                   transaction   \n",
       "                                 NaN                                   transaction   \n",
       "                                 NaN                                   transaction   \n",
       "                                 NaN                                   transaction   \n",
       "                                 NaN                                   transaction   \n",
       "                                 NaN                                   transaction   \n",
       "                                 NaN                                   transaction   \n",
       "\n",
       "                                                                   transaction_amount  \\\n",
       "customer_id                      offer_id                                               \n",
       "0009655768c64bdeb2e877511632db8f 2906b810c7d4411798c6938adc9daaa5                 NaN   \n",
       "                                 2906b810c7d4411798c6938adc9daaa5                 NaN   \n",
       "                                 3f207df678b143eea3cee63160fa8bed                 NaN   \n",
       "                                 3f207df678b143eea3cee63160fa8bed                 NaN   \n",
       "                                 5a8bc65990b245e5a138643cd4eb9837                 NaN   \n",
       "                                 5a8bc65990b245e5a138643cd4eb9837                 NaN   \n",
       "                                 f19421c1d4aa40978ebb69ca19b0e20d                 NaN   \n",
       "                                 f19421c1d4aa40978ebb69ca19b0e20d                 NaN   \n",
       "                                 f19421c1d4aa40978ebb69ca19b0e20d                 NaN   \n",
       "                                 fafdcd668e3743c1bb461111dcafc2a4                 NaN   \n",
       "                                 fafdcd668e3743c1bb461111dcafc2a4                 NaN   \n",
       "                                 fafdcd668e3743c1bb461111dcafc2a4                 NaN   \n",
       "                                 NaN                                            22.16   \n",
       "                                 NaN                                             8.57   \n",
       "                                 NaN                                            14.11   \n",
       "                                 NaN                                            13.56   \n",
       "                                 NaN                                            10.27   \n",
       "                                 NaN                                            12.36   \n",
       "                                 NaN                                            28.16   \n",
       "                                 NaN                                            18.41   \n",
       "\n",
       "                                                                   reward  \\\n",
       "customer_id                      offer_id                                   \n",
       "0009655768c64bdeb2e877511632db8f 2906b810c7d4411798c6938adc9daaa5     2.0   \n",
       "                                 2906b810c7d4411798c6938adc9daaa5     NaN   \n",
       "                                 3f207df678b143eea3cee63160fa8bed     NaN   \n",
       "                                 3f207df678b143eea3cee63160fa8bed     NaN   \n",
       "                                 5a8bc65990b245e5a138643cd4eb9837     NaN   \n",
       "                                 5a8bc65990b245e5a138643cd4eb9837     NaN   \n",
       "                                 f19421c1d4aa40978ebb69ca19b0e20d     5.0   \n",
       "                                 f19421c1d4aa40978ebb69ca19b0e20d     NaN   \n",
       "                                 f19421c1d4aa40978ebb69ca19b0e20d     NaN   \n",
       "                                 fafdcd668e3743c1bb461111dcafc2a4     2.0   \n",
       "                                 fafdcd668e3743c1bb461111dcafc2a4     NaN   \n",
       "                                 fafdcd668e3743c1bb461111dcafc2a4     NaN   \n",
       "                                 NaN                                  NaN   \n",
       "                                 NaN                                  NaN   \n",
       "                                 NaN                                  NaN   \n",
       "                                 NaN                                  NaN   \n",
       "                                 NaN                                  NaN   \n",
       "                                 NaN                                  NaN   \n",
       "                                 NaN                                  NaN   \n",
       "                                 NaN                                  NaN   \n",
       "\n",
       "                                                                   time  \n",
       "customer_id                      offer_id                                \n",
       "0009655768c64bdeb2e877511632db8f 2906b810c7d4411798c6938adc9daaa5   576  \n",
       "                                 2906b810c7d4411798c6938adc9daaa5   576  \n",
       "                                 3f207df678b143eea3cee63160fa8bed   336  \n",
       "                                 3f207df678b143eea3cee63160fa8bed   372  \n",
       "                                 5a8bc65990b245e5a138643cd4eb9837   168  \n",
       "                                 5a8bc65990b245e5a138643cd4eb9837   192  \n",
       "                                 f19421c1d4aa40978ebb69ca19b0e20d   414  \n",
       "                                 f19421c1d4aa40978ebb69ca19b0e20d   408  \n",
       "                                 f19421c1d4aa40978ebb69ca19b0e20d   456  \n",
       "                                 fafdcd668e3743c1bb461111dcafc2a4   528  \n",
       "                                 fafdcd668e3743c1bb461111dcafc2a4   504  \n",
       "                                 fafdcd668e3743c1bb461111dcafc2a4   540  \n",
       "                                 NaN                                228  \n",
       "                                 NaN                                414  \n",
       "                                 NaN                                528  \n",
       "                                 NaN                                552  \n",
       "                                 NaN                                576  \n",
       "                                 NaN                                660  \n",
       "                                 NaN                                690  \n",
       "                                 NaN                                696  "
      ]
     },
     "execution_count": 64,
     "metadata": {},
     "output_type": "execute_result"
    }
   ],
   "source": [
    "# reorder the df\n",
    "transcript_1 = transcript_1[[\"customer_id\",\"offer_id\", \"event\", \"amount\", \"reward\",\"time\"]]\n",
    "\n",
    "# set Customer ID and Offer ID as multi-index  \n",
    "transcript_1 = transcript_1.set_index([\"customer_id\", \"offer_id\"])\n",
    "\n",
    "# rename the Amount column to Transaction Amount which already implies that a transaction was conducted so the transaction label\n",
    "# in the Events column can be dropped later\n",
    "transcript_1.rename(columns={\"amount\": \"transaction_amount\"},inplace=True)\n",
    "\n",
    "transcript_1.sort_values(['customer_id', \"offer_id\", \"event\"]).head(20) "
   ]
  },
  {
   "cell_type": "markdown",
   "metadata": {},
   "source": [
    "Label encode the **Event** feature from 1 - 4 which is needed to sort in descending order later, drop the old column and store the sorted data in a new dataframe."
   ]
  },
  {
   "cell_type": "code",
   "execution_count": 65,
   "metadata": {},
   "outputs": [
    {
     "data": {
      "text/html": [
       "<div>\n",
       "<style scoped>\n",
       "    .dataframe tbody tr th:only-of-type {\n",
       "        vertical-align: middle;\n",
       "    }\n",
       "\n",
       "    .dataframe tbody tr th {\n",
       "        vertical-align: top;\n",
       "    }\n",
       "\n",
       "    .dataframe thead th {\n",
       "        text-align: right;\n",
       "    }\n",
       "</style>\n",
       "<table border=\"1\" class=\"dataframe\">\n",
       "  <thead>\n",
       "    <tr style=\"text-align: right;\">\n",
       "      <th></th>\n",
       "      <th></th>\n",
       "      <th>transaction_amount</th>\n",
       "      <th>reward</th>\n",
       "      <th>time</th>\n",
       "      <th>event_new</th>\n",
       "    </tr>\n",
       "    <tr>\n",
       "      <th>customer_id</th>\n",
       "      <th>offer_id</th>\n",
       "      <th></th>\n",
       "      <th></th>\n",
       "      <th></th>\n",
       "      <th></th>\n",
       "    </tr>\n",
       "  </thead>\n",
       "  <tbody>\n",
       "    <tr>\n",
       "      <th rowspan=\"30\" valign=\"top\">ffff82501cea40309d5fdd7edcca4a07</th>\n",
       "      <th>fafdcd668e3743c1bb461111dcafc2a4</th>\n",
       "      <td>NaN</td>\n",
       "      <td>2.0</td>\n",
       "      <td>60</td>\n",
       "      <td>4</td>\n",
       "    </tr>\n",
       "    <tr>\n",
       "      <th>fafdcd668e3743c1bb461111dcafc2a4</th>\n",
       "      <td>NaN</td>\n",
       "      <td>NaN</td>\n",
       "      <td>6</td>\n",
       "      <td>3</td>\n",
       "    </tr>\n",
       "    <tr>\n",
       "      <th>fafdcd668e3743c1bb461111dcafc2a4</th>\n",
       "      <td>NaN</td>\n",
       "      <td>NaN</td>\n",
       "      <td>0</td>\n",
       "      <td>2</td>\n",
       "    </tr>\n",
       "    <tr>\n",
       "      <th>9b98b8c7a33c4b65b9aebfe6a799e6d9</th>\n",
       "      <td>NaN</td>\n",
       "      <td>5.0</td>\n",
       "      <td>504</td>\n",
       "      <td>4</td>\n",
       "    </tr>\n",
       "    <tr>\n",
       "      <th>9b98b8c7a33c4b65b9aebfe6a799e6d9</th>\n",
       "      <td>NaN</td>\n",
       "      <td>NaN</td>\n",
       "      <td>534</td>\n",
       "      <td>3</td>\n",
       "    </tr>\n",
       "    <tr>\n",
       "      <th>9b98b8c7a33c4b65b9aebfe6a799e6d9</th>\n",
       "      <td>NaN</td>\n",
       "      <td>NaN</td>\n",
       "      <td>504</td>\n",
       "      <td>2</td>\n",
       "    </tr>\n",
       "    <tr>\n",
       "      <th>2906b810c7d4411798c6938adc9daaa5</th>\n",
       "      <td>NaN</td>\n",
       "      <td>2.0</td>\n",
       "      <td>384</td>\n",
       "      <td>4</td>\n",
       "    </tr>\n",
       "    <tr>\n",
       "      <th>2906b810c7d4411798c6938adc9daaa5</th>\n",
       "      <td>NaN</td>\n",
       "      <td>2.0</td>\n",
       "      <td>414</td>\n",
       "      <td>4</td>\n",
       "    </tr>\n",
       "    <tr>\n",
       "      <th>2906b810c7d4411798c6938adc9daaa5</th>\n",
       "      <td>NaN</td>\n",
       "      <td>2.0</td>\n",
       "      <td>576</td>\n",
       "      <td>4</td>\n",
       "    </tr>\n",
       "    <tr>\n",
       "      <th>2906b810c7d4411798c6938adc9daaa5</th>\n",
       "      <td>NaN</td>\n",
       "      <td>NaN</td>\n",
       "      <td>354</td>\n",
       "      <td>3</td>\n",
       "    </tr>\n",
       "    <tr>\n",
       "      <th>2906b810c7d4411798c6938adc9daaa5</th>\n",
       "      <td>NaN</td>\n",
       "      <td>NaN</td>\n",
       "      <td>414</td>\n",
       "      <td>3</td>\n",
       "    </tr>\n",
       "    <tr>\n",
       "      <th>2906b810c7d4411798c6938adc9daaa5</th>\n",
       "      <td>NaN</td>\n",
       "      <td>NaN</td>\n",
       "      <td>582</td>\n",
       "      <td>3</td>\n",
       "    </tr>\n",
       "    <tr>\n",
       "      <th>2906b810c7d4411798c6938adc9daaa5</th>\n",
       "      <td>NaN</td>\n",
       "      <td>NaN</td>\n",
       "      <td>336</td>\n",
       "      <td>2</td>\n",
       "    </tr>\n",
       "    <tr>\n",
       "      <th>2906b810c7d4411798c6938adc9daaa5</th>\n",
       "      <td>NaN</td>\n",
       "      <td>NaN</td>\n",
       "      <td>408</td>\n",
       "      <td>2</td>\n",
       "    </tr>\n",
       "    <tr>\n",
       "      <th>2906b810c7d4411798c6938adc9daaa5</th>\n",
       "      <td>NaN</td>\n",
       "      <td>NaN</td>\n",
       "      <td>576</td>\n",
       "      <td>2</td>\n",
       "    </tr>\n",
       "    <tr>\n",
       "      <th>0b1e1539f2cc45b7b9fa7c272da2e1d7</th>\n",
       "      <td>NaN</td>\n",
       "      <td>5.0</td>\n",
       "      <td>198</td>\n",
       "      <td>4</td>\n",
       "    </tr>\n",
       "    <tr>\n",
       "      <th>0b1e1539f2cc45b7b9fa7c272da2e1d7</th>\n",
       "      <td>NaN</td>\n",
       "      <td>NaN</td>\n",
       "      <td>174</td>\n",
       "      <td>3</td>\n",
       "    </tr>\n",
       "    <tr>\n",
       "      <th>0b1e1539f2cc45b7b9fa7c272da2e1d7</th>\n",
       "      <td>NaN</td>\n",
       "      <td>NaN</td>\n",
       "      <td>168</td>\n",
       "      <td>2</td>\n",
       "    </tr>\n",
       "    <tr>\n",
       "      <th>NaN</th>\n",
       "      <td>16.06</td>\n",
       "      <td>NaN</td>\n",
       "      <td>60</td>\n",
       "      <td>1</td>\n",
       "    </tr>\n",
       "    <tr>\n",
       "      <th>NaN</th>\n",
       "      <td>7.18</td>\n",
       "      <td>NaN</td>\n",
       "      <td>78</td>\n",
       "      <td>1</td>\n",
       "    </tr>\n",
       "    <tr>\n",
       "      <th>NaN</th>\n",
       "      <td>9.12</td>\n",
       "      <td>NaN</td>\n",
       "      <td>120</td>\n",
       "      <td>1</td>\n",
       "    </tr>\n",
       "    <tr>\n",
       "      <th>NaN</th>\n",
       "      <td>22.88</td>\n",
       "      <td>NaN</td>\n",
       "      <td>198</td>\n",
       "      <td>1</td>\n",
       "    </tr>\n",
       "    <tr>\n",
       "      <th>NaN</th>\n",
       "      <td>15.23</td>\n",
       "      <td>NaN</td>\n",
       "      <td>204</td>\n",
       "      <td>1</td>\n",
       "    </tr>\n",
       "    <tr>\n",
       "      <th>NaN</th>\n",
       "      <td>18.08</td>\n",
       "      <td>NaN</td>\n",
       "      <td>234</td>\n",
       "      <td>1</td>\n",
       "    </tr>\n",
       "    <tr>\n",
       "      <th>NaN</th>\n",
       "      <td>23.32</td>\n",
       "      <td>NaN</td>\n",
       "      <td>264</td>\n",
       "      <td>1</td>\n",
       "    </tr>\n",
       "    <tr>\n",
       "      <th>NaN</th>\n",
       "      <td>16.86</td>\n",
       "      <td>NaN</td>\n",
       "      <td>312</td>\n",
       "      <td>1</td>\n",
       "    </tr>\n",
       "    <tr>\n",
       "      <th>NaN</th>\n",
       "      <td>15.57</td>\n",
       "      <td>NaN</td>\n",
       "      <td>384</td>\n",
       "      <td>1</td>\n",
       "    </tr>\n",
       "    <tr>\n",
       "      <th>NaN</th>\n",
       "      <td>17.55</td>\n",
       "      <td>NaN</td>\n",
       "      <td>414</td>\n",
       "      <td>1</td>\n",
       "    </tr>\n",
       "    <tr>\n",
       "      <th>NaN</th>\n",
       "      <td>13.17</td>\n",
       "      <td>NaN</td>\n",
       "      <td>498</td>\n",
       "      <td>1</td>\n",
       "    </tr>\n",
       "    <tr>\n",
       "      <th>NaN</th>\n",
       "      <td>7.79</td>\n",
       "      <td>NaN</td>\n",
       "      <td>504</td>\n",
       "      <td>1</td>\n",
       "    </tr>\n",
       "  </tbody>\n",
       "</table>\n",
       "</div>"
      ],
      "text/plain": [
       "                                                                   transaction_amount  \\\n",
       "customer_id                      offer_id                                               \n",
       "ffff82501cea40309d5fdd7edcca4a07 fafdcd668e3743c1bb461111dcafc2a4                 NaN   \n",
       "                                 fafdcd668e3743c1bb461111dcafc2a4                 NaN   \n",
       "                                 fafdcd668e3743c1bb461111dcafc2a4                 NaN   \n",
       "                                 9b98b8c7a33c4b65b9aebfe6a799e6d9                 NaN   \n",
       "                                 9b98b8c7a33c4b65b9aebfe6a799e6d9                 NaN   \n",
       "                                 9b98b8c7a33c4b65b9aebfe6a799e6d9                 NaN   \n",
       "                                 2906b810c7d4411798c6938adc9daaa5                 NaN   \n",
       "                                 2906b810c7d4411798c6938adc9daaa5                 NaN   \n",
       "                                 2906b810c7d4411798c6938adc9daaa5                 NaN   \n",
       "                                 2906b810c7d4411798c6938adc9daaa5                 NaN   \n",
       "                                 2906b810c7d4411798c6938adc9daaa5                 NaN   \n",
       "                                 2906b810c7d4411798c6938adc9daaa5                 NaN   \n",
       "                                 2906b810c7d4411798c6938adc9daaa5                 NaN   \n",
       "                                 2906b810c7d4411798c6938adc9daaa5                 NaN   \n",
       "                                 2906b810c7d4411798c6938adc9daaa5                 NaN   \n",
       "                                 0b1e1539f2cc45b7b9fa7c272da2e1d7                 NaN   \n",
       "                                 0b1e1539f2cc45b7b9fa7c272da2e1d7                 NaN   \n",
       "                                 0b1e1539f2cc45b7b9fa7c272da2e1d7                 NaN   \n",
       "                                 NaN                                            16.06   \n",
       "                                 NaN                                             7.18   \n",
       "                                 NaN                                             9.12   \n",
       "                                 NaN                                            22.88   \n",
       "                                 NaN                                            15.23   \n",
       "                                 NaN                                            18.08   \n",
       "                                 NaN                                            23.32   \n",
       "                                 NaN                                            16.86   \n",
       "                                 NaN                                            15.57   \n",
       "                                 NaN                                            17.55   \n",
       "                                 NaN                                            13.17   \n",
       "                                 NaN                                             7.79   \n",
       "\n",
       "                                                                   reward  \\\n",
       "customer_id                      offer_id                                   \n",
       "ffff82501cea40309d5fdd7edcca4a07 fafdcd668e3743c1bb461111dcafc2a4     2.0   \n",
       "                                 fafdcd668e3743c1bb461111dcafc2a4     NaN   \n",
       "                                 fafdcd668e3743c1bb461111dcafc2a4     NaN   \n",
       "                                 9b98b8c7a33c4b65b9aebfe6a799e6d9     5.0   \n",
       "                                 9b98b8c7a33c4b65b9aebfe6a799e6d9     NaN   \n",
       "                                 9b98b8c7a33c4b65b9aebfe6a799e6d9     NaN   \n",
       "                                 2906b810c7d4411798c6938adc9daaa5     2.0   \n",
       "                                 2906b810c7d4411798c6938adc9daaa5     2.0   \n",
       "                                 2906b810c7d4411798c6938adc9daaa5     2.0   \n",
       "                                 2906b810c7d4411798c6938adc9daaa5     NaN   \n",
       "                                 2906b810c7d4411798c6938adc9daaa5     NaN   \n",
       "                                 2906b810c7d4411798c6938adc9daaa5     NaN   \n",
       "                                 2906b810c7d4411798c6938adc9daaa5     NaN   \n",
       "                                 2906b810c7d4411798c6938adc9daaa5     NaN   \n",
       "                                 2906b810c7d4411798c6938adc9daaa5     NaN   \n",
       "                                 0b1e1539f2cc45b7b9fa7c272da2e1d7     5.0   \n",
       "                                 0b1e1539f2cc45b7b9fa7c272da2e1d7     NaN   \n",
       "                                 0b1e1539f2cc45b7b9fa7c272da2e1d7     NaN   \n",
       "                                 NaN                                  NaN   \n",
       "                                 NaN                                  NaN   \n",
       "                                 NaN                                  NaN   \n",
       "                                 NaN                                  NaN   \n",
       "                                 NaN                                  NaN   \n",
       "                                 NaN                                  NaN   \n",
       "                                 NaN                                  NaN   \n",
       "                                 NaN                                  NaN   \n",
       "                                 NaN                                  NaN   \n",
       "                                 NaN                                  NaN   \n",
       "                                 NaN                                  NaN   \n",
       "                                 NaN                                  NaN   \n",
       "\n",
       "                                                                   time  \\\n",
       "customer_id                      offer_id                                 \n",
       "ffff82501cea40309d5fdd7edcca4a07 fafdcd668e3743c1bb461111dcafc2a4    60   \n",
       "                                 fafdcd668e3743c1bb461111dcafc2a4     6   \n",
       "                                 fafdcd668e3743c1bb461111dcafc2a4     0   \n",
       "                                 9b98b8c7a33c4b65b9aebfe6a799e6d9   504   \n",
       "                                 9b98b8c7a33c4b65b9aebfe6a799e6d9   534   \n",
       "                                 9b98b8c7a33c4b65b9aebfe6a799e6d9   504   \n",
       "                                 2906b810c7d4411798c6938adc9daaa5   384   \n",
       "                                 2906b810c7d4411798c6938adc9daaa5   414   \n",
       "                                 2906b810c7d4411798c6938adc9daaa5   576   \n",
       "                                 2906b810c7d4411798c6938adc9daaa5   354   \n",
       "                                 2906b810c7d4411798c6938adc9daaa5   414   \n",
       "                                 2906b810c7d4411798c6938adc9daaa5   582   \n",
       "                                 2906b810c7d4411798c6938adc9daaa5   336   \n",
       "                                 2906b810c7d4411798c6938adc9daaa5   408   \n",
       "                                 2906b810c7d4411798c6938adc9daaa5   576   \n",
       "                                 0b1e1539f2cc45b7b9fa7c272da2e1d7   198   \n",
       "                                 0b1e1539f2cc45b7b9fa7c272da2e1d7   174   \n",
       "                                 0b1e1539f2cc45b7b9fa7c272da2e1d7   168   \n",
       "                                 NaN                                 60   \n",
       "                                 NaN                                 78   \n",
       "                                 NaN                                120   \n",
       "                                 NaN                                198   \n",
       "                                 NaN                                204   \n",
       "                                 NaN                                234   \n",
       "                                 NaN                                264   \n",
       "                                 NaN                                312   \n",
       "                                 NaN                                384   \n",
       "                                 NaN                                414   \n",
       "                                 NaN                                498   \n",
       "                                 NaN                                504   \n",
       "\n",
       "                                                                   event_new  \n",
       "customer_id                      offer_id                                     \n",
       "ffff82501cea40309d5fdd7edcca4a07 fafdcd668e3743c1bb461111dcafc2a4          4  \n",
       "                                 fafdcd668e3743c1bb461111dcafc2a4          3  \n",
       "                                 fafdcd668e3743c1bb461111dcafc2a4          2  \n",
       "                                 9b98b8c7a33c4b65b9aebfe6a799e6d9          4  \n",
       "                                 9b98b8c7a33c4b65b9aebfe6a799e6d9          3  \n",
       "                                 9b98b8c7a33c4b65b9aebfe6a799e6d9          2  \n",
       "                                 2906b810c7d4411798c6938adc9daaa5          4  \n",
       "                                 2906b810c7d4411798c6938adc9daaa5          4  \n",
       "                                 2906b810c7d4411798c6938adc9daaa5          4  \n",
       "                                 2906b810c7d4411798c6938adc9daaa5          3  \n",
       "                                 2906b810c7d4411798c6938adc9daaa5          3  \n",
       "                                 2906b810c7d4411798c6938adc9daaa5          3  \n",
       "                                 2906b810c7d4411798c6938adc9daaa5          2  \n",
       "                                 2906b810c7d4411798c6938adc9daaa5          2  \n",
       "                                 2906b810c7d4411798c6938adc9daaa5          2  \n",
       "                                 0b1e1539f2cc45b7b9fa7c272da2e1d7          4  \n",
       "                                 0b1e1539f2cc45b7b9fa7c272da2e1d7          3  \n",
       "                                 0b1e1539f2cc45b7b9fa7c272da2e1d7          2  \n",
       "                                 NaN                                       1  \n",
       "                                 NaN                                       1  \n",
       "                                 NaN                                       1  \n",
       "                                 NaN                                       1  \n",
       "                                 NaN                                       1  \n",
       "                                 NaN                                       1  \n",
       "                                 NaN                                       1  \n",
       "                                 NaN                                       1  \n",
       "                                 NaN                                       1  \n",
       "                                 NaN                                       1  \n",
       "                                 NaN                                       1  \n",
       "                                 NaN                                       1  "
      ]
     },
     "execution_count": 65,
     "metadata": {},
     "output_type": "execute_result"
    }
   ],
   "source": [
    "# label encode the Event feature\n",
    "transcript_1['event_new'] = transcript_1['event'].map({'offer completed':4,\n",
    "                                                       'offer viewed':3, \n",
    "                                                       \"offer received\":2, \n",
    "                                                       \"transaction\":1})\n",
    "# drop the original Event feature\n",
    "transcript_1.drop(columns=\"event\", inplace=True)\n",
    "\n",
    "# sort values by Customer ID, Offer ID and Event New in ascending order and store it as dataframe\n",
    "transcript_2 = transcript_1.sort_values([\"customer_id\",\"offer_id\", \"event_new\"], ascending=False)\n",
    "transcript_2.head(30)"
   ]
  },
  {
   "cell_type": "code",
   "execution_count": 66,
   "metadata": {},
   "outputs": [
    {
     "data": {
      "text/plain": [
       "4    28996\n",
       "3    24675\n",
       "1    16578\n",
       "2     9617\n",
       "Name: event, dtype: int64"
      ]
     },
     "execution_count": 66,
     "metadata": {},
     "output_type": "execute_result"
    }
   ],
   "source": [
    "# drop index Offer ID if there are any duplicates\n",
    "# yes, some information will be lost but the majority of information will be retained. Why lost? Because some customers received\n",
    "# the same Offer ID multiple times\n",
    "transcript_2 = transcript_2.loc[~transcript_2.index.duplicated(keep='first')]\n",
    "\n",
    "# let's rename the Event New feature\n",
    "transcript_2.rename(columns= {\"event_new\": \"event\"}, inplace=True)\n",
    "\n",
    "# let's take a look at the processed transcript df\n",
    "transcript_2[\"event\"].value_counts() # 4: Offer Completed 3: Offer Viewed 2: Offer Received 1: Transaction"
   ]
  },
  {
   "cell_type": "markdown",
   "metadata": {},
   "source": [
    "Let's convert **Offer ID** back to column."
   ]
  },
  {
   "cell_type": "code",
   "execution_count": 67,
   "metadata": {},
   "outputs": [
    {
     "name": "stdout",
     "output_type": "stream",
     "text": [
      "<class 'pandas.core.frame.DataFrame'>\n",
      "Index: 79866 entries, ffff82501cea40309d5fdd7edcca4a07 to 0009655768c64bdeb2e877511632db8f\n",
      "Data columns (total 5 columns):\n",
      " #   Column              Non-Null Count  Dtype  \n",
      "---  ------              --------------  -----  \n",
      " 0   offer_id            63288 non-null  object \n",
      " 1   transaction_amount  16578 non-null  float64\n",
      " 2   reward              28996 non-null  float64\n",
      " 3   time                79866 non-null  int64  \n",
      " 4   event               79866 non-null  int64  \n",
      "dtypes: float64(2), int64(2), object(1)\n",
      "memory usage: 3.7+ MB\n"
     ]
    }
   ],
   "source": [
    "transcript_2.reset_index(level=['offer_id'], inplace=True)\n",
    "transcript_2.info()"
   ]
  },
  {
   "cell_type": "markdown",
   "metadata": {},
   "source": [
    "Further, as described on Kaggle, the **Time** column is measured in hours:\n",
    "\"time in hours since the start of the test. The data begins at time t=0.\" Let's inspect this feature below."
   ]
  },
  {
   "cell_type": "code",
   "execution_count": 68,
   "metadata": {},
   "outputs": [
    {
     "data": {
      "text/plain": [
       "<matplotlib.axes._subplots.AxesSubplot at 0x2613c5fc5c8>"
      ]
     },
     "execution_count": 68,
     "metadata": {},
     "output_type": "execute_result"
    },
    {
     "data": {
      "image/png": "[encoded data removed]",
      "text/plain": [
       "<Figure size 432x288 with 1 Axes>"
      ]
     },
     "metadata": {},
     "output_type": "display_data"
    }
   ],
   "source": [
    "sns.set_style('darkgrid')\n",
    "sns.distplot(transcript_2[\"time\"],kde=False)"
   ]
  },
  {
   "cell_type": "markdown",
   "metadata": {},
   "source": [
    "One can see that in many instances the number of hours is quite high. Let's convert the measurement from hours to days instead."
   ]
  },
  {
   "cell_type": "code",
   "execution_count": 69,
   "metadata": {},
   "outputs": [],
   "source": [
    "transcript_2['days_since_test'] = transcript_2['time'] // 24 # divison without remainders\n",
    "transcript_2.drop(columns = 'time', inplace = True)"
   ]
  },
  {
   "cell_type": "markdown",
   "metadata": {},
   "source": [
    "The second dataset is now processed and ready for merging to create a complete dataset."
   ]
  },
  {
   "cell_type": "markdown",
   "metadata": {},
   "source": [
    "## Examine Dataset Three: Profile"
   ]
  },
  {
   "cell_type": "code",
   "execution_count": 64,
   "metadata": {},
   "outputs": [
    {
     "name": "stdout",
     "output_type": "stream",
     "text": [
      "<class 'pandas.core.frame.DataFrame'>\n",
      "RangeIndex: 17000 entries, 0 to 16999\n",
      "Data columns (total 5 columns):\n",
      " #   Column            Non-Null Count  Dtype  \n",
      "---  ------            --------------  -----  \n",
      " 0   gender            14825 non-null  object \n",
      " 1   age               17000 non-null  int64  \n",
      " 2   customer_id       17000 non-null  object \n",
      " 3   became_member_on  17000 non-null  int64  \n",
      " 4   income            14825 non-null  float64\n",
      "dtypes: float64(1), int64(2), object(2)\n",
      "memory usage: 664.2+ KB\n"
     ]
    }
   ],
   "source": [
    "profile.info()"
   ]
  },
  {
   "cell_type": "code",
   "execution_count": 63,
   "metadata": {},
   "outputs": [
    {
     "data": {
      "text/html": [
       "<div>\n",
       "<style scoped>\n",
       "    .dataframe tbody tr th:only-of-type {\n",
       "        vertical-align: middle;\n",
       "    }\n",
       "\n",
       "    .dataframe tbody tr th {\n",
       "        vertical-align: top;\n",
       "    }\n",
       "\n",
       "    .dataframe thead th {\n",
       "        text-align: right;\n",
       "    }\n",
       "</style>\n",
       "<table border=\"1\" class=\"dataframe\">\n",
       "  <thead>\n",
       "    <tr style=\"text-align: right;\">\n",
       "      <th></th>\n",
       "      <th>gender</th>\n",
       "      <th>age</th>\n",
       "      <th>customer_id</th>\n",
       "      <th>became_member_on</th>\n",
       "      <th>income</th>\n",
       "    </tr>\n",
       "  </thead>\n",
       "  <tbody>\n",
       "    <tr>\n",
       "      <th>0</th>\n",
       "      <td>None</td>\n",
       "      <td>118</td>\n",
       "      <td>68be06ca386d4c31939f3a4f0e3dd783</td>\n",
       "      <td>20170212</td>\n",
       "      <td>NaN</td>\n",
       "    </tr>\n",
       "    <tr>\n",
       "      <th>1</th>\n",
       "      <td>F</td>\n",
       "      <td>55</td>\n",
       "      <td>0610b486422d4921ae7d2bf64640c50b</td>\n",
       "      <td>20170715</td>\n",
       "      <td>112000.0</td>\n",
       "    </tr>\n",
       "    <tr>\n",
       "      <th>2</th>\n",
       "      <td>None</td>\n",
       "      <td>118</td>\n",
       "      <td>38fe809add3b4fcf9315a9694bb96ff5</td>\n",
       "      <td>20180712</td>\n",
       "      <td>NaN</td>\n",
       "    </tr>\n",
       "    <tr>\n",
       "      <th>3</th>\n",
       "      <td>F</td>\n",
       "      <td>75</td>\n",
       "      <td>78afa995795e4d85b5d9ceeca43f5fef</td>\n",
       "      <td>20170509</td>\n",
       "      <td>100000.0</td>\n",
       "    </tr>\n",
       "    <tr>\n",
       "      <th>4</th>\n",
       "      <td>None</td>\n",
       "      <td>118</td>\n",
       "      <td>a03223e636434f42ac4c3df47e8bac43</td>\n",
       "      <td>20170804</td>\n",
       "      <td>NaN</td>\n",
       "    </tr>\n",
       "  </tbody>\n",
       "</table>\n",
       "</div>"
      ],
      "text/plain": [
       "  gender  age                       customer_id  became_member_on    income\n",
       "0   None  118  68be06ca386d4c31939f3a4f0e3dd783          20170212       NaN\n",
       "1      F   55  0610b486422d4921ae7d2bf64640c50b          20170715  112000.0\n",
       "2   None  118  38fe809add3b4fcf9315a9694bb96ff5          20180712       NaN\n",
       "3      F   75  78afa995795e4d85b5d9ceeca43f5fef          20170509  100000.0\n",
       "4   None  118  a03223e636434f42ac4c3df47e8bac43          20170804       NaN"
      ]
     },
     "execution_count": 63,
     "metadata": {},
     "output_type": "execute_result"
    }
   ],
   "source": [
    "profile.head()"
   ]
  },
  {
   "cell_type": "markdown",
   "metadata": {},
   "source": [
    "As written on Kaggle, **ID** refers to **Customer ID** and therefore we will rename the column."
   ]
  },
  {
   "cell_type": "code",
   "execution_count": 70,
   "metadata": {},
   "outputs": [],
   "source": [
    "profile.rename(columns = {'id':'customer_id'},inplace=True)"
   ]
  },
  {
   "cell_type": "markdown",
   "metadata": {},
   "source": [
    "One can observe that the profile dataset contains missing values for **Gender** and **Income**. In fact, they show the exact same total number of missing values. We have 2175 missing entries for **Ggender**. We can see in the output of .info() that **Income** has the same number of missing values. I suspect that for these two columns there are missing data in the same rows. Let's check and then drop these rows."
   ]
  },
  {
   "cell_type": "code",
   "execution_count": 22,
   "metadata": {},
   "outputs": [
    {
     "data": {
      "text/plain": [
       "<matplotlib.axes._subplots.AxesSubplot at 0x23908be7348>"
      ]
     },
     "execution_count": 22,
     "metadata": {},
     "output_type": "execute_result"
    },
    {
     "data": {
      "image/png": "[encoded data removed]",
      "text/plain": [
       "<Figure size 432x288 with 1 Axes>"
      ]
     },
     "metadata": {},
     "output_type": "display_data"
    }
   ],
   "source": [
    "# for a closer comparison\n",
    "gender_income = profile[[\"gender\", \"income\"]].copy()\n",
    "sns.heatmap(gender_income.isnull(),yticklabels=False,cbar=False,cmap='viridis')"
   ]
  },
  {
   "cell_type": "code",
   "execution_count": 71,
   "metadata": {},
   "outputs": [
    {
     "data": {
      "text/plain": [
       "gender              0\n",
       "age                 0\n",
       "customer_id         0\n",
       "became_member_on    0\n",
       "income              0\n",
       "dtype: int64"
      ]
     },
     "execution_count": 71,
     "metadata": {},
     "output_type": "execute_result"
    }
   ],
   "source": [
    "profile.dropna(inplace=True)\n",
    "profile.reset_index(inplace=True,drop=True) # resetting the index due to dropped values\n",
    "profile.isna().sum()"
   ]
  },
  {
   "cell_type": "markdown",
   "metadata": {},
   "source": [
    "No missing values left."
   ]
  },
  {
   "cell_type": "code",
   "execution_count": 25,
   "metadata": {},
   "outputs": [
    {
     "data": {
      "text/plain": [
       "M    8484\n",
       "F    6129\n",
       "O     212\n",
       "Name: gender, dtype: int64"
      ]
     },
     "execution_count": 25,
     "metadata": {},
     "output_type": "execute_result"
    }
   ],
   "source": [
    "profile[\"gender\"].value_counts()"
   ]
  },
  {
   "cell_type": "markdown",
   "metadata": {},
   "source": [
    "Upon further examination of the **Gender** feature, one can see that 212 customers did not want to give an answer or specify their gender. Let's remove these entries because this will not yield useful insights for our analysis later on. As last step for the **Gender** feature, the column will be dummy-coded and the original column dropped."
   ]
  },
  {
   "cell_type": "code",
   "execution_count": 72,
   "metadata": {},
   "outputs": [
    {
     "data": {
      "text/html": [
       "<div>\n",
       "<style scoped>\n",
       "    .dataframe tbody tr th:only-of-type {\n",
       "        vertical-align: middle;\n",
       "    }\n",
       "\n",
       "    .dataframe tbody tr th {\n",
       "        vertical-align: top;\n",
       "    }\n",
       "\n",
       "    .dataframe thead th {\n",
       "        text-align: right;\n",
       "    }\n",
       "</style>\n",
       "<table border=\"1\" class=\"dataframe\">\n",
       "  <thead>\n",
       "    <tr style=\"text-align: right;\">\n",
       "      <th></th>\n",
       "      <th>gender</th>\n",
       "      <th>male</th>\n",
       "    </tr>\n",
       "  </thead>\n",
       "  <tbody>\n",
       "    <tr>\n",
       "      <th>0</th>\n",
       "      <td>F</td>\n",
       "      <td>0</td>\n",
       "    </tr>\n",
       "    <tr>\n",
       "      <th>1</th>\n",
       "      <td>F</td>\n",
       "      <td>0</td>\n",
       "    </tr>\n",
       "    <tr>\n",
       "      <th>2</th>\n",
       "      <td>M</td>\n",
       "      <td>1</td>\n",
       "    </tr>\n",
       "    <tr>\n",
       "      <th>3</th>\n",
       "      <td>M</td>\n",
       "      <td>1</td>\n",
       "    </tr>\n",
       "    <tr>\n",
       "      <th>4</th>\n",
       "      <td>M</td>\n",
       "      <td>1</td>\n",
       "    </tr>\n",
       "    <tr>\n",
       "      <th>...</th>\n",
       "      <td>...</td>\n",
       "      <td>...</td>\n",
       "    </tr>\n",
       "    <tr>\n",
       "      <th>14820</th>\n",
       "      <td>F</td>\n",
       "      <td>0</td>\n",
       "    </tr>\n",
       "    <tr>\n",
       "      <th>14821</th>\n",
       "      <td>M</td>\n",
       "      <td>1</td>\n",
       "    </tr>\n",
       "    <tr>\n",
       "      <th>14822</th>\n",
       "      <td>M</td>\n",
       "      <td>1</td>\n",
       "    </tr>\n",
       "    <tr>\n",
       "      <th>14823</th>\n",
       "      <td>F</td>\n",
       "      <td>0</td>\n",
       "    </tr>\n",
       "    <tr>\n",
       "      <th>14824</th>\n",
       "      <td>F</td>\n",
       "      <td>0</td>\n",
       "    </tr>\n",
       "  </tbody>\n",
       "</table>\n",
       "<p>14613 rows × 2 columns</p>\n",
       "</div>"
      ],
      "text/plain": [
       "      gender  male\n",
       "0          F     0\n",
       "1          F     0\n",
       "2          M     1\n",
       "3          M     1\n",
       "4          M     1\n",
       "...      ...   ...\n",
       "14820      F     0\n",
       "14821      M     1\n",
       "14822      M     1\n",
       "14823      F     0\n",
       "14824      F     0\n",
       "\n",
       "[14613 rows x 2 columns]"
      ]
     },
     "execution_count": 72,
     "metadata": {},
     "output_type": "execute_result"
    }
   ],
   "source": [
    "profile = profile[profile.gender != 'O']\n",
    "profile['male'] = profile['gender'].map({'M':1,'F':0}) # 1 is male, 0 is female\n",
    "profile[['gender','male']] # to check if it worked proprely"
   ]
  },
  {
   "cell_type": "code",
   "execution_count": 73,
   "metadata": {},
   "outputs": [],
   "source": [
    "# now we can drop the original column\n",
    "profile.drop(columns = 'gender', inplace = True) "
   ]
  },
  {
   "cell_type": "markdown",
   "metadata": {},
   "source": [
    "The feature **Became Member On** is supposed to be in datetime format. However, this is not the case here. Moreover, in order to be able to use this feature in any machine learning model, it must be feature engineered. \n",
    "\n",
    "My approach:\n",
    "\n",
    "First, convert the current column format (int) to datetime and then calculate the total number of membership days per customer. Lastly, I will drop the old column.\n"
   ]
  },
  {
   "cell_type": "code",
   "execution_count": 74,
   "metadata": {},
   "outputs": [],
   "source": [
    "# convert column to datetime\n",
    "profile['became_member_on'] = pd.to_datetime(profile['became_member_on'], format=\"%Y%m%d\")"
   ]
  },
  {
   "cell_type": "code",
   "execution_count": 75,
   "metadata": {},
   "outputs": [
    {
     "name": "stdout",
     "output_type": "stream",
     "text": [
      "2013-07-29 00:00:00 2018-07-26 00:00:00\n"
     ]
    }
   ],
   "source": [
    "# let's see the timeframe the customer data was collected\n",
    "print(profile[\"became_member_on\"].min(),profile[\"became_member_on\"].max()) "
   ]
  },
  {
   "cell_type": "markdown",
   "metadata": {},
   "source": [
    "The customer data was collected between July 29th, 2013 and July 26th, 2018"
   ]
  },
  {
   "cell_type": "code",
   "execution_count": 76,
   "metadata": {},
   "outputs": [],
   "source": [
    "# create a function to convert the column into total number of days\n",
    "def total_days_converter(start_date, end_date= profile[\"became_member_on\"].max()):\n",
    "    for date in start_date:\n",
    "        days = (end_date-start_date)\n",
    "        return days "
   ]
  },
  {
   "cell_type": "code",
   "execution_count": 77,
   "metadata": {},
   "outputs": [
    {
     "data": {
      "text/plain": [
       "0   376 days\n",
       "1   443 days\n",
       "2    91 days\n",
       "3   167 days\n",
       "4   257 days\n",
       "Name: membership_days, dtype: timedelta64[ns]"
      ]
     },
     "execution_count": 77,
     "metadata": {},
     "output_type": "execute_result"
    }
   ],
   "source": [
    "# apply function to perform the conversion\n",
    "profile[\"membership_days\"] = total_days_converter(profile[\"became_member_on\"])\n",
    "profile.drop(columns=\"became_member_on\", inplace=True)\n",
    "profile[\"membership_days\"].head()"
   ]
  },
  {
   "cell_type": "code",
   "execution_count": 79,
   "metadata": {},
   "outputs": [],
   "source": [
    "# since we are only interested in the total number of days we can extract the number of days and convert it to integer format\n",
    "profile['membership_days'] = pd.to_numeric(profile['membership_days'].dt.days, downcast='integer')"
   ]
  },
  {
   "cell_type": "markdown",
   "metadata": {},
   "source": [
    "The third and final dataset is ready to be used for merging. The **Customer ID** column remains in its current state because it will be used to merge the datasets next. However, this dataset is not yet suitable for machine learning because the 3 datetime columns need more processing which will be conducted later."
   ]
  },
  {
   "cell_type": "markdown",
   "metadata": {},
   "source": [
    "## Merging the Three Datasets into a Complete Dataset"
   ]
  },
  {
   "cell_type": "markdown",
   "metadata": {},
   "source": [
    "**Step 1:** Let's start by merging the cleaned **Transcript** dataset with the **Profile** dataset on **Customer ID**."
   ]
  },
  {
   "cell_type": "code",
   "execution_count": 82,
   "metadata": {},
   "outputs": [
    {
     "name": "stdout",
     "output_type": "stream",
     "text": [
      "<class 'pandas.core.frame.DataFrame'>\n",
      "Int64Index: 79866 entries, 0 to 79865\n",
      "Data columns (total 10 columns):\n",
      " #   Column              Non-Null Count  Dtype  \n",
      "---  ------              --------------  -----  \n",
      " 0   customer_id         79866 non-null  object \n",
      " 1   offer_id            63288 non-null  object \n",
      " 2   transaction_amount  16578 non-null  float64\n",
      " 3   reward              28996 non-null  float64\n",
      " 4   event               79866 non-null  int64  \n",
      " 5   days_since_test     79866 non-null  int64  \n",
      " 6   age                 68741 non-null  float64\n",
      " 7   income              68741 non-null  float64\n",
      " 8   male                68741 non-null  float64\n",
      " 9   membership_days     68741 non-null  float64\n",
      "dtypes: float64(6), int64(2), object(2)\n",
      "memory usage: 6.7+ MB\n"
     ]
    }
   ],
   "source": [
    "# we merge them with \"how = 'outer'\" to retain all rows even if there is not a match on \"customer_id\" \n",
    "step1 = pd.merge(transcript_2, profile, on=\"customer_id\", how=\"outer\")\n",
    "step1.info()"
   ]
  },
  {
   "cell_type": "markdown",
   "metadata": {},
   "source": [
    "**Step 2:** Let's merge the **Step1** dataset with the **Portfolio** dataset on **Offer ID** to create the complete dataset."
   ]
  },
  {
   "cell_type": "code",
   "execution_count": 83,
   "metadata": {},
   "outputs": [
    {
     "name": "stdout",
     "output_type": "stream",
     "text": [
      "<class 'pandas.core.frame.DataFrame'>\n",
      "Int64Index: 79866 entries, 0 to 79865\n",
      "Data columns (total 20 columns):\n",
      " #   Column              Non-Null Count  Dtype  \n",
      "---  ------              --------------  -----  \n",
      " 0   customer_id         79866 non-null  object \n",
      " 1   offer_id            63288 non-null  object \n",
      " 2   transaction_amount  16578 non-null  float64\n",
      " 3   reward_x            28996 non-null  float64\n",
      " 4   event               79866 non-null  int64  \n",
      " 5   days_since_test     79866 non-null  int64  \n",
      " 6   age                 68741 non-null  float64\n",
      " 7   income              68741 non-null  float64\n",
      " 8   male                68741 non-null  float64\n",
      " 9   membership_days     68741 non-null  float64\n",
      " 10  reward_y            63288 non-null  float64\n",
      " 11  difficulty          63288 non-null  float64\n",
      " 12  duration            63288 non-null  float64\n",
      " 13  email               63288 non-null  float64\n",
      " 14  mobile              63288 non-null  float64\n",
      " 15  social              63288 non-null  float64\n",
      " 16  web                 63288 non-null  float64\n",
      " 17  bogo                63288 non-null  float64\n",
      " 18  discount            63288 non-null  float64\n",
      " 19  informational       63288 non-null  float64\n",
      "dtypes: float64(16), int64(2), object(2)\n",
      "memory usage: 12.8+ MB\n"
     ]
    }
   ],
   "source": [
    "step2 = pd.merge(step1, portfolio, on=\"offer_id\", how=\"outer\") # outer to avoid dropping NaNs or no match on Offer ID\n",
    "step2.info()"
   ]
  },
  {
   "cell_type": "markdown",
   "metadata": {},
   "source": [
    "# Preparing the Complete Dataset"
   ]
  },
  {
   "cell_type": "markdown",
   "metadata": {},
   "source": [
    "Finally, after merging the datasets into the complete dataset we have to do some last preprocessing steps before we can start with our analysis.\n",
    "<br>\n",
    "\n",
    "- drop **Customer ID** and **Offer ID** columns since we are now done with merging datasets and don't need them anymore\n",
    "- fill NaNs in **Transaction Amount**, **Difficulty**, **Duration, **Email**, **Mobile**, **Social**, **Web**, **Bogo**, **Discount** and **Informational** with 0s\n",
    "- examine if **reward_x** and **reward_y** are identical and then drop one, fill the remaining NaNs with 0 and rename the feature"
   ]
  },
  {
   "cell_type": "code",
   "execution_count": 84,
   "metadata": {},
   "outputs": [],
   "source": [
    "step2.drop(columns=[\"customer_id\", \"offer_id\"], inplace=True)"
   ]
  },
  {
   "cell_type": "code",
   "execution_count": 85,
   "metadata": {},
   "outputs": [],
   "source": [
    "# fill NaNs in with 0s \n",
    "step2[\"transaction_amount\"].fillna(value=0, inplace=True)\n",
    "step2[\"difficulty\"].fillna(value=0, inplace=True)\n",
    "step2[\"duration\"].fillna(value=0, inplace=True)\n",
    "step2[\"email\"].fillna(value=0, inplace=True)\n",
    "step2[\"mobile\"].fillna(value=0, inplace=True)\n",
    "step2[\"social\"].fillna(value=0, inplace=True)\n",
    "step2[\"web\"].fillna(value=0, inplace=True)\n",
    "step2[\"bogo\"].fillna(value=0, inplace=True)\n",
    "step2[\"discount\"].fillna(value=0, inplace=True)\n",
    "step2[\"informational\"].fillna(value=0, inplace=True)"
   ]
  },
  {
   "cell_type": "code",
   "execution_count": 86,
   "metadata": {},
   "outputs": [
    {
     "data": {
      "text/plain": [
       "True"
      ]
     },
     "execution_count": 86,
     "metadata": {},
     "output_type": "execute_result"
    }
   ],
   "source": [
    "# check if reward_x values are all in reward_y\n",
    "step2[\"reward_x\"].isin(step2[\"reward_y\"]).all()"
   ]
  },
  {
   "cell_type": "code",
   "execution_count": 87,
   "metadata": {},
   "outputs": [],
   "source": [
    "# this means we can drop reward_x, rename reward_y to reward and fill any missing values with 0\n",
    "step2.drop(columns=\"reward_x\", inplace=True)\n",
    "step2.rename(columns={\"reward_y\" : \"reward\"},inplace=True)\n",
    "step2[\"reward\"].fillna(value=0, inplace=True)"
   ]
  },
  {
   "cell_type": "markdown",
   "metadata": {},
   "source": [
    "Let's check for any additional missing values. If there are still find missing data we will drop them."
   ]
  },
  {
   "cell_type": "code",
   "execution_count": 41,
   "metadata": {},
   "outputs": [
    {
     "data": {
      "text/plain": [
       "<matplotlib.axes._subplots.AxesSubplot at 0x218bf44adc8>"
      ]
     },
     "execution_count": 41,
     "metadata": {},
     "output_type": "execute_result"
    },
    {
     "data": {
      "image/png": "[encoded data removed]",
      "text/plain": [
       "<Figure size 1152x576 with 1 Axes>"
      ]
     },
     "metadata": {},
     "output_type": "display_data"
    }
   ],
   "source": [
    "plt.figure(figsize=(16,8))\n",
    "sns.heatmap(step2.isnull(),yticklabels=False,cbar=False,cmap='viridis')"
   ]
  },
  {
   "cell_type": "code",
   "execution_count": 88,
   "metadata": {},
   "outputs": [
    {
     "name": "stdout",
     "output_type": "stream",
     "text": [
      "<class 'pandas.core.frame.DataFrame'>\n",
      "RangeIndex: 68741 entries, 0 to 68740\n",
      "Data columns (total 17 columns):\n",
      " #   Column              Non-Null Count  Dtype  \n",
      "---  ------              --------------  -----  \n",
      " 0   transaction_amount  68741 non-null  float64\n",
      " 1   event               68741 non-null  int64  \n",
      " 2   days_since_test     68741 non-null  int64  \n",
      " 3   age                 68741 non-null  float64\n",
      " 4   income              68741 non-null  float64\n",
      " 5   male                68741 non-null  float64\n",
      " 6   membership_days     68741 non-null  float64\n",
      " 7   reward              68741 non-null  float64\n",
      " 8   difficulty          68741 non-null  float64\n",
      " 9   duration            68741 non-null  float64\n",
      " 10  email               68741 non-null  float64\n",
      " 11  mobile              68741 non-null  float64\n",
      " 12  social              68741 non-null  float64\n",
      " 13  web                 68741 non-null  float64\n",
      " 14  bogo                68741 non-null  float64\n",
      " 15  discount            68741 non-null  float64\n",
      " 16  informational       68741 non-null  float64\n",
      "dtypes: float64(15), int64(2)\n",
      "memory usage: 8.9 MB\n"
     ]
    }
   ],
   "source": [
    "# drop NaNs\n",
    "step2.dropna(inplace=True)\n",
    "step2.reset_index(inplace=True,drop=True) # resetting the index caused by dropped values\n",
    "step2.info()"
   ]
  },
  {
   "cell_type": "markdown",
   "metadata": {},
   "source": [
    "No missing data left. The final dataset contains 68,741 observations and 17 columns. Let's save it as a csv file and begin with our analysis."
   ]
  },
  {
   "cell_type": "code",
   "execution_count": 89,
   "metadata": {},
   "outputs": [],
   "source": [
    "# Write csv file of the step2 data set \n",
    "step2.to_csv(\"starbucks.csv\")"
   ]
  },
  {
   "cell_type": "markdown",
   "metadata": {},
   "source": [
    "# 2) Exploratory Data Analysis (EDA)"
   ]
  },
  {
   "cell_type": "code",
   "execution_count": 2,
   "metadata": {},
   "outputs": [],
   "source": [
    "# load dataset\n",
    "df = pd.read_csv(\"starbucks.csv\")"
   ]
  },
  {
   "cell_type": "markdown",
   "metadata": {},
   "source": [
    "## 1. Summary Statistics"
   ]
  },
  {
   "cell_type": "markdown",
   "metadata": {},
   "source": [
    "The loaded dataset contains a new column titled \"Unnamed: 0\" which is presumably added automatically as index. Let's drop this column before conducting the EDA."
   ]
  },
  {
   "cell_type": "code",
   "execution_count": 3,
   "metadata": {},
   "outputs": [
    {
     "name": "stdout",
     "output_type": "stream",
     "text": [
      "<class 'pandas.core.frame.DataFrame'>\n",
      "RangeIndex: 68741 entries, 0 to 68740\n",
      "Data columns (total 17 columns):\n",
      " #   Column              Non-Null Count  Dtype  \n",
      "---  ------              --------------  -----  \n",
      " 0   transaction_amount  68741 non-null  float64\n",
      " 1   event               68741 non-null  int64  \n",
      " 2   days_since_test     68741 non-null  int64  \n",
      " 3   age                 68741 non-null  float64\n",
      " 4   income              68741 non-null  float64\n",
      " 5   male                68741 non-null  float64\n",
      " 6   membership_days     68741 non-null  float64\n",
      " 7   reward              68741 non-null  float64\n",
      " 8   difficulty          68741 non-null  float64\n",
      " 9   duration            68741 non-null  float64\n",
      " 10  email               68741 non-null  float64\n",
      " 11  mobile              68741 non-null  float64\n",
      " 12  social              68741 non-null  float64\n",
      " 13  web                 68741 non-null  float64\n",
      " 14  bogo                68741 non-null  float64\n",
      " 15  discount            68741 non-null  float64\n",
      " 16  informational       68741 non-null  float64\n",
      "dtypes: float64(15), int64(2)\n",
      "memory usage: 8.9 MB\n"
     ]
    }
   ],
   "source": [
    "df.drop(columns=\"Unnamed: 0\", inplace=True)\n",
    "df.info()"
   ]
  },
  {
   "cell_type": "code",
   "execution_count": 92,
   "metadata": {},
   "outputs": [
    {
     "data": {
      "text/html": [
       "<div>\n",
       "<style scoped>\n",
       "    .dataframe tbody tr th:only-of-type {\n",
       "        vertical-align: middle;\n",
       "    }\n",
       "\n",
       "    .dataframe tbody tr th {\n",
       "        vertical-align: top;\n",
       "    }\n",
       "\n",
       "    .dataframe thead th {\n",
       "        text-align: right;\n",
       "    }\n",
       "</style>\n",
       "<table border=\"1\" class=\"dataframe\">\n",
       "  <thead>\n",
       "    <tr style=\"text-align: right;\">\n",
       "      <th></th>\n",
       "      <th>transaction_amount</th>\n",
       "      <th>event</th>\n",
       "      <th>days_since_test</th>\n",
       "      <th>age</th>\n",
       "      <th>income</th>\n",
       "      <th>male</th>\n",
       "      <th>membership_days</th>\n",
       "      <th>reward</th>\n",
       "      <th>difficulty</th>\n",
       "      <th>duration</th>\n",
       "      <th>email</th>\n",
       "      <th>mobile</th>\n",
       "      <th>social</th>\n",
       "      <th>web</th>\n",
       "      <th>bogo</th>\n",
       "      <th>discount</th>\n",
       "      <th>informational</th>\n",
       "    </tr>\n",
       "  </thead>\n",
       "  <tbody>\n",
       "    <tr>\n",
       "      <th>0</th>\n",
       "      <td>0.0</td>\n",
       "      <td>4</td>\n",
       "      <td>2</td>\n",
       "      <td>45.0</td>\n",
       "      <td>62000.0</td>\n",
       "      <td>0.0</td>\n",
       "      <td>608.0</td>\n",
       "      <td>2.0</td>\n",
       "      <td>10.0</td>\n",
       "      <td>10.0</td>\n",
       "      <td>1.0</td>\n",
       "      <td>1.0</td>\n",
       "      <td>1.0</td>\n",
       "      <td>1.0</td>\n",
       "      <td>0.0</td>\n",
       "      <td>1.0</td>\n",
       "      <td>0.0</td>\n",
       "    </tr>\n",
       "    <tr>\n",
       "      <th>1</th>\n",
       "      <td>0.0</td>\n",
       "      <td>3</td>\n",
       "      <td>18</td>\n",
       "      <td>71.0</td>\n",
       "      <td>56000.0</td>\n",
       "      <td>1.0</td>\n",
       "      <td>158.0</td>\n",
       "      <td>2.0</td>\n",
       "      <td>10.0</td>\n",
       "      <td>10.0</td>\n",
       "      <td>1.0</td>\n",
       "      <td>1.0</td>\n",
       "      <td>1.0</td>\n",
       "      <td>1.0</td>\n",
       "      <td>0.0</td>\n",
       "      <td>1.0</td>\n",
       "      <td>0.0</td>\n",
       "    </tr>\n",
       "    <tr>\n",
       "      <th>2</th>\n",
       "      <td>0.0</td>\n",
       "      <td>4</td>\n",
       "      <td>8</td>\n",
       "      <td>71.0</td>\n",
       "      <td>73000.0</td>\n",
       "      <td>1.0</td>\n",
       "      <td>268.0</td>\n",
       "      <td>2.0</td>\n",
       "      <td>10.0</td>\n",
       "      <td>10.0</td>\n",
       "      <td>1.0</td>\n",
       "      <td>1.0</td>\n",
       "      <td>1.0</td>\n",
       "      <td>1.0</td>\n",
       "      <td>0.0</td>\n",
       "      <td>1.0</td>\n",
       "      <td>0.0</td>\n",
       "    </tr>\n",
       "    <tr>\n",
       "      <th>3</th>\n",
       "      <td>0.0</td>\n",
       "      <td>4</td>\n",
       "      <td>0</td>\n",
       "      <td>69.0</td>\n",
       "      <td>83000.0</td>\n",
       "      <td>0.0</td>\n",
       "      <td>1040.0</td>\n",
       "      <td>2.0</td>\n",
       "      <td>10.0</td>\n",
       "      <td>10.0</td>\n",
       "      <td>1.0</td>\n",
       "      <td>1.0</td>\n",
       "      <td>1.0</td>\n",
       "      <td>1.0</td>\n",
       "      <td>0.0</td>\n",
       "      <td>1.0</td>\n",
       "      <td>0.0</td>\n",
       "    </tr>\n",
       "    <tr>\n",
       "      <th>4</th>\n",
       "      <td>0.0</td>\n",
       "      <td>4</td>\n",
       "      <td>7</td>\n",
       "      <td>59.0</td>\n",
       "      <td>93000.0</td>\n",
       "      <td>0.0</td>\n",
       "      <td>329.0</td>\n",
       "      <td>2.0</td>\n",
       "      <td>10.0</td>\n",
       "      <td>10.0</td>\n",
       "      <td>1.0</td>\n",
       "      <td>1.0</td>\n",
       "      <td>1.0</td>\n",
       "      <td>1.0</td>\n",
       "      <td>0.0</td>\n",
       "      <td>1.0</td>\n",
       "      <td>0.0</td>\n",
       "    </tr>\n",
       "    <tr>\n",
       "      <th>5</th>\n",
       "      <td>0.0</td>\n",
       "      <td>4</td>\n",
       "      <td>2</td>\n",
       "      <td>87.0</td>\n",
       "      <td>47000.0</td>\n",
       "      <td>0.0</td>\n",
       "      <td>498.0</td>\n",
       "      <td>2.0</td>\n",
       "      <td>10.0</td>\n",
       "      <td>10.0</td>\n",
       "      <td>1.0</td>\n",
       "      <td>1.0</td>\n",
       "      <td>1.0</td>\n",
       "      <td>1.0</td>\n",
       "      <td>0.0</td>\n",
       "      <td>1.0</td>\n",
       "      <td>0.0</td>\n",
       "    </tr>\n",
       "    <tr>\n",
       "      <th>6</th>\n",
       "      <td>0.0</td>\n",
       "      <td>4</td>\n",
       "      <td>21</td>\n",
       "      <td>67.0</td>\n",
       "      <td>95000.0</td>\n",
       "      <td>0.0</td>\n",
       "      <td>5.0</td>\n",
       "      <td>2.0</td>\n",
       "      <td>10.0</td>\n",
       "      <td>10.0</td>\n",
       "      <td>1.0</td>\n",
       "      <td>1.0</td>\n",
       "      <td>1.0</td>\n",
       "      <td>1.0</td>\n",
       "      <td>0.0</td>\n",
       "      <td>1.0</td>\n",
       "      <td>0.0</td>\n",
       "    </tr>\n",
       "    <tr>\n",
       "      <th>7</th>\n",
       "      <td>0.0</td>\n",
       "      <td>4</td>\n",
       "      <td>20</td>\n",
       "      <td>57.0</td>\n",
       "      <td>118000.0</td>\n",
       "      <td>0.0</td>\n",
       "      <td>1058.0</td>\n",
       "      <td>2.0</td>\n",
       "      <td>10.0</td>\n",
       "      <td>10.0</td>\n",
       "      <td>1.0</td>\n",
       "      <td>1.0</td>\n",
       "      <td>1.0</td>\n",
       "      <td>1.0</td>\n",
       "      <td>0.0</td>\n",
       "      <td>1.0</td>\n",
       "      <td>0.0</td>\n",
       "    </tr>\n",
       "    <tr>\n",
       "      <th>8</th>\n",
       "      <td>0.0</td>\n",
       "      <td>4</td>\n",
       "      <td>26</td>\n",
       "      <td>50.0</td>\n",
       "      <td>86000.0</td>\n",
       "      <td>1.0</td>\n",
       "      <td>330.0</td>\n",
       "      <td>2.0</td>\n",
       "      <td>10.0</td>\n",
       "      <td>10.0</td>\n",
       "      <td>1.0</td>\n",
       "      <td>1.0</td>\n",
       "      <td>1.0</td>\n",
       "      <td>1.0</td>\n",
       "      <td>0.0</td>\n",
       "      <td>1.0</td>\n",
       "      <td>0.0</td>\n",
       "    </tr>\n",
       "    <tr>\n",
       "      <th>9</th>\n",
       "      <td>0.0</td>\n",
       "      <td>4</td>\n",
       "      <td>1</td>\n",
       "      <td>43.0</td>\n",
       "      <td>67000.0</td>\n",
       "      <td>0.0</td>\n",
       "      <td>1091.0</td>\n",
       "      <td>2.0</td>\n",
       "      <td>10.0</td>\n",
       "      <td>10.0</td>\n",
       "      <td>1.0</td>\n",
       "      <td>1.0</td>\n",
       "      <td>1.0</td>\n",
       "      <td>1.0</td>\n",
       "      <td>0.0</td>\n",
       "      <td>1.0</td>\n",
       "      <td>0.0</td>\n",
       "    </tr>\n",
       "  </tbody>\n",
       "</table>\n",
       "</div>"
      ],
      "text/plain": [
       "   transaction_amount  event  days_since_test   age    income  male  \\\n",
       "0                 0.0      4                2  45.0   62000.0   0.0   \n",
       "1                 0.0      3               18  71.0   56000.0   1.0   \n",
       "2                 0.0      4                8  71.0   73000.0   1.0   \n",
       "3                 0.0      4                0  69.0   83000.0   0.0   \n",
       "4                 0.0      4                7  59.0   93000.0   0.0   \n",
       "5                 0.0      4                2  87.0   47000.0   0.0   \n",
       "6                 0.0      4               21  67.0   95000.0   0.0   \n",
       "7                 0.0      4               20  57.0  118000.0   0.0   \n",
       "8                 0.0      4               26  50.0   86000.0   1.0   \n",
       "9                 0.0      4                1  43.0   67000.0   0.0   \n",
       "\n",
       "   membership_days  reward  difficulty  duration  email  mobile  social  web  \\\n",
       "0            608.0     2.0        10.0      10.0    1.0     1.0     1.0  1.0   \n",
       "1            158.0     2.0        10.0      10.0    1.0     1.0     1.0  1.0   \n",
       "2            268.0     2.0        10.0      10.0    1.0     1.0     1.0  1.0   \n",
       "3           1040.0     2.0        10.0      10.0    1.0     1.0     1.0  1.0   \n",
       "4            329.0     2.0        10.0      10.0    1.0     1.0     1.0  1.0   \n",
       "5            498.0     2.0        10.0      10.0    1.0     1.0     1.0  1.0   \n",
       "6              5.0     2.0        10.0      10.0    1.0     1.0     1.0  1.0   \n",
       "7           1058.0     2.0        10.0      10.0    1.0     1.0     1.0  1.0   \n",
       "8            330.0     2.0        10.0      10.0    1.0     1.0     1.0  1.0   \n",
       "9           1091.0     2.0        10.0      10.0    1.0     1.0     1.0  1.0   \n",
       "\n",
       "   bogo  discount  informational  \n",
       "0   0.0       1.0            0.0  \n",
       "1   0.0       1.0            0.0  \n",
       "2   0.0       1.0            0.0  \n",
       "3   0.0       1.0            0.0  \n",
       "4   0.0       1.0            0.0  \n",
       "5   0.0       1.0            0.0  \n",
       "6   0.0       1.0            0.0  \n",
       "7   0.0       1.0            0.0  \n",
       "8   0.0       1.0            0.0  \n",
       "9   0.0       1.0            0.0  "
      ]
     },
     "execution_count": 92,
     "metadata": {},
     "output_type": "execute_result"
    }
   ],
   "source": [
    "df.head(10)"
   ]
  },
  {
   "cell_type": "code",
   "execution_count": 93,
   "metadata": {},
   "outputs": [
    {
     "data": {
      "text/html": [
       "<div>\n",
       "<style scoped>\n",
       "    .dataframe tbody tr th:only-of-type {\n",
       "        vertical-align: middle;\n",
       "    }\n",
       "\n",
       "    .dataframe tbody tr th {\n",
       "        vertical-align: top;\n",
       "    }\n",
       "\n",
       "    .dataframe thead th {\n",
       "        text-align: right;\n",
       "    }\n",
       "</style>\n",
       "<table border=\"1\" class=\"dataframe\">\n",
       "  <thead>\n",
       "    <tr style=\"text-align: right;\">\n",
       "      <th></th>\n",
       "      <th>transaction_amount</th>\n",
       "      <th>event</th>\n",
       "      <th>days_since_test</th>\n",
       "      <th>age</th>\n",
       "      <th>income</th>\n",
       "      <th>male</th>\n",
       "      <th>membership_days</th>\n",
       "      <th>reward</th>\n",
       "      <th>difficulty</th>\n",
       "      <th>duration</th>\n",
       "      <th>email</th>\n",
       "      <th>mobile</th>\n",
       "      <th>social</th>\n",
       "      <th>web</th>\n",
       "      <th>bogo</th>\n",
       "      <th>discount</th>\n",
       "      <th>informational</th>\n",
       "    </tr>\n",
       "  </thead>\n",
       "  <tbody>\n",
       "    <tr>\n",
       "      <th>count</th>\n",
       "      <td>68741.000000</td>\n",
       "      <td>68741.000000</td>\n",
       "      <td>68741.000000</td>\n",
       "      <td>68741.000000</td>\n",
       "      <td>68741.000000</td>\n",
       "      <td>68741.000000</td>\n",
       "      <td>68741.000000</td>\n",
       "      <td>68741.000000</td>\n",
       "      <td>68741.000000</td>\n",
       "      <td>68741.000000</td>\n",
       "      <td>68741.000000</td>\n",
       "      <td>68741.000000</td>\n",
       "      <td>68741.000000</td>\n",
       "      <td>68741.000000</td>\n",
       "      <td>68741.000000</td>\n",
       "      <td>68741.000000</td>\n",
       "      <td>68741.000000</td>\n",
       "    </tr>\n",
       "    <tr>\n",
       "      <th>mean</th>\n",
       "      <td>3.097166</td>\n",
       "      <td>2.865088</td>\n",
       "      <td>12.637742</td>\n",
       "      <td>54.333862</td>\n",
       "      <td>65388.007157</td>\n",
       "      <td>0.581022</td>\n",
       "      <td>523.530295</td>\n",
       "      <td>3.332233</td>\n",
       "      <td>6.116612</td>\n",
       "      <td>5.155831</td>\n",
       "      <td>0.792147</td>\n",
       "      <td>0.711977</td>\n",
       "      <td>0.474768</td>\n",
       "      <td>0.633276</td>\n",
       "      <td>0.316536</td>\n",
       "      <td>0.317365</td>\n",
       "      <td>0.158246</td>\n",
       "    </tr>\n",
       "    <tr>\n",
       "      <th>std</th>\n",
       "      <td>15.436389</td>\n",
       "      <td>1.154521</td>\n",
       "      <td>8.742691</td>\n",
       "      <td>17.415733</td>\n",
       "      <td>21655.181548</td>\n",
       "      <td>0.493395</td>\n",
       "      <td>419.954176</td>\n",
       "      <td>3.476804</td>\n",
       "      <td>5.847533</td>\n",
       "      <td>3.290752</td>\n",
       "      <td>0.405774</td>\n",
       "      <td>0.452845</td>\n",
       "      <td>0.499367</td>\n",
       "      <td>0.481914</td>\n",
       "      <td>0.465128</td>\n",
       "      <td>0.465454</td>\n",
       "      <td>0.364974</td>\n",
       "    </tr>\n",
       "    <tr>\n",
       "      <th>min</th>\n",
       "      <td>0.000000</td>\n",
       "      <td>1.000000</td>\n",
       "      <td>0.000000</td>\n",
       "      <td>18.000000</td>\n",
       "      <td>30000.000000</td>\n",
       "      <td>0.000000</td>\n",
       "      <td>0.000000</td>\n",
       "      <td>0.000000</td>\n",
       "      <td>0.000000</td>\n",
       "      <td>0.000000</td>\n",
       "      <td>0.000000</td>\n",
       "      <td>0.000000</td>\n",
       "      <td>0.000000</td>\n",
       "      <td>0.000000</td>\n",
       "      <td>0.000000</td>\n",
       "      <td>0.000000</td>\n",
       "      <td>0.000000</td>\n",
       "    </tr>\n",
       "    <tr>\n",
       "      <th>25%</th>\n",
       "      <td>0.000000</td>\n",
       "      <td>2.000000</td>\n",
       "      <td>4.000000</td>\n",
       "      <td>42.000000</td>\n",
       "      <td>49000.000000</td>\n",
       "      <td>0.000000</td>\n",
       "      <td>208.000000</td>\n",
       "      <td>0.000000</td>\n",
       "      <td>0.000000</td>\n",
       "      <td>3.000000</td>\n",
       "      <td>1.000000</td>\n",
       "      <td>0.000000</td>\n",
       "      <td>0.000000</td>\n",
       "      <td>0.000000</td>\n",
       "      <td>0.000000</td>\n",
       "      <td>0.000000</td>\n",
       "      <td>0.000000</td>\n",
       "    </tr>\n",
       "    <tr>\n",
       "      <th>50%</th>\n",
       "      <td>0.000000</td>\n",
       "      <td>3.000000</td>\n",
       "      <td>14.000000</td>\n",
       "      <td>55.000000</td>\n",
       "      <td>64000.000000</td>\n",
       "      <td>1.000000</td>\n",
       "      <td>359.000000</td>\n",
       "      <td>2.000000</td>\n",
       "      <td>5.000000</td>\n",
       "      <td>5.000000</td>\n",
       "      <td>1.000000</td>\n",
       "      <td>1.000000</td>\n",
       "      <td>0.000000</td>\n",
       "      <td>1.000000</td>\n",
       "      <td>0.000000</td>\n",
       "      <td>0.000000</td>\n",
       "      <td>0.000000</td>\n",
       "    </tr>\n",
       "    <tr>\n",
       "      <th>75%</th>\n",
       "      <td>0.000000</td>\n",
       "      <td>4.000000</td>\n",
       "      <td>21.000000</td>\n",
       "      <td>66.000000</td>\n",
       "      <td>80000.000000</td>\n",
       "      <td>1.000000</td>\n",
       "      <td>799.000000</td>\n",
       "      <td>5.000000</td>\n",
       "      <td>10.000000</td>\n",
       "      <td>7.000000</td>\n",
       "      <td>1.000000</td>\n",
       "      <td>1.000000</td>\n",
       "      <td>1.000000</td>\n",
       "      <td>1.000000</td>\n",
       "      <td>1.000000</td>\n",
       "      <td>1.000000</td>\n",
       "      <td>0.000000</td>\n",
       "    </tr>\n",
       "    <tr>\n",
       "      <th>max</th>\n",
       "      <td>962.100000</td>\n",
       "      <td>4.000000</td>\n",
       "      <td>29.000000</td>\n",
       "      <td>101.000000</td>\n",
       "      <td>120000.000000</td>\n",
       "      <td>1.000000</td>\n",
       "      <td>1823.000000</td>\n",
       "      <td>10.000000</td>\n",
       "      <td>20.000000</td>\n",
       "      <td>10.000000</td>\n",
       "      <td>1.000000</td>\n",
       "      <td>1.000000</td>\n",
       "      <td>1.000000</td>\n",
       "      <td>1.000000</td>\n",
       "      <td>1.000000</td>\n",
       "      <td>1.000000</td>\n",
       "      <td>1.000000</td>\n",
       "    </tr>\n",
       "  </tbody>\n",
       "</table>\n",
       "</div>"
      ],
      "text/plain": [
       "       transaction_amount         event  days_since_test           age  \\\n",
       "count        68741.000000  68741.000000     68741.000000  68741.000000   \n",
       "mean             3.097166      2.865088        12.637742     54.333862   \n",
       "std             15.436389      1.154521         8.742691     17.415733   \n",
       "min              0.000000      1.000000         0.000000     18.000000   \n",
       "25%              0.000000      2.000000         4.000000     42.000000   \n",
       "50%              0.000000      3.000000        14.000000     55.000000   \n",
       "75%              0.000000      4.000000        21.000000     66.000000   \n",
       "max            962.100000      4.000000        29.000000    101.000000   \n",
       "\n",
       "              income          male  membership_days        reward  \\\n",
       "count   68741.000000  68741.000000     68741.000000  68741.000000   \n",
       "mean    65388.007157      0.581022       523.530295      3.332233   \n",
       "std     21655.181548      0.493395       419.954176      3.476804   \n",
       "min     30000.000000      0.000000         0.000000      0.000000   \n",
       "25%     49000.000000      0.000000       208.000000      0.000000   \n",
       "50%     64000.000000      1.000000       359.000000      2.000000   \n",
       "75%     80000.000000      1.000000       799.000000      5.000000   \n",
       "max    120000.000000      1.000000      1823.000000     10.000000   \n",
       "\n",
       "         difficulty      duration         email        mobile        social  \\\n",
       "count  68741.000000  68741.000000  68741.000000  68741.000000  68741.000000   \n",
       "mean       6.116612      5.155831      0.792147      0.711977      0.474768   \n",
       "std        5.847533      3.290752      0.405774      0.452845      0.499367   \n",
       "min        0.000000      0.000000      0.000000      0.000000      0.000000   \n",
       "25%        0.000000      3.000000      1.000000      0.000000      0.000000   \n",
       "50%        5.000000      5.000000      1.000000      1.000000      0.000000   \n",
       "75%       10.000000      7.000000      1.000000      1.000000      1.000000   \n",
       "max       20.000000     10.000000      1.000000      1.000000      1.000000   \n",
       "\n",
       "                web          bogo      discount  informational  \n",
       "count  68741.000000  68741.000000  68741.000000   68741.000000  \n",
       "mean       0.633276      0.316536      0.317365       0.158246  \n",
       "std        0.481914      0.465128      0.465454       0.364974  \n",
       "min        0.000000      0.000000      0.000000       0.000000  \n",
       "25%        0.000000      0.000000      0.000000       0.000000  \n",
       "50%        1.000000      0.000000      0.000000       0.000000  \n",
       "75%        1.000000      1.000000      1.000000       0.000000  \n",
       "max        1.000000      1.000000      1.000000       1.000000  "
      ]
     },
     "execution_count": 93,
     "metadata": {},
     "output_type": "execute_result"
    }
   ],
   "source": [
    "df.describe()"
   ]
  },
  {
   "cell_type": "markdown",
   "metadata": {},
   "source": [
    "## 2. Univariate Analysis"
   ]
  },
  {
   "cell_type": "markdown",
   "metadata": {},
   "source": [
    "**Customer Demographics**"
   ]
  },
  {
   "cell_type": "code",
   "execution_count": 94,
   "metadata": {},
   "outputs": [
    {
     "data": {
      "text/plain": [
       "Text(0.5, 0, 'Gender')"
      ]
     },
     "execution_count": 94,
     "metadata": {},
     "output_type": "execute_result"
    },
    {
     "data": {
      "image/png": "[encoded data removed]",
      "text/plain": [
       "<Figure size 1152x288 with 3 Axes>"
      ]
     },
     "metadata": {},
     "output_type": "display_data"
    }
   ],
   "source": [
    "plt.figure(figsize = [16, 4]) # larger figure size for subplots\n",
    "sns.set_style('darkgrid') # set style\n",
    "\n",
    "# histogram on income\n",
    "plt.subplot(1, 3, 1) # 1 row, 3 cols, subplot 1\n",
    "plt.hist(data = df, x = 'income',bins=30)\n",
    "plt.title(\"Income Distribution\", size=20)\n",
    "\n",
    "# histogram on age\n",
    "plt.subplot(1, 3, 2) # 1 row, 3 cols, subplot 2\n",
    "plt.hist(data = df, x = 'age', bins=40)\n",
    "plt.title(\"Age Distribution\", size=20)\n",
    "\n",
    "# countplot on age\n",
    "plt.subplot(1, 3, 3) # 1 row, 3 cols, subplot 3\n",
    "g=sns.countplot(x=\"male\", data=df, palette=\"coolwarm\")\n",
    "plt.title(\"Gender Breakdown\", size=20)\n",
    "g.set_xticklabels(labels=(\"Female\",\"male\"))\n",
    "plt.xlabel(\"Gender\")"
   ]
  },
  {
   "cell_type": "markdown",
   "metadata": {},
   "source": [
    "From the plots above, one can infer that most customers are aged between 40 and 75 years and have an income between approximately 45,000 and 80,000 US dollars. In terms of gender, the breakdown is relatively balanced however there are more male customers than female.  "
   ]
  },
  {
   "cell_type": "code",
   "execution_count": 95,
   "metadata": {},
   "outputs": [
    {
     "name": "stdout",
     "output_type": "stream",
     "text": [
      "Female customers: 41.9%\n",
      "Male customers: 58.1%\n"
     ]
    }
   ],
   "source": [
    "print(\"Female customers: {}%\".format(round(df[\"male\"].value_counts()[0] / len(df[\"male\"])*100,2)))\n",
    "print(\"Male customers: {}%\".format(round(df[\"male\"].value_counts()[1] / len(df[\"male\"])*100,2)))"
   ]
  },
  {
   "cell_type": "markdown",
   "metadata": {},
   "source": [
    "**App Account Creation Date and Total Membership Days**"
   ]
  },
  {
   "cell_type": "markdown",
   "metadata": {},
   "source": [
    "App Account Creating Date"
   ]
  },
  {
   "cell_type": "code",
   "execution_count": 41,
   "metadata": {},
   "outputs": [],
   "source": [
    "# convert became_member_on to datetime and then extract year\n",
    "profile['became_member_on'] = pd.to_datetime(profile[\"became_member_on\"], format='%Y%m%d')\n",
    "profile[\"year\"] =  pd.DatetimeIndex(profile['became_member_on']).year"
   ]
  },
  {
   "cell_type": "code",
   "execution_count": 48,
   "metadata": {},
   "outputs": [
    {
     "data": {
      "text/plain": [
       "Text(0.5, 1.0, 'Year of Account Creation')"
      ]
     },
     "execution_count": 48,
     "metadata": {},
     "output_type": "execute_result"
    },
    {
     "data": {
      "image/png": "[encoded data removed]",
      "text/plain": [
       "<Figure size 864x432 with 1 Axes>"
      ]
     },
     "metadata": {},
     "output_type": "display_data"
    }
   ],
   "source": [
    "# set style\n",
    "sns.set_style('darkgrid')\n",
    "\n",
    "# set figure size\n",
    "plt.figure(figsize = [12, 6]) \n",
    "\n",
    "# countplot on year of account creation\n",
    "sns.countplot(x=profile[\"year\"], data=profile, color=\"blue\",alpha=0.75) # palette coolwarm or color = teal\n",
    "plt.title(\"Year of Account Creation\", size=20)"
   ]
  },
  {
   "cell_type": "markdown",
   "metadata": {},
   "source": [
    "As depicted in the exhibit above, one can see that the customer transaction dataset contains entries from the years 2013 to 2018.One can derive that most customers created their accounts between 2016 and 2018, with 2017 showing the highest number of accounts created. The data set does not contain complete data from the year 2018 which is probably why this year shows a lower total number of accounts created compared to 2017. Generally, this finding makes sense because smartphone ownership experienced rapid growth over the years and mobile payment became slightly more accepted among consumers. However, it is important to note that US consumers still perceive moblile payments as poorly protected compared to traditional payment methods.\n",
    "\n",
    "Sources:\n",
    "- https://www.pewresearch.org/internet/fact-sheet/mobile/\n",
    "- https://www.pewtrusts.org/en/research-and-analysis/issue-briefs/2019/10/are-americans-embracing-mobile-payments"
   ]
  },
  {
   "cell_type": "markdown",
   "metadata": {},
   "source": [
    "**Response Variable: Offer Completed**"
   ]
  },
  {
   "cell_type": "markdown",
   "metadata": {},
   "source": [
    "The feature **Offer Completed** is identified as the response variable for this project. Let's take a closer look at our response variable."
   ]
  },
  {
   "cell_type": "code",
   "execution_count": 58,
   "metadata": {},
   "outputs": [
    {
     "data": {
      "text/plain": [
       "[Text(0, 0, 'Transaction'),\n",
       " Text(0, 0, 'Offer Received'),\n",
       " Text(0, 0, 'Offer Viewed'),\n",
       " Text(0, 0, 'Offer Completed')]"
      ]
     },
     "execution_count": 58,
     "metadata": {},
     "output_type": "execute_result"
    },
    {
     "data": {
      "image/png": "[encoded data removed]",
      "text/plain": [
       "<Figure size 648x432 with 1 Axes>"
      ]
     },
     "metadata": {},
     "output_type": "display_data"
    }
   ],
   "source": [
    "plt.figure(figsize=(9,6))\n",
    "g = sns.countplot(df[\"event\"])\n",
    "sns.set_style('darkgrid')\n",
    "g.set_title('Event Breakdown', size = 20)\n",
    "g.set_xticklabels(labels=(\"Transaction\",\"Offer Received\",\"Offer Viewed\", \"Offer Completed\"))"
   ]
  },
  {
   "cell_type": "code",
   "execution_count": 98,
   "metadata": {
    "scrolled": true
   },
   "outputs": [
    {
     "name": "stdout",
     "output_type": "stream",
     "text": [
      "Transaction: 20.79%\n",
      "Offer Received: 11.94%\n",
      "Offer Viewed: 27.25%\n",
      "Offer Completed: 40.02%\n",
      "\n",
      "A total of 59.98% of customers did not complete an offer and inversely 40.02% did complete an offer.\n"
     ]
    }
   ],
   "source": [
    "# let's get the exact relative values\n",
    "print(\"Transaction: {}%\".format((round((df[\"event\"].value_counts()[1] / len(df[\"event\"]) * 100), 2))))\n",
    "print(\"Offer Received: {}%\".format((round((df[\"event\"].value_counts()[2] / len(df[\"event\"]) * 100), 2))))\n",
    "print(\"Offer Viewed: {}%\".format((round((df[\"event\"].value_counts()[3] / len(df[\"event\"]) * 100), 2))))\n",
    "print(\"Offer Completed: {}%\".format((round((df[\"event\"].value_counts()[4] / len(df[\"event\"]) * 100), 2))))\n",
    "\n",
    "print(\"\\nA total of {}% of customers did not complete an offer and inversely {}% did complete an offer.\".format(round(\n",
    "    ((df[\"event\"].value_counts()[1] / len(df[\"event\"]))+\n",
    "     (df[\"event\"].value_counts()[2] / len(df[\"event\"]))+\n",
    "     (df[\"event\"].value_counts()[3] / len(df[\"event\"])))*100,2),     \n",
    "    (round((df[\"event\"].value_counts()[4] / len(df[\"event\"]) * 100), 2))))"
   ]
  },
  {
   "cell_type": "markdown",
   "metadata": {},
   "source": [
    "## 3. Bivariate Analysis"
   ]
  },
  {
   "cell_type": "markdown",
   "metadata": {},
   "source": [
    "**Offer Completed and Demographics**"
   ]
  },
  {
   "cell_type": "code",
   "execution_count": 126,
   "metadata": {},
   "outputs": [
    {
     "data": {
      "text/plain": [
       "Text(0.5, 0, 'Offer Completed')"
      ]
     },
     "execution_count": 126,
     "metadata": {},
     "output_type": "execute_result"
    },
    {
     "data": {
      "image/png": "[encoded data removed]",
      "text/plain": [
       "<Figure size 432x288 with 1 Axes>"
      ]
     },
     "metadata": {},
     "output_type": "display_data"
    }
   ],
   "source": [
    "# histogram on year app account created\n",
    "g=sns.boxplot(x=df[\"event\"]==4,y=df[\"membership_days\"], color=\"blue\",saturation=0.25) # palette coolwarm or color = teal\n",
    "plt.title(\"Offer Completed and Total Membership Days\", size=20)\n",
    "g.set_xticklabels(labels=(\"No\",\"Yes\"))\n",
    "g.set_xlabel(\"Offer Completed\") "
   ]
  },
  {
   "cell_type": "markdown",
   "metadata": {},
   "source": [
    "In the boxplot depicted above one can observe that those customers who completed an offer in the past tend to have an app account for longer (approx. 550 days on avg.) than those who did not complete an offer (approx. 300 days on avg.).  "
   ]
  },
  {
   "cell_type": "code",
   "execution_count": 106,
   "metadata": {},
   "outputs": [
    {
     "data": {
      "text/plain": [
       "Text(0.5, 0, 'Gender')"
      ]
     },
     "execution_count": 106,
     "metadata": {},
     "output_type": "execute_result"
    },
    {
     "data": {
      "image/png": "[encoded data removed]",
      "text/plain": [
       "<Figure size 1152x288 with 3 Axes>"
      ]
     },
     "metadata": {},
     "output_type": "display_data"
    }
   ],
   "source": [
    "base_color = sns.color_palette()[0]\n",
    "\n",
    "plt.figure(figsize = [16, 4]) # larger figure size for subplots\n",
    "\n",
    "# histogram on income\n",
    "plt.subplot(1, 3, 1) # 1 row, 3 cols, subplot 1\n",
    "g=sns.boxplot(x=\"event\", y=\"income\",data=df,color = base_color)\n",
    "g.set_xticklabels(labels=(\"Transaction\",\"Received\",\"Viewed\", \"Completed\"))\n",
    "plt.title(\"Income Distribution\", size=20)\n",
    "\n",
    "# histogram on age\n",
    "plt.subplot(1, 3, 2) # 1 row, 3 cols, subplot 2\n",
    "g1=sns.boxplot(x=\"event\", y=\"age\",data=df,color = base_color)\n",
    "g1.set_xticklabels(labels=(\"Transaction\",\"Received\",\"Viewed\", \"Completed\"))\n",
    "plt.title(\"Age Distribution\", size=20)\n",
    "\n",
    "# countplot on gender\n",
    "plt.subplot(1, 3, 3) # 1 row, 3 cols, subplot 3\n",
    "g2=sns.countplot(x=\"male\", hue=\"event\",data=df)\n",
    "g2.set_xticklabels(labels=(\"Female\",\"Male\"))\n",
    "plt.title(\"Gender Breakdown\", size=20)\n",
    "g2.set_xlabel(\"Gender\")"
   ]
  },
  {
   "cell_type": "markdown",
   "metadata": {},
   "source": [
    "From the bivariate analysis presented above, one can observe that customers who do complete an offer earn slightly more on average than those who did not complete an offer. Furthermore, customers who did complete an offer in the past tend to be slightly older than those who did not. If we look at the breakdown by gender, we can see similar tendencies for both male and female customers. THis could mean that even though there are less females documented in the dataset they almost complete the same amount of offers as men. We can also observe that men conduct more transactions without using any offer. "
   ]
  },
  {
   "cell_type": "code",
   "execution_count": 227,
   "metadata": {},
   "outputs": [
    {
     "name": "stdout",
     "output_type": "stream",
     "text": [
      "Average income of customers who did complete an offer in the past: $69398.28\n",
      "Average income of customers who did not complete an offer: $62711.8\n",
      "Average age of customers who did complete an offer in the past: 55.8 years\n",
      "Average age of customers who did not complete an offer: 53.37 years\n"
     ]
    }
   ],
   "source": [
    "# calculate weighted averages\n",
    "print(\"Average income of customers who did complete an offer in the past: ${}\".format(round(np.average(df[\"income\"], \n",
    "                                                                          weights=(df[\"event\"] == 4)),2)))\n",
    "\n",
    "print(\"Average income of customers who did not complete an offer: ${}\".format(round(np.average(df[\"income\"], \n",
    "                                                                          weights=(df[\"event\"] != 4)),2)))\n",
    "                                                                     \n",
    "print(\"Average age of customers who did complete an offer in the past: {} years\".format(round(np.average(df[\"age\"], \n",
    "                                                                          weights=(df[\"event\"] == 4)),1)))\n",
    "                                                                                               \n",
    "print(\"Average age of customers who did not complete an offer: {} years\".format(round(np.average(df[\"age\"], \n",
    "                                                                          weights=(df[\"event\"] != 4)),2)))"
   ]
  },
  {
   "cell_type": "code",
   "execution_count": 285,
   "metadata": {},
   "outputs": [
    {
     "name": "stdout",
     "output_type": "stream",
     "text": [
      "Male: 1 \n",
      "Female: 0\n",
      " male  event\n",
      "0.0   1         5993\n",
      "      2         2823\n",
      "      3         6726\n",
      "      4        13259\n",
      "1.0   1         8295\n",
      "      2         5388\n",
      "      3        12003\n",
      "      4        14254\n",
      "dtype: int64\n",
      "\n",
      "Proportion of male customers who completed an offer: 35.69%\n",
      "Proportion of female customers who completed an offer: 46.04%\n"
     ]
    }
   ],
   "source": [
    "print(\"Male: 1 \\nFemale: 0\\n\",df.groupby(['male', 'event']).size())\n",
    "print(\"\\nProportion of male customers who completed an offer: {}%\".format(\n",
    "     round(df.groupby(['male', 'event']).size()[1][4] / df.groupby(['male', 'event']).size()[1].sum()*100,2)))\n",
    "print(\"Proportion of female customers who completed an offer: {}%\".format(\n",
    "     round(df.groupby(['male', 'event']).size()[0][4] / df.groupby(['male', 'event']).size()[0].sum()*100,2)))"
   ]
  },
  {
   "cell_type": "markdown",
   "metadata": {},
   "source": [
    "Based on these findings, women tend to react more positively towards the promotions than men since a larger proportion of women completed an offer when compared to men."
   ]
  },
  {
   "cell_type": "markdown",
   "metadata": {},
   "source": [
    "**Offer Completed and Discount Types**"
   ]
  },
  {
   "cell_type": "code",
   "execution_count": 302,
   "metadata": {},
   "outputs": [
    {
     "data": {
      "text/plain": [
       "Text(0.5, 1.0, 'Received Informational')"
      ]
     },
     "execution_count": 302,
     "metadata": {},
     "output_type": "execute_result"
    },
    {
     "data": {
      "image/png": "[encoded data removed]",
      "text/plain": [
       "<Figure size 1440x432 with 3 Axes>"
      ]
     },
     "metadata": {},
     "output_type": "display_data"
    }
   ],
   "source": [
    "plt.figure(figsize = [20, 6]) # larger figure size for subplots\n",
    "\n",
    "# countplot on bogo\n",
    "plt.subplot(1, 3, 1) # 1 row, 3 cols, subplot 1\n",
    "g=sns.countplot(x=\"bogo\", hue=\"event\", data=df)\n",
    "g.set_xticklabels(labels=(\"No\",\"Yes\"))\n",
    "plt.title(\"Received Buy One Get One\", size=20)\n",
    "\n",
    "# countplot on discount\n",
    "plt.subplot(1, 3, 2) # 1 row, 3 cols, subplot 2\n",
    "g1=sns.countplot(x=\"discount\", hue=\"event\", data=df)\n",
    "g1.set_xticklabels(labels=(\"No\",\"Yes\"))\n",
    "plt.title(\"Received Discount\", size=20)\n",
    "\n",
    "# countplot on informational\n",
    "plt.subplot(1, 3, 3) # 1 row, 3 cols, subplot 3\n",
    "g2=sns.countplot(x=\"informational\", hue =\"event\",data=df)\n",
    "g2.set_xticklabels(labels=(\"No\",\"Yes\"))\n",
    "plt.title(\"Received Informational\", size=20)"
   ]
  },
  {
   "cell_type": "markdown",
   "metadata": {},
   "source": [
    "From the visualizations presented above, one can infer that most customers received a **discount** offer, followed by **BOGO** and **informational**, respectively. One can also notice that receiving **informational** offers does not translate to a purchase. The reason for this is because it is probably not possible to track this. It appears that **discount** has the highest success rate among the 3 offer types. Let's confirm this observation."
   ]
  },
  {
   "cell_type": "code",
   "execution_count": 103,
   "metadata": {},
   "outputs": [
    {
     "name": "stdout",
     "output_type": "stream",
     "text": [
      "Customers who received BOGO: 31.65%\n",
      "Customers who received Discount: 31.74%\n",
      "Customers who received Informational: 15.82%\n",
      "Customers who didn't receive an offer: 20.79%\n"
     ]
    }
   ],
   "source": [
    "print(\"Customers who received BOGO: {}%\".format(round((df[\"bogo\"]==1).sum() / len(df)*100,2)))\n",
    "print(\"Customers who received Discount: {}%\".format(round((df[\"discount\"]==1).sum() / len(df)*100,2)))\n",
    "print(\"Customers who received Informational: {}%\".format(round((df[\"informational\"]==1).sum() / len(df)*100,2)))\n",
    "print(\"Customers who didn't receive an offer: {}%\".format(round(len(df.loc[(df['discount'] == 0) & \n",
    "                                                                        (df['informational'] == 0) & \n",
    "                                                                        (df['bogo'] == 0)])/len(df)*100,2)))"
   ]
  },
  {
   "cell_type": "code",
   "execution_count": 305,
   "metadata": {},
   "outputs": [
    {
     "name": "stdout",
     "output_type": "stream",
     "text": [
      "BOGO success rate: 59.69%\n",
      "Discount success rate: 66.58%\n",
      "Informational success rate: 0.0%\n"
     ]
    }
   ],
   "source": [
    "print(\"BOGO success rate: {}%\".format(round(df[\"bogo\"].where(df[\"event\"]==4).sum() / (df[\"bogo\"]==1).sum()*100,2)))\n",
    "print(\"Discount success rate: {}%\".format(round(df[\"discount\"].where(df[\"event\"]==4).sum() / (df[\"discount\"]==1).sum()*100,2)))\n",
    "print(\"Informational success rate: {}%\".format(round(df[\"informational\"].where(df[\"event\"]==4).sum() / (df[\"informational\"]==1).sum()*100,2)))"
   ]
  },
  {
   "cell_type": "markdown",
   "metadata": {},
   "source": [
    "In fact, **discounts** show the highest success rate among the 3 offer types and is also the most frequent promotion sent to customers. Furthermore, out of all offers sent out to customers, **informational** promotions make up approx. 15% of offers. 20.79% of customers did not receive any promotion. This could be improved by sending discounts to these customers in order to incentivize them to complete an offer."
   ]
  },
  {
   "cell_type": "markdown",
   "metadata": {},
   "source": [
    "**Offer Completed and Communication Channels**\n"
   ]
  },
  {
   "cell_type": "code",
   "execution_count": 111,
   "metadata": {},
   "outputs": [
    {
     "data": {
      "text/plain": [
       "Text(0.5, 1.0, 'Email')"
      ]
     },
     "execution_count": 111,
     "metadata": {},
     "output_type": "execute_result"
    },
    {
     "data": {
      "image/png": "[encoded data removed]",
      "text/plain": [
       "<Figure size 1152x288 with 4 Axes>"
      ]
     },
     "metadata": {},
     "output_type": "display_data"
    }
   ],
   "source": [
    "plt.figure(figsize = [16, 4]) # larger figure size for subplots\n",
    "\n",
    "# countplot on social media\n",
    "plt.subplot(1, 4, 1) # 1 row, 4 cols, subplot 1\n",
    "g=sns.countplot(x=\"social\", hue=df[\"event\"], data=df)\n",
    "g.set_xticklabels(labels=(\"No\",\"Yes\"))\n",
    "plt.title(\"Social Media\", size=20)\n",
    "\n",
    "# countplot on web\n",
    "plt.subplot(1, 4, 2) # 1 row, 4 cols, subplot 2\n",
    "g1=sns.countplot(x=\"web\", hue=\"event\", data=df)\n",
    "g1.set_xticklabels(labels=(\"No\",\"Yes\"))\n",
    "plt.title(\"Web\", size=20)\n",
    "\n",
    "# countplot on mobile device\n",
    "plt.subplot(1, 4, 3) # 1 row, 4 cols, subplot 3\n",
    "g2=sns.countplot(x=\"mobile\", hue =\"event\",data=df)\n",
    "g2.set_xticklabels(labels=(\"No\",\"Yes\"))\n",
    "plt.title(\"Mobile Device\", size=20)\n",
    "\n",
    "# countplot on email\n",
    "plt.subplot(1, 4, 4) # 1 row, 4 cols, subplot 4\n",
    "g2=sns.countplot(x=\"email\", hue =\"event\",data=df)\n",
    "g2.set_xticklabels(labels=(\"No\",\"Yes\"))\n",
    "plt.title(\"Email\", size=20)"
   ]
  },
  {
   "cell_type": "code",
   "execution_count": 70,
   "metadata": {},
   "outputs": [
    {
     "name": "stdout",
     "output_type": "stream",
     "text": [
      "Customers contacted via social media: 47.48%\n",
      "Customers contacted via web: 63.33%\n",
      "Customers contacted via mobile device: 71.2%\n",
      "Customers contacted via email: 79.21%\n",
      "\n",
      "Customers not contacted at all: 20.79%\n",
      "\n",
      "**Note: Customers can be contacted through 0 or multiple contact methods.\n"
     ]
    }
   ],
   "source": [
    "print(\"Customers contacted via social media: {}%\".format(round((df[\"social\"]==1).sum() / len(df)*100,2)))\n",
    "print(\"Customers contacted via web: {}%\".format(round((df[\"web\"]==1).sum() / len(df)*100,2)))\n",
    "print(\"Customers contacted via mobile device: {}%\".format(round((df[\"mobile\"]==1).sum() / len(df)*100,2)))\n",
    "print(\"Customers contacted via email: {}%\".format(round((df[\"email\"]==1).sum() / len(df)*100,2)))\n",
    "\n",
    "print(\"\\nCustomers not contacted at all: {}%\".format(round(len(df.loc[(df['social'] == 0) & \n",
    "                                                                    (df['web'] == 0)    & \n",
    "                                                                    (df['social'] == 0) &\n",
    "                                                                    (df['mobile'] == 0)])/len(df)*100,2)))\n",
    "print(\"\\n**Note: Customers can be contacted through 0 or multiple contact methods.\")"
   ]
  },
  {
   "cell_type": "code",
   "execution_count": 78,
   "metadata": {},
   "outputs": [
    {
     "name": "stdout",
     "output_type": "stream",
     "text": [
      "Social media success rate: 54.31%\n",
      "Web success rate: 56.09%\n",
      "Mobile success rate: 50.3%\n",
      "Email success rate: 50.53%\n"
     ]
    }
   ],
   "source": [
    "print(\"Social media success rate: {}%\".format(round(df[\"social\"].where(df[\"event\"]==4).sum() / (df[\"social\"]==1).sum()*100,2)))\n",
    "print(\"Web success rate: {}%\".format(round(df[\"web\"].where(df[\"event\"]==4).sum() / (df[\"web\"]==1).sum()*100,2)))\n",
    "print(\"Mobile success rate: {}%\".format(round(df[\"mobile\"].where(df[\"event\"]==4).sum() / (df[\"mobile\"]==1).sum()*100,2)))\n",
    "print(\"Email success rate: {}%\".format(round(df[\"email\"].where(df[\"event\"]==4).sum() / (df[\"email\"]==1).sum()*100,2)))"
   ]
  },
  {
   "cell_type": "markdown",
   "metadata": {},
   "source": [
    "Derived from the findings above, customers contacted through **web** led to the highest success rate among the 4 contact methods. This is followed by **social media** as second most effective channel to reach customers. While **mobile** and **email** are the 2 contact methods utlized the most, they have the lowest success rate among the 4 contact methods."
   ]
  },
  {
   "cell_type": "markdown",
   "metadata": {},
   "source": [
    "**Event Compared to Difficulty and Duration**"
   ]
  },
  {
   "cell_type": "code",
   "execution_count": 361,
   "metadata": {},
   "outputs": [
    {
     "data": {
      "text/plain": [
       "Text(0.5, 1.0, 'Event Compared to Duration in Days')"
      ]
     },
     "execution_count": 361,
     "metadata": {},
     "output_type": "execute_result"
    },
    {
     "data": {
      "image/png": "[encoded data removed]",
      "text/plain": [
       "<Figure size 1152x288 with 2 Axes>"
      ]
     },
     "metadata": {},
     "output_type": "display_data"
    }
   ],
   "source": [
    "plt.figure(figsize = [16, 4]) # larger figure size for subplots\n",
    "\n",
    "# countplot on social media\n",
    "plt.subplot(1, 2, 1) # 1 row, 3 cols, subplot 1\n",
    "g=sns.countplot(x=\"difficulty\", hue=\"event\", data=df)\n",
    "g.set_xticklabels(labels=(\"$0\", \"$5\", \"$7\", \"$10\", \"$20\"))\n",
    "plt.title(\"Event Compared to Difficulty in $\", size=20)\n",
    "\n",
    "# countplot on web\n",
    "plt.subplot(1, 2, 2) # 1 row, 3 cols, subplot 2\n",
    "g1=sns.countplot(x=\"duration\", hue=\"event\", data=df)\n",
    "g1.set_xticklabels(labels=(\"0 days\", \"3 days\", \"4 days\", \"5 days\", \"7 days\", \"10 days\"))\n",
    "plt.title(\"Event Compared to Duration in Days\", size=20)"
   ]
  },
  {
   "cell_type": "markdown",
   "metadata": {},
   "source": [
    "- Difficulty refers to the amount of money a customer has to spend in order to be eligible for a reward. \n",
    "- Duration refers to the number of days a discount is valid\n",
    "\n",
    "From the plots presented above, one can infer that a difficulty level of 10 USD leads to the most completed offers, followed by a level of 5 USD. In terms of duration, most offers were completed for promotions that were only valid for 7 days, followed by 10 days and 5 days respectively. No offers were completed for offers that are only valid for 3 or 4 days."
   ]
  },
  {
   "cell_type": "markdown",
   "metadata": {},
   "source": [
    "# 3) Data Preparation"
   ]
  },
  {
   "cell_type": "markdown",
   "metadata": {},
   "source": [
    "**Dummy Coding Features**"
   ]
  },
  {
   "cell_type": "code",
   "execution_count": 4,
   "metadata": {},
   "outputs": [
    {
     "data": {
      "text/html": [
       "<div>\n",
       "<style scoped>\n",
       "    .dataframe tbody tr th:only-of-type {\n",
       "        vertical-align: middle;\n",
       "    }\n",
       "\n",
       "    .dataframe tbody tr th {\n",
       "        vertical-align: top;\n",
       "    }\n",
       "\n",
       "    .dataframe thead th {\n",
       "        text-align: right;\n",
       "    }\n",
       "</style>\n",
       "<table border=\"1\" class=\"dataframe\">\n",
       "  <thead>\n",
       "    <tr style=\"text-align: right;\">\n",
       "      <th></th>\n",
       "      <th>transaction_amount</th>\n",
       "      <th>days_since_test</th>\n",
       "      <th>age</th>\n",
       "      <th>income</th>\n",
       "      <th>male</th>\n",
       "      <th>membership_days</th>\n",
       "      <th>reward</th>\n",
       "      <th>difficulty</th>\n",
       "      <th>duration</th>\n",
       "      <th>email</th>\n",
       "      <th>mobile</th>\n",
       "      <th>social</th>\n",
       "      <th>web</th>\n",
       "      <th>bogo</th>\n",
       "      <th>discount</th>\n",
       "      <th>informational</th>\n",
       "      <th>offer_received</th>\n",
       "      <th>offer_viewed</th>\n",
       "      <th>offer_completed</th>\n",
       "    </tr>\n",
       "  </thead>\n",
       "  <tbody>\n",
       "    <tr>\n",
       "      <th>0</th>\n",
       "      <td>0.0</td>\n",
       "      <td>2</td>\n",
       "      <td>45.0</td>\n",
       "      <td>62000.0</td>\n",
       "      <td>0.0</td>\n",
       "      <td>608.0</td>\n",
       "      <td>2.0</td>\n",
       "      <td>10.0</td>\n",
       "      <td>10.0</td>\n",
       "      <td>1.0</td>\n",
       "      <td>1.0</td>\n",
       "      <td>1.0</td>\n",
       "      <td>1.0</td>\n",
       "      <td>0.0</td>\n",
       "      <td>1.0</td>\n",
       "      <td>0.0</td>\n",
       "      <td>0</td>\n",
       "      <td>0</td>\n",
       "      <td>1</td>\n",
       "    </tr>\n",
       "    <tr>\n",
       "      <th>1</th>\n",
       "      <td>0.0</td>\n",
       "      <td>18</td>\n",
       "      <td>71.0</td>\n",
       "      <td>56000.0</td>\n",
       "      <td>1.0</td>\n",
       "      <td>158.0</td>\n",
       "      <td>2.0</td>\n",
       "      <td>10.0</td>\n",
       "      <td>10.0</td>\n",
       "      <td>1.0</td>\n",
       "      <td>1.0</td>\n",
       "      <td>1.0</td>\n",
       "      <td>1.0</td>\n",
       "      <td>0.0</td>\n",
       "      <td>1.0</td>\n",
       "      <td>0.0</td>\n",
       "      <td>0</td>\n",
       "      <td>1</td>\n",
       "      <td>0</td>\n",
       "    </tr>\n",
       "    <tr>\n",
       "      <th>2</th>\n",
       "      <td>0.0</td>\n",
       "      <td>8</td>\n",
       "      <td>71.0</td>\n",
       "      <td>73000.0</td>\n",
       "      <td>1.0</td>\n",
       "      <td>268.0</td>\n",
       "      <td>2.0</td>\n",
       "      <td>10.0</td>\n",
       "      <td>10.0</td>\n",
       "      <td>1.0</td>\n",
       "      <td>1.0</td>\n",
       "      <td>1.0</td>\n",
       "      <td>1.0</td>\n",
       "      <td>0.0</td>\n",
       "      <td>1.0</td>\n",
       "      <td>0.0</td>\n",
       "      <td>0</td>\n",
       "      <td>0</td>\n",
       "      <td>1</td>\n",
       "    </tr>\n",
       "    <tr>\n",
       "      <th>3</th>\n",
       "      <td>0.0</td>\n",
       "      <td>0</td>\n",
       "      <td>69.0</td>\n",
       "      <td>83000.0</td>\n",
       "      <td>0.0</td>\n",
       "      <td>1040.0</td>\n",
       "      <td>2.0</td>\n",
       "      <td>10.0</td>\n",
       "      <td>10.0</td>\n",
       "      <td>1.0</td>\n",
       "      <td>1.0</td>\n",
       "      <td>1.0</td>\n",
       "      <td>1.0</td>\n",
       "      <td>0.0</td>\n",
       "      <td>1.0</td>\n",
       "      <td>0.0</td>\n",
       "      <td>0</td>\n",
       "      <td>0</td>\n",
       "      <td>1</td>\n",
       "    </tr>\n",
       "    <tr>\n",
       "      <th>4</th>\n",
       "      <td>0.0</td>\n",
       "      <td>7</td>\n",
       "      <td>59.0</td>\n",
       "      <td>93000.0</td>\n",
       "      <td>0.0</td>\n",
       "      <td>329.0</td>\n",
       "      <td>2.0</td>\n",
       "      <td>10.0</td>\n",
       "      <td>10.0</td>\n",
       "      <td>1.0</td>\n",
       "      <td>1.0</td>\n",
       "      <td>1.0</td>\n",
       "      <td>1.0</td>\n",
       "      <td>0.0</td>\n",
       "      <td>1.0</td>\n",
       "      <td>0.0</td>\n",
       "      <td>0</td>\n",
       "      <td>0</td>\n",
       "      <td>1</td>\n",
       "    </tr>\n",
       "  </tbody>\n",
       "</table>\n",
       "</div>"
      ],
      "text/plain": [
       "   transaction_amount  days_since_test   age   income  male  membership_days  \\\n",
       "0                 0.0                2  45.0  62000.0   0.0            608.0   \n",
       "1                 0.0               18  71.0  56000.0   1.0            158.0   \n",
       "2                 0.0                8  71.0  73000.0   1.0            268.0   \n",
       "3                 0.0                0  69.0  83000.0   0.0           1040.0   \n",
       "4                 0.0                7  59.0  93000.0   0.0            329.0   \n",
       "\n",
       "   reward  difficulty  duration  email  mobile  social  web  bogo  discount  \\\n",
       "0     2.0        10.0      10.0    1.0     1.0     1.0  1.0   0.0       1.0   \n",
       "1     2.0        10.0      10.0    1.0     1.0     1.0  1.0   0.0       1.0   \n",
       "2     2.0        10.0      10.0    1.0     1.0     1.0  1.0   0.0       1.0   \n",
       "3     2.0        10.0      10.0    1.0     1.0     1.0  1.0   0.0       1.0   \n",
       "4     2.0        10.0      10.0    1.0     1.0     1.0  1.0   0.0       1.0   \n",
       "\n",
       "   informational  offer_received  offer_viewed  offer_completed  \n",
       "0            0.0               0             0                1  \n",
       "1            0.0               0             1                0  \n",
       "2            0.0               0             0                1  \n",
       "3            0.0               0             0                1  \n",
       "4            0.0               0             0                1  "
      ]
     },
     "execution_count": 4,
     "metadata": {},
     "output_type": "execute_result"
    }
   ],
   "source": [
    "# dummy coding the Event feature\n",
    "df_dummies = pd.get_dummies(df['event'])\n",
    "\n",
    "# combine the df_dummies with the transcript dataframe\n",
    "df = pd.concat([df, df_dummies], axis=1)\n",
    "\n",
    "# rename columns to more suitable names\n",
    "df.rename(columns = {4:'offer_completed', \n",
    "                     3:'offer_viewed',\n",
    "                     2:'offer_received',\n",
    "                     1:'transaction'\n",
    "                     },inplace=True)\n",
    "\n",
    "# let's drop transaction because this information is included in transaction_amount\n",
    "df.drop(columns=[\"event\",\"transaction\"], inplace=True) \n",
    "df.head()"
   ]
  },
  {
   "cell_type": "markdown",
   "metadata": {},
   "source": [
    "After examining the output depicted above, we can determine that the dummy-coding worked as intended. Dummy-codeing the **Event** feature resulted in 4 columns from which we dropped **Transaction** because whether or not a transaction was performed is known as soon as we have a value greater than 0 in **Transaction Amount**.\n",
    "\n",
    "However, we could still use 3 out of these 4 columns to perfectly predict the 4th column:\n",
    "- Transaction Amount\n",
    "- Offer Completed\n",
    "- Offer Viewed\n",
    "- Offer Received\n",
    "\n",
    "In other words, we now deal with the dummy trap problem which is undesirable for machine learning. Therefore, let's drop the **Offer Received** column to avoid this issue.\n",
    "\n",
    "**Important Note:** Since machine learning projects are iterative projects, it was determined that keeping **Offer Viewed** over **Offer Received** will result in much higher predictive accuracy."
   ]
  },
  {
   "cell_type": "code",
   "execution_count": 5,
   "metadata": {},
   "outputs": [],
   "source": [
    "df.drop(columns=\"offer_received\",inplace=True)"
   ]
  },
  {
   "cell_type": "markdown",
   "metadata": {},
   "source": [
    "**Examine Feature Correlations**"
   ]
  },
  {
   "cell_type": "code",
   "execution_count": 6,
   "metadata": {},
   "outputs": [
    {
     "data": {
      "text/plain": [
       "<matplotlib.axes._subplots.AxesSubplot at 0x1a587e04e48>"
      ]
     },
     "execution_count": 6,
     "metadata": {},
     "output_type": "execute_result"
    },
    {
     "data": {
      "image/png": "[encoded data removed]",
      "text/plain": [
       "<Figure size 1152x720 with 2 Axes>"
      ]
     },
     "metadata": {
      "needs_background": "light"
     },
     "output_type": "display_data"
    }
   ],
   "source": [
    "plt.figure(figsize=(16,10))\n",
    "# Compute the correlation matrix\n",
    "corr = df.corr()\n",
    "# Generate a mask for the upper triangle\n",
    "mask = np.triu(np.ones_like(corr, dtype=np.bool))\n",
    "# plot heatmap\n",
    "sns.heatmap(df.corr(),yticklabels=True, annot=True,mask=mask,linewidths=.5)"
   ]
  },
  {
   "cell_type": "markdown",
   "metadata": {},
   "source": [
    "We can see some relatively highly correlated variables (> 0.7). Let's drop **Duration** and **Difficulty**."
   ]
  },
  {
   "cell_type": "code",
   "execution_count": 6,
   "metadata": {},
   "outputs": [],
   "source": [
    "df.drop(columns=\"duration\", inplace=True) \n",
    "df.drop(columns=\"difficulty\", inplace=True) "
   ]
  },
  {
   "cell_type": "markdown",
   "metadata": {},
   "source": [
    "**Feature Correlation on Dependend Variable Offer Completed**"
   ]
  },
  {
   "cell_type": "code",
   "execution_count": 9,
   "metadata": {},
   "outputs": [
    {
     "data": {
      "text/plain": [
       "offer_viewed         -0.499911\n",
       "informational        -0.354199\n",
       "transaction_amount   -0.163906\n",
       "male                 -0.104208\n",
       "age                   0.067917\n",
       "membership_days       0.125625\n",
       "income                0.151282\n",
       "days_since_test       0.272021\n",
       "bogo                  0.273163\n",
       "social                0.277122\n",
       "mobile                0.329895\n",
       "discount              0.369564\n",
       "reward                0.381698\n",
       "email                 0.418454\n",
       "web                   0.430898\n",
       "offer_completed       1.000000\n",
       "Name: offer_completed, dtype: float64"
      ]
     },
     "execution_count": 9,
     "metadata": {},
     "output_type": "execute_result"
    }
   ],
   "source": [
    "df.corr()[\"offer_completed\"].sort_values()"
   ]
  },
  {
   "cell_type": "code",
   "execution_count": 10,
   "metadata": {},
   "outputs": [
    {
     "data": {
      "text/plain": [
       "<matplotlib.axes._subplots.AxesSubplot at 0x1a589964588>"
      ]
     },
     "execution_count": 10,
     "metadata": {},
     "output_type": "execute_result"
    },
    {
     "data": {
      "image/png": "[encoded data removed]",
      "text/plain": [
       "<Figure size 720x432 with 1 Axes>"
      ]
     },
     "metadata": {},
     "output_type": "display_data"
    }
   ],
   "source": [
    "sns.set_style('darkgrid')\n",
    "plt.figure(figsize=(10,6))\n",
    "df.corr()[\"offer_completed\"].sort_values().plot(kind=\"bar\")"
   ]
  },
  {
   "cell_type": "markdown",
   "metadata": {},
   "source": [
    "We ignore **Offer Completed** in the plot presented above since it goes without saying that it has 100% correlation with itself. It looks like **web**, **email**, **reward** and **discount** have a moderately positive correlation with the response variable. On the other hand, **informational** and **offer viewed** show a moderately negative correlation with the outcome."
   ]
  },
  {
   "cell_type": "markdown",
   "metadata": {},
   "source": [
    "**Create Training, Validation and Test Split**"
   ]
  },
  {
   "cell_type": "code",
   "execution_count": 7,
   "metadata": {},
   "outputs": [],
   "source": [
    "# Split the data into training, validation and test datasets \n",
    "df_train, df_valid = train_test_split(df, test_size=0.2, random_state=1)\n",
    "df_train, df_test = train_test_split(df_train, test_size=0.2, random_state=1)\n",
    "\n",
    "# separate the DV from the train/validation/test sets\n",
    "X_train = df_train.drop(['offer_completed'], axis=1)\n",
    "y_train = df_train.offer_completed.values\n",
    "X_valid = df_valid.drop(['offer_completed'], axis=1)\n",
    "y_valid = df_valid.offer_completed.values\n",
    "X_test = df_test.drop(['offer_completed'], axis=1)\n",
    "y_test = df_test.offer_completed.values"
   ]
  },
  {
   "cell_type": "markdown",
   "metadata": {},
   "source": [
    "**Feature Scaling**"
   ]
  },
  {
   "cell_type": "code",
   "execution_count": 8,
   "metadata": {},
   "outputs": [
    {
     "name": "stdout",
     "output_type": "stream",
     "text": [
      "Training Data: (43993, 15) (43993,) \n",
      "Validation Data: (13749, 15) (13749,) \n",
      "Test Data: (10999, 15) (10999,)\n"
     ]
    }
   ],
   "source": [
    "# Since we have many different types of features in our dataset e.g. age, income etc. we should normalize the data\n",
    "\n",
    "# create an instance of MinMaxScaler\n",
    "scaler = MinMaxScaler().fit(X_train)\n",
    "\n",
    "# now perform the transformations on the training, validation and test set\n",
    "X_train = scaler.transform(X_train)\n",
    "X_valid = scaler.transform(X_valid)\n",
    "X_test = scaler.transform(X_test)\n",
    "\n",
    "print(\"Training Data:\", X_train.shape, y_train.shape,\"\\nValidation Data:\", X_valid.shape, y_valid.shape,\n",
    "      \"\\nTest Data:\", X_test.shape, y_test.shape)"
   ]
  },
  {
   "cell_type": "markdown",
   "metadata": {},
   "source": [
    "# 4) Model Building and Validation"
   ]
  },
  {
   "cell_type": "markdown",
   "metadata": {},
   "source": [
    "**Baseline Accuracy to Beat**"
   ]
  },
  {
   "cell_type": "markdown",
   "metadata": {},
   "source": [
    "Let's take a naive approach as a baseline accuracy value to beat for all predictive models. Let's follow a \"most frequent” approach. This approach looks at our response variable and always predicts the most frequent label. For our our response variable that would be:\n"
   ]
  },
  {
   "cell_type": "code",
   "execution_count": 11,
   "metadata": {},
   "outputs": [
    {
     "name": "stdout",
     "output_type": "stream",
     "text": [
      "Accuracy if we assume no customers complete an offer: 59.98%\n"
     ]
    }
   ],
   "source": [
    "print(\"Accuracy if we assume no customers complete an offer: {}%\".format(round((df[\"offer_completed\"]==0).sum() / len(df)*100,2)))"
   ]
  },
  {
   "cell_type": "markdown",
   "metadata": {},
   "source": [
    "## Model 1: Random Forest"
   ]
  },
  {
   "cell_type": "markdown",
   "metadata": {},
   "source": [
    "**Training the model**"
   ]
  },
  {
   "cell_type": "code",
   "execution_count": 11,
   "metadata": {},
   "outputs": [
    {
     "data": {
      "text/plain": [
       "RandomForestClassifier(bootstrap=True, ccp_alpha=0.0, class_weight=None,\n",
       "                       criterion='gini', max_depth=None, max_features='auto',\n",
       "                       max_leaf_nodes=None, max_samples=None,\n",
       "                       min_impurity_decrease=0.0, min_impurity_split=None,\n",
       "                       min_samples_leaf=1, min_samples_split=2,\n",
       "                       min_weight_fraction_leaf=0.0, n_estimators=100,\n",
       "                       n_jobs=None, oob_score=False, random_state=None,\n",
       "                       verbose=0, warm_start=False)"
      ]
     },
     "execution_count": 11,
     "metadata": {},
     "output_type": "execute_result"
    }
   ],
   "source": [
    "# build RandomForestClassifier instance and fit on training data\n",
    "rfc = RandomForestClassifier() # use default parameters first\n",
    "rfc.fit(X_train, y_train)\n",
    "\n",
    "#Addressing class imbalance by setting an inverse weight ratio\n",
    "#class_weight = {0: sum(y_train==1) / len(y_train), 1: sum(y_train==0) / len(y_train)}\n",
    "#class_weight"
   ]
  },
  {
   "cell_type": "markdown",
   "metadata": {},
   "source": [
    "**Validating the Model's Performance**"
   ]
  },
  {
   "cell_type": "code",
   "execution_count": 12,
   "metadata": {},
   "outputs": [
    {
     "name": "stdout",
     "output_type": "stream",
     "text": [
      "Confusion Matrix\n",
      " [[7744  459]\n",
      " [ 202 5344]]\n",
      "\n",
      "Validation Accuracy: 95.19%\n",
      " \n",
      "\n"
     ]
    }
   ],
   "source": [
    "# predict on the validation set\n",
    "y_pred = rfc.predict(X_valid)\n",
    "print(\"Confusion Matrix\\n {}\".format(confusion_matrix(y_valid, y_pred)))\n",
    "print(\"\\nValidation Accuracy: {:.2f}%\\n \\n\".format(accuracy_score(y_valid, y_pred)*100))"
   ]
  },
  {
   "cell_type": "markdown",
   "metadata": {},
   "source": [
    "95.19% accuracy is already pretty high. We already beat the baseline accuracy goal by just taking the default model parameters."
   ]
  },
  {
   "cell_type": "markdown",
   "metadata": {},
   "source": [
    "#### Random Forest: Tuning Model Hyperparameters with Grid Search"
   ]
  },
  {
   "cell_type": "markdown",
   "metadata": {},
   "source": [
    "**Training the Model**"
   ]
  },
  {
   "cell_type": "markdown",
   "metadata": {},
   "source": [
    "Let's see if we can improve our results."
   ]
  },
  {
   "cell_type": "code",
   "execution_count": 100,
   "metadata": {},
   "outputs": [],
   "source": [
    "# Create arbitary parameter grid for random search (keeping them modest due to low computational power)\n",
    "param_grid = {'bootstrap'        : [True],\n",
    "              'max_depth'        : [3, 5, 7, 10, 15],\n",
    "              'max_features'     : [5, 10, 13, 14, 15],\n",
    "             'min_samples_leaf'  : [3, 4, 5, 6, 7, 9],\n",
    "              'min_samples_split': [2, 3,4, 5, 7],\n",
    "              'n_estimators'     : [100, 150, 300]\n",
    "             }\n",
    "\n",
    "# Create the base model\n",
    "rf = RandomForestClassifier()\n",
    "\n",
    "# Create the grid search \n",
    "grid_search_rf = GridSearchCV(estimator = rf, param_grid = param_grid, cv = 3, verbose = 2, n_jobs=-1, return_train_score=True)"
   ]
  },
  {
   "cell_type": "code",
   "execution_count": 101,
   "metadata": {},
   "outputs": [
    {
     "name": "stdout",
     "output_type": "stream",
     "text": [
      "Fitting 3 folds for each of 2250 candidates, totalling 6750 fits\n"
     ]
    },
    {
     "name": "stderr",
     "output_type": "stream",
     "text": [
      "[Parallel(n_jobs=-1)]: Using backend LokyBackend with 12 concurrent workers.\n",
      "[Parallel(n_jobs=-1)]: Done  17 tasks      | elapsed:   14.6s\n",
      "[Parallel(n_jobs=-1)]: Done 138 tasks      | elapsed:  1.6min\n",
      "[Parallel(n_jobs=-1)]: Done 341 tasks      | elapsed:  4.3min\n",
      "[Parallel(n_jobs=-1)]: Done 624 tasks      | elapsed:  9.2min\n",
      "[Parallel(n_jobs=-1)]: Done 989 tasks      | elapsed: 16.3min\n",
      "[Parallel(n_jobs=-1)]: Done 1434 tasks      | elapsed: 24.8min\n",
      "[Parallel(n_jobs=-1)]: Done 1961 tasks      | elapsed: 33.2min\n",
      "[Parallel(n_jobs=-1)]: Done 2568 tasks      | elapsed: 46.3min\n",
      "[Parallel(n_jobs=-1)]: Done 3257 tasks      | elapsed: 57.9min\n",
      "[Parallel(n_jobs=-1)]: Done 4026 tasks      | elapsed: 75.0min\n",
      "[Parallel(n_jobs=-1)]: Done 4877 tasks      | elapsed: 90.6min\n",
      "[Parallel(n_jobs=-1)]: Done 5808 tasks      | elapsed: 129.4min\n",
      "[Parallel(n_jobs=-1)]: Done 6750 out of 6750 | elapsed: 151.8min finished\n"
     ]
    },
    {
     "data": {
      "text/plain": [
       "GridSearchCV(cv=3, error_score=nan,\n",
       "             estimator=RandomForestClassifier(bootstrap=True, ccp_alpha=0.0,\n",
       "                                              class_weight=None,\n",
       "                                              criterion='gini', max_depth=None,\n",
       "                                              max_features='auto',\n",
       "                                              max_leaf_nodes=None,\n",
       "                                              max_samples=None,\n",
       "                                              min_impurity_decrease=0.0,\n",
       "                                              min_impurity_split=None,\n",
       "                                              min_samples_leaf=1,\n",
       "                                              min_samples_split=2,\n",
       "                                              min_weight_fraction_leaf=0.0,\n",
       "                                              n_estimators=100, n_jobs=None,\n",
       "                                              oob_score=False,\n",
       "                                              random_state=None, verbose=0,\n",
       "                                              warm_start=False),\n",
       "             iid='deprecated', n_jobs=-1,\n",
       "             param_grid={'bootstrap': [True], 'max_depth': [3, 5, 7, 10, 15],\n",
       "                         'max_features': [5, 10, 13, 14, 15],\n",
       "                         'min_samples_leaf': [3, 4, 5, 6, 7, 9],\n",
       "                         'min_samples_split': [2, 3, 4, 5, 7],\n",
       "                         'n_estimators': [100, 150, 300]},\n",
       "             pre_dispatch='2*n_jobs', refit=True, return_train_score=True,\n",
       "             scoring=None, verbose=2)"
      ]
     },
     "execution_count": 101,
     "metadata": {},
     "output_type": "execute_result"
    }
   ],
   "source": [
    "# fit grid search on the training data\n",
    "grid_search_rf.fit(X_train, y_train)"
   ]
  },
  {
   "cell_type": "code",
   "execution_count": 102,
   "metadata": {},
   "outputs": [
    {
     "data": {
      "text/plain": [
       "{'bootstrap': True,\n",
       " 'max_depth': 15,\n",
       " 'max_features': 15,\n",
       " 'min_samples_leaf': 4,\n",
       " 'min_samples_split': 3,\n",
       " 'n_estimators': 300}"
      ]
     },
     "execution_count": 102,
     "metadata": {},
     "output_type": "execute_result"
    }
   ],
   "source": [
    "# get best parameters from grid search\n",
    "grid_search_rf.best_params_ "
   ]
  },
  {
   "cell_type": "markdown",
   "metadata": {},
   "source": [
    "**Validating Our Model**"
   ]
  },
  {
   "cell_type": "code",
   "execution_count": 103,
   "metadata": {},
   "outputs": [
    {
     "name": "stdout",
     "output_type": "stream",
     "text": [
      "Confusion Matrix\n",
      " [[7875  328]\n",
      " [ 187 5359]]\n",
      "\n",
      "Validation Accuracy: 96.25%\n",
      " \n",
      "\n"
     ]
    }
   ],
   "source": [
    "# define the best model parameters \n",
    "best_grid = grid_search_rf.best_estimator_\n",
    "\n",
    "# predict on validation data with best parameters\n",
    "y_pred1 = best_grid.predict(X_valid)\n",
    "\n",
    "# show confusion matrix and accuracy\n",
    "print(\"Confusion Matrix\\n {}\".format(confusion_matrix(y_valid, y_pred1)))\n",
    "print(\"\\nValidation Accuracy: {:.2f}%\\n \\n\".format(accuracy_score(y_valid, y_pred1)*100))"
   ]
  },
  {
   "cell_type": "markdown",
   "metadata": {},
   "source": [
    "Once we are content with our validation accuracy we can use our model to predict the test data."
   ]
  },
  {
   "cell_type": "markdown",
   "metadata": {},
   "source": [
    "**Using the Model to Predict Test Data**"
   ]
  },
  {
   "cell_type": "code",
   "execution_count": 104,
   "metadata": {},
   "outputs": [
    {
     "name": "stdout",
     "output_type": "stream",
     "text": [
      "Confusion Matrix\n",
      " [[6306  254]\n",
      " [ 165 4274]]\n",
      "\n",
      "Test Accuracy: 96.19%\n",
      " \n",
      "\n",
      "              precision    recall  f1-score   support\n",
      "\n",
      "           0       0.97      0.96      0.97      6560\n",
      "           1       0.94      0.96      0.95      4439\n",
      "\n",
      "    accuracy                           0.96     10999\n",
      "   macro avg       0.96      0.96      0.96     10999\n",
      "weighted avg       0.96      0.96      0.96     10999\n",
      "\n"
     ]
    }
   ],
   "source": [
    "# make predictions on test data  \n",
    "y_pred2 = best_grid.predict(X_test)\n",
    "\n",
    "# get confusion matrix, test accuracy\n",
    "print(\"Confusion Matrix\\n {}\".format(confusion_matrix(y_test, y_pred2)))\n",
    "print(\"\\nTest Accuracy: {:.2f}%\\n \\n\".format(accuracy_score(y_test, y_pred2)*100))\n",
    "\n",
    "# get classification report\n",
    "print(classification_report(y_test, y_pred2))"
   ]
  },
  {
   "cell_type": "markdown",
   "metadata": {},
   "source": [
    "The final test accuracy equals 96.24%."
   ]
  },
  {
   "cell_type": "markdown",
   "metadata": {},
   "source": [
    "## Model 2: Neural Network Classifier"
   ]
  },
  {
   "cell_type": "markdown",
   "metadata": {},
   "source": [
    "**Training and Validating the Model**"
   ]
  },
  {
   "cell_type": "markdown",
   "metadata": {},
   "source": [
    "- Defining our model by creating a Sequential model and adding layers\n",
    "- Compiling our model by specifing the loss function and optimizer"
   ]
  },
  {
   "cell_type": "code",
   "execution_count": 25,
   "metadata": {},
   "outputs": [],
   "source": [
    "# create the nn model\n",
    "nn = keras.Sequential()\n",
    "nn.add(Dense(units=15,activation=\"relu\"))\n",
    "nn.add(Dropout(0.5))\n",
    "nn.add(Dense(units=8,activation=\"relu\"))\n",
    "nn.add(Dropout(0.5))\n",
    "nn.add(Dense(units=4,activation=\"relu\"))\n",
    "nn.add(Dropout(0.5))\n",
    "# binary classification so we choose sigmoid activation function\n",
    "nn.add(Dense(units=1,activation=\"sigmoid\")) # one output unit because we deal with binary classification\n",
    "nn.compile(loss=\"binary_crossentropy\", optimizer=\"adam\", metrics=['accuracy'])"
   ]
  },
  {
   "cell_type": "code",
   "execution_count": 26,
   "metadata": {},
   "outputs": [
    {
     "name": "stdout",
     "output_type": "stream",
     "text": [
      "Epoch 1/100\n",
      "1375/1375 [==============================] - 1s 849us/step - loss: 0.5998 - accuracy: 0.6645 - val_loss: 0.2672 - val_accuracy: 0.9225\n",
      "Epoch 2/100\n",
      "1375/1375 [==============================] - 1s 807us/step - loss: 0.4079 - accuracy: 0.8039 - val_loss: 0.1724 - val_accuracy: 0.9284\n",
      "Epoch 3/100\n",
      "1375/1375 [==============================] - 1s 854us/step - loss: 0.3694 - accuracy: 0.8212 - val_loss: 0.1650 - val_accuracy: 0.9297\n",
      "Epoch 4/100\n",
      "1375/1375 [==============================] - 1s 825us/step - loss: 0.3542 - accuracy: 0.8277 - val_loss: 0.1562 - val_accuracy: 0.9318\n",
      "Epoch 5/100\n",
      "1375/1375 [==============================] - 1s 806us/step - loss: 0.3440 - accuracy: 0.8348 - val_loss: 0.1570 - val_accuracy: 0.9356\n",
      "Epoch 6/100\n",
      "1375/1375 [==============================] - 1s 851us/step - loss: 0.3383 - accuracy: 0.8400 - val_loss: 0.1554 - val_accuracy: 0.9390\n",
      "Epoch 7/100\n",
      "1375/1375 [==============================] - 1s 816us/step - loss: 0.3418 - accuracy: 0.8349 - val_loss: 0.1574 - val_accuracy: 0.9366\n",
      "Epoch 8/100\n",
      "1375/1375 [==============================] - 1s 831us/step - loss: 0.3391 - accuracy: 0.8376 - val_loss: 0.1602 - val_accuracy: 0.9318\n",
      "Epoch 9/100\n",
      "1375/1375 [==============================] - 1s 810us/step - loss: 0.3398 - accuracy: 0.8346 - val_loss: 0.1572 - val_accuracy: 0.9321\n",
      "Epoch 10/100\n",
      "1375/1375 [==============================] - 1s 836us/step - loss: 0.3387 - accuracy: 0.8375 - val_loss: 0.1547 - val_accuracy: 0.9341\n",
      "Epoch 11/100\n",
      "1375/1375 [==============================] - 1s 825us/step - loss: 0.3398 - accuracy: 0.8378 - val_loss: 0.1577 - val_accuracy: 0.9355\n",
      "Epoch 12/100\n",
      "1375/1375 [==============================] - 1s 828us/step - loss: 0.3349 - accuracy: 0.8410 - val_loss: 0.1600 - val_accuracy: 0.9377\n",
      "Epoch 13/100\n",
      "1375/1375 [==============================] - 1s 819us/step - loss: 0.3365 - accuracy: 0.8398 - val_loss: 0.1568 - val_accuracy: 0.9374\n",
      "Epoch 14/100\n",
      "1375/1375 [==============================] - 1s 981us/step - loss: 0.3386 - accuracy: 0.8390 - val_loss: 0.1572 - val_accuracy: 0.9374\n",
      "Epoch 15/100\n",
      "1375/1375 [==============================] - 1s 865us/step - loss: 0.3405 - accuracy: 0.8381 - val_loss: 0.1597 - val_accuracy: 0.9348\n",
      "Epoch 16/100\n",
      "1375/1375 [==============================] - 1s 889us/step - loss: 0.3404 - accuracy: 0.8373 - val_loss: 0.1553 - val_accuracy: 0.9338\n",
      "Epoch 17/100\n",
      "1375/1375 [==============================] - 1s 886us/step - loss: 0.3374 - accuracy: 0.8412 - val_loss: 0.1615 - val_accuracy: 0.9374\n",
      "Epoch 18/100\n",
      "1375/1375 [==============================] - 1s 849us/step - loss: 0.3328 - accuracy: 0.8409 - val_loss: 0.1580 - val_accuracy: 0.9383\n",
      "Epoch 19/100\n",
      "1375/1375 [==============================] - 1s 880us/step - loss: 0.3368 - accuracy: 0.8403 - val_loss: 0.1553 - val_accuracy: 0.9375\n",
      "Epoch 20/100\n",
      "1375/1375 [==============================] - 1s 841us/step - loss: 0.3348 - accuracy: 0.8408 - val_loss: 0.1530 - val_accuracy: 0.9364\n",
      "Epoch 21/100\n",
      "1375/1375 [==============================] - 1s 894us/step - loss: 0.3336 - accuracy: 0.8430 - val_loss: 0.1547 - val_accuracy: 0.9372\n",
      "Epoch 22/100\n",
      "1375/1375 [==============================] - 1s 804us/step - loss: 0.3343 - accuracy: 0.8397 - val_loss: 0.1546 - val_accuracy: 0.9395\n",
      "Epoch 23/100\n",
      "1375/1375 [==============================] - 1s 825us/step - loss: 0.3351 - accuracy: 0.8382 - val_loss: 0.1570 - val_accuracy: 0.9386\n",
      "Epoch 24/100\n",
      "1375/1375 [==============================] - 1s 830us/step - loss: 0.3317 - accuracy: 0.8421 - val_loss: 0.1545 - val_accuracy: 0.9360\n",
      "Epoch 25/100\n",
      "1375/1375 [==============================] - 1s 891us/step - loss: 0.3347 - accuracy: 0.8432 - val_loss: 0.1527 - val_accuracy: 0.9366\n",
      "Epoch 26/100\n",
      "1375/1375 [==============================] - 1s 846us/step - loss: 0.3309 - accuracy: 0.8431 - val_loss: 0.1532 - val_accuracy: 0.9376\n",
      "Epoch 27/100\n",
      "1375/1375 [==============================] - 1s 818us/step - loss: 0.3347 - accuracy: 0.8431 - val_loss: 0.1567 - val_accuracy: 0.9353\n",
      "Epoch 28/100\n",
      "1375/1375 [==============================] - 1s 835us/step - loss: 0.3330 - accuracy: 0.8440 - val_loss: 0.1523 - val_accuracy: 0.9360\n",
      "Epoch 29/100\n",
      "1375/1375 [==============================] - 1s 812us/step - loss: 0.3351 - accuracy: 0.8421 - val_loss: 0.1562 - val_accuracy: 0.9365\n",
      "Epoch 30/100\n",
      "1375/1375 [==============================] - 1s 955us/step - loss: 0.3333 - accuracy: 0.8412 - val_loss: 0.1568 - val_accuracy: 0.9385\n",
      "Epoch 31/100\n",
      "1375/1375 [==============================] - 1s 804us/step - loss: 0.3326 - accuracy: 0.8427 - val_loss: 0.1558 - val_accuracy: 0.9379\n",
      "Epoch 32/100\n",
      "1375/1375 [==============================] - 1s 801us/step - loss: 0.3348 - accuracy: 0.8428 - val_loss: 0.1540 - val_accuracy: 0.9365\n",
      "Epoch 33/100\n",
      "1375/1375 [==============================] - 1s 809us/step - loss: 0.3291 - accuracy: 0.8430 - val_loss: 0.1549 - val_accuracy: 0.9383\n",
      "Epoch 34/100\n",
      "1375/1375 [==============================] - 1s 802us/step - loss: 0.3318 - accuracy: 0.8438 - val_loss: 0.1565 - val_accuracy: 0.9393\n",
      "Epoch 35/100\n",
      "1375/1375 [==============================] - 1s 824us/step - loss: 0.3339 - accuracy: 0.8428 - val_loss: 0.1547 - val_accuracy: 0.9399\n",
      "Epoch 36/100\n",
      "1375/1375 [==============================] - 1s 831us/step - loss: 0.3357 - accuracy: 0.8426 - val_loss: 0.1543 - val_accuracy: 0.9380\n",
      "Epoch 37/100\n",
      "1375/1375 [==============================] - 1s 837us/step - loss: 0.3385 - accuracy: 0.8399 - val_loss: 0.1556 - val_accuracy: 0.9378\n",
      "Epoch 38/100\n",
      "1375/1375 [==============================] - 1s 860us/step - loss: 0.3330 - accuracy: 0.8437 - val_loss: 0.1577 - val_accuracy: 0.9385\n",
      "Epoch 39/100\n",
      "1375/1375 [==============================] - 1s 892us/step - loss: 0.3322 - accuracy: 0.8426 - val_loss: 0.1542 - val_accuracy: 0.9377\n",
      "Epoch 40/100\n",
      "1375/1375 [==============================] - 1s 956us/step - loss: 0.3332 - accuracy: 0.8418 - val_loss: 0.1529 - val_accuracy: 0.9376\n",
      "Epoch 41/100\n",
      "1375/1375 [==============================] - 1s 807us/step - loss: 0.3363 - accuracy: 0.8404 - val_loss: 0.1540 - val_accuracy: 0.9381\n",
      "Epoch 42/100\n",
      "1375/1375 [==============================] - 1s 842us/step - loss: 0.3311 - accuracy: 0.8455 - val_loss: 0.1541 - val_accuracy: 0.9371\n",
      "Epoch 43/100\n",
      "1375/1375 [==============================] - 1s 823us/step - loss: 0.3364 - accuracy: 0.8413 - val_loss: 0.1548 - val_accuracy: 0.9393\n",
      "Epoch 44/100\n",
      "1375/1375 [==============================] - 1s 896us/step - loss: 0.3360 - accuracy: 0.8432 - val_loss: 0.1538 - val_accuracy: 0.9343\n",
      "Epoch 45/100\n",
      "1375/1375 [==============================] - 1s 931us/step - loss: 0.3313 - accuracy: 0.8457 - val_loss: 0.1546 - val_accuracy: 0.9394\n",
      "Epoch 46/100\n",
      "1375/1375 [==============================] - 1s 986us/step - loss: 0.3297 - accuracy: 0.8442 - val_loss: 0.1545 - val_accuracy: 0.9379\n",
      "Epoch 47/100\n",
      "1375/1375 [==============================] - 1s 844us/step - loss: 0.3290 - accuracy: 0.8436 - val_loss: 0.1543 - val_accuracy: 0.9383\n",
      "Epoch 48/100\n",
      "1375/1375 [==============================] - 1s 804us/step - loss: 0.3336 - accuracy: 0.8425 - val_loss: 0.1554 - val_accuracy: 0.9387\n",
      "Epoch 49/100\n",
      "1375/1375 [==============================] - 1s 857us/step - loss: 0.3328 - accuracy: 0.8437 - val_loss: 0.1589 - val_accuracy: 0.9385\n",
      "Epoch 50/100\n",
      "1375/1375 [==============================] - 1s 886us/step - loss: 0.3340 - accuracy: 0.8391 - val_loss: 0.1560 - val_accuracy: 0.9392\n",
      "Epoch 51/100\n",
      "1375/1375 [==============================] - 1s 936us/step - loss: 0.3341 - accuracy: 0.8445 - val_loss: 0.1578 - val_accuracy: 0.9386\n",
      "Epoch 52/100\n",
      "1375/1375 [==============================] - 1s 1ms/step - loss: 0.3377 - accuracy: 0.8413 - val_loss: 0.1587 - val_accuracy: 0.9388\n",
      "Epoch 53/100\n",
      "1375/1375 [==============================] - 1s 971us/step - loss: 0.3336 - accuracy: 0.8426 - val_loss: 0.1549 - val_accuracy: 0.9359\n",
      "Epoch 54/100\n",
      "1375/1375 [==============================] - 1s 970us/step - loss: 0.3331 - accuracy: 0.8444 - val_loss: 0.1560 - val_accuracy: 0.9382\n",
      "Epoch 55/100\n",
      "1375/1375 [==============================] - 1s 853us/step - loss: 0.3292 - accuracy: 0.8453 - val_loss: 0.1574 - val_accuracy: 0.9383\n",
      "Epoch 56/100\n",
      "1375/1375 [==============================] - 1s 836us/step - loss: 0.3317 - accuracy: 0.8416 - val_loss: 0.1531 - val_accuracy: 0.9383\n",
      "Epoch 57/100\n",
      "1375/1375 [==============================] - 1s 834us/step - loss: 0.3344 - accuracy: 0.8445 - val_loss: 0.1545 - val_accuracy: 0.9361\n",
      "Epoch 58/100\n",
      "1375/1375 [==============================] - 1s 845us/step - loss: 0.3390 - accuracy: 0.8412 - val_loss: 0.1557 - val_accuracy: 0.9369\n",
      "Epoch 59/100\n",
      "1375/1375 [==============================] - 1s 832us/step - loss: 0.3335 - accuracy: 0.8412 - val_loss: 0.1598 - val_accuracy: 0.9393\n",
      "Epoch 60/100\n",
      "1375/1375 [==============================] - 1s 846us/step - loss: 0.3352 - accuracy: 0.8427 - val_loss: 0.1586 - val_accuracy: 0.9396\n",
      "Epoch 61/100\n",
      "1375/1375 [==============================] - 1s 833us/step - loss: 0.3309 - accuracy: 0.8443 - val_loss: 0.1536 - val_accuracy: 0.9380\n",
      "Epoch 62/100\n",
      "1375/1375 [==============================] - 1s 945us/step - loss: 0.3296 - accuracy: 0.8439 - val_loss: 0.1533 - val_accuracy: 0.9354\n",
      "Epoch 63/100\n",
      "1375/1375 [==============================] - 1s 828us/step - loss: 0.3328 - accuracy: 0.8422 - val_loss: 0.1541 - val_accuracy: 0.9385\n",
      "Epoch 64/100\n",
      "1375/1375 [==============================] - 1s 831us/step - loss: 0.3390 - accuracy: 0.8418 - val_loss: 0.1537 - val_accuracy: 0.9388\n",
      "Epoch 65/100\n",
      "1375/1375 [==============================] - 1s 826us/step - loss: 0.3317 - accuracy: 0.8435 - val_loss: 0.1527 - val_accuracy: 0.9369\n",
      "Epoch 66/100\n",
      "1375/1375 [==============================] - 1s 823us/step - loss: 0.3310 - accuracy: 0.8446 - val_loss: 0.1536 - val_accuracy: 0.9386\n",
      "Epoch 67/100\n",
      "1375/1375 [==============================] - 1s 836us/step - loss: 0.3342 - accuracy: 0.8409 - val_loss: 0.1590 - val_accuracy: 0.9388\n",
      "Epoch 68/100\n",
      "1375/1375 [==============================] - 1s 847us/step - loss: 0.3314 - accuracy: 0.8439 - val_loss: 0.1619 - val_accuracy: 0.9388\n",
      "Epoch 69/100\n",
      "1375/1375 [==============================] - 1s 854us/step - loss: 0.3319 - accuracy: 0.8437 - val_loss: 0.1524 - val_accuracy: 0.9377\n",
      "Epoch 70/100\n",
      "1375/1375 [==============================] - 1s 857us/step - loss: 0.3363 - accuracy: 0.8409 - val_loss: 0.1538 - val_accuracy: 0.9376\n",
      "Epoch 71/100\n",
      "1375/1375 [==============================] - 1s 883us/step - loss: 0.3311 - accuracy: 0.8419 - val_loss: 0.1531 - val_accuracy: 0.9355\n",
      "Epoch 72/100\n",
      "1375/1375 [==============================] - 1s 865us/step - loss: 0.3356 - accuracy: 0.8421 - val_loss: 0.1617 - val_accuracy: 0.9377\n",
      "Epoch 73/100\n",
      "1375/1375 [==============================] - 1s 847us/step - loss: 0.3337 - accuracy: 0.8409 - val_loss: 0.1568 - val_accuracy: 0.9386\n",
      "Epoch 74/100\n",
      "1375/1375 [==============================] - 1s 831us/step - loss: 0.3366 - accuracy: 0.8438 - val_loss: 0.1563 - val_accuracy: 0.9389\n",
      "Epoch 75/100\n",
      "1375/1375 [==============================] - 1s 867us/step - loss: 0.3370 - accuracy: 0.8397 - val_loss: 0.1533 - val_accuracy: 0.9383\n",
      "Epoch 76/100\n",
      "1375/1375 [==============================] - 1s 1ms/step - loss: 0.3359 - accuracy: 0.8407 - val_loss: 0.1573 - val_accuracy: 0.9390\n",
      "Epoch 77/100\n",
      "1375/1375 [==============================] - 1s 842us/step - loss: 0.3311 - accuracy: 0.8451 - val_loss: 0.1530 - val_accuracy: 0.9383\n",
      "Epoch 78/100\n",
      "1375/1375 [==============================] - 1s 882us/step - loss: 0.3368 - accuracy: 0.8396 - val_loss: 0.1528 - val_accuracy: 0.9391\n",
      "Epoch 79/100\n",
      "1375/1375 [==============================] - 1s 947us/step - loss: 0.3314 - accuracy: 0.8461 - val_loss: 0.1532 - val_accuracy: 0.9391\n",
      "Epoch 80/100\n",
      "1375/1375 [==============================] - 1s 827us/step - loss: 0.3349 - accuracy: 0.8424 - val_loss: 0.1536 - val_accuracy: 0.9393\n",
      "Epoch 81/100\n",
      "1375/1375 [==============================] - 1s 833us/step - loss: 0.3323 - accuracy: 0.8428 - val_loss: 0.1548 - val_accuracy: 0.9394\n",
      "Epoch 82/100\n",
      "1375/1375 [==============================] - 1s 816us/step - loss: 0.3302 - accuracy: 0.8467 - val_loss: 0.1537 - val_accuracy: 0.9385\n",
      "Epoch 83/100\n",
      "1375/1375 [==============================] - 1s 850us/step - loss: 0.3339 - accuracy: 0.8442 - val_loss: 0.1584 - val_accuracy: 0.9388\n",
      "Epoch 84/100\n",
      "1375/1375 [==============================] - 1s 883us/step - loss: 0.3330 - accuracy: 0.8450 - val_loss: 0.1529 - val_accuracy: 0.9387\n",
      "Epoch 85/100\n",
      "1375/1375 [==============================] - 1s 849us/step - loss: 0.3351 - accuracy: 0.8424 - val_loss: 0.1552 - val_accuracy: 0.9375\n",
      "Epoch 86/100\n",
      "1375/1375 [==============================] - 1s 834us/step - loss: 0.3315 - accuracy: 0.8436 - val_loss: 0.1575 - val_accuracy: 0.9390\n",
      "Epoch 87/100\n",
      "1375/1375 [==============================] - 1s 854us/step - loss: 0.3347 - accuracy: 0.8410 - val_loss: 0.1527 - val_accuracy: 0.9378\n",
      "Epoch 88/100\n",
      "1375/1375 [==============================] - 1s 846us/step - loss: 0.3314 - accuracy: 0.8437 - val_loss: 0.1555 - val_accuracy: 0.9394\n",
      "Epoch 89/100\n",
      "1375/1375 [==============================] - 1s 867us/step - loss: 0.3316 - accuracy: 0.8427 - val_loss: 0.1549 - val_accuracy: 0.9390\n",
      "Epoch 90/100\n",
      "1375/1375 [==============================] - 1s 844us/step - loss: 0.3335 - accuracy: 0.8409 - val_loss: 0.1585 - val_accuracy: 0.9377\n",
      "Epoch 91/100\n",
      "1375/1375 [==============================] - 1s 817us/step - loss: 0.3379 - accuracy: 0.8407 - val_loss: 0.1563 - val_accuracy: 0.9380\n",
      "Epoch 92/100\n",
      "1375/1375 [==============================] - 1s 865us/step - loss: 0.3320 - accuracy: 0.8443 - val_loss: 0.1579 - val_accuracy: 0.9385\n",
      "Epoch 93/100\n",
      "1375/1375 [==============================] - 1s 808us/step - loss: 0.3326 - accuracy: 0.8453 - val_loss: 0.1542 - val_accuracy: 0.9396\n",
      "Epoch 94/100\n",
      "1375/1375 [==============================] - 1s 849us/step - loss: 0.3306 - accuracy: 0.8452 - val_loss: 0.1601 - val_accuracy: 0.9391\n",
      "Epoch 95/100\n",
      "1375/1375 [==============================] - 1s 828us/step - loss: 0.3318 - accuracy: 0.8436 - val_loss: 0.1562 - val_accuracy: 0.9387\n",
      "Epoch 96/100\n",
      "1375/1375 [==============================] - 1s 840us/step - loss: 0.3345 - accuracy: 0.8435 - val_loss: 0.1547 - val_accuracy: 0.9378\n",
      "Epoch 97/100\n",
      "1375/1375 [==============================] - 1s 826us/step - loss: 0.3309 - accuracy: 0.8455 - val_loss: 0.1548 - val_accuracy: 0.9385\n",
      "Epoch 98/100\n",
      "1375/1375 [==============================] - 1s 837us/step - loss: 0.3335 - accuracy: 0.8454 - val_loss: 0.1563 - val_accuracy: 0.9379\n",
      "Epoch 99/100\n",
      "1375/1375 [==============================] - 1s 830us/step - loss: 0.3315 - accuracy: 0.8439 - val_loss: 0.1578 - val_accuracy: 0.9393\n",
      "Epoch 100/100\n",
      "1375/1375 [==============================] - 1s 846us/step - loss: 0.3354 - accuracy: 0.8433 - val_loss: 0.1569 - val_accuracy: 0.9391\n"
     ]
    }
   ],
   "source": [
    "# fit the model on the training data \n",
    "history = nn.fit(X_train, y_train, epochs = 100, batch_size=32, validation_data=(X_valid, y_valid), workers=-1).history"
   ]
  },
  {
   "cell_type": "code",
   "execution_count": 45,
   "metadata": {},
   "outputs": [
    {
     "name": "stdout",
     "output_type": "stream",
     "text": [
      "Neural Network Classifier average validation accuracy: 0.9373714482784271\n"
     ]
    }
   ],
   "source": [
    "print(\"Neural Network Classifier average validation accuracy: {}\".format(losses[\"val_accuracy\"].mean()))\n"
   ]
  },
  {
   "cell_type": "code",
   "execution_count": 37,
   "metadata": {},
   "outputs": [
    {
     "data": {
      "text/plain": [
       "<matplotlib.legend.Legend at 0x1703bd3e0c8>"
      ]
     },
     "execution_count": 37,
     "metadata": {},
     "output_type": "execute_result"
    },
    {
     "data": {
      "image/png": "[encoded data removed]",
      "text/plain": [
       "<Figure size 432x288 with 1 Axes>"
      ]
     },
     "metadata": {
      "needs_background": "light"
     },
     "output_type": "display_data"
    }
   ],
   "source": [
    "losses = pd.DataFrame(nn.history.history)\n",
    "losses[\"accuracy\"].plot()\n",
    "losses[\"val_accuracy\"].plot()\n",
    "plt.xlabel(\"Epochs\")\n",
    "plt.ylabel(\"Accuracy\")\n",
    "plt.legend()"
   ]
  },
  {
   "cell_type": "markdown",
   "metadata": {},
   "source": [
    "The neural network classifier shows an average validation accuracy of around 93.74%. We can also see that the accuracy value stagnated after around 5-10 epochs. Consequently, it is slightly worse than the Random Forest model. However, we simply used the default parameters thus far. Let's try to improve the accuracy."
   ]
  },
  {
   "cell_type": "markdown",
   "metadata": {},
   "source": [
    "#### Neural Network Classifier: Tuning Model Hyperparameters with Grid Search"
   ]
  },
  {
   "cell_type": "markdown",
   "metadata": {},
   "source": [
    "**Training the Model**"
   ]
  },
  {
   "cell_type": "markdown",
   "metadata": {},
   "source": [
    "Let's see if we can improve our results."
   ]
  },
  {
   "cell_type": "markdown",
   "metadata": {},
   "source": [
    "- Defining our model by creating a Sequential model and adding layers\n",
    "- Compiling our model by specifing the loss function and optimizer"
   ]
  },
  {
   "cell_type": "code",
   "execution_count": null,
   "metadata": {},
   "outputs": [],
   "source": [
    "# create the nn model\n",
    "def build_model(lr=0.01):\n",
    "    '''\n",
    "    This function builds a neural network classifier.\n",
    "    '''\n",
    "    nn = Sequential()\n",
    "    nn.add(Dense(units=15,activation=\"relu\")) # 17 because 17 input features\n",
    "    nn.add(Dropout(0.5))\n",
    "    nn.add(Dense(units=8,activation=\"relu\"))\n",
    "    nn.add(Dropout(0.5))\n",
    "    nn.add(Dense(units=4,activation=\"relu\"))\n",
    "    nn.add(Dropout(0.5))\n",
    "    # binary classification so we choose sigmoid activation function\n",
    "    nn.add(Dense(units=1,activation=\"sigmoid\")) # one output unit because we deal with binary classification\n",
    "    # set optimizer\n",
    "    optimizer = keras.optimizers.Adam(learning_rate=lr)\n",
    "    nn.compile(loss=\"binary_crossentropy\", optimizer=optimizer, metrics=['accuracy'])\n",
    "    \n",
    "    return nn"
   ]
  },
  {
   "cell_type": "code",
   "execution_count": null,
   "metadata": {},
   "outputs": [],
   "source": [
    "# Create the actual model\n",
    "model = KerasClassifier(build_fn=build_model, batch_size=32, epochs=10)"
   ]
  },
  {
   "cell_type": "code",
   "execution_count": 69,
   "metadata": {},
   "outputs": [],
   "source": [
    "# Create arbitary parameter grid for random search (keeping them modest due to low computational power)\n",
    "batch_size = [16, 32, 64]\n",
    "epochs = [100, 200]\n",
    "learn_rate = [0.0001, 0.001, 0.01, 0.1]\n",
    "\n",
    "# create the parameter grid\n",
    "param_grid = dict(lr=learn_rate, batch_size=batch_size,epochs=epochs)\n",
    "\n",
    "# build the grid search\n",
    "grid_search = GridSearchCV(estimator=model, param_grid=param_grid, cv=3, verbose=2, n_jobs=10, return_train_score=True)"
   ]
  },
  {
   "cell_type": "code",
   "execution_count": 70,
   "metadata": {},
   "outputs": [
    {
     "name": "stdout",
     "output_type": "stream",
     "text": [
      "Fitting 3 folds for each of 24 candidates, totalling 72 fits\n"
     ]
    },
    {
     "name": "stderr",
     "output_type": "stream",
     "text": [
      "[Parallel(n_jobs=10)]: Using backend LokyBackend with 10 concurrent workers.\n",
      "[Parallel(n_jobs=10)]: Done  21 tasks      | elapsed: 28.1min\n",
      "[Parallel(n_jobs=10)]: Done  72 out of  72 | elapsed: 52.9min finished\n"
     ]
    },
    {
     "name": "stdout",
     "output_type": "stream",
     "text": [
      "Epoch 1/200\n",
      "688/688 [==============================] - 1s 752us/step - loss: 0.5790 - accuracy: 0.6689\n",
      "Epoch 2/200\n",
      "688/688 [==============================] - 1s 755us/step - loss: 0.4042 - accuracy: 0.7925\n",
      "Epoch 3/200\n",
      "688/688 [==============================] - 1s 770us/step - loss: 0.3569 - accuracy: 0.8191\n",
      "Epoch 4/200\n",
      "688/688 [==============================] - 1s 1ms/step - loss: 0.3433 - accuracy: 0.8244\n",
      "Epoch 5/200\n",
      "688/688 [==============================] - 1s 839us/step - loss: 0.3401 - accuracy: 0.8270\n",
      "Epoch 6/200\n",
      "688/688 [==============================] - 1s 796us/step - loss: 0.3329 - accuracy: 0.8265\n",
      "Epoch 7/200\n",
      "688/688 [==============================] - 1s 797us/step - loss: 0.3315 - accuracy: 0.8292\n",
      "Epoch 8/200\n",
      "688/688 [==============================] - 1s 752us/step - loss: 0.3314 - accuracy: 0.8283\n",
      "Epoch 9/200\n",
      "688/688 [==============================] - 1s 796us/step - loss: 0.3262 - accuracy: 0.8322\n",
      "Epoch 10/200\n",
      "688/688 [==============================] - 1s 738us/step - loss: 0.3249 - accuracy: 0.8320\n",
      "Epoch 11/200\n",
      "688/688 [==============================] - 1s 1ms/step - loss: 0.3227 - accuracy: 0.8338\n",
      "Epoch 12/200\n",
      "688/688 [==============================] - 1s 829us/step - loss: 0.3243 - accuracy: 0.8321\n",
      "Epoch 13/200\n",
      "688/688 [==============================] - 1s 777us/step - loss: 0.3230 - accuracy: 0.8325\n",
      "Epoch 14/200\n",
      "688/688 [==============================] - 1s 729us/step - loss: 0.3214 - accuracy: 0.8322\n",
      "Epoch 15/200\n",
      "688/688 [==============================] - 0s 713us/step - loss: 0.3219 - accuracy: 0.8329\n",
      "Epoch 16/200\n",
      "688/688 [==============================] - 1s 992us/step - loss: 0.3216 - accuracy: 0.8330\n",
      "Epoch 17/200\n",
      "688/688 [==============================] - 1s 826us/step - loss: 0.3206 - accuracy: 0.83600s - loss: 0.3\n",
      "Epoch 18/200\n",
      "688/688 [==============================] - 1s 784us/step - loss: 0.3234 - accuracy: 0.8316\n",
      "Epoch 19/200\n",
      "688/688 [==============================] - 1s 747us/step - loss: 0.3247 - accuracy: 0.8328\n",
      "Epoch 20/200\n",
      "688/688 [==============================] - 1s 751us/step - loss: 0.3232 - accuracy: 0.8321\n",
      "Epoch 21/200\n",
      "688/688 [==============================] - 1s 754us/step - loss: 0.3204 - accuracy: 0.8345\n",
      "Epoch 22/200\n",
      "688/688 [==============================] - 0s 726us/step - loss: 0.3230 - accuracy: 0.8320\n",
      "Epoch 23/200\n",
      "688/688 [==============================] - 1s 729us/step - loss: 0.3218 - accuracy: 0.8335\n",
      "Epoch 24/200\n",
      "688/688 [==============================] - 1s 736us/step - loss: 0.3211 - accuracy: 0.8335\n",
      "Epoch 25/200\n",
      "688/688 [==============================] - 0s 725us/step - loss: 0.3200 - accuracy: 0.8362\n",
      "Epoch 26/200\n",
      "688/688 [==============================] - 0s 726us/step - loss: 0.3201 - accuracy: 0.8343\n",
      "Epoch 27/200\n",
      "688/688 [==============================] - 0s 719us/step - loss: 0.3238 - accuracy: 0.8336\n",
      "Epoch 28/200\n",
      "688/688 [==============================] - 1s 731us/step - loss: 0.3190 - accuracy: 0.8357\n",
      "Epoch 29/200\n",
      "688/688 [==============================] - 1s 790us/step - loss: 0.3213 - accuracy: 0.8320\n",
      "Epoch 30/200\n",
      "688/688 [==============================] - 1s 1ms/step - loss: 0.3209 - accuracy: 0.8345\n",
      "Epoch 31/200\n",
      "688/688 [==============================] - 1s 805us/step - loss: 0.3194 - accuracy: 0.8350\n",
      "Epoch 32/200\n",
      "688/688 [==============================] - 1s 773us/step - loss: 0.3235 - accuracy: 0.8344\n",
      "Epoch 33/200\n",
      "688/688 [==============================] - 0s 716us/step - loss: 0.3162 - accuracy: 0.8387\n",
      "Epoch 34/200\n",
      "688/688 [==============================] - 1s 826us/step - loss: 0.3221 - accuracy: 0.8348\n",
      "Epoch 35/200\n",
      "688/688 [==============================] - 1s 939us/step - loss: 0.3186 - accuracy: 0.8345\n",
      "Epoch 36/200\n",
      "688/688 [==============================] - 1s 1ms/step - loss: 0.3207 - accuracy: 0.8341\n",
      "Epoch 37/200\n",
      "688/688 [==============================] - 1s 770us/step - loss: 0.3221 - accuracy: 0.8332\n",
      "Epoch 38/200\n",
      "688/688 [==============================] - 1s 799us/step - loss: 0.3209 - accuracy: 0.8326\n",
      "Epoch 39/200\n",
      "688/688 [==============================] - 1s 789us/step - loss: 0.3200 - accuracy: 0.8354\n",
      "Epoch 40/200\n",
      "688/688 [==============================] - 1s 815us/step - loss: 0.3210 - accuracy: 0.8345\n",
      "Epoch 41/200\n",
      "688/688 [==============================] - 0s 725us/step - loss: 0.3221 - accuracy: 0.8345\n",
      "Epoch 42/200\n",
      "688/688 [==============================] - 1s 778us/step - loss: 0.3217 - accuracy: 0.8325\n",
      "Epoch 43/200\n",
      "688/688 [==============================] - 1s 791us/step - loss: 0.3191 - accuracy: 0.8340\n",
      "Epoch 44/200\n",
      "688/688 [==============================] - 1s 761us/step - loss: 0.3168 - accuracy: 0.8339\n",
      "Epoch 45/200\n",
      "688/688 [==============================] - 1s 787us/step - loss: 0.3170 - accuracy: 0.8366\n",
      "Epoch 46/200\n",
      "688/688 [==============================] - 1s 789us/step - loss: 0.3225 - accuracy: 0.8359\n",
      "Epoch 47/200\n",
      "688/688 [==============================] - 1s 741us/step - loss: 0.3223 - accuracy: 0.8327\n",
      "Epoch 48/200\n",
      "688/688 [==============================] - 1s 844us/step - loss: 0.3180 - accuracy: 0.8347\n",
      "Epoch 49/200\n",
      "688/688 [==============================] - 1s 841us/step - loss: 0.3183 - accuracy: 0.8373\n",
      "Epoch 50/200\n",
      "688/688 [==============================] - 1s 809us/step - loss: 0.3196 - accuracy: 0.8360\n",
      "Epoch 51/200\n",
      "688/688 [==============================] - 1s 825us/step - loss: 0.3192 - accuracy: 0.8357\n",
      "Epoch 52/200\n",
      "688/688 [==============================] - 1s 729us/step - loss: 0.3201 - accuracy: 0.8339\n",
      "Epoch 53/200\n",
      "688/688 [==============================] - 1s 741us/step - loss: 0.3219 - accuracy: 0.8323\n",
      "Epoch 54/200\n",
      "688/688 [==============================] - 1s 734us/step - loss: 0.3174 - accuracy: 0.8350\n",
      "Epoch 55/200\n",
      "688/688 [==============================] - 1s 777us/step - loss: 0.3173 - accuracy: 0.8358\n",
      "Epoch 56/200\n",
      "688/688 [==============================] - 1s 783us/step - loss: 0.3195 - accuracy: 0.8351\n",
      "Epoch 57/200\n",
      "688/688 [==============================] - 1s 745us/step - loss: 0.3214 - accuracy: 0.8323\n",
      "Epoch 58/200\n",
      "688/688 [==============================] - 1s 747us/step - loss: 0.3174 - accuracy: 0.8373\n",
      "Epoch 59/200\n",
      "688/688 [==============================] - 1s 735us/step - loss: 0.3187 - accuracy: 0.8328\n",
      "Epoch 60/200\n",
      "688/688 [==============================] - 1s 751us/step - loss: 0.3215 - accuracy: 0.8350\n",
      "Epoch 61/200\n",
      "688/688 [==============================] - 1s 751us/step - loss: 0.3156 - accuracy: 0.8368\n",
      "Epoch 62/200\n",
      "688/688 [==============================] - 1s 744us/step - loss: 0.3177 - accuracy: 0.8368\n",
      "Epoch 63/200\n",
      "688/688 [==============================] - 1s 887us/step - loss: 0.3185 - accuracy: 0.8356\n",
      "Epoch 64/200\n",
      "688/688 [==============================] - 1s 854us/step - loss: 0.3219 - accuracy: 0.8325\n",
      "Epoch 65/200\n",
      "688/688 [==============================] - 1s 825us/step - loss: 0.3214 - accuracy: 0.8334\n",
      "Epoch 66/200\n",
      "688/688 [==============================] - 1s 731us/step - loss: 0.3166 - accuracy: 0.8357\n",
      "Epoch 67/200\n",
      "688/688 [==============================] - 1s 735us/step - loss: 0.3186 - accuracy: 0.8362\n",
      "Epoch 68/200\n",
      "688/688 [==============================] - 0s 718us/step - loss: 0.3204 - accuracy: 0.8367\n",
      "Epoch 69/200\n",
      "688/688 [==============================] - 1s 771us/step - loss: 0.3177 - accuracy: 0.8359\n",
      "Epoch 70/200\n",
      "688/688 [==============================] - 0s 723us/step - loss: 0.3154 - accuracy: 0.8350\n",
      "Epoch 71/200\n",
      "688/688 [==============================] - 1s 1ms/step - loss: 0.3191 - accuracy: 0.8363\n",
      "Epoch 72/200\n",
      "688/688 [==============================] - 1s 896us/step - loss: 0.3206 - accuracy: 0.8346\n",
      "Epoch 73/200\n",
      "688/688 [==============================] - 1s 832us/step - loss: 0.3184 - accuracy: 0.8347\n",
      "Epoch 74/200\n",
      "688/688 [==============================] - 1s 800us/step - loss: 0.3185 - accuracy: 0.8351\n",
      "Epoch 75/200\n",
      "688/688 [==============================] - 1s 799us/step - loss: 0.3178 - accuracy: 0.8344\n",
      "Epoch 76/200\n",
      "688/688 [==============================] - 1s 848us/step - loss: 0.3157 - accuracy: 0.8367\n",
      "Epoch 77/200\n",
      "688/688 [==============================] - 1s 825us/step - loss: 0.3176 - accuracy: 0.8355\n",
      "Epoch 78/200\n",
      "688/688 [==============================] - 1s 770us/step - loss: 0.3167 - accuracy: 0.8365\n",
      "Epoch 79/200\n",
      "688/688 [==============================] - 1s 815us/step - loss: 0.3203 - accuracy: 0.8333\n",
      "Epoch 80/200\n",
      "688/688 [==============================] - 1s 755us/step - loss: 0.3155 - accuracy: 0.8359\n",
      "Epoch 81/200\n",
      "688/688 [==============================] - 1s 1ms/step - loss: 0.3200 - accuracy: 0.8333\n",
      "Epoch 82/200\n",
      "688/688 [==============================] - 1s 810us/step - loss: 0.3166 - accuracy: 0.8364\n",
      "Epoch 83/200\n",
      "688/688 [==============================] - 1s 742us/step - loss: 0.3188 - accuracy: 0.8364\n",
      "Epoch 84/200\n",
      "688/688 [==============================] - 1s 854us/step - loss: 0.3210 - accuracy: 0.8353\n",
      "Epoch 85/200\n",
      "688/688 [==============================] - 1s 745us/step - loss: 0.3165 - accuracy: 0.8358\n",
      "Epoch 86/200\n",
      "688/688 [==============================] - 1s 770us/step - loss: 0.3167 - accuracy: 0.8362\n",
      "Epoch 87/200\n",
      "688/688 [==============================] - 1s 773us/step - loss: 0.3169 - accuracy: 0.8380\n",
      "Epoch 88/200\n",
      "688/688 [==============================] - 0s 715us/step - loss: 0.3178 - accuracy: 0.8376\n",
      "Epoch 89/200\n",
      "688/688 [==============================] - 1s 732us/step - loss: 0.3175 - accuracy: 0.8353\n",
      "Epoch 90/200\n",
      "688/688 [==============================] - 1s 764us/step - loss: 0.3180 - accuracy: 0.8344\n",
      "Epoch 91/200\n",
      "688/688 [==============================] - 1s 793us/step - loss: 0.3181 - accuracy: 0.8355\n",
      "Epoch 92/200\n",
      "688/688 [==============================] - 1s 790us/step - loss: 0.3158 - accuracy: 0.8389\n",
      "Epoch 93/200\n",
      "688/688 [==============================] - 1s 870us/step - loss: 0.3185 - accuracy: 0.8341\n",
      "Epoch 94/200\n",
      "688/688 [==============================] - 1s 834us/step - loss: 0.3160 - accuracy: 0.8371\n",
      "Epoch 95/200\n",
      "688/688 [==============================] - 0s 726us/step - loss: 0.3222 - accuracy: 0.8320\n",
      "Epoch 96/200\n",
      "688/688 [==============================] - 1s 845us/step - loss: 0.3177 - accuracy: 0.8333\n",
      "Epoch 97/200\n",
      "688/688 [==============================] - 1s 957us/step - loss: 0.3186 - accuracy: 0.8382\n",
      "Epoch 98/200\n",
      "688/688 [==============================] - 1s 826us/step - loss: 0.3176 - accuracy: 0.8360\n",
      "Epoch 99/200\n",
      "688/688 [==============================] - 1s 742us/step - loss: 0.3193 - accuracy: 0.8358\n",
      "Epoch 100/200\n",
      "688/688 [==============================] - 1s 878us/step - loss: 0.3201 - accuracy: 0.8364\n",
      "Epoch 101/200\n",
      "688/688 [==============================] - 1s 847us/step - loss: 0.3210 - accuracy: 0.8356\n",
      "Epoch 102/200\n",
      "688/688 [==============================] - 0s 723us/step - loss: 0.3205 - accuracy: 0.8361\n",
      "Epoch 103/200\n",
      "688/688 [==============================] - 1s 857us/step - loss: 0.3164 - accuracy: 0.8371\n",
      "Epoch 104/200\n",
      "688/688 [==============================] - 1s 842us/step - loss: 0.3171 - accuracy: 0.8360\n",
      "Epoch 105/200\n",
      "688/688 [==============================] - 1s 823us/step - loss: 0.3157 - accuracy: 0.8352\n",
      "Epoch 106/200\n",
      "688/688 [==============================] - 1s 816us/step - loss: 0.3190 - accuracy: 0.8359\n",
      "Epoch 107/200\n",
      "688/688 [==============================] - 1s 794us/step - loss: 0.3175 - accuracy: 0.8374\n",
      "Epoch 108/200\n",
      "688/688 [==============================] - 1s 793us/step - loss: 0.3168 - accuracy: 0.8376\n",
      "Epoch 109/200\n",
      "688/688 [==============================] - 1s 762us/step - loss: 0.3194 - accuracy: 0.8329\n",
      "Epoch 110/200\n",
      "688/688 [==============================] - 1s 729us/step - loss: 0.3194 - accuracy: 0.8370\n",
      "Epoch 111/200\n",
      "688/688 [==============================] - 0s 719us/step - loss: 0.3212 - accuracy: 0.8343\n",
      "Epoch 112/200\n",
      "688/688 [==============================] - 1s 929us/step - loss: 0.3201 - accuracy: 0.8361\n",
      "Epoch 113/200\n",
      "688/688 [==============================] - 1s 913us/step - loss: 0.3169 - accuracy: 0.8382\n",
      "Epoch 114/200\n",
      "688/688 [==============================] - 1s 818us/step - loss: 0.3159 - accuracy: 0.8359\n",
      "Epoch 115/200\n",
      "688/688 [==============================] - 1s 748us/step - loss: 0.3171 - accuracy: 0.8354\n",
      "Epoch 116/200\n",
      "688/688 [==============================] - 0s 712us/step - loss: 0.3198 - accuracy: 0.8348\n",
      "Epoch 117/200\n",
      "688/688 [==============================] - 0s 720us/step - loss: 0.3172 - accuracy: 0.8385\n",
      "Epoch 118/200\n",
      "688/688 [==============================] - 0s 723us/step - loss: 0.3195 - accuracy: 0.8357\n",
      "Epoch 119/200\n",
      "688/688 [==============================] - 1s 749us/step - loss: 0.3180 - accuracy: 0.8364\n",
      "Epoch 120/200\n",
      "688/688 [==============================] - 1s 765us/step - loss: 0.3158 - accuracy: 0.8387\n",
      "Epoch 121/200\n",
      "688/688 [==============================] - 1s 877us/step - loss: 0.3166 - accuracy: 0.8366\n",
      "Epoch 122/200\n",
      "688/688 [==============================] - 1s 857us/step - loss: 0.3164 - accuracy: 0.8366\n",
      "Epoch 123/200\n",
      "688/688 [==============================] - 1s 786us/step - loss: 0.3153 - accuracy: 0.8390\n",
      "Epoch 124/200\n",
      "688/688 [==============================] - 1s 738us/step - loss: 0.3168 - accuracy: 0.8350\n",
      "Epoch 125/200\n",
      "688/688 [==============================] - 0s 716us/step - loss: 0.3181 - accuracy: 0.8369\n",
      "Epoch 126/200\n",
      "688/688 [==============================] - 1s 831us/step - loss: 0.3170 - accuracy: 0.8386\n",
      "Epoch 127/200\n",
      "688/688 [==============================] - 1s 751us/step - loss: 0.3191 - accuracy: 0.8366\n",
      "Epoch 128/200\n",
      "688/688 [==============================] - 1s 800us/step - loss: 0.3176 - accuracy: 0.8388\n",
      "Epoch 129/200\n",
      "688/688 [==============================] - 1s 752us/step - loss: 0.3177 - accuracy: 0.8361\n",
      "Epoch 130/200\n",
      "688/688 [==============================] - 1s 758us/step - loss: 0.3194 - accuracy: 0.8350\n",
      "Epoch 131/200\n",
      "688/688 [==============================] - 1s 764us/step - loss: 0.3169 - accuracy: 0.8364\n",
      "Epoch 132/200\n",
      "688/688 [==============================] - 1s 791us/step - loss: 0.3165 - accuracy: 0.8372\n",
      "Epoch 133/200\n",
      "688/688 [==============================] - 1s 834us/step - loss: 0.3161 - accuracy: 0.8378\n",
      "Epoch 134/200\n",
      "688/688 [==============================] - 1s 812us/step - loss: 0.3194 - accuracy: 0.8382\n",
      "Epoch 135/200\n",
      "688/688 [==============================] - 1s 760us/step - loss: 0.3183 - accuracy: 0.8358\n",
      "Epoch 136/200\n",
      "688/688 [==============================] - 1s 777us/step - loss: 0.3191 - accuracy: 0.8383\n",
      "Epoch 137/200\n",
      "688/688 [==============================] - 1s 751us/step - loss: 0.3180 - accuracy: 0.8372\n",
      "Epoch 138/200\n",
      "688/688 [==============================] - 1s 952us/step - loss: 0.3179 - accuracy: 0.8350\n",
      "Epoch 139/200\n",
      "688/688 [==============================] - 1s 839us/step - loss: 0.3179 - accuracy: 0.8393\n",
      "Epoch 140/200\n",
      "688/688 [==============================] - 1s 735us/step - loss: 0.3178 - accuracy: 0.8375\n",
      "Epoch 141/200\n",
      "688/688 [==============================] - 1s 777us/step - loss: 0.3149 - accuracy: 0.8382\n",
      "Epoch 142/200\n",
      "688/688 [==============================] - 1s 735us/step - loss: 0.3167 - accuracy: 0.8376\n",
      "Epoch 143/200\n",
      "688/688 [==============================] - 0s 720us/step - loss: 0.3167 - accuracy: 0.8388\n",
      "Epoch 144/200\n",
      "688/688 [==============================] - 1s 929us/step - loss: 0.3177 - accuracy: 0.8367\n",
      "Epoch 145/200\n",
      "688/688 [==============================] - 1s 790us/step - loss: 0.3179 - accuracy: 0.8384\n",
      "Epoch 146/200\n",
      "688/688 [==============================] - 1s 741us/step - loss: 0.3174 - accuracy: 0.8396\n",
      "Epoch 147/200\n",
      "688/688 [==============================] - 1s 728us/step - loss: 0.3153 - accuracy: 0.8401\n",
      "Epoch 148/200\n",
      "688/688 [==============================] - 1s 757us/step - loss: 0.3174 - accuracy: 0.8376\n",
      "Epoch 149/200\n",
      "688/688 [==============================] - 1s 884us/step - loss: 0.3205 - accuracy: 0.8372\n",
      "Epoch 150/200\n",
      "688/688 [==============================] - 1s 874us/step - loss: 0.3166 - accuracy: 0.8373\n",
      "Epoch 151/200\n",
      "688/688 [==============================] - 1s 755us/step - loss: 0.3177 - accuracy: 0.8364\n",
      "Epoch 152/200\n",
      "688/688 [==============================] - 1s 770us/step - loss: 0.3204 - accuracy: 0.8344\n",
      "Epoch 153/200\n",
      "688/688 [==============================] - 1s 787us/step - loss: 0.3206 - accuracy: 0.8347\n",
      "Epoch 154/200\n",
      "688/688 [==============================] - 1s 790us/step - loss: 0.3150 - accuracy: 0.8423\n",
      "Epoch 155/200\n",
      "688/688 [==============================] - 1s 790us/step - loss: 0.3153 - accuracy: 0.8398\n",
      "Epoch 156/200\n",
      "688/688 [==============================] - 0s 719us/step - loss: 0.3168 - accuracy: 0.8369\n",
      "Epoch 157/200\n"
     ]
    },
    {
     "name": "stdout",
     "output_type": "stream",
     "text": [
      "688/688 [==============================] - 1s 771us/step - loss: 0.3178 - accuracy: 0.8405\n",
      "Epoch 158/200\n",
      "688/688 [==============================] - 1s 748us/step - loss: 0.3162 - accuracy: 0.8395\n",
      "Epoch 159/200\n",
      "688/688 [==============================] - 1s 736us/step - loss: 0.3201 - accuracy: 0.8345\n",
      "Epoch 160/200\n",
      "688/688 [==============================] - 1s 1ms/step - loss: 0.3145 - accuracy: 0.8376\n",
      "Epoch 161/200\n",
      "688/688 [==============================] - 1s 822us/step - loss: 0.3200 - accuracy: 0.8361\n",
      "Epoch 162/200\n",
      "688/688 [==============================] - 1s 783us/step - loss: 0.3196 - accuracy: 0.8361\n",
      "Epoch 163/200\n",
      "688/688 [==============================] - 1s 754us/step - loss: 0.3157 - accuracy: 0.8388\n",
      "Epoch 164/200\n",
      "688/688 [==============================] - 0s 719us/step - loss: 0.3173 - accuracy: 0.8385\n",
      "Epoch 165/200\n",
      "688/688 [==============================] - 1s 765us/step - loss: 0.3125 - accuracy: 0.8425\n",
      "Epoch 166/200\n",
      "688/688 [==============================] - 1s 774us/step - loss: 0.3151 - accuracy: 0.8404\n",
      "Epoch 167/200\n",
      "688/688 [==============================] - 1s 794us/step - loss: 0.3159 - accuracy: 0.8366\n",
      "Epoch 168/200\n",
      "688/688 [==============================] - 1s 797us/step - loss: 0.3162 - accuracy: 0.8400\n",
      "Epoch 169/200\n",
      "688/688 [==============================] - 1s 745us/step - loss: 0.3180 - accuracy: 0.8363\n",
      "Epoch 170/200\n",
      "688/688 [==============================] - 1s 784us/step - loss: 0.3183 - accuracy: 0.8339\n",
      "Epoch 171/200\n",
      "688/688 [==============================] - 1s 768us/step - loss: 0.3188 - accuracy: 0.8368\n",
      "Epoch 172/200\n",
      "688/688 [==============================] - 1s 791us/step - loss: 0.3190 - accuracy: 0.8325\n",
      "Epoch 173/200\n",
      "688/688 [==============================] - 1s 776us/step - loss: 0.3170 - accuracy: 0.8378\n",
      "Epoch 174/200\n",
      "688/688 [==============================] - 1s 777us/step - loss: 0.3169 - accuracy: 0.8376\n",
      "Epoch 175/200\n",
      "688/688 [==============================] - 1s 751us/step - loss: 0.3150 - accuracy: 0.8413\n",
      "Epoch 176/200\n",
      "688/688 [==============================] - 1s 767us/step - loss: 0.3177 - accuracy: 0.8376\n",
      "Epoch 177/200\n",
      "688/688 [==============================] - 1s 780us/step - loss: 0.3180 - accuracy: 0.8367\n",
      "Epoch 178/200\n",
      "688/688 [==============================] - 1s 828us/step - loss: 0.3195 - accuracy: 0.8358\n",
      "Epoch 179/200\n",
      "688/688 [==============================] - 1s 816us/step - loss: 0.3153 - accuracy: 0.8396\n",
      "Epoch 180/200\n",
      "688/688 [==============================] - 1s 762us/step - loss: 0.3146 - accuracy: 0.8399\n",
      "Epoch 181/200\n",
      "688/688 [==============================] - 1s 738us/step - loss: 0.3141 - accuracy: 0.8400\n",
      "Epoch 182/200\n",
      "688/688 [==============================] - 1s 806us/step - loss: 0.3169 - accuracy: 0.8387\n",
      "Epoch 183/200\n",
      "688/688 [==============================] - 1s 774us/step - loss: 0.3151 - accuracy: 0.8384\n",
      "Epoch 184/200\n",
      "688/688 [==============================] - 1s 768us/step - loss: 0.3179 - accuracy: 0.8374\n",
      "Epoch 185/200\n",
      "688/688 [==============================] - 1s 786us/step - loss: 0.3148 - accuracy: 0.8402\n",
      "Epoch 186/200\n",
      "688/688 [==============================] - 0s 723us/step - loss: 0.3151 - accuracy: 0.8402\n",
      "Epoch 187/200\n",
      "688/688 [==============================] - 1s 758us/step - loss: 0.3168 - accuracy: 0.8400\n",
      "Epoch 188/200\n",
      "688/688 [==============================] - 1s 931us/step - loss: 0.3167 - accuracy: 0.8388\n",
      "Epoch 189/200\n",
      "688/688 [==============================] - 1s 835us/step - loss: 0.3148 - accuracy: 0.8382\n",
      "Epoch 190/200\n",
      "688/688 [==============================] - 1s 754us/step - loss: 0.3185 - accuracy: 0.83830s - loss: 0.3149 - ac\n",
      "Epoch 191/200\n",
      "688/688 [==============================] - 1s 803us/step - loss: 0.3132 - accuracy: 0.8391\n",
      "Epoch 192/200\n",
      "688/688 [==============================] - 1s 849us/step - loss: 0.3140 - accuracy: 0.8390\n",
      "Epoch 193/200\n",
      "688/688 [==============================] - 1s 783us/step - loss: 0.3198 - accuracy: 0.8362\n",
      "Epoch 194/200\n",
      "688/688 [==============================] - 1s 829us/step - loss: 0.3173 - accuracy: 0.8372\n",
      "Epoch 195/200\n",
      "688/688 [==============================] - 1s 841us/step - loss: 0.3170 - accuracy: 0.8388\n",
      "Epoch 196/200\n",
      "688/688 [==============================] - 1s 777us/step - loss: 0.3191 - accuracy: 0.8364\n",
      "Epoch 197/200\n",
      "688/688 [==============================] - 1s 791us/step - loss: 0.3159 - accuracy: 0.8415\n",
      "Epoch 198/200\n",
      "688/688 [==============================] - 1s 809us/step - loss: 0.3147 - accuracy: 0.8382\n",
      "Epoch 199/200\n",
      "688/688 [==============================] - 1s 744us/step - loss: 0.3192 - accuracy: 0.8372\n",
      "Epoch 200/200\n",
      "688/688 [==============================] - 0s 720us/step - loss: 0.3173 - accuracy: 0.8408\n"
     ]
    }
   ],
   "source": [
    "# fit grid search on the training data\n",
    "grid_results = grid_search.fit(X_train, y_train)"
   ]
  },
  {
   "cell_type": "code",
   "execution_count": 71,
   "metadata": {},
   "outputs": [
    {
     "data": {
      "text/plain": [
       "{'batch_size': 64, 'epochs': 200, 'lr': 0.001}"
      ]
     },
     "execution_count": 71,
     "metadata": {},
     "output_type": "execute_result"
    }
   ],
   "source": [
    "# get best parameters from grid search\n",
    "grid_results.best_params_"
   ]
  },
  {
   "cell_type": "markdown",
   "metadata": {},
   "source": [
    "**Validating the Model's Performance**"
   ]
  },
  {
   "cell_type": "code",
   "execution_count": 72,
   "metadata": {},
   "outputs": [
    {
     "name": "stdout",
     "output_type": "stream",
     "text": [
      "WARNING:tensorflow:From C:\\Users\\joell\\anaconda3\\lib\\site-packages\\tensorflow\\python\\keras\\wrappers\\scikit_learn.py:241: Sequential.predict_classes (from tensorflow.python.keras.engine.sequential) is deprecated and will be removed after 2021-01-01.\n",
      "Instructions for updating:\n",
      "Please use instead:* `np.argmax(model.predict(x), axis=-1)`,   if your model does multi-class classification   (e.g. if it uses a `softmax` last-layer activation).* `(model.predict(x) > 0.5).astype(\"int32\")`,   if your model does binary classification   (e.g. if it uses a `sigmoid` last-layer activation).\n",
      "Confusion Matrix\n",
      " [[7664  539]\n",
      " [ 283 5263]]\n",
      "\n",
      "Validation Accuracy: 94.02%\n",
      " \n",
      "\n"
     ]
    }
   ],
   "source": [
    "# define the best model parameters \n",
    "best_grid = grid_results.best_estimator_\n",
    "\n",
    "# predict on validation data with best parameters\n",
    "y_pred3 = best_grid.predict(X_valid)\n",
    "\n",
    "# show confusion matrix and accuracy\n",
    "print(\"Confusion Matrix\\n {}\".format(confusion_matrix(y_valid, y_pred3)))\n",
    "print(\"\\nValidation Accuracy: {:.2f}%\\n \\n\".format(accuracy_score(y_valid, y_pred3)*100))"
   ]
  },
  {
   "cell_type": "markdown",
   "metadata": {},
   "source": [
    "Once we are content with our validation accuracy we can use our model to predict the test data."
   ]
  },
  {
   "cell_type": "markdown",
   "metadata": {},
   "source": [
    "**Using the Model to Predict Test Data**"
   ]
  },
  {
   "cell_type": "code",
   "execution_count": 77,
   "metadata": {},
   "outputs": [
    {
     "name": "stdout",
     "output_type": "stream",
     "text": [
      "Confusion Matrix\n",
      " [[6150  410]\n",
      " [ 246 4193]]\n",
      "\n",
      "Test Accuracy: 94.04%\n",
      " \n",
      "\n",
      "              precision    recall  f1-score   support\n",
      "\n",
      "           0       0.96      0.94      0.95      6560\n",
      "           1       0.91      0.94      0.93      4439\n",
      "\n",
      "    accuracy                           0.94     10999\n",
      "   macro avg       0.94      0.94      0.94     10999\n",
      "weighted avg       0.94      0.94      0.94     10999\n",
      "\n"
     ]
    }
   ],
   "source": [
    "# make predictions on test data  \n",
    "y_pred4 = best_grid.predict(X_test)\n",
    "\n",
    "# get confusion matrix, test accuracy\n",
    "print(\"Confusion Matrix\\n {}\".format(confusion_matrix(y_test, y_pred4)))\n",
    "print(\"\\nTest Accuracy: {:.2f}%\\n \\n\".format(accuracy_score(y_test, y_pred4)*100))\n",
    "\n",
    "# get classification report\n",
    "print(classification_report(y_test, y_pred4))"
   ]
  },
  {
   "cell_type": "markdown",
   "metadata": {},
   "source": [
    "## Model 3: XGBoost\n",
    "<br>\n",
    "\n",
    "XGBoost or eXtreme Gradient Boosting is an advanced implementation of the gradient boosting algorithm.\n",
    "XGBoost is a great choice here because the dataset is quite large with initially 68,741 observations. This is because it is very computationally efficient and typically yields very high accuracy."
   ]
  },
  {
   "cell_type": "markdown",
   "metadata": {},
   "source": [
    "**Training The Model**"
   ]
  },
  {
   "cell_type": "code",
   "execution_count": 78,
   "metadata": {},
   "outputs": [
    {
     "data": {
      "text/plain": [
       "XGBClassifier(base_score=0.5, booster='gbtree', colsample_bylevel=1,\n",
       "              colsample_bynode=1, colsample_bytree=1, gamma=0, gpu_id=-1,\n",
       "              importance_type='gain', interaction_constraints='',\n",
       "              learning_rate=0.300000012, max_delta_step=0, max_depth=6,\n",
       "              min_child_weight=1, missing=nan, monotone_constraints='()',\n",
       "              n_estimators=100, n_jobs=0, num_parallel_tree=1,\n",
       "              objective='binary:logistic', random_state=0, reg_alpha=0,\n",
       "              reg_lambda=1, scale_pos_weight=1, subsample=1,\n",
       "              tree_method='exact', validate_parameters=1, verbosity=None)"
      ]
     },
     "execution_count": 78,
     "metadata": {},
     "output_type": "execute_result"
    }
   ],
   "source": [
    "# set up the classifier. Once again we will use the default parameters as starting point\n",
    "xgbc = XGBClassifier()\n",
    "\n",
    "# fit the model on the training set\n",
    "xgbc.fit(X_train, y_train)"
   ]
  },
  {
   "cell_type": "markdown",
   "metadata": {},
   "source": [
    "**Validating the Model's Performance**"
   ]
  },
  {
   "cell_type": "code",
   "execution_count": 79,
   "metadata": {},
   "outputs": [
    {
     "name": "stdout",
     "output_type": "stream",
     "text": [
      "Confusion Matrix\n",
      " [[7904  299]\n",
      " [ 202 5344]]\n",
      "Validation Accuracy: 96.36%\n"
     ]
    }
   ],
   "source": [
    "# predict validation data\n",
    "y_pred5 = xgbc.predict(X_valid)\n",
    "\n",
    "# show model performance on test data\n",
    "print(\"Confusion Matrix\\n {}\".format(confusion_matrix(y_valid, y_pred5)))\n",
    "print(\"Validation Accuracy: {:.2f}%\".format(accuracy_score(y_valid, y_pred5)*100))"
   ]
  },
  {
   "cell_type": "markdown",
   "metadata": {},
   "source": [
    "As expected, even with default parameters XGBoost yields very high predictive accuracy. In fact, it already shows the highest accuracy among the 3 predictive models without parameter tuning."
   ]
  },
  {
   "cell_type": "markdown",
   "metadata": {},
   "source": [
    "#### XGBoost Classifier: Tuning Model Hyperparameters with Grid Search"
   ]
  },
  {
   "cell_type": "markdown",
   "metadata": {},
   "source": [
    "Here we will tune some of the hyperparameters to boost the model's performance. It won't find the optimal solution, but a solution that is sufficient considering the limited resources available."
   ]
  },
  {
   "cell_type": "markdown",
   "metadata": {},
   "source": [
    "**Training The Model**"
   ]
  },
  {
   "cell_type": "code",
   "execution_count": 19,
   "metadata": {},
   "outputs": [
    {
     "name": "stdout",
     "output_type": "stream",
     "text": [
      "Fitting 3 folds for each of 3600 candidates, totalling 10800 fits\n"
     ]
    },
    {
     "name": "stderr",
     "output_type": "stream",
     "text": [
      "[Parallel(n_jobs=-1)]: Using backend LokyBackend with 12 concurrent workers.\n",
      "[Parallel(n_jobs=-1)]: Done  17 tasks      | elapsed:    4.6s\n",
      "[Parallel(n_jobs=-1)]: Done 138 tasks      | elapsed:   25.4s\n",
      "[Parallel(n_jobs=-1)]: Done 341 tasks      | elapsed:  1.5min\n",
      "[Parallel(n_jobs=-1)]: Done 624 tasks      | elapsed:  3.9min\n",
      "[Parallel(n_jobs=-1)]: Done 989 tasks      | elapsed:  6.1min\n",
      "[Parallel(n_jobs=-1)]: Done 1434 tasks      | elapsed: 10.1min\n",
      "[Parallel(n_jobs=-1)]: Done 1961 tasks      | elapsed: 13.2min\n",
      "[Parallel(n_jobs=-1)]: Done 2568 tasks      | elapsed: 17.2min\n",
      "[Parallel(n_jobs=-1)]: Done 3257 tasks      | elapsed: 22.0min\n",
      "[Parallel(n_jobs=-1)]: Done 4026 tasks      | elapsed: 27.4min\n",
      "[Parallel(n_jobs=-1)]: Done 4877 tasks      | elapsed: 34.0min\n",
      "[Parallel(n_jobs=-1)]: Done 5808 tasks      | elapsed: 41.6min\n",
      "[Parallel(n_jobs=-1)]: Done 6821 tasks      | elapsed: 49.0min\n",
      "[Parallel(n_jobs=-1)]: Done 7914 tasks      | elapsed: 59.8min\n",
      "[Parallel(n_jobs=-1)]: Done 9089 tasks      | elapsed: 70.1min\n",
      "[Parallel(n_jobs=-1)]: Done 10344 tasks      | elapsed: 82.9min\n",
      "[Parallel(n_jobs=-1)]: Done 10800 out of 10800 | elapsed: 88.7min finished\n"
     ]
    }
   ],
   "source": [
    "# define the classifier\n",
    "xgbc = XGBClassifier()\n",
    "\n",
    "# defining parameter grid for XGBoost\n",
    "parameters = {\"eta\"                  : [0.01, 0.1, 0.2],\n",
    "              \"max_depth\"            : [1,2,3, 4, 5,],\n",
    "           #  \"min_child_weight\"     : [1,2,5,10,20,30],\n",
    "              \"colsample_bytree\"     : [0.5, 0.6, 0.9],\n",
    "            #  \"subsample\"            : [0.5, 0.9, 1.0], # subsample ratio of the training instances, prevents overfitting\n",
    "              \"n_estimators\"         : [50,100,150,200]\n",
    "             }\n",
    "\n",
    "# setting up the random grid search\n",
    "grid_search_xgb = GridSearchCV(estimator = xgbc, param_grid = parameters, cv=3, verbose=2, n_jobs=-1, return_train_score=True)\n",
    "# fit grid search on the training data\n",
    "grid_results = grid_search_xgb.fit(X_train, y_train)"
   ]
  },
  {
   "cell_type": "code",
   "execution_count": 16,
   "metadata": {},
   "outputs": [
    {
     "data": {
      "text/plain": [
       "{'colsample_bytree': 0.5, 'eta': 0.2, 'max_depth': 4, 'n_estimators': 100}"
      ]
     },
     "execution_count": 16,
     "metadata": {},
     "output_type": "execute_result"
    }
   ],
   "source": [
    "grid_results.best_params_\n",
    "#'colsample_bytree': 0.5, 'eta': 0.2, 'max_depth': 4, 'n_estimators': 100}  96.61% "
   ]
  },
  {
   "cell_type": "code",
   "execution_count": 17,
   "metadata": {},
   "outputs": [
    {
     "name": "stdout",
     "output_type": "stream",
     "text": [
      "Confusion Matrix\n",
      " [[7913  290]\n",
      " [ 176 5370]]\n",
      "Validation Accuracy: 96.61%\n"
     ]
    }
   ],
   "source": [
    "# predict validation data\n",
    "y_pred5 = grid_results.predict(X_valid)\n",
    "\n",
    "# show model performance on test data\n",
    "print(\"Confusion Matrix\\n {}\".format(confusion_matrix(y_valid, y_pred5)))\n",
    "print(\"Validation Accuracy: {:.2f}%\".format(accuracy_score(y_valid, y_pred5)*100))"
   ]
  },
  {
   "cell_type": "markdown",
   "metadata": {},
   "source": [
    "**Using the Model to Predict Test Data**"
   ]
  },
  {
   "cell_type": "code",
   "execution_count": 24,
   "metadata": {},
   "outputs": [
    {
     "name": "stdout",
     "output_type": "stream",
     "text": [
      "Confusion Matrix\n",
      " [[6337  223]\n",
      " [ 161 4278]]\n",
      "\n",
      "Test Accuracy: 96.51%\n",
      " \n",
      "\n",
      "              precision    recall  f1-score   support\n",
      "\n",
      "           0       0.98      0.97      0.97      6560\n",
      "           1       0.95      0.96      0.96      4439\n",
      "\n",
      "    accuracy                           0.97     10999\n",
      "   macro avg       0.96      0.96      0.96     10999\n",
      "weighted avg       0.97      0.97      0.97     10999\n",
      "\n"
     ]
    }
   ],
   "source": [
    "# let's use the trained XBG model to predict the test data \n",
    "y_pred9 = grid_results.predict(X_test)\n",
    "\n",
    "# show model performance on test data\n",
    "print(\"Confusion Matrix\\n {}\".format(confusion_matrix(y_test, y_pred9)))\n",
    "print(\"\\nTest Accuracy: {:.2f}%\\n \\n\".format(accuracy_score(y_test, y_pred9)*100))\n",
    "\n",
    "# get classification report\n",
    "print(classification_report(y_test, y_pred9))"
   ]
  },
  {
   "cell_type": "markdown",
   "metadata": {},
   "source": [
    "## Model Comparison"
   ]
  },
  {
   "cell_type": "code",
   "execution_count": 25,
   "metadata": {},
   "outputs": [
    {
     "name": "stdout",
     "output_type": "stream",
     "text": [
      "Random Forest\n",
      "Validation Accuracy:96.25% \n",
      "Test Accuracy: 96.19%\n",
      "\n",
      "Neural Network\n",
      "Validation Accuracy: 94.02%\n",
      "Test Accuracy: 94.04%\n",
      "\n",
      "XGBoost\n",
      "Validation Accuracy: 96.61%\n",
      "Test Accuracy: 96.51%\n",
      "\n"
     ]
    }
   ],
   "source": [
    "print(\"Random Forest\\nValidation Accuracy:{}% \\nTest Accuracy: {}%\".format(96.25, 96.19))\n",
    "print(\"\\nNeural Network\\nValidation Accuracy: {}%\\nTest Accuracy: {}%\".format(94.02, 94.04))\n",
    "print(\"\\nXGBoost\\nValidation Accuracy: {}%\\nTest Accuracy: {}%\\n\".format(96.61, 96.51))"
   ]
  },
  {
   "cell_type": "markdown",
   "metadata": {},
   "source": [
    "It goes without saying that there is still room for improvement which could be achieved through e.g. the usage of increased computational power and more time for the model training process. For instance, 3-Fold CV was chosen to save time during the training process which could be increased to 5 or 10-fold CV for better model generalization. Further, with more computational power, the neural network classifier could be trained again and will certainly yield much better results. Nonetheless, a test accuracy of 96.51% is decent."
   ]
  },
  {
   "cell_type": "markdown",
   "metadata": {},
   "source": [
    "# 5) Saving the Best Performing Model: XGBoost"
   ]
  },
  {
   "cell_type": "code",
   "execution_count": 26,
   "metadata": {},
   "outputs": [
    {
     "data": {
      "text/plain": [
       "['joblib_final_model.pkl']"
      ]
     },
     "execution_count": 26,
     "metadata": {},
     "output_type": "execute_result"
    }
   ],
   "source": [
    "# Save to file to working directory\n",
    "joblib_file = \"joblib_final_model.pkl\"\n",
    "joblib.dump(grid_results, joblib_file)"
   ]
  },
  {
   "cell_type": "code",
   "execution_count": 27,
   "metadata": {},
   "outputs": [],
   "source": [
    "# Load from file\n",
    "final_model = joblib.load(\"joblib_final_model.pkl\")"
   ]
  },
  {
   "cell_type": "code",
   "execution_count": 28,
   "metadata": {},
   "outputs": [
    {
     "name": "stdout",
     "output_type": "stream",
     "text": [
      "Test Accuracy: 96.51 %\n"
     ]
    }
   ],
   "source": [
    "# Calculate the accuracy and predictions\n",
    "score = final_model.score(X_test, y_test)\n",
    "print(\"Test Accuracy: {0:.2f} %\".format(100 * score))"
   ]
  },
  {
   "cell_type": "markdown",
   "metadata": {},
   "source": [
    "**Successfully saved the final model. It is now ready for deployment.** "
   ]
  },
  {
   "cell_type": "markdown",
   "metadata": {},
   "source": [
    "# 6) Conclusion"
   ]
  },
  {
   "cell_type": "markdown",
   "metadata": {},
   "source": [
    "In summary, the data analysis findings and the development of the classification prediction model, aiming to accurately predict customers with a high likelihood of completing an offer, resulted in the following insights described below.\n",
    "\n",
    "**Demographics**\n",
    "- Most customers are roughly aged between 40 and 75 years with an average age of around 54 years\n",
    "- 41.9% female and 58.1% male customers \n",
    "- Average customer income equals 65,388.01 US dollars\n",
    "- Only 40.02% of customers did complete an offer in the past\n",
    "- Average income of customers who did complete an offer in the past: 69,398.28 US dollars (vs. 62,711.8 US dollars of those who did not)\n",
    "- Average age of customers who did complete an offer in the past: 55.8 years (vs. 53.37 years of those who did not)\n",
    "- The proportion of female customers who completed an offer is higher than male customers (46.04% vs. 35.69%)\n",
    "\n",
    "\n",
    "Based on these findings, women tend to react more positively towards the promotions than men. Despite the fact that women only make up around 40% of the customers in the dataset provided, they almost contribute the same number of **completed offers** than men. (13,260 women vs. 14.254 men).\n",
    "\n",
    "**Offers**\n",
    "- Customers who received **Discount**: 31.74%\n",
    "- Customers who received **BOGO**: 31.65%\n",
    "- Customers who didn't receive an offer: 20.79%\n",
    "- Customers who received **Informational**: 15.82%\n",
    "\n",
    "- The offer type with the highest success rate is **Discount** (66.58%), followed by **BOGO** (59.69%)\n",
    "- **Informational** offers can not be traced to any sales\n",
    "\n",
    "Generally, **discounts** show the highest success rate among the 3 offer types and are also the most frequent promotion sent to customers. Furthermore, out of all offers sent out to customers, **informational** promotions make up approx. 15% of offers. 20.79% of customers did not receive any promotion. \n",
    "\n",
    "In terms of difficulty and duration, one can infer that a difficulty level of 10 USD leads to the most completed offers, followed by a level of 5 USD. Further, most offers were completed for promotions that were only valid for 7 days, followed by 10 days and 5 days respectively. No offers were completed for offers that are only valid for 3 or 4 days.\n",
    "\n",
    "**Contact Methods**\n",
    "\n",
    "When comparing the 4 contact methods used (email, mobile, social, web), most customers were contacted via email and mobile device. However, both of these contact methods showed a lower success rate of customers completing an offer compared to social media and web. \n",
    "\n",
    "- Customers contacted via email: 79.21%\n",
    "- Customers contacted via mobile device: 71.2%\n",
    "- Customers contacted via web: 63.33%\n",
    "- Customers contacted via social media: 47.48%\n",
    "\n",
    "\n",
    "- Web success rate: 56.09%\n",
    "- Social media success rate: 54.31%\n",
    "- Email success rate: 50.53%\n",
    "- Mobile success rate: 50.3%\n",
    "\n",
    "**Predictive Model**\n",
    "\n",
    "We built and tuned 3 classifiaction prediction models with the goal to accurately predict our target customers. Our target customer sare defined as customers who have a high likelihood of completing an offer. The 3 models are Random Forest, Neural Network and eXtreme Gradient Boosting (XGBoost). After training and validating the model performance the following results were geneated:\n",
    "\n",
    "- The Random Forest Classifier showed a predictive accuracy of 96.19%\n",
    "- The Neural Network Classifier showed a predictive accuracy of 94.04%\n",
    "- The **XBGoost** Classifier showed a predictive accuracy of **96.51%** \n",
    "\n",
    "Based on these results, we selected XGBoost as the final classifiaction prediction model with which we managed to predict our target customers with approximately 88.65% accuracy."
   ]
  },
  {
   "cell_type": "markdown",
   "metadata": {},
   "source": [
    "### Recommendations"
   ]
  },
  {
   "cell_type": "markdown",
   "metadata": {},
   "source": [
    "In order to increase the company's marketing strategy effectiveness, we derived the following 3 recommendations based on the analysis findings above.\n",
    "\n",
    "**1) Predicting Target Customers**\n",
    "- Identify target customers using the XGBoost model\n",
    "\n",
    "**2) Choosing the right Contact Method(s)**\n",
    "\n",
    "Increase the usage of the following communication channel(s) to send offers:\n",
    "- Web (because it showed the highest success rate among the 4 contact methods)\n",
    "- Social media (because it showed the second highest success rate among the 4 contact methods)\n",
    "\n",
    "**3) Customizing the Offer Appropriately**\n",
    "- Send out more discounts beacuse they show the highest success rate\n",
    "- Keep the amount of BOGO the same beacuse they still show a decent success rate\n",
    "- Tailor the period an offer is valid around 7 - 10 days because this period showed the highest completed offers\n",
    "- Avoid making offers valid for only 3 - 4 days because these offers didn't result in any completed offers\n",
    "\n",
    "The goal is to decrease the total number of customers who did not receive an offer (20.79%) and to increase the success rate of offers sent out (currently 40.02%). This can be done by increasingly targeting female customers who match the target customer profile of customers with slightly above average income (69,398.28 US dollars) and age (55.8 years).\n",
    "\n",
    "Following these recommendations will ensure a more efficient allocation of resources, an increase in the marketing success rate and ultimately growth in profitability for the organization."
   ]
  }
 ],
 "metadata": {
  "kernelspec": {
   "display_name": "Python 3",
   "language": "python",
   "name": "python3"
  },
  "language_info": {
   "codemirror_mode": {
    "name": "ipython",
    "version": 3
   },
   "file_extension": ".py",
   "mimetype": "text/x-python",
   "name": "python",
   "nbconvert_exporter": "python",
   "pygments_lexer": "ipython3",
   "version": "3.7.6"
  }
 },
 "nbformat": 4,
 "nbformat_minor": 4
}
