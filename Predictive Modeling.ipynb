{
 "cells": [
  {
   "cell_type": "markdown",
   "metadata": {},
   "source": [
    "# Starbucks App Reward Program"
   ]
  },
  {
   "cell_type": "markdown",
   "metadata": {},
   "source": [
    "**Author: Joel Ligma**            \n",
    "<br>\n",
    "**Date: May 2020 - July 2020**\n"
   ]
  },
  {
   "cell_type": "markdown",
   "metadata": {},
   "source": [
    "**Context**\n",
    "<br>\n",
    "\n",
    "The goal of this project was to predict customer with a high likelihood of completing an offer. In the context of this project, completing an offer refers to a customer receiving a promotional offer, viewing the offer, and using it to complete a purchase. One of the main challenges of this project was to generate a single dataset derived from multiple dataset sources and to prepare the data for later analysis. The data files used for this project were sourced from Kaggle:\n",
    "https://www.kaggle.com/blacktile/starbucks-app-customer-reward-program-data"
   ]
  },
  {
   "cell_type": "markdown",
   "metadata": {},
   "source": [
    "## Table of Contents\n",
    "**1) Data Preprocessing and Merging Multiple Datasets** \n",
    "- Data Cleaning\n",
    "- Feature Engineering\n",
    "- Merging/Concatenating/Joining\n",
    "<br>\n",
    "\n",
    "**2) Exploratory Data Analysis (EDA)**\n",
    "- Summary Statistics\n",
    "- Univariate Analysis\n",
    "- Bivariate Analysis\n",
    "<br>\n",
    "\n",
    "**3) Data Preparation**\n",
    "- Feature Correlation\n",
    "- Dummy Coding\n",
    "- Training, Validation and Test Split\n",
    "- Scaling Data\n",
    "<br>\n",
    "\n",
    "**4) Model Building & Validation**\n",
    "- Baseline Accuracy\n",
    "- Random Forest Classifier\n",
    "- Neural Network Classifier\n",
    "- XGBoost Classifier\n",
    "- Model Comparison\n",
    "<br>\n",
    "\n",
    "**5) Saving the Model**\n",
    "- Saving the Best Performing Model for Future Deployment\n",
    "<br>\n",
    "\n",
    "**6) Conclusion**\n",
    "- Business Implications and Recommendations"
   ]
  },
  {
   "cell_type": "markdown",
   "metadata": {},
   "source": [
    "# 1) Data Preprocessing and Merging Multple Datasets"
   ]
  },
  {
   "cell_type": "code",
   "execution_count": 1,
   "metadata": {},
   "outputs": [
    {
     "name": "stderr",
     "output_type": "stream",
     "text": [
      "C:\\Users\\joell\\anaconda3\\lib\\site-packages\\sklearn\\externals\\joblib\\__init__.py:15: FutureWarning: sklearn.externals.joblib is deprecated in 0.21 and will be removed in 0.23. Please import this functionality directly from joblib, which can be installed with: pip install joblib. If this warning is raised when loading pickled models, you may need to re-serialize those models with scikit-learn 0.21+.\n",
      "  warnings.warn(msg, category=FutureWarning)\n"
     ]
    }
   ],
   "source": [
    "# load Modules\n",
    "import pandas as pd\n",
    "import numpy as np\n",
    "import seaborn as sns\n",
    "import matplotlib.pyplot as plt\n",
    "%matplotlib inline\n",
    "from sklearn.preprocessing import MultiLabelBinarizer # awesome for multiple values in one cell\n",
    "import csv # write csv file of the complete dataset\n",
    "from datetime import date \n",
    "from sklearn.model_selection import train_test_split, GridSearchCV, RandomizedSearchCV\n",
    "from sklearn.preprocessing import MinMaxScaler # for scaling\n",
    "from xgboost import XGBClassifier\n",
    "from sklearn.metrics import classification_report, confusion_matrix, accuracy_score # model validation\n",
    "from sklearn.ensemble import RandomForestClassifier\n",
    "from tensorflow.keras.models import Sequential\n",
    "from tensorflow.keras.layers import Dense, Dropout\n",
    "import keras\n",
    "from keras.wrappers.scikit_learn import KerasClassifier\n",
    "from keras import optimizers\n",
    "from sklearn.externals import joblib"
   ]
  },
  {
   "cell_type": "code",
   "execution_count": 2,
   "metadata": {},
   "outputs": [],
   "source": [
    "# load dataset\n",
    "df = pd.read_csv(\"starbucks.csv\")\n",
    "df.drop(columns=\"Unnamed: 0\", inplace=True)"
   ]
  },
  {
   "cell_type": "markdown",
   "metadata": {},
   "source": [
    "# 3) Data Preparation"
   ]
  },
  {
   "cell_type": "markdown",
   "metadata": {},
   "source": [
    "**Dummy Coding Features**"
   ]
  },
  {
   "cell_type": "code",
   "execution_count": 4,
   "metadata": {},
   "outputs": [
    {
     "data": {
      "text/html": [
       "<div>\n",
       "<style scoped>\n",
       "    .dataframe tbody tr th:only-of-type {\n",
       "        vertical-align: middle;\n",
       "    }\n",
       "\n",
       "    .dataframe tbody tr th {\n",
       "        vertical-align: top;\n",
       "    }\n",
       "\n",
       "    .dataframe thead th {\n",
       "        text-align: right;\n",
       "    }\n",
       "</style>\n",
       "<table border=\"1\" class=\"dataframe\">\n",
       "  <thead>\n",
       "    <tr style=\"text-align: right;\">\n",
       "      <th></th>\n",
       "      <th>transaction_amount</th>\n",
       "      <th>days_since_test</th>\n",
       "      <th>age</th>\n",
       "      <th>income</th>\n",
       "      <th>male</th>\n",
       "      <th>membership_days</th>\n",
       "      <th>reward</th>\n",
       "      <th>difficulty</th>\n",
       "      <th>duration</th>\n",
       "      <th>email</th>\n",
       "      <th>mobile</th>\n",
       "      <th>social</th>\n",
       "      <th>web</th>\n",
       "      <th>bogo</th>\n",
       "      <th>discount</th>\n",
       "      <th>informational</th>\n",
       "      <th>offer_received</th>\n",
       "      <th>offer_viewed</th>\n",
       "      <th>offer_completed</th>\n",
       "    </tr>\n",
       "  </thead>\n",
       "  <tbody>\n",
       "    <tr>\n",
       "      <th>0</th>\n",
       "      <td>0.0</td>\n",
       "      <td>2</td>\n",
       "      <td>45.0</td>\n",
       "      <td>62000.0</td>\n",
       "      <td>0.0</td>\n",
       "      <td>608.0</td>\n",
       "      <td>2.0</td>\n",
       "      <td>10.0</td>\n",
       "      <td>10.0</td>\n",
       "      <td>1.0</td>\n",
       "      <td>1.0</td>\n",
       "      <td>1.0</td>\n",
       "      <td>1.0</td>\n",
       "      <td>0.0</td>\n",
       "      <td>1.0</td>\n",
       "      <td>0.0</td>\n",
       "      <td>0</td>\n",
       "      <td>0</td>\n",
       "      <td>1</td>\n",
       "    </tr>\n",
       "    <tr>\n",
       "      <th>1</th>\n",
       "      <td>0.0</td>\n",
       "      <td>18</td>\n",
       "      <td>71.0</td>\n",
       "      <td>56000.0</td>\n",
       "      <td>1.0</td>\n",
       "      <td>158.0</td>\n",
       "      <td>2.0</td>\n",
       "      <td>10.0</td>\n",
       "      <td>10.0</td>\n",
       "      <td>1.0</td>\n",
       "      <td>1.0</td>\n",
       "      <td>1.0</td>\n",
       "      <td>1.0</td>\n",
       "      <td>0.0</td>\n",
       "      <td>1.0</td>\n",
       "      <td>0.0</td>\n",
       "      <td>0</td>\n",
       "      <td>1</td>\n",
       "      <td>0</td>\n",
       "    </tr>\n",
       "    <tr>\n",
       "      <th>2</th>\n",
       "      <td>0.0</td>\n",
       "      <td>8</td>\n",
       "      <td>71.0</td>\n",
       "      <td>73000.0</td>\n",
       "      <td>1.0</td>\n",
       "      <td>268.0</td>\n",
       "      <td>2.0</td>\n",
       "      <td>10.0</td>\n",
       "      <td>10.0</td>\n",
       "      <td>1.0</td>\n",
       "      <td>1.0</td>\n",
       "      <td>1.0</td>\n",
       "      <td>1.0</td>\n",
       "      <td>0.0</td>\n",
       "      <td>1.0</td>\n",
       "      <td>0.0</td>\n",
       "      <td>0</td>\n",
       "      <td>0</td>\n",
       "      <td>1</td>\n",
       "    </tr>\n",
       "    <tr>\n",
       "      <th>3</th>\n",
       "      <td>0.0</td>\n",
       "      <td>0</td>\n",
       "      <td>69.0</td>\n",
       "      <td>83000.0</td>\n",
       "      <td>0.0</td>\n",
       "      <td>1040.0</td>\n",
       "      <td>2.0</td>\n",
       "      <td>10.0</td>\n",
       "      <td>10.0</td>\n",
       "      <td>1.0</td>\n",
       "      <td>1.0</td>\n",
       "      <td>1.0</td>\n",
       "      <td>1.0</td>\n",
       "      <td>0.0</td>\n",
       "      <td>1.0</td>\n",
       "      <td>0.0</td>\n",
       "      <td>0</td>\n",
       "      <td>0</td>\n",
       "      <td>1</td>\n",
       "    </tr>\n",
       "    <tr>\n",
       "      <th>4</th>\n",
       "      <td>0.0</td>\n",
       "      <td>7</td>\n",
       "      <td>59.0</td>\n",
       "      <td>93000.0</td>\n",
       "      <td>0.0</td>\n",
       "      <td>329.0</td>\n",
       "      <td>2.0</td>\n",
       "      <td>10.0</td>\n",
       "      <td>10.0</td>\n",
       "      <td>1.0</td>\n",
       "      <td>1.0</td>\n",
       "      <td>1.0</td>\n",
       "      <td>1.0</td>\n",
       "      <td>0.0</td>\n",
       "      <td>1.0</td>\n",
       "      <td>0.0</td>\n",
       "      <td>0</td>\n",
       "      <td>0</td>\n",
       "      <td>1</td>\n",
       "    </tr>\n",
       "  </tbody>\n",
       "</table>\n",
       "</div>"
      ],
      "text/plain": [
       "   transaction_amount  days_since_test   age   income  male  membership_days  \\\n",
       "0                 0.0                2  45.0  62000.0   0.0            608.0   \n",
       "1                 0.0               18  71.0  56000.0   1.0            158.0   \n",
       "2                 0.0                8  71.0  73000.0   1.0            268.0   \n",
       "3                 0.0                0  69.0  83000.0   0.0           1040.0   \n",
       "4                 0.0                7  59.0  93000.0   0.0            329.0   \n",
       "\n",
       "   reward  difficulty  duration  email  mobile  social  web  bogo  discount  \\\n",
       "0     2.0        10.0      10.0    1.0     1.0     1.0  1.0   0.0       1.0   \n",
       "1     2.0        10.0      10.0    1.0     1.0     1.0  1.0   0.0       1.0   \n",
       "2     2.0        10.0      10.0    1.0     1.0     1.0  1.0   0.0       1.0   \n",
       "3     2.0        10.0      10.0    1.0     1.0     1.0  1.0   0.0       1.0   \n",
       "4     2.0        10.0      10.0    1.0     1.0     1.0  1.0   0.0       1.0   \n",
       "\n",
       "   informational  offer_received  offer_viewed  offer_completed  \n",
       "0            0.0               0             0                1  \n",
       "1            0.0               0             1                0  \n",
       "2            0.0               0             0                1  \n",
       "3            0.0               0             0                1  \n",
       "4            0.0               0             0                1  "
      ]
     },
     "execution_count": 4,
     "metadata": {},
     "output_type": "execute_result"
    }
   ],
   "source": [
    "# dummy coding the Event feature\n",
    "df_dummies = pd.get_dummies(df['event'])\n",
    "\n",
    "# combine the df_dummies with the transcript dataframe\n",
    "df = pd.concat([df, df_dummies], axis=1)\n",
    "\n",
    "# rename columns to more suitable names\n",
    "df.rename(columns = {4:'offer_completed', \n",
    "                     3:'offer_viewed',\n",
    "                     2:'offer_received',\n",
    "                     1:'transaction'\n",
    "                     },inplace=True)\n",
    "\n",
    "# let's drop transaction because this information is included in transaction_amount\n",
    "df.drop(columns=[\"event\",\"transaction\"], inplace=True) \n",
    "df.head()"
   ]
  },
  {
   "cell_type": "markdown",
   "metadata": {},
   "source": [
    "After examining the output depicted above, we can determine that the dummy-coding worked as intended. Dummy-codeing the **Event** feature resulted in 4 columns from which we dropped **Transaction** because whether or not a transaction was performed is known as soon as we have a value greater than 0 in **Transaction Amount**.\n",
    "\n",
    "However, we could still use 3 out of these 4 columns to perfectly predict the 4th column:\n",
    "- Transaction Amount\n",
    "- Offer Completed\n",
    "- Offer Viewed\n",
    "- Offer Received\n",
    "\n",
    "In other words, we now deal with the dummy trap problem which is undesirable for machine learning. Therefore, let's drop the **Offer Received** column to avoid this issue.\n",
    "\n",
    "**Important Note:** Since machine learning projects are iterative projects, it was determined that keeping **Offer Viewed** over **Offer Received** will result in much higher predictive accuracy."
   ]
  },
  {
   "cell_type": "code",
   "execution_count": 5,
   "metadata": {},
   "outputs": [],
   "source": [
    "df.drop(columns=\"offer_received\",inplace=True)"
   ]
  },
  {
   "cell_type": "markdown",
   "metadata": {},
   "source": [
    "**Examine Feature Correlations**"
   ]
  },
  {
   "cell_type": "code",
   "execution_count": 6,
   "metadata": {},
   "outputs": [
    {
     "data": {
      "text/plain": [
       "<matplotlib.axes._subplots.AxesSubplot at 0x1a587e04e48>"
      ]
     },
     "execution_count": 6,
     "metadata": {},
     "output_type": "execute_result"
    },
    {
     "data": {
      "image/png": "[encoded data removed]",
      "text/plain": [
       "<Figure size 1152x720 with 2 Axes>"
      ]
     },
     "metadata": {
      "needs_background": "light"
     },
     "output_type": "display_data"
    }
   ],
   "source": [
    "plt.figure(figsize=(16,10))\n",
    "# Compute the correlation matrix\n",
    "corr = df.corr()\n",
    "# Generate a mask for the upper triangle\n",
    "mask = np.triu(np.ones_like(corr, dtype=np.bool))\n",
    "# plot heatmap\n",
    "sns.heatmap(df.corr(),yticklabels=True, annot=True,mask=mask,linewidths=.5)"
   ]
  },
  {
   "cell_type": "markdown",
   "metadata": {},
   "source": [
    "We can see some relatively highly correlated variables (> 0.7). Let's drop **Duration** and **Difficulty**."
   ]
  },
  {
   "cell_type": "code",
   "execution_count": 6,
   "metadata": {},
   "outputs": [],
   "source": [
    "df.drop(columns=\"duration\", inplace=True) \n",
    "df.drop(columns=\"difficulty\", inplace=True) "
   ]
  },
  {
   "cell_type": "markdown",
   "metadata": {},
   "source": [
    "**Feature Correlation on Dependend Variable Offer Completed**"
   ]
  },
  {
   "cell_type": "code",
   "execution_count": 9,
   "metadata": {},
   "outputs": [
    {
     "data": {
      "text/plain": [
       "offer_viewed         -0.499911\n",
       "informational        -0.354199\n",
       "transaction_amount   -0.163906\n",
       "male                 -0.104208\n",
       "age                   0.067917\n",
       "membership_days       0.125625\n",
       "income                0.151282\n",
       "days_since_test       0.272021\n",
       "bogo                  0.273163\n",
       "social                0.277122\n",
       "mobile                0.329895\n",
       "discount              0.369564\n",
       "reward                0.381698\n",
       "email                 0.418454\n",
       "web                   0.430898\n",
       "offer_completed       1.000000\n",
       "Name: offer_completed, dtype: float64"
      ]
     },
     "execution_count": 9,
     "metadata": {},
     "output_type": "execute_result"
    }
   ],
   "source": [
    "df.corr()[\"offer_completed\"].sort_values()"
   ]
  },
  {
   "cell_type": "code",
   "execution_count": 10,
   "metadata": {},
   "outputs": [
    {
     "data": {
      "text/plain": [
       "<matplotlib.axes._subplots.AxesSubplot at 0x1a589964588>"
      ]
     },
     "execution_count": 10,
     "metadata": {},
     "output_type": "execute_result"
    },
    {
     "data": {
      "image/png": "[encoded data removed]",
      "text/plain": [
       "<Figure size 720x432 with 1 Axes>"
      ]
     },
     "metadata": {},
     "output_type": "display_data"
    }
   ],
   "source": [
    "sns.set_style('darkgrid')\n",
    "plt.figure(figsize=(10,6))\n",
    "df.corr()[\"offer_completed\"].sort_values().plot(kind=\"bar\")"
   ]
  },
  {
   "cell_type": "markdown",
   "metadata": {},
   "source": [
    "We ignore **Offer Completed** in the plot presented above since it goes without saying that it has 100% correlation with itself. It looks like **web**, **email**, **reward** and **discount** have a moderately positive correlation with the response variable. On the other hand, **informational** and **offer viewed** show a moderately negative correlation with the outcome."
   ]
  },
  {
   "cell_type": "markdown",
   "metadata": {},
   "source": [
    "**Create Training, Validation and Test Split**"
   ]
  },
  {
   "cell_type": "code",
   "execution_count": 7,
   "metadata": {},
   "outputs": [],
   "source": [
    "# Split the data into training, validation and test datasets \n",
    "df_train, df_valid = train_test_split(df, test_size=0.2, random_state=1)\n",
    "df_train, df_test = train_test_split(df_train, test_size=0.2, random_state=1)\n",
    "\n",
    "# separate the DV from the train/validation/test sets\n",
    "X_train = df_train.drop(['offer_completed'], axis=1)\n",
    "y_train = df_train.offer_completed.values\n",
    "X_valid = df_valid.drop(['offer_completed'], axis=1)\n",
    "y_valid = df_valid.offer_completed.values\n",
    "X_test = df_test.drop(['offer_completed'], axis=1)\n",
    "y_test = df_test.offer_completed.values"
   ]
  },
  {
   "cell_type": "markdown",
   "metadata": {},
   "source": [
    "**Feature Scaling**"
   ]
  },
  {
   "cell_type": "code",
   "execution_count": 8,
   "metadata": {},
   "outputs": [
    {
     "name": "stdout",
     "output_type": "stream",
     "text": [
      "Training Data: (43993, 15) (43993,) \n",
      "Validation Data: (13749, 15) (13749,) \n",
      "Test Data: (10999, 15) (10999,)\n"
     ]
    }
   ],
   "source": [
    "# Since we have many different types of features in our dataset e.g. age, income etc. we should normalize the data\n",
    "\n",
    "# create an instance of MinMaxScaler\n",
    "scaler = MinMaxScaler().fit(X_train)\n",
    "\n",
    "# now perform the transformations on the training, validation and test set\n",
    "X_train = scaler.transform(X_train)\n",
    "X_valid = scaler.transform(X_valid)\n",
    "X_test = scaler.transform(X_test)\n",
    "\n",
    "print(\"Training Data:\", X_train.shape, y_train.shape,\"\\nValidation Data:\", X_valid.shape, y_valid.shape,\n",
    "      \"\\nTest Data:\", X_test.shape, y_test.shape)"
   ]
  },
  {
   "cell_type": "markdown",
   "metadata": {},
   "source": [
    "# 4) Model Building and Validation"
   ]
  },
  {
   "cell_type": "markdown",
   "metadata": {},
   "source": [
    "**Baseline Accuracy to Beat**"
   ]
  },
  {
   "cell_type": "markdown",
   "metadata": {},
   "source": [
    "Let's take a naive approach as a baseline accuracy value to beat for all predictive models. Let's follow a \"most frequent” approach. This approach looks at our response variable and always predicts the most frequent label. For our our response variable that would be:\n"
   ]
  },
  {
   "cell_type": "code",
   "execution_count": 11,
   "metadata": {},
   "outputs": [
    {
     "name": "stdout",
     "output_type": "stream",
     "text": [
      "Accuracy if we assume no customers complete an offer: 59.98%\n"
     ]
    }
   ],
   "source": [
    "print(\"Accuracy if we assume no customers complete an offer: {}%\".format(round((df[\"offer_completed\"]==0).sum() / len(df)*100,2)))"
   ]
  },
  {
   "cell_type": "markdown",
   "metadata": {},
   "source": [
    "## Model 1: Random Forest"
   ]
  },
  {
   "cell_type": "markdown",
   "metadata": {},
   "source": [
    "**Training the model**"
   ]
  },
  {
   "cell_type": "code",
   "execution_count": 11,
   "metadata": {},
   "outputs": [
    {
     "data": {
      "text/plain": [
       "RandomForestClassifier(bootstrap=True, ccp_alpha=0.0, class_weight=None,\n",
       "                       criterion='gini', max_depth=None, max_features='auto',\n",
       "                       max_leaf_nodes=None, max_samples=None,\n",
       "                       min_impurity_decrease=0.0, min_impurity_split=None,\n",
       "                       min_samples_leaf=1, min_samples_split=2,\n",
       "                       min_weight_fraction_leaf=0.0, n_estimators=100,\n",
       "                       n_jobs=None, oob_score=False, random_state=None,\n",
       "                       verbose=0, warm_start=False)"
      ]
     },
     "execution_count": 11,
     "metadata": {},
     "output_type": "execute_result"
    }
   ],
   "source": [
    "# build RandomForestClassifier instance and fit on training data\n",
    "rfc = RandomForestClassifier() # use default parameters first\n",
    "rfc.fit(X_train, y_train)\n",
    "\n",
    "#Addressing class imbalance by setting an inverse weight ratio\n",
    "#class_weight = {0: sum(y_train==1) / len(y_train), 1: sum(y_train==0) / len(y_train)}\n",
    "#class_weight"
   ]
  },
  {
   "cell_type": "markdown",
   "metadata": {},
   "source": [
    "**Validating the Model's Performance**"
   ]
  },
  {
   "cell_type": "code",
   "execution_count": 12,
   "metadata": {},
   "outputs": [
    {
     "name": "stdout",
     "output_type": "stream",
     "text": [
      "Confusion Matrix\n",
      " [[7744  459]\n",
      " [ 202 5344]]\n",
      "\n",
      "Validation Accuracy: 95.19%\n",
      " \n",
      "\n"
     ]
    }
   ],
   "source": [
    "# predict on the validation set\n",
    "y_pred = rfc.predict(X_valid)\n",
    "print(\"Confusion Matrix\\n {}\".format(confusion_matrix(y_valid, y_pred)))\n",
    "print(\"\\nValidation Accuracy: {:.2f}%\\n \\n\".format(accuracy_score(y_valid, y_pred)*100))"
   ]
  },
  {
   "cell_type": "markdown",
   "metadata": {},
   "source": [
    "95.19% accuracy is already pretty high. We already beat the baseline accuracy goal by just taking the default model parameters."
   ]
  },
  {
   "cell_type": "markdown",
   "metadata": {},
   "source": [
    "#### Random Forest: Tuning Model Hyperparameters with Grid Search"
   ]
  },
  {
   "cell_type": "markdown",
   "metadata": {},
   "source": [
    "**Training the Model**"
   ]
  },
  {
   "cell_type": "markdown",
   "metadata": {},
   "source": [
    "Let's see if we can improve our results."
   ]
  },
  {
   "cell_type": "code",
   "execution_count": 100,
   "metadata": {},
   "outputs": [],
   "source": [
    "# Create arbitary parameter grid for random search (keeping them modest due to low computational power)\n",
    "param_grid = {'bootstrap'        : [True],\n",
    "              'max_depth'        : [3, 5, 7, 10, 15],\n",
    "              'max_features'     : [5, 10, 13, 14, 15],\n",
    "             'min_samples_leaf'  : [3, 4, 5, 6, 7, 9],\n",
    "              'min_samples_split': [2, 3,4, 5, 7],\n",
    "              'n_estimators'     : [100, 150, 300]\n",
    "             }\n",
    "\n",
    "# Create the base model\n",
    "rf = RandomForestClassifier()\n",
    "\n",
    "# Create the grid search \n",
    "grid_search_rf = GridSearchCV(estimator = rf, param_grid = param_grid, cv = 3, verbose = 2, n_jobs=-1, return_train_score=True)"
   ]
  },
  {
   "cell_type": "code",
   "execution_count": 101,
   "metadata": {},
   "outputs": [
    {
     "name": "stdout",
     "output_type": "stream",
     "text": [
      "Fitting 3 folds for each of 2250 candidates, totalling 6750 fits\n"
     ]
    },
    {
     "name": "stderr",
     "output_type": "stream",
     "text": [
      "[Parallel(n_jobs=-1)]: Using backend LokyBackend with 12 concurrent workers.\n",
      "[Parallel(n_jobs=-1)]: Done  17 tasks      | elapsed:   14.6s\n",
      "[Parallel(n_jobs=-1)]: Done 138 tasks      | elapsed:  1.6min\n",
      "[Parallel(n_jobs=-1)]: Done 341 tasks      | elapsed:  4.3min\n",
      "[Parallel(n_jobs=-1)]: Done 624 tasks      | elapsed:  9.2min\n",
      "[Parallel(n_jobs=-1)]: Done 989 tasks      | elapsed: 16.3min\n",
      "[Parallel(n_jobs=-1)]: Done 1434 tasks      | elapsed: 24.8min\n",
      "[Parallel(n_jobs=-1)]: Done 1961 tasks      | elapsed: 33.2min\n",
      "[Parallel(n_jobs=-1)]: Done 2568 tasks      | elapsed: 46.3min\n",
      "[Parallel(n_jobs=-1)]: Done 3257 tasks      | elapsed: 57.9min\n",
      "[Parallel(n_jobs=-1)]: Done 4026 tasks      | elapsed: 75.0min\n",
      "[Parallel(n_jobs=-1)]: Done 4877 tasks      | elapsed: 90.6min\n",
      "[Parallel(n_jobs=-1)]: Done 5808 tasks      | elapsed: 129.4min\n",
      "[Parallel(n_jobs=-1)]: Done 6750 out of 6750 | elapsed: 151.8min finished\n"
     ]
    },
    {
     "data": {
      "text/plain": [
       "GridSearchCV(cv=3, error_score=nan,\n",
       "             estimator=RandomForestClassifier(bootstrap=True, ccp_alpha=0.0,\n",
       "                                              class_weight=None,\n",
       "                                              criterion='gini', max_depth=None,\n",
       "                                              max_features='auto',\n",
       "                                              max_leaf_nodes=None,\n",
       "                                              max_samples=None,\n",
       "                                              min_impurity_decrease=0.0,\n",
       "                                              min_impurity_split=None,\n",
       "                                              min_samples_leaf=1,\n",
       "                                              min_samples_split=2,\n",
       "                                              min_weight_fraction_leaf=0.0,\n",
       "                                              n_estimators=100, n_jobs=None,\n",
       "                                              oob_score=False,\n",
       "                                              random_state=None, verbose=0,\n",
       "                                              warm_start=False),\n",
       "             iid='deprecated', n_jobs=-1,\n",
       "             param_grid={'bootstrap': [True], 'max_depth': [3, 5, 7, 10, 15],\n",
       "                         'max_features': [5, 10, 13, 14, 15],\n",
       "                         'min_samples_leaf': [3, 4, 5, 6, 7, 9],\n",
       "                         'min_samples_split': [2, 3, 4, 5, 7],\n",
       "                         'n_estimators': [100, 150, 300]},\n",
       "             pre_dispatch='2*n_jobs', refit=True, return_train_score=True,\n",
       "             scoring=None, verbose=2)"
      ]
     },
     "execution_count": 101,
     "metadata": {},
     "output_type": "execute_result"
    }
   ],
   "source": [
    "# fit grid search on the training data\n",
    "grid_search_rf.fit(X_train, y_train)"
   ]
  },
  {
   "cell_type": "code",
   "execution_count": 102,
   "metadata": {},
   "outputs": [
    {
     "data": {
      "text/plain": [
       "{'bootstrap': True,\n",
       " 'max_depth': 15,\n",
       " 'max_features': 15,\n",
       " 'min_samples_leaf': 4,\n",
       " 'min_samples_split': 3,\n",
       " 'n_estimators': 300}"
      ]
     },
     "execution_count": 102,
     "metadata": {},
     "output_type": "execute_result"
    }
   ],
   "source": [
    "# get best parameters from grid search\n",
    "grid_search_rf.best_params_ "
   ]
  },
  {
   "cell_type": "markdown",
   "metadata": {},
   "source": [
    "**Validating Our Model**"
   ]
  },
  {
   "cell_type": "code",
   "execution_count": 103,
   "metadata": {},
   "outputs": [
    {
     "name": "stdout",
     "output_type": "stream",
     "text": [
      "Confusion Matrix\n",
      " [[7875  328]\n",
      " [ 187 5359]]\n",
      "\n",
      "Validation Accuracy: 96.25%\n",
      " \n",
      "\n"
     ]
    }
   ],
   "source": [
    "# define the best model parameters \n",
    "best_grid = grid_search_rf.best_estimator_\n",
    "\n",
    "# predict on validation data with best parameters\n",
    "y_pred1 = best_grid.predict(X_valid)\n",
    "\n",
    "# show confusion matrix and accuracy\n",
    "print(\"Confusion Matrix\\n {}\".format(confusion_matrix(y_valid, y_pred1)))\n",
    "print(\"\\nValidation Accuracy: {:.2f}%\\n \\n\".format(accuracy_score(y_valid, y_pred1)*100))"
   ]
  },
  {
   "cell_type": "markdown",
   "metadata": {},
   "source": [
    "Once we are content with our validation accuracy we can use our model to predict the test data."
   ]
  },
  {
   "cell_type": "markdown",
   "metadata": {},
   "source": [
    "**Using the Model to Predict Test Data**"
   ]
  },
  {
   "cell_type": "code",
   "execution_count": 104,
   "metadata": {},
   "outputs": [
    {
     "name": "stdout",
     "output_type": "stream",
     "text": [
      "Confusion Matrix\n",
      " [[6306  254]\n",
      " [ 165 4274]]\n",
      "\n",
      "Test Accuracy: 96.19%\n",
      " \n",
      "\n",
      "              precision    recall  f1-score   support\n",
      "\n",
      "           0       0.97      0.96      0.97      6560\n",
      "           1       0.94      0.96      0.95      4439\n",
      "\n",
      "    accuracy                           0.96     10999\n",
      "   macro avg       0.96      0.96      0.96     10999\n",
      "weighted avg       0.96      0.96      0.96     10999\n",
      "\n"
     ]
    }
   ],
   "source": [
    "# make predictions on test data  \n",
    "y_pred2 = best_grid.predict(X_test)\n",
    "\n",
    "# get confusion matrix, test accuracy\n",
    "print(\"Confusion Matrix\\n {}\".format(confusion_matrix(y_test, y_pred2)))\n",
    "print(\"\\nTest Accuracy: {:.2f}%\\n \\n\".format(accuracy_score(y_test, y_pred2)*100))\n",
    "\n",
    "# get classification report\n",
    "print(classification_report(y_test, y_pred2))"
   ]
  },
  {
   "cell_type": "markdown",
   "metadata": {},
   "source": [
    "The final test accuracy equals 96.24%."
   ]
  },
  {
   "cell_type": "markdown",
   "metadata": {},
   "source": [
    "## Model 2: Neural Network Classifier"
   ]
  },
  {
   "cell_type": "markdown",
   "metadata": {},
   "source": [
    "**Training and Validating the Model**"
   ]
  },
  {
   "cell_type": "markdown",
   "metadata": {},
   "source": [
    "- Defining our model by creating a Sequential model and adding layers\n",
    "- Compiling our model by specifing the loss function and optimizer"
   ]
  },
  {
   "cell_type": "code",
   "execution_count": 25,
   "metadata": {},
   "outputs": [],
   "source": [
    "# create the nn model\n",
    "nn = keras.Sequential()\n",
    "nn.add(Dense(units=15,activation=\"relu\"))\n",
    "nn.add(Dropout(0.5))\n",
    "nn.add(Dense(units=8,activation=\"relu\"))\n",
    "nn.add(Dropout(0.5))\n",
    "nn.add(Dense(units=4,activation=\"relu\"))\n",
    "nn.add(Dropout(0.5))\n",
    "# binary classification so we choose sigmoid activation function\n",
    "nn.add(Dense(units=1,activation=\"sigmoid\")) # one output unit because we deal with binary classification\n",
    "nn.compile(loss=\"binary_crossentropy\", optimizer=\"adam\", metrics=['accuracy'])"
   ]
  },
  {
   "cell_type": "code",
   "execution_count": 26,
   "metadata": {},
   "outputs": [
    {
     "name": "stdout",
     "output_type": "stream",
     "text": [
      "Epoch 1/100\n",
      "1375/1375 [==============================] - 1s 849us/step - loss: 0.5998 - accuracy: 0.6645 - val_loss: 0.2672 - val_accuracy: 0.9225\n",
      "Epoch 2/100\n",
      "1375/1375 [==============================] - 1s 807us/step - loss: 0.4079 - accuracy: 0.8039 - val_loss: 0.1724 - val_accuracy: 0.9284\n",
      "Epoch 3/100\n",
      "1375/1375 [==============================] - 1s 854us/step - loss: 0.3694 - accuracy: 0.8212 - val_loss: 0.1650 - val_accuracy: 0.9297\n",
      "Epoch 4/100\n",
      "1375/1375 [==============================] - 1s 825us/step - loss: 0.3542 - accuracy: 0.8277 - val_loss: 0.1562 - val_accuracy: 0.9318\n",
      "Epoch 5/100\n",
      "1375/1375 [==============================] - 1s 806us/step - loss: 0.3440 - accuracy: 0.8348 - val_loss: 0.1570 - val_accuracy: 0.9356\n",
      "Epoch 6/100\n",
      "1375/1375 [==============================] - 1s 851us/step - loss: 0.3383 - accuracy: 0.8400 - val_loss: 0.1554 - val_accuracy: 0.9390\n",
      "Epoch 7/100\n",
      "1375/1375 [==============================] - 1s 816us/step - loss: 0.3418 - accuracy: 0.8349 - val_loss: 0.1574 - val_accuracy: 0.9366\n",
      "Epoch 8/100\n",
      "1375/1375 [==============================] - 1s 831us/step - loss: 0.3391 - accuracy: 0.8376 - val_loss: 0.1602 - val_accuracy: 0.9318\n",
      "Epoch 9/100\n",
      "1375/1375 [==============================] - 1s 810us/step - loss: 0.3398 - accuracy: 0.8346 - val_loss: 0.1572 - val_accuracy: 0.9321\n",
      "Epoch 10/100\n",
      "1375/1375 [==============================] - 1s 836us/step - loss: 0.3387 - accuracy: 0.8375 - val_loss: 0.1547 - val_accuracy: 0.9341\n",
      "Epoch 11/100\n",
      "1375/1375 [==============================] - 1s 825us/step - loss: 0.3398 - accuracy: 0.8378 - val_loss: 0.1577 - val_accuracy: 0.9355\n",
      "Epoch 12/100\n",
      "1375/1375 [==============================] - 1s 828us/step - loss: 0.3349 - accuracy: 0.8410 - val_loss: 0.1600 - val_accuracy: 0.9377\n",
      "Epoch 13/100\n",
      "1375/1375 [==============================] - 1s 819us/step - loss: 0.3365 - accuracy: 0.8398 - val_loss: 0.1568 - val_accuracy: 0.9374\n",
      "Epoch 14/100\n",
      "1375/1375 [==============================] - 1s 981us/step - loss: 0.3386 - accuracy: 0.8390 - val_loss: 0.1572 - val_accuracy: 0.9374\n",
      "Epoch 15/100\n",
      "1375/1375 [==============================] - 1s 865us/step - loss: 0.3405 - accuracy: 0.8381 - val_loss: 0.1597 - val_accuracy: 0.9348\n",
      "Epoch 16/100\n",
      "1375/1375 [==============================] - 1s 889us/step - loss: 0.3404 - accuracy: 0.8373 - val_loss: 0.1553 - val_accuracy: 0.9338\n",
      "Epoch 17/100\n",
      "1375/1375 [==============================] - 1s 886us/step - loss: 0.3374 - accuracy: 0.8412 - val_loss: 0.1615 - val_accuracy: 0.9374\n",
      "Epoch 18/100\n",
      "1375/1375 [==============================] - 1s 849us/step - loss: 0.3328 - accuracy: 0.8409 - val_loss: 0.1580 - val_accuracy: 0.9383\n",
      "Epoch 19/100\n",
      "1375/1375 [==============================] - 1s 880us/step - loss: 0.3368 - accuracy: 0.8403 - val_loss: 0.1553 - val_accuracy: 0.9375\n",
      "Epoch 20/100\n",
      "1375/1375 [==============================] - 1s 841us/step - loss: 0.3348 - accuracy: 0.8408 - val_loss: 0.1530 - val_accuracy: 0.9364\n",
      "Epoch 21/100\n",
      "1375/1375 [==============================] - 1s 894us/step - loss: 0.3336 - accuracy: 0.8430 - val_loss: 0.1547 - val_accuracy: 0.9372\n",
      "Epoch 22/100\n",
      "1375/1375 [==============================] - 1s 804us/step - loss: 0.3343 - accuracy: 0.8397 - val_loss: 0.1546 - val_accuracy: 0.9395\n",
      "Epoch 23/100\n",
      "1375/1375 [==============================] - 1s 825us/step - loss: 0.3351 - accuracy: 0.8382 - val_loss: 0.1570 - val_accuracy: 0.9386\n",
      "Epoch 24/100\n",
      "1375/1375 [==============================] - 1s 830us/step - loss: 0.3317 - accuracy: 0.8421 - val_loss: 0.1545 - val_accuracy: 0.9360\n",
      "Epoch 25/100\n",
      "1375/1375 [==============================] - 1s 891us/step - loss: 0.3347 - accuracy: 0.8432 - val_loss: 0.1527 - val_accuracy: 0.9366\n",
      "Epoch 26/100\n",
      "1375/1375 [==============================] - 1s 846us/step - loss: 0.3309 - accuracy: 0.8431 - val_loss: 0.1532 - val_accuracy: 0.9376\n",
      "Epoch 27/100\n",
      "1375/1375 [==============================] - 1s 818us/step - loss: 0.3347 - accuracy: 0.8431 - val_loss: 0.1567 - val_accuracy: 0.9353\n",
      "Epoch 28/100\n",
      "1375/1375 [==============================] - 1s 835us/step - loss: 0.3330 - accuracy: 0.8440 - val_loss: 0.1523 - val_accuracy: 0.9360\n",
      "Epoch 29/100\n",
      "1375/1375 [==============================] - 1s 812us/step - loss: 0.3351 - accuracy: 0.8421 - val_loss: 0.1562 - val_accuracy: 0.9365\n",
      "Epoch 30/100\n",
      "1375/1375 [==============================] - 1s 955us/step - loss: 0.3333 - accuracy: 0.8412 - val_loss: 0.1568 - val_accuracy: 0.9385\n",
      "Epoch 31/100\n",
      "1375/1375 [==============================] - 1s 804us/step - loss: 0.3326 - accuracy: 0.8427 - val_loss: 0.1558 - val_accuracy: 0.9379\n",
      "Epoch 32/100\n",
      "1375/1375 [==============================] - 1s 801us/step - loss: 0.3348 - accuracy: 0.8428 - val_loss: 0.1540 - val_accuracy: 0.9365\n",
      "Epoch 33/100\n",
      "1375/1375 [==============================] - 1s 809us/step - loss: 0.3291 - accuracy: 0.8430 - val_loss: 0.1549 - val_accuracy: 0.9383\n",
      "Epoch 34/100\n",
      "1375/1375 [==============================] - 1s 802us/step - loss: 0.3318 - accuracy: 0.8438 - val_loss: 0.1565 - val_accuracy: 0.9393\n",
      "Epoch 35/100\n",
      "1375/1375 [==============================] - 1s 824us/step - loss: 0.3339 - accuracy: 0.8428 - val_loss: 0.1547 - val_accuracy: 0.9399\n",
      "Epoch 36/100\n",
      "1375/1375 [==============================] - 1s 831us/step - loss: 0.3357 - accuracy: 0.8426 - val_loss: 0.1543 - val_accuracy: 0.9380\n",
      "Epoch 37/100\n",
      "1375/1375 [==============================] - 1s 837us/step - loss: 0.3385 - accuracy: 0.8399 - val_loss: 0.1556 - val_accuracy: 0.9378\n",
      "Epoch 38/100\n",
      "1375/1375 [==============================] - 1s 860us/step - loss: 0.3330 - accuracy: 0.8437 - val_loss: 0.1577 - val_accuracy: 0.9385\n",
      "Epoch 39/100\n",
      "1375/1375 [==============================] - 1s 892us/step - loss: 0.3322 - accuracy: 0.8426 - val_loss: 0.1542 - val_accuracy: 0.9377\n",
      "Epoch 40/100\n",
      "1375/1375 [==============================] - 1s 956us/step - loss: 0.3332 - accuracy: 0.8418 - val_loss: 0.1529 - val_accuracy: 0.9376\n",
      "Epoch 41/100\n",
      "1375/1375 [==============================] - 1s 807us/step - loss: 0.3363 - accuracy: 0.8404 - val_loss: 0.1540 - val_accuracy: 0.9381\n",
      "Epoch 42/100\n",
      "1375/1375 [==============================] - 1s 842us/step - loss: 0.3311 - accuracy: 0.8455 - val_loss: 0.1541 - val_accuracy: 0.9371\n",
      "Epoch 43/100\n",
      "1375/1375 [==============================] - 1s 823us/step - loss: 0.3364 - accuracy: 0.8413 - val_loss: 0.1548 - val_accuracy: 0.9393\n",
      "Epoch 44/100\n",
      "1375/1375 [==============================] - 1s 896us/step - loss: 0.3360 - accuracy: 0.8432 - val_loss: 0.1538 - val_accuracy: 0.9343\n",
      "Epoch 45/100\n",
      "1375/1375 [==============================] - 1s 931us/step - loss: 0.3313 - accuracy: 0.8457 - val_loss: 0.1546 - val_accuracy: 0.9394\n",
      "Epoch 46/100\n",
      "1375/1375 [==============================] - 1s 986us/step - loss: 0.3297 - accuracy: 0.8442 - val_loss: 0.1545 - val_accuracy: 0.9379\n",
      "Epoch 47/100\n",
      "1375/1375 [==============================] - 1s 844us/step - loss: 0.3290 - accuracy: 0.8436 - val_loss: 0.1543 - val_accuracy: 0.9383\n",
      "Epoch 48/100\n",
      "1375/1375 [==============================] - 1s 804us/step - loss: 0.3336 - accuracy: 0.8425 - val_loss: 0.1554 - val_accuracy: 0.9387\n",
      "Epoch 49/100\n",
      "1375/1375 [==============================] - 1s 857us/step - loss: 0.3328 - accuracy: 0.8437 - val_loss: 0.1589 - val_accuracy: 0.9385\n",
      "Epoch 50/100\n",
      "1375/1375 [==============================] - 1s 886us/step - loss: 0.3340 - accuracy: 0.8391 - val_loss: 0.1560 - val_accuracy: 0.9392\n",
      "Epoch 51/100\n",
      "1375/1375 [==============================] - 1s 936us/step - loss: 0.3341 - accuracy: 0.8445 - val_loss: 0.1578 - val_accuracy: 0.9386\n",
      "Epoch 52/100\n",
      "1375/1375 [==============================] - 1s 1ms/step - loss: 0.3377 - accuracy: 0.8413 - val_loss: 0.1587 - val_accuracy: 0.9388\n",
      "Epoch 53/100\n",
      "1375/1375 [==============================] - 1s 971us/step - loss: 0.3336 - accuracy: 0.8426 - val_loss: 0.1549 - val_accuracy: 0.9359\n",
      "Epoch 54/100\n",
      "1375/1375 [==============================] - 1s 970us/step - loss: 0.3331 - accuracy: 0.8444 - val_loss: 0.1560 - val_accuracy: 0.9382\n",
      "Epoch 55/100\n",
      "1375/1375 [==============================] - 1s 853us/step - loss: 0.3292 - accuracy: 0.8453 - val_loss: 0.1574 - val_accuracy: 0.9383\n",
      "Epoch 56/100\n",
      "1375/1375 [==============================] - 1s 836us/step - loss: 0.3317 - accuracy: 0.8416 - val_loss: 0.1531 - val_accuracy: 0.9383\n",
      "Epoch 57/100\n",
      "1375/1375 [==============================] - 1s 834us/step - loss: 0.3344 - accuracy: 0.8445 - val_loss: 0.1545 - val_accuracy: 0.9361\n",
      "Epoch 58/100\n",
      "1375/1375 [==============================] - 1s 845us/step - loss: 0.3390 - accuracy: 0.8412 - val_loss: 0.1557 - val_accuracy: 0.9369\n",
      "Epoch 59/100\n",
      "1375/1375 [==============================] - 1s 832us/step - loss: 0.3335 - accuracy: 0.8412 - val_loss: 0.1598 - val_accuracy: 0.9393\n",
      "Epoch 60/100\n",
      "1375/1375 [==============================] - 1s 846us/step - loss: 0.3352 - accuracy: 0.8427 - val_loss: 0.1586 - val_accuracy: 0.9396\n",
      "Epoch 61/100\n",
      "1375/1375 [==============================] - 1s 833us/step - loss: 0.3309 - accuracy: 0.8443 - val_loss: 0.1536 - val_accuracy: 0.9380\n",
      "Epoch 62/100\n",
      "1375/1375 [==============================] - 1s 945us/step - loss: 0.3296 - accuracy: 0.8439 - val_loss: 0.1533 - val_accuracy: 0.9354\n",
      "Epoch 63/100\n",
      "1375/1375 [==============================] - 1s 828us/step - loss: 0.3328 - accuracy: 0.8422 - val_loss: 0.1541 - val_accuracy: 0.9385\n",
      "Epoch 64/100\n",
      "1375/1375 [==============================] - 1s 831us/step - loss: 0.3390 - accuracy: 0.8418 - val_loss: 0.1537 - val_accuracy: 0.9388\n",
      "Epoch 65/100\n",
      "1375/1375 [==============================] - 1s 826us/step - loss: 0.3317 - accuracy: 0.8435 - val_loss: 0.1527 - val_accuracy: 0.9369\n",
      "Epoch 66/100\n",
      "1375/1375 [==============================] - 1s 823us/step - loss: 0.3310 - accuracy: 0.8446 - val_loss: 0.1536 - val_accuracy: 0.9386\n",
      "Epoch 67/100\n",
      "1375/1375 [==============================] - 1s 836us/step - loss: 0.3342 - accuracy: 0.8409 - val_loss: 0.1590 - val_accuracy: 0.9388\n",
      "Epoch 68/100\n",
      "1375/1375 [==============================] - 1s 847us/step - loss: 0.3314 - accuracy: 0.8439 - val_loss: 0.1619 - val_accuracy: 0.9388\n",
      "Epoch 69/100\n",
      "1375/1375 [==============================] - 1s 854us/step - loss: 0.3319 - accuracy: 0.8437 - val_loss: 0.1524 - val_accuracy: 0.9377\n",
      "Epoch 70/100\n",
      "1375/1375 [==============================] - 1s 857us/step - loss: 0.3363 - accuracy: 0.8409 - val_loss: 0.1538 - val_accuracy: 0.9376\n",
      "Epoch 71/100\n",
      "1375/1375 [==============================] - 1s 883us/step - loss: 0.3311 - accuracy: 0.8419 - val_loss: 0.1531 - val_accuracy: 0.9355\n",
      "Epoch 72/100\n",
      "1375/1375 [==============================] - 1s 865us/step - loss: 0.3356 - accuracy: 0.8421 - val_loss: 0.1617 - val_accuracy: 0.9377\n",
      "Epoch 73/100\n",
      "1375/1375 [==============================] - 1s 847us/step - loss: 0.3337 - accuracy: 0.8409 - val_loss: 0.1568 - val_accuracy: 0.9386\n",
      "Epoch 74/100\n",
      "1375/1375 [==============================] - 1s 831us/step - loss: 0.3366 - accuracy: 0.8438 - val_loss: 0.1563 - val_accuracy: 0.9389\n",
      "Epoch 75/100\n",
      "1375/1375 [==============================] - 1s 867us/step - loss: 0.3370 - accuracy: 0.8397 - val_loss: 0.1533 - val_accuracy: 0.9383\n",
      "Epoch 76/100\n",
      "1375/1375 [==============================] - 1s 1ms/step - loss: 0.3359 - accuracy: 0.8407 - val_loss: 0.1573 - val_accuracy: 0.9390\n",
      "Epoch 77/100\n",
      "1375/1375 [==============================] - 1s 842us/step - loss: 0.3311 - accuracy: 0.8451 - val_loss: 0.1530 - val_accuracy: 0.9383\n",
      "Epoch 78/100\n",
      "1375/1375 [==============================] - 1s 882us/step - loss: 0.3368 - accuracy: 0.8396 - val_loss: 0.1528 - val_accuracy: 0.9391\n",
      "Epoch 79/100\n",
      "1375/1375 [==============================] - 1s 947us/step - loss: 0.3314 - accuracy: 0.8461 - val_loss: 0.1532 - val_accuracy: 0.9391\n",
      "Epoch 80/100\n",
      "1375/1375 [==============================] - 1s 827us/step - loss: 0.3349 - accuracy: 0.8424 - val_loss: 0.1536 - val_accuracy: 0.9393\n",
      "Epoch 81/100\n",
      "1375/1375 [==============================] - 1s 833us/step - loss: 0.3323 - accuracy: 0.8428 - val_loss: 0.1548 - val_accuracy: 0.9394\n",
      "Epoch 82/100\n",
      "1375/1375 [==============================] - 1s 816us/step - loss: 0.3302 - accuracy: 0.8467 - val_loss: 0.1537 - val_accuracy: 0.9385\n",
      "Epoch 83/100\n",
      "1375/1375 [==============================] - 1s 850us/step - loss: 0.3339 - accuracy: 0.8442 - val_loss: 0.1584 - val_accuracy: 0.9388\n",
      "Epoch 84/100\n",
      "1375/1375 [==============================] - 1s 883us/step - loss: 0.3330 - accuracy: 0.8450 - val_loss: 0.1529 - val_accuracy: 0.9387\n",
      "Epoch 85/100\n",
      "1375/1375 [==============================] - 1s 849us/step - loss: 0.3351 - accuracy: 0.8424 - val_loss: 0.1552 - val_accuracy: 0.9375\n",
      "Epoch 86/100\n",
      "1375/1375 [==============================] - 1s 834us/step - loss: 0.3315 - accuracy: 0.8436 - val_loss: 0.1575 - val_accuracy: 0.9390\n",
      "Epoch 87/100\n",
      "1375/1375 [==============================] - 1s 854us/step - loss: 0.3347 - accuracy: 0.8410 - val_loss: 0.1527 - val_accuracy: 0.9378\n",
      "Epoch 88/100\n",
      "1375/1375 [==============================] - 1s 846us/step - loss: 0.3314 - accuracy: 0.8437 - val_loss: 0.1555 - val_accuracy: 0.9394\n",
      "Epoch 89/100\n",
      "1375/1375 [==============================] - 1s 867us/step - loss: 0.3316 - accuracy: 0.8427 - val_loss: 0.1549 - val_accuracy: 0.9390\n",
      "Epoch 90/100\n",
      "1375/1375 [==============================] - 1s 844us/step - loss: 0.3335 - accuracy: 0.8409 - val_loss: 0.1585 - val_accuracy: 0.9377\n",
      "Epoch 91/100\n",
      "1375/1375 [==============================] - 1s 817us/step - loss: 0.3379 - accuracy: 0.8407 - val_loss: 0.1563 - val_accuracy: 0.9380\n",
      "Epoch 92/100\n",
      "1375/1375 [==============================] - 1s 865us/step - loss: 0.3320 - accuracy: 0.8443 - val_loss: 0.1579 - val_accuracy: 0.9385\n",
      "Epoch 93/100\n",
      "1375/1375 [==============================] - 1s 808us/step - loss: 0.3326 - accuracy: 0.8453 - val_loss: 0.1542 - val_accuracy: 0.9396\n",
      "Epoch 94/100\n",
      "1375/1375 [==============================] - 1s 849us/step - loss: 0.3306 - accuracy: 0.8452 - val_loss: 0.1601 - val_accuracy: 0.9391\n",
      "Epoch 95/100\n",
      "1375/1375 [==============================] - 1s 828us/step - loss: 0.3318 - accuracy: 0.8436 - val_loss: 0.1562 - val_accuracy: 0.9387\n",
      "Epoch 96/100\n",
      "1375/1375 [==============================] - 1s 840us/step - loss: 0.3345 - accuracy: 0.8435 - val_loss: 0.1547 - val_accuracy: 0.9378\n",
      "Epoch 97/100\n",
      "1375/1375 [==============================] - 1s 826us/step - loss: 0.3309 - accuracy: 0.8455 - val_loss: 0.1548 - val_accuracy: 0.9385\n",
      "Epoch 98/100\n",
      "1375/1375 [==============================] - 1s 837us/step - loss: 0.3335 - accuracy: 0.8454 - val_loss: 0.1563 - val_accuracy: 0.9379\n",
      "Epoch 99/100\n",
      "1375/1375 [==============================] - 1s 830us/step - loss: 0.3315 - accuracy: 0.8439 - val_loss: 0.1578 - val_accuracy: 0.9393\n",
      "Epoch 100/100\n",
      "1375/1375 [==============================] - 1s 846us/step - loss: 0.3354 - accuracy: 0.8433 - val_loss: 0.1569 - val_accuracy: 0.9391\n"
     ]
    }
   ],
   "source": [
    "# fit the model on the training data \n",
    "history = nn.fit(X_train, y_train, epochs = 100, batch_size=32, validation_data=(X_valid, y_valid), workers=-1).history"
   ]
  },
  {
   "cell_type": "code",
   "execution_count": 45,
   "metadata": {},
   "outputs": [
    {
     "name": "stdout",
     "output_type": "stream",
     "text": [
      "Neural Network Classifier average validation accuracy: 0.9373714482784271\n"
     ]
    }
   ],
   "source": [
    "print(\"Neural Network Classifier average validation accuracy: {}\".format(losses[\"val_accuracy\"].mean()))\n"
   ]
  },
  {
   "cell_type": "code",
   "execution_count": 37,
   "metadata": {},
   "outputs": [
    {
     "data": {
      "text/plain": [
       "<matplotlib.legend.Legend at 0x1703bd3e0c8>"
      ]
     },
     "execution_count": 37,
     "metadata": {},
     "output_type": "execute_result"
    },
    {
     "data": {
      "image/png": "[encoded data removed]",
      "text/plain": [
       "<Figure size 432x288 with 1 Axes>"
      ]
     },
     "metadata": {
      "needs_background": "light"
     },
     "output_type": "display_data"
    }
   ],
   "source": [
    "losses = pd.DataFrame(nn.history.history)\n",
    "losses[\"accuracy\"].plot()\n",
    "losses[\"val_accuracy\"].plot()\n",
    "plt.xlabel(\"Epochs\")\n",
    "plt.ylabel(\"Accuracy\")\n",
    "plt.legend()"
   ]
  },
  {
   "cell_type": "markdown",
   "metadata": {},
   "source": [
    "The neural network classifier shows an average validation accuracy of around 93.74%. We can also see that the accuracy value stagnated after around 5-10 epochs. Consequently, it is slightly worse than the Random Forest model. However, we simply used the default parameters thus far. Let's try to improve the accuracy."
   ]
  },
  {
   "cell_type": "markdown",
   "metadata": {},
   "source": [
    "#### Neural Network Classifier: Tuning Model Hyperparameters with Grid Search"
   ]
  },
  {
   "cell_type": "markdown",
   "metadata": {},
   "source": [
    "**Training the Model**"
   ]
  },
  {
   "cell_type": "markdown",
   "metadata": {},
   "source": [
    "Let's see if we can improve our results."
   ]
  },
  {
   "cell_type": "markdown",
   "metadata": {},
   "source": [
    "- Defining our model by creating a Sequential model and adding layers\n",
    "- Compiling our model by specifing the loss function and optimizer"
   ]
  },
  {
   "cell_type": "code",
   "execution_count": null,
   "metadata": {},
   "outputs": [],
   "source": [
    "# create the nn model\n",
    "def build_model(lr=0.01):\n",
    "    '''\n",
    "    This function builds a neural network classifier.\n",
    "    '''\n",
    "    nn = Sequential()\n",
    "    nn.add(Dense(units=15,activation=\"relu\")) # 17 because 17 input features\n",
    "    nn.add(Dropout(0.5))\n",
    "    nn.add(Dense(units=8,activation=\"relu\"))\n",
    "    nn.add(Dropout(0.5))\n",
    "    nn.add(Dense(units=4,activation=\"relu\"))\n",
    "    nn.add(Dropout(0.5))\n",
    "    # binary classification so we choose sigmoid activation function\n",
    "    nn.add(Dense(units=1,activation=\"sigmoid\")) # one output unit because we deal with binary classification\n",
    "    # set optimizer\n",
    "    optimizer = keras.optimizers.Adam(learning_rate=lr)\n",
    "    nn.compile(loss=\"binary_crossentropy\", optimizer=optimizer, metrics=['accuracy'])\n",
    "    \n",
    "    return nn"
   ]
  },
  {
   "cell_type": "code",
   "execution_count": null,
   "metadata": {},
   "outputs": [],
   "source": [
    "# Create the actual model\n",
    "model = KerasClassifier(build_fn=build_model, batch_size=32, epochs=10)"
   ]
  },
  {
   "cell_type": "code",
   "execution_count": 69,
   "metadata": {},
   "outputs": [],
   "source": [
    "# Create arbitary parameter grid for random search (keeping them modest due to low computational power)\n",
    "batch_size = [16, 32, 64]\n",
    "epochs = [100, 200]\n",
    "learn_rate = [0.0001, 0.001, 0.01, 0.1]\n",
    "\n",
    "# create the parameter grid\n",
    "param_grid = dict(lr=learn_rate, batch_size=batch_size,epochs=epochs)\n",
    "\n",
    "# build the grid search\n",
    "grid_search = GridSearchCV(estimator=model, param_grid=param_grid, cv=3, verbose=2, n_jobs=10, return_train_score=True)"
   ]
  },
  {
   "cell_type": "code",
   "execution_count": 70,
   "metadata": {},
   "outputs": [
    {
     "name": "stdout",
     "output_type": "stream",
     "text": [
      "Fitting 3 folds for each of 24 candidates, totalling 72 fits\n"
     ]
    },
    {
     "name": "stderr",
     "output_type": "stream",
     "text": [
      "[Parallel(n_jobs=10)]: Using backend LokyBackend with 10 concurrent workers.\n",
      "[Parallel(n_jobs=10)]: Done  21 tasks      | elapsed: 28.1min\n",
      "[Parallel(n_jobs=10)]: Done  72 out of  72 | elapsed: 52.9min finished\n"
     ]
    },
    {
     "name": "stdout",
     "output_type": "stream",
     "text": [
      "Epoch 1/200\n",
      "688/688 [==============================] - 1s 752us/step - loss: 0.5790 - accuracy: 0.6689\n",
      "Epoch 2/200\n",
      "688/688 [==============================] - 1s 755us/step - loss: 0.4042 - accuracy: 0.7925\n",
      "Epoch 3/200\n",
      "688/688 [==============================] - 1s 770us/step - loss: 0.3569 - accuracy: 0.8191\n",
      "Epoch 4/200\n",
      "688/688 [==============================] - 1s 1ms/step - loss: 0.3433 - accuracy: 0.8244\n",
      "Epoch 5/200\n",
      "688/688 [==============================] - 1s 839us/step - loss: 0.3401 - accuracy: 0.8270\n",
      "Epoch 6/200\n",
      "688/688 [==============================] - 1s 796us/step - loss: 0.3329 - accuracy: 0.8265\n",
      "Epoch 7/200\n",
      "688/688 [==============================] - 1s 797us/step - loss: 0.3315 - accuracy: 0.8292\n",
      "Epoch 8/200\n",
      "688/688 [==============================] - 1s 752us/step - loss: 0.3314 - accuracy: 0.8283\n",
      "Epoch 9/200\n",
      "688/688 [==============================] - 1s 796us/step - loss: 0.3262 - accuracy: 0.8322\n",
      "Epoch 10/200\n",
      "688/688 [==============================] - 1s 738us/step - loss: 0.3249 - accuracy: 0.8320\n",
      "Epoch 11/200\n",
      "688/688 [==============================] - 1s 1ms/step - loss: 0.3227 - accuracy: 0.8338\n",
      "Epoch 12/200\n",
      "688/688 [==============================] - 1s 829us/step - loss: 0.3243 - accuracy: 0.8321\n",
      "Epoch 13/200\n",
      "688/688 [==============================] - 1s 777us/step - loss: 0.3230 - accuracy: 0.8325\n",
      "Epoch 14/200\n",
      "688/688 [==============================] - 1s 729us/step - loss: 0.3214 - accuracy: 0.8322\n",
      "Epoch 15/200\n",
      "688/688 [==============================] - 0s 713us/step - loss: 0.3219 - accuracy: 0.8329\n",
      "Epoch 16/200\n",
      "688/688 [==============================] - 1s 992us/step - loss: 0.3216 - accuracy: 0.8330\n",
      "Epoch 17/200\n",
      "688/688 [==============================] - 1s 826us/step - loss: 0.3206 - accuracy: 0.83600s - loss: 0.3\n",
      "Epoch 18/200\n",
      "688/688 [==============================] - 1s 784us/step - loss: 0.3234 - accuracy: 0.8316\n",
      "Epoch 19/200\n",
      "688/688 [==============================] - 1s 747us/step - loss: 0.3247 - accuracy: 0.8328\n",
      "Epoch 20/200\n",
      "688/688 [==============================] - 1s 751us/step - loss: 0.3232 - accuracy: 0.8321\n",
      "Epoch 21/200\n",
      "688/688 [==============================] - 1s 754us/step - loss: 0.3204 - accuracy: 0.8345\n",
      "Epoch 22/200\n",
      "688/688 [==============================] - 0s 726us/step - loss: 0.3230 - accuracy: 0.8320\n",
      "Epoch 23/200\n",
      "688/688 [==============================] - 1s 729us/step - loss: 0.3218 - accuracy: 0.8335\n",
      "Epoch 24/200\n",
      "688/688 [==============================] - 1s 736us/step - loss: 0.3211 - accuracy: 0.8335\n",
      "Epoch 25/200\n",
      "688/688 [==============================] - 0s 725us/step - loss: 0.3200 - accuracy: 0.8362\n",
      "Epoch 26/200\n",
      "688/688 [==============================] - 0s 726us/step - loss: 0.3201 - accuracy: 0.8343\n",
      "Epoch 27/200\n",
      "688/688 [==============================] - 0s 719us/step - loss: 0.3238 - accuracy: 0.8336\n",
      "Epoch 28/200\n",
      "688/688 [==============================] - 1s 731us/step - loss: 0.3190 - accuracy: 0.8357\n",
      "Epoch 29/200\n",
      "688/688 [==============================] - 1s 790us/step - loss: 0.3213 - accuracy: 0.8320\n",
      "Epoch 30/200\n",
      "688/688 [==============================] - 1s 1ms/step - loss: 0.3209 - accuracy: 0.8345\n",
      "Epoch 31/200\n",
      "688/688 [==============================] - 1s 805us/step - loss: 0.3194 - accuracy: 0.8350\n",
      "Epoch 32/200\n",
      "688/688 [==============================] - 1s 773us/step - loss: 0.3235 - accuracy: 0.8344\n",
      "Epoch 33/200\n",
      "688/688 [==============================] - 0s 716us/step - loss: 0.3162 - accuracy: 0.8387\n",
      "Epoch 34/200\n",
      "688/688 [==============================] - 1s 826us/step - loss: 0.3221 - accuracy: 0.8348\n",
      "Epoch 35/200\n",
      "688/688 [==============================] - 1s 939us/step - loss: 0.3186 - accuracy: 0.8345\n",
      "Epoch 36/200\n",
      "688/688 [==============================] - 1s 1ms/step - loss: 0.3207 - accuracy: 0.8341\n",
      "Epoch 37/200\n",
      "688/688 [==============================] - 1s 770us/step - loss: 0.3221 - accuracy: 0.8332\n",
      "Epoch 38/200\n",
      "688/688 [==============================] - 1s 799us/step - loss: 0.3209 - accuracy: 0.8326\n",
      "Epoch 39/200\n",
      "688/688 [==============================] - 1s 789us/step - loss: 0.3200 - accuracy: 0.8354\n",
      "Epoch 40/200\n",
      "688/688 [==============================] - 1s 815us/step - loss: 0.3210 - accuracy: 0.8345\n",
      "Epoch 41/200\n",
      "688/688 [==============================] - 0s 725us/step - loss: 0.3221 - accuracy: 0.8345\n",
      "Epoch 42/200\n",
      "688/688 [==============================] - 1s 778us/step - loss: 0.3217 - accuracy: 0.8325\n",
      "Epoch 43/200\n",
      "688/688 [==============================] - 1s 791us/step - loss: 0.3191 - accuracy: 0.8340\n",
      "Epoch 44/200\n",
      "688/688 [==============================] - 1s 761us/step - loss: 0.3168 - accuracy: 0.8339\n",
      "Epoch 45/200\n",
      "688/688 [==============================] - 1s 787us/step - loss: 0.3170 - accuracy: 0.8366\n",
      "Epoch 46/200\n",
      "688/688 [==============================] - 1s 789us/step - loss: 0.3225 - accuracy: 0.8359\n",
      "Epoch 47/200\n",
      "688/688 [==============================] - 1s 741us/step - loss: 0.3223 - accuracy: 0.8327\n",
      "Epoch 48/200\n",
      "688/688 [==============================] - 1s 844us/step - loss: 0.3180 - accuracy: 0.8347\n",
      "Epoch 49/200\n",
      "688/688 [==============================] - 1s 841us/step - loss: 0.3183 - accuracy: 0.8373\n",
      "Epoch 50/200\n",
      "688/688 [==============================] - 1s 809us/step - loss: 0.3196 - accuracy: 0.8360\n",
      "Epoch 51/200\n",
      "688/688 [==============================] - 1s 825us/step - loss: 0.3192 - accuracy: 0.8357\n",
      "Epoch 52/200\n",
      "688/688 [==============================] - 1s 729us/step - loss: 0.3201 - accuracy: 0.8339\n",
      "Epoch 53/200\n",
      "688/688 [==============================] - 1s 741us/step - loss: 0.3219 - accuracy: 0.8323\n",
      "Epoch 54/200\n",
      "688/688 [==============================] - 1s 734us/step - loss: 0.3174 - accuracy: 0.8350\n",
      "Epoch 55/200\n",
      "688/688 [==============================] - 1s 777us/step - loss: 0.3173 - accuracy: 0.8358\n",
      "Epoch 56/200\n",
      "688/688 [==============================] - 1s 783us/step - loss: 0.3195 - accuracy: 0.8351\n",
      "Epoch 57/200\n",
      "688/688 [==============================] - 1s 745us/step - loss: 0.3214 - accuracy: 0.8323\n",
      "Epoch 58/200\n",
      "688/688 [==============================] - 1s 747us/step - loss: 0.3174 - accuracy: 0.8373\n",
      "Epoch 59/200\n",
      "688/688 [==============================] - 1s 735us/step - loss: 0.3187 - accuracy: 0.8328\n",
      "Epoch 60/200\n",
      "688/688 [==============================] - 1s 751us/step - loss: 0.3215 - accuracy: 0.8350\n",
      "Epoch 61/200\n",
      "688/688 [==============================] - 1s 751us/step - loss: 0.3156 - accuracy: 0.8368\n",
      "Epoch 62/200\n",
      "688/688 [==============================] - 1s 744us/step - loss: 0.3177 - accuracy: 0.8368\n",
      "Epoch 63/200\n",
      "688/688 [==============================] - 1s 887us/step - loss: 0.3185 - accuracy: 0.8356\n",
      "Epoch 64/200\n",
      "688/688 [==============================] - 1s 854us/step - loss: 0.3219 - accuracy: 0.8325\n",
      "Epoch 65/200\n",
      "688/688 [==============================] - 1s 825us/step - loss: 0.3214 - accuracy: 0.8334\n",
      "Epoch 66/200\n",
      "688/688 [==============================] - 1s 731us/step - loss: 0.3166 - accuracy: 0.8357\n",
      "Epoch 67/200\n",
      "688/688 [==============================] - 1s 735us/step - loss: 0.3186 - accuracy: 0.8362\n",
      "Epoch 68/200\n",
      "688/688 [==============================] - 0s 718us/step - loss: 0.3204 - accuracy: 0.8367\n",
      "Epoch 69/200\n",
      "688/688 [==============================] - 1s 771us/step - loss: 0.3177 - accuracy: 0.8359\n",
      "Epoch 70/200\n",
      "688/688 [==============================] - 0s 723us/step - loss: 0.3154 - accuracy: 0.8350\n",
      "Epoch 71/200\n",
      "688/688 [==============================] - 1s 1ms/step - loss: 0.3191 - accuracy: 0.8363\n",
      "Epoch 72/200\n",
      "688/688 [==============================] - 1s 896us/step - loss: 0.3206 - accuracy: 0.8346\n",
      "Epoch 73/200\n",
      "688/688 [==============================] - 1s 832us/step - loss: 0.3184 - accuracy: 0.8347\n",
      "Epoch 74/200\n",
      "688/688 [==============================] - 1s 800us/step - loss: 0.3185 - accuracy: 0.8351\n",
      "Epoch 75/200\n",
      "688/688 [==============================] - 1s 799us/step - loss: 0.3178 - accuracy: 0.8344\n",
      "Epoch 76/200\n",
      "688/688 [==============================] - 1s 848us/step - loss: 0.3157 - accuracy: 0.8367\n",
      "Epoch 77/200\n",
      "688/688 [==============================] - 1s 825us/step - loss: 0.3176 - accuracy: 0.8355\n",
      "Epoch 78/200\n",
      "688/688 [==============================] - 1s 770us/step - loss: 0.3167 - accuracy: 0.8365\n",
      "Epoch 79/200\n",
      "688/688 [==============================] - 1s 815us/step - loss: 0.3203 - accuracy: 0.8333\n",
      "Epoch 80/200\n",
      "688/688 [==============================] - 1s 755us/step - loss: 0.3155 - accuracy: 0.8359\n",
      "Epoch 81/200\n",
      "688/688 [==============================] - 1s 1ms/step - loss: 0.3200 - accuracy: 0.8333\n",
      "Epoch 82/200\n",
      "688/688 [==============================] - 1s 810us/step - loss: 0.3166 - accuracy: 0.8364\n",
      "Epoch 83/200\n",
      "688/688 [==============================] - 1s 742us/step - loss: 0.3188 - accuracy: 0.8364\n",
      "Epoch 84/200\n",
      "688/688 [==============================] - 1s 854us/step - loss: 0.3210 - accuracy: 0.8353\n",
      "Epoch 85/200\n",
      "688/688 [==============================] - 1s 745us/step - loss: 0.3165 - accuracy: 0.8358\n",
      "Epoch 86/200\n",
      "688/688 [==============================] - 1s 770us/step - loss: 0.3167 - accuracy: 0.8362\n",
      "Epoch 87/200\n",
      "688/688 [==============================] - 1s 773us/step - loss: 0.3169 - accuracy: 0.8380\n",
      "Epoch 88/200\n",
      "688/688 [==============================] - 0s 715us/step - loss: 0.3178 - accuracy: 0.8376\n",
      "Epoch 89/200\n",
      "688/688 [==============================] - 1s 732us/step - loss: 0.3175 - accuracy: 0.8353\n",
      "Epoch 90/200\n",
      "688/688 [==============================] - 1s 764us/step - loss: 0.3180 - accuracy: 0.8344\n",
      "Epoch 91/200\n",
      "688/688 [==============================] - 1s 793us/step - loss: 0.3181 - accuracy: 0.8355\n",
      "Epoch 92/200\n",
      "688/688 [==============================] - 1s 790us/step - loss: 0.3158 - accuracy: 0.8389\n",
      "Epoch 93/200\n",
      "688/688 [==============================] - 1s 870us/step - loss: 0.3185 - accuracy: 0.8341\n",
      "Epoch 94/200\n",
      "688/688 [==============================] - 1s 834us/step - loss: 0.3160 - accuracy: 0.8371\n",
      "Epoch 95/200\n",
      "688/688 [==============================] - 0s 726us/step - loss: 0.3222 - accuracy: 0.8320\n",
      "Epoch 96/200\n",
      "688/688 [==============================] - 1s 845us/step - loss: 0.3177 - accuracy: 0.8333\n",
      "Epoch 97/200\n",
      "688/688 [==============================] - 1s 957us/step - loss: 0.3186 - accuracy: 0.8382\n",
      "Epoch 98/200\n",
      "688/688 [==============================] - 1s 826us/step - loss: 0.3176 - accuracy: 0.8360\n",
      "Epoch 99/200\n",
      "688/688 [==============================] - 1s 742us/step - loss: 0.3193 - accuracy: 0.8358\n",
      "Epoch 100/200\n",
      "688/688 [==============================] - 1s 878us/step - loss: 0.3201 - accuracy: 0.8364\n",
      "Epoch 101/200\n",
      "688/688 [==============================] - 1s 847us/step - loss: 0.3210 - accuracy: 0.8356\n",
      "Epoch 102/200\n",
      "688/688 [==============================] - 0s 723us/step - loss: 0.3205 - accuracy: 0.8361\n",
      "Epoch 103/200\n",
      "688/688 [==============================] - 1s 857us/step - loss: 0.3164 - accuracy: 0.8371\n",
      "Epoch 104/200\n",
      "688/688 [==============================] - 1s 842us/step - loss: 0.3171 - accuracy: 0.8360\n",
      "Epoch 105/200\n",
      "688/688 [==============================] - 1s 823us/step - loss: 0.3157 - accuracy: 0.8352\n",
      "Epoch 106/200\n",
      "688/688 [==============================] - 1s 816us/step - loss: 0.3190 - accuracy: 0.8359\n",
      "Epoch 107/200\n",
      "688/688 [==============================] - 1s 794us/step - loss: 0.3175 - accuracy: 0.8374\n",
      "Epoch 108/200\n",
      "688/688 [==============================] - 1s 793us/step - loss: 0.3168 - accuracy: 0.8376\n",
      "Epoch 109/200\n",
      "688/688 [==============================] - 1s 762us/step - loss: 0.3194 - accuracy: 0.8329\n",
      "Epoch 110/200\n",
      "688/688 [==============================] - 1s 729us/step - loss: 0.3194 - accuracy: 0.8370\n",
      "Epoch 111/200\n",
      "688/688 [==============================] - 0s 719us/step - loss: 0.3212 - accuracy: 0.8343\n",
      "Epoch 112/200\n",
      "688/688 [==============================] - 1s 929us/step - loss: 0.3201 - accuracy: 0.8361\n",
      "Epoch 113/200\n",
      "688/688 [==============================] - 1s 913us/step - loss: 0.3169 - accuracy: 0.8382\n",
      "Epoch 114/200\n",
      "688/688 [==============================] - 1s 818us/step - loss: 0.3159 - accuracy: 0.8359\n",
      "Epoch 115/200\n",
      "688/688 [==============================] - 1s 748us/step - loss: 0.3171 - accuracy: 0.8354\n",
      "Epoch 116/200\n",
      "688/688 [==============================] - 0s 712us/step - loss: 0.3198 - accuracy: 0.8348\n",
      "Epoch 117/200\n",
      "688/688 [==============================] - 0s 720us/step - loss: 0.3172 - accuracy: 0.8385\n",
      "Epoch 118/200\n",
      "688/688 [==============================] - 0s 723us/step - loss: 0.3195 - accuracy: 0.8357\n",
      "Epoch 119/200\n",
      "688/688 [==============================] - 1s 749us/step - loss: 0.3180 - accuracy: 0.8364\n",
      "Epoch 120/200\n",
      "688/688 [==============================] - 1s 765us/step - loss: 0.3158 - accuracy: 0.8387\n",
      "Epoch 121/200\n",
      "688/688 [==============================] - 1s 877us/step - loss: 0.3166 - accuracy: 0.8366\n",
      "Epoch 122/200\n",
      "688/688 [==============================] - 1s 857us/step - loss: 0.3164 - accuracy: 0.8366\n",
      "Epoch 123/200\n",
      "688/688 [==============================] - 1s 786us/step - loss: 0.3153 - accuracy: 0.8390\n",
      "Epoch 124/200\n",
      "688/688 [==============================] - 1s 738us/step - loss: 0.3168 - accuracy: 0.8350\n",
      "Epoch 125/200\n",
      "688/688 [==============================] - 0s 716us/step - loss: 0.3181 - accuracy: 0.8369\n",
      "Epoch 126/200\n",
      "688/688 [==============================] - 1s 831us/step - loss: 0.3170 - accuracy: 0.8386\n",
      "Epoch 127/200\n",
      "688/688 [==============================] - 1s 751us/step - loss: 0.3191 - accuracy: 0.8366\n",
      "Epoch 128/200\n",
      "688/688 [==============================] - 1s 800us/step - loss: 0.3176 - accuracy: 0.8388\n",
      "Epoch 129/200\n",
      "688/688 [==============================] - 1s 752us/step - loss: 0.3177 - accuracy: 0.8361\n",
      "Epoch 130/200\n",
      "688/688 [==============================] - 1s 758us/step - loss: 0.3194 - accuracy: 0.8350\n",
      "Epoch 131/200\n",
      "688/688 [==============================] - 1s 764us/step - loss: 0.3169 - accuracy: 0.8364\n",
      "Epoch 132/200\n",
      "688/688 [==============================] - 1s 791us/step - loss: 0.3165 - accuracy: 0.8372\n",
      "Epoch 133/200\n",
      "688/688 [==============================] - 1s 834us/step - loss: 0.3161 - accuracy: 0.8378\n",
      "Epoch 134/200\n",
      "688/688 [==============================] - 1s 812us/step - loss: 0.3194 - accuracy: 0.8382\n",
      "Epoch 135/200\n",
      "688/688 [==============================] - 1s 760us/step - loss: 0.3183 - accuracy: 0.8358\n",
      "Epoch 136/200\n",
      "688/688 [==============================] - 1s 777us/step - loss: 0.3191 - accuracy: 0.8383\n",
      "Epoch 137/200\n",
      "688/688 [==============================] - 1s 751us/step - loss: 0.3180 - accuracy: 0.8372\n",
      "Epoch 138/200\n",
      "688/688 [==============================] - 1s 952us/step - loss: 0.3179 - accuracy: 0.8350\n",
      "Epoch 139/200\n",
      "688/688 [==============================] - 1s 839us/step - loss: 0.3179 - accuracy: 0.8393\n",
      "Epoch 140/200\n",
      "688/688 [==============================] - 1s 735us/step - loss: 0.3178 - accuracy: 0.8375\n",
      "Epoch 141/200\n",
      "688/688 [==============================] - 1s 777us/step - loss: 0.3149 - accuracy: 0.8382\n",
      "Epoch 142/200\n",
      "688/688 [==============================] - 1s 735us/step - loss: 0.3167 - accuracy: 0.8376\n",
      "Epoch 143/200\n",
      "688/688 [==============================] - 0s 720us/step - loss: 0.3167 - accuracy: 0.8388\n",
      "Epoch 144/200\n",
      "688/688 [==============================] - 1s 929us/step - loss: 0.3177 - accuracy: 0.8367\n",
      "Epoch 145/200\n",
      "688/688 [==============================] - 1s 790us/step - loss: 0.3179 - accuracy: 0.8384\n",
      "Epoch 146/200\n",
      "688/688 [==============================] - 1s 741us/step - loss: 0.3174 - accuracy: 0.8396\n",
      "Epoch 147/200\n",
      "688/688 [==============================] - 1s 728us/step - loss: 0.3153 - accuracy: 0.8401\n",
      "Epoch 148/200\n",
      "688/688 [==============================] - 1s 757us/step - loss: 0.3174 - accuracy: 0.8376\n",
      "Epoch 149/200\n",
      "688/688 [==============================] - 1s 884us/step - loss: 0.3205 - accuracy: 0.8372\n",
      "Epoch 150/200\n",
      "688/688 [==============================] - 1s 874us/step - loss: 0.3166 - accuracy: 0.8373\n",
      "Epoch 151/200\n",
      "688/688 [==============================] - 1s 755us/step - loss: 0.3177 - accuracy: 0.8364\n",
      "Epoch 152/200\n",
      "688/688 [==============================] - 1s 770us/step - loss: 0.3204 - accuracy: 0.8344\n",
      "Epoch 153/200\n",
      "688/688 [==============================] - 1s 787us/step - loss: 0.3206 - accuracy: 0.8347\n",
      "Epoch 154/200\n",
      "688/688 [==============================] - 1s 790us/step - loss: 0.3150 - accuracy: 0.8423\n",
      "Epoch 155/200\n",
      "688/688 [==============================] - 1s 790us/step - loss: 0.3153 - accuracy: 0.8398\n",
      "Epoch 156/200\n",
      "688/688 [==============================] - 0s 719us/step - loss: 0.3168 - accuracy: 0.8369\n",
      "Epoch 157/200\n"
     ]
    },
    {
     "name": "stdout",
     "output_type": "stream",
     "text": [
      "688/688 [==============================] - 1s 771us/step - loss: 0.3178 - accuracy: 0.8405\n",
      "Epoch 158/200\n",
      "688/688 [==============================] - 1s 748us/step - loss: 0.3162 - accuracy: 0.8395\n",
      "Epoch 159/200\n",
      "688/688 [==============================] - 1s 736us/step - loss: 0.3201 - accuracy: 0.8345\n",
      "Epoch 160/200\n",
      "688/688 [==============================] - 1s 1ms/step - loss: 0.3145 - accuracy: 0.8376\n",
      "Epoch 161/200\n",
      "688/688 [==============================] - 1s 822us/step - loss: 0.3200 - accuracy: 0.8361\n",
      "Epoch 162/200\n",
      "688/688 [==============================] - 1s 783us/step - loss: 0.3196 - accuracy: 0.8361\n",
      "Epoch 163/200\n",
      "688/688 [==============================] - 1s 754us/step - loss: 0.3157 - accuracy: 0.8388\n",
      "Epoch 164/200\n",
      "688/688 [==============================] - 0s 719us/step - loss: 0.3173 - accuracy: 0.8385\n",
      "Epoch 165/200\n",
      "688/688 [==============================] - 1s 765us/step - loss: 0.3125 - accuracy: 0.8425\n",
      "Epoch 166/200\n",
      "688/688 [==============================] - 1s 774us/step - loss: 0.3151 - accuracy: 0.8404\n",
      "Epoch 167/200\n",
      "688/688 [==============================] - 1s 794us/step - loss: 0.3159 - accuracy: 0.8366\n",
      "Epoch 168/200\n",
      "688/688 [==============================] - 1s 797us/step - loss: 0.3162 - accuracy: 0.8400\n",
      "Epoch 169/200\n",
      "688/688 [==============================] - 1s 745us/step - loss: 0.3180 - accuracy: 0.8363\n",
      "Epoch 170/200\n",
      "688/688 [==============================] - 1s 784us/step - loss: 0.3183 - accuracy: 0.8339\n",
      "Epoch 171/200\n",
      "688/688 [==============================] - 1s 768us/step - loss: 0.3188 - accuracy: 0.8368\n",
      "Epoch 172/200\n",
      "688/688 [==============================] - 1s 791us/step - loss: 0.3190 - accuracy: 0.8325\n",
      "Epoch 173/200\n",
      "688/688 [==============================] - 1s 776us/step - loss: 0.3170 - accuracy: 0.8378\n",
      "Epoch 174/200\n",
      "688/688 [==============================] - 1s 777us/step - loss: 0.3169 - accuracy: 0.8376\n",
      "Epoch 175/200\n",
      "688/688 [==============================] - 1s 751us/step - loss: 0.3150 - accuracy: 0.8413\n",
      "Epoch 176/200\n",
      "688/688 [==============================] - 1s 767us/step - loss: 0.3177 - accuracy: 0.8376\n",
      "Epoch 177/200\n",
      "688/688 [==============================] - 1s 780us/step - loss: 0.3180 - accuracy: 0.8367\n",
      "Epoch 178/200\n",
      "688/688 [==============================] - 1s 828us/step - loss: 0.3195 - accuracy: 0.8358\n",
      "Epoch 179/200\n",
      "688/688 [==============================] - 1s 816us/step - loss: 0.3153 - accuracy: 0.8396\n",
      "Epoch 180/200\n",
      "688/688 [==============================] - 1s 762us/step - loss: 0.3146 - accuracy: 0.8399\n",
      "Epoch 181/200\n",
      "688/688 [==============================] - 1s 738us/step - loss: 0.3141 - accuracy: 0.8400\n",
      "Epoch 182/200\n",
      "688/688 [==============================] - 1s 806us/step - loss: 0.3169 - accuracy: 0.8387\n",
      "Epoch 183/200\n",
      "688/688 [==============================] - 1s 774us/step - loss: 0.3151 - accuracy: 0.8384\n",
      "Epoch 184/200\n",
      "688/688 [==============================] - 1s 768us/step - loss: 0.3179 - accuracy: 0.8374\n",
      "Epoch 185/200\n",
      "688/688 [==============================] - 1s 786us/step - loss: 0.3148 - accuracy: 0.8402\n",
      "Epoch 186/200\n",
      "688/688 [==============================] - 0s 723us/step - loss: 0.3151 - accuracy: 0.8402\n",
      "Epoch 187/200\n",
      "688/688 [==============================] - 1s 758us/step - loss: 0.3168 - accuracy: 0.8400\n",
      "Epoch 188/200\n",
      "688/688 [==============================] - 1s 931us/step - loss: 0.3167 - accuracy: 0.8388\n",
      "Epoch 189/200\n",
      "688/688 [==============================] - 1s 835us/step - loss: 0.3148 - accuracy: 0.8382\n",
      "Epoch 190/200\n",
      "688/688 [==============================] - 1s 754us/step - loss: 0.3185 - accuracy: 0.83830s - loss: 0.3149 - ac\n",
      "Epoch 191/200\n",
      "688/688 [==============================] - 1s 803us/step - loss: 0.3132 - accuracy: 0.8391\n",
      "Epoch 192/200\n",
      "688/688 [==============================] - 1s 849us/step - loss: 0.3140 - accuracy: 0.8390\n",
      "Epoch 193/200\n",
      "688/688 [==============================] - 1s 783us/step - loss: 0.3198 - accuracy: 0.8362\n",
      "Epoch 194/200\n",
      "688/688 [==============================] - 1s 829us/step - loss: 0.3173 - accuracy: 0.8372\n",
      "Epoch 195/200\n",
      "688/688 [==============================] - 1s 841us/step - loss: 0.3170 - accuracy: 0.8388\n",
      "Epoch 196/200\n",
      "688/688 [==============================] - 1s 777us/step - loss: 0.3191 - accuracy: 0.8364\n",
      "Epoch 197/200\n",
      "688/688 [==============================] - 1s 791us/step - loss: 0.3159 - accuracy: 0.8415\n",
      "Epoch 198/200\n",
      "688/688 [==============================] - 1s 809us/step - loss: 0.3147 - accuracy: 0.8382\n",
      "Epoch 199/200\n",
      "688/688 [==============================] - 1s 744us/step - loss: 0.3192 - accuracy: 0.8372\n",
      "Epoch 200/200\n",
      "688/688 [==============================] - 0s 720us/step - loss: 0.3173 - accuracy: 0.8408\n"
     ]
    }
   ],
   "source": [
    "# fit grid search on the training data\n",
    "grid_results = grid_search.fit(X_train, y_train)"
   ]
  },
  {
   "cell_type": "code",
   "execution_count": 71,
   "metadata": {},
   "outputs": [
    {
     "data": {
      "text/plain": [
       "{'batch_size': 64, 'epochs': 200, 'lr': 0.001}"
      ]
     },
     "execution_count": 71,
     "metadata": {},
     "output_type": "execute_result"
    }
   ],
   "source": [
    "# get best parameters from grid search\n",
    "grid_results.best_params_"
   ]
  },
  {
   "cell_type": "markdown",
   "metadata": {},
   "source": [
    "**Validating the Model's Performance**"
   ]
  },
  {
   "cell_type": "code",
   "execution_count": 72,
   "metadata": {},
   "outputs": [
    {
     "name": "stdout",
     "output_type": "stream",
     "text": [
      "WARNING:tensorflow:From C:\\Users\\joell\\anaconda3\\lib\\site-packages\\tensorflow\\python\\keras\\wrappers\\scikit_learn.py:241: Sequential.predict_classes (from tensorflow.python.keras.engine.sequential) is deprecated and will be removed after 2021-01-01.\n",
      "Instructions for updating:\n",
      "Please use instead:* `np.argmax(model.predict(x), axis=-1)`,   if your model does multi-class classification   (e.g. if it uses a `softmax` last-layer activation).* `(model.predict(x) > 0.5).astype(\"int32\")`,   if your model does binary classification   (e.g. if it uses a `sigmoid` last-layer activation).\n",
      "Confusion Matrix\n",
      " [[7664  539]\n",
      " [ 283 5263]]\n",
      "\n",
      "Validation Accuracy: 94.02%\n",
      " \n",
      "\n"
     ]
    }
   ],
   "source": [
    "# define the best model parameters \n",
    "best_grid = grid_results.best_estimator_\n",
    "\n",
    "# predict on validation data with best parameters\n",
    "y_pred3 = best_grid.predict(X_valid)\n",
    "\n",
    "# show confusion matrix and accuracy\n",
    "print(\"Confusion Matrix\\n {}\".format(confusion_matrix(y_valid, y_pred3)))\n",
    "print(\"\\nValidation Accuracy: {:.2f}%\\n \\n\".format(accuracy_score(y_valid, y_pred3)*100))"
   ]
  },
  {
   "cell_type": "markdown",
   "metadata": {},
   "source": [
    "Once we are content with our validation accuracy we can use our model to predict the test data."
   ]
  },
  {
   "cell_type": "markdown",
   "metadata": {},
   "source": [
    "**Using the Model to Predict Test Data**"
   ]
  },
  {
   "cell_type": "code",
   "execution_count": 77,
   "metadata": {},
   "outputs": [
    {
     "name": "stdout",
     "output_type": "stream",
     "text": [
      "Confusion Matrix\n",
      " [[6150  410]\n",
      " [ 246 4193]]\n",
      "\n",
      "Test Accuracy: 94.04%\n",
      " \n",
      "\n",
      "              precision    recall  f1-score   support\n",
      "\n",
      "           0       0.96      0.94      0.95      6560\n",
      "           1       0.91      0.94      0.93      4439\n",
      "\n",
      "    accuracy                           0.94     10999\n",
      "   macro avg       0.94      0.94      0.94     10999\n",
      "weighted avg       0.94      0.94      0.94     10999\n",
      "\n"
     ]
    }
   ],
   "source": [
    "# make predictions on test data  \n",
    "y_pred4 = best_grid.predict(X_test)\n",
    "\n",
    "# get confusion matrix, test accuracy\n",
    "print(\"Confusion Matrix\\n {}\".format(confusion_matrix(y_test, y_pred4)))\n",
    "print(\"\\nTest Accuracy: {:.2f}%\\n \\n\".format(accuracy_score(y_test, y_pred4)*100))\n",
    "\n",
    "# get classification report\n",
    "print(classification_report(y_test, y_pred4))"
   ]
  },
  {
   "cell_type": "markdown",
   "metadata": {},
   "source": [
    "## Model 3: XGBoost\n",
    "<br>\n",
    "\n",
    "XGBoost or eXtreme Gradient Boosting is an advanced implementation of the gradient boosting algorithm.\n",
    "XGBoost is a great choice here because the dataset is quite large with initially 68,741 observations. This is because it is very computationally efficient and typically yields very high accuracy."
   ]
  },
  {
   "cell_type": "markdown",
   "metadata": {},
   "source": [
    "**Training The Model**"
   ]
  },
  {
   "cell_type": "code",
   "execution_count": 78,
   "metadata": {},
   "outputs": [
    {
     "data": {
      "text/plain": [
       "XGBClassifier(base_score=0.5, booster='gbtree', colsample_bylevel=1,\n",
       "              colsample_bynode=1, colsample_bytree=1, gamma=0, gpu_id=-1,\n",
       "              importance_type='gain', interaction_constraints='',\n",
       "              learning_rate=0.300000012, max_delta_step=0, max_depth=6,\n",
       "              min_child_weight=1, missing=nan, monotone_constraints='()',\n",
       "              n_estimators=100, n_jobs=0, num_parallel_tree=1,\n",
       "              objective='binary:logistic', random_state=0, reg_alpha=0,\n",
       "              reg_lambda=1, scale_pos_weight=1, subsample=1,\n",
       "              tree_method='exact', validate_parameters=1, verbosity=None)"
      ]
     },
     "execution_count": 78,
     "metadata": {},
     "output_type": "execute_result"
    }
   ],
   "source": [
    "# set up the classifier. Once again we will use the default parameters as starting point\n",
    "xgbc = XGBClassifier()\n",
    "\n",
    "# fit the model on the training set\n",
    "xgbc.fit(X_train, y_train)"
   ]
  },
  {
   "cell_type": "markdown",
   "metadata": {},
   "source": [
    "**Validating the Model's Performance**"
   ]
  },
  {
   "cell_type": "code",
   "execution_count": 79,
   "metadata": {},
   "outputs": [
    {
     "name": "stdout",
     "output_type": "stream",
     "text": [
      "Confusion Matrix\n",
      " [[7904  299]\n",
      " [ 202 5344]]\n",
      "Validation Accuracy: 96.36%\n"
     ]
    }
   ],
   "source": [
    "# predict validation data\n",
    "y_pred5 = xgbc.predict(X_valid)\n",
    "\n",
    "# show model performance on test data\n",
    "print(\"Confusion Matrix\\n {}\".format(confusion_matrix(y_valid, y_pred5)))\n",
    "print(\"Validation Accuracy: {:.2f}%\".format(accuracy_score(y_valid, y_pred5)*100))"
   ]
  },
  {
   "cell_type": "markdown",
   "metadata": {},
   "source": [
    "As expected, even with default parameters XGBoost yields very high predictive accuracy. In fact, it already shows the highest accuracy among the 3 predictive models without parameter tuning."
   ]
  },
  {
   "cell_type": "markdown",
   "metadata": {},
   "source": [
    "#### XGBoost Classifier: Tuning Model Hyperparameters with Grid Search"
   ]
  },
  {
   "cell_type": "markdown",
   "metadata": {},
   "source": [
    "Here we will tune some of the hyperparameters to boost the model's performance. It won't find the optimal solution, but a solution that is sufficient considering the limited resources available."
   ]
  },
  {
   "cell_type": "markdown",
   "metadata": {},
   "source": [
    "**Training The Model**"
   ]
  },
  {
   "cell_type": "code",
   "execution_count": 19,
   "metadata": {},
   "outputs": [
    {
     "name": "stdout",
     "output_type": "stream",
     "text": [
      "Fitting 3 folds for each of 3600 candidates, totalling 10800 fits\n"
     ]
    },
    {
     "name": "stderr",
     "output_type": "stream",
     "text": [
      "[Parallel(n_jobs=-1)]: Using backend LokyBackend with 12 concurrent workers.\n",
      "[Parallel(n_jobs=-1)]: Done  17 tasks      | elapsed:    4.6s\n",
      "[Parallel(n_jobs=-1)]: Done 138 tasks      | elapsed:   25.4s\n",
      "[Parallel(n_jobs=-1)]: Done 341 tasks      | elapsed:  1.5min\n",
      "[Parallel(n_jobs=-1)]: Done 624 tasks      | elapsed:  3.9min\n",
      "[Parallel(n_jobs=-1)]: Done 989 tasks      | elapsed:  6.1min\n",
      "[Parallel(n_jobs=-1)]: Done 1434 tasks      | elapsed: 10.1min\n",
      "[Parallel(n_jobs=-1)]: Done 1961 tasks      | elapsed: 13.2min\n",
      "[Parallel(n_jobs=-1)]: Done 2568 tasks      | elapsed: 17.2min\n",
      "[Parallel(n_jobs=-1)]: Done 3257 tasks      | elapsed: 22.0min\n",
      "[Parallel(n_jobs=-1)]: Done 4026 tasks      | elapsed: 27.4min\n",
      "[Parallel(n_jobs=-1)]: Done 4877 tasks      | elapsed: 34.0min\n",
      "[Parallel(n_jobs=-1)]: Done 5808 tasks      | elapsed: 41.6min\n",
      "[Parallel(n_jobs=-1)]: Done 6821 tasks      | elapsed: 49.0min\n",
      "[Parallel(n_jobs=-1)]: Done 7914 tasks      | elapsed: 59.8min\n",
      "[Parallel(n_jobs=-1)]: Done 9089 tasks      | elapsed: 70.1min\n",
      "[Parallel(n_jobs=-1)]: Done 10344 tasks      | elapsed: 82.9min\n",
      "[Parallel(n_jobs=-1)]: Done 10800 out of 10800 | elapsed: 88.7min finished\n"
     ]
    }
   ],
   "source": [
    "# define the classifier\n",
    "xgbc = XGBClassifier()\n",
    "\n",
    "# defining parameter grid for XGBoost\n",
    "parameters = {\"eta\"                  : [0.01, 0.1, 0.2],\n",
    "              \"max_depth\"            : [1,2,3, 4, 5,],\n",
    "           #  \"min_child_weight\"     : [1,2,5,10,20,30],\n",
    "              \"colsample_bytree\"     : [0.5, 0.6, 0.9],\n",
    "            #  \"subsample\"            : [0.5, 0.9, 1.0], # subsample ratio of the training instances, prevents overfitting\n",
    "              \"n_estimators\"         : [50,100,150,200]\n",
    "             }\n",
    "\n",
    "# setting up the random grid search\n",
    "grid_search_xgb = GridSearchCV(estimator = xgbc, param_grid = parameters, cv=3, verbose=2, n_jobs=-1, return_train_score=True)\n",
    "# fit grid search on the training data\n",
    "grid_results = grid_search_xgb.fit(X_train, y_train)"
   ]
  },
  {
   "cell_type": "code",
   "execution_count": 16,
   "metadata": {},
   "outputs": [
    {
     "data": {
      "text/plain": [
       "{'colsample_bytree': 0.5, 'eta': 0.2, 'max_depth': 4, 'n_estimators': 100}"
      ]
     },
     "execution_count": 16,
     "metadata": {},
     "output_type": "execute_result"
    }
   ],
   "source": [
    "grid_results.best_params_\n",
    "#'colsample_bytree': 0.5, 'eta': 0.2, 'max_depth': 4, 'n_estimators': 100}  96.61% "
   ]
  },
  {
   "cell_type": "code",
   "execution_count": 17,
   "metadata": {},
   "outputs": [
    {
     "name": "stdout",
     "output_type": "stream",
     "text": [
      "Confusion Matrix\n",
      " [[7913  290]\n",
      " [ 176 5370]]\n",
      "Validation Accuracy: 96.61%\n"
     ]
    }
   ],
   "source": [
    "# predict validation data\n",
    "y_pred5 = grid_results.predict(X_valid)\n",
    "\n",
    "# show model performance on test data\n",
    "print(\"Confusion Matrix\\n {}\".format(confusion_matrix(y_valid, y_pred5)))\n",
    "print(\"Validation Accuracy: {:.2f}%\".format(accuracy_score(y_valid, y_pred5)*100))"
   ]
  },
  {
   "cell_type": "markdown",
   "metadata": {},
   "source": [
    "**Using the Model to Predict Test Data**"
   ]
  },
  {
   "cell_type": "code",
   "execution_count": 24,
   "metadata": {},
   "outputs": [
    {
     "name": "stdout",
     "output_type": "stream",
     "text": [
      "Confusion Matrix\n",
      " [[6337  223]\n",
      " [ 161 4278]]\n",
      "\n",
      "Test Accuracy: 96.51%\n",
      " \n",
      "\n",
      "              precision    recall  f1-score   support\n",
      "\n",
      "           0       0.98      0.97      0.97      6560\n",
      "           1       0.95      0.96      0.96      4439\n",
      "\n",
      "    accuracy                           0.97     10999\n",
      "   macro avg       0.96      0.96      0.96     10999\n",
      "weighted avg       0.97      0.97      0.97     10999\n",
      "\n"
     ]
    }
   ],
   "source": [
    "# let's use the trained XBG model to predict the test data \n",
    "y_pred9 = grid_results.predict(X_test)\n",
    "\n",
    "# show model performance on test data\n",
    "print(\"Confusion Matrix\\n {}\".format(confusion_matrix(y_test, y_pred9)))\n",
    "print(\"\\nTest Accuracy: {:.2f}%\\n \\n\".format(accuracy_score(y_test, y_pred9)*100))\n",
    "\n",
    "# get classification report\n",
    "print(classification_report(y_test, y_pred9))"
   ]
  },
  {
   "cell_type": "markdown",
   "metadata": {},
   "source": [
    "## Model Comparison"
   ]
  },
  {
   "cell_type": "code",
   "execution_count": 25,
   "metadata": {},
   "outputs": [
    {
     "name": "stdout",
     "output_type": "stream",
     "text": [
      "Random Forest\n",
      "Validation Accuracy:96.25% \n",
      "Test Accuracy: 96.19%\n",
      "\n",
      "Neural Network\n",
      "Validation Accuracy: 94.02%\n",
      "Test Accuracy: 94.04%\n",
      "\n",
      "XGBoost\n",
      "Validation Accuracy: 96.61%\n",
      "Test Accuracy: 96.51%\n",
      "\n"
     ]
    }
   ],
   "source": [
    "print(\"Random Forest\\nValidation Accuracy:{}% \\nTest Accuracy: {}%\".format(96.25, 96.19))\n",
    "print(\"\\nNeural Network\\nValidation Accuracy: {}%\\nTest Accuracy: {}%\".format(94.02, 94.04))\n",
    "print(\"\\nXGBoost\\nValidation Accuracy: {}%\\nTest Accuracy: {}%\\n\".format(96.61, 96.51))"
   ]
  },
  {
   "cell_type": "markdown",
   "metadata": {},
   "source": [
    "It goes without saying that there is still room for improvement which could be achieved through e.g. the usage of increased computational power and more time for the model training process. For instance, 3-Fold CV was chosen to save time during the training process which could be increased to 5 or 10-fold CV for better model generalization. Further, with more computational power, the neural network classifier could be trained again and will certainly yield much better results. Nonetheless, a test accuracy of 96.51% is decent."
   ]
  },
  {
   "cell_type": "markdown",
   "metadata": {},
   "source": [
    "# 5) Saving the Best Performing Model: XGBoost"
   ]
  },
  {
   "cell_type": "code",
   "execution_count": 26,
   "metadata": {},
   "outputs": [
    {
     "data": {
      "text/plain": [
       "['joblib_final_model.pkl']"
      ]
     },
     "execution_count": 26,
     "metadata": {},
     "output_type": "execute_result"
    }
   ],
   "source": [
    "# Save to file to working directory\n",
    "joblib_file = \"joblib_final_model.pkl\"\n",
    "joblib.dump(grid_results, joblib_file)"
   ]
  },
  {
   "cell_type": "code",
   "execution_count": 27,
   "metadata": {},
   "outputs": [],
   "source": [
    "# Load from file\n",
    "final_model = joblib.load(\"joblib_final_model.pkl\")"
   ]
  },
  {
   "cell_type": "code",
   "execution_count": 28,
   "metadata": {},
   "outputs": [
    {
     "name": "stdout",
     "output_type": "stream",
     "text": [
      "Test Accuracy: 96.51 %\n"
     ]
    }
   ],
   "source": [
    "# Calculate the accuracy and predictions\n",
    "score = final_model.score(X_test, y_test)\n",
    "print(\"Test Accuracy: {0:.2f} %\".format(100 * score))"
   ]
  },
  {
   "cell_type": "markdown",
   "metadata": {},
   "source": [
    "**Successfully saved the final model. It is now ready for deployment.** "
   ]
  },
  {
   "cell_type": "markdown",
   "metadata": {},
   "source": [
    "# 6) Conclusion"
   ]
  },
  {
   "cell_type": "markdown",
   "metadata": {},
   "source": [
    "In summary, the data analysis findings and the development of the classification prediction model, aiming to accurately predict customers with a high likelihood of completing an offer, resulted in the following insights described below.\n",
    "\n",
    "**Demographics**\n",
    "- Most customers are roughly aged between 40 and 75 years with an average age of around 54 years\n",
    "- 41.9% female and 58.1% male customers \n",
    "- Average customer income equals 65,388.01 US dollars\n",
    "- Only 40.02% of customers did complete an offer in the past\n",
    "- Average income of customers who did complete an offer in the past: 69,398.28 US dollars (vs. 62,711.8 US dollars of those who did not)\n",
    "- Average age of customers who did complete an offer in the past: 55.8 years (vs. 53.37 years of those who did not)\n",
    "- The proportion of female customers who completed an offer is higher than male customers (46.04% vs. 35.69%)\n",
    "\n",
    "\n",
    "Based on these findings, women tend to react more positively towards the promotions than men. Despite the fact that women only make up around 40% of the customers in the dataset provided, they almost contribute the same number of **completed offers** than men. (13,260 women vs. 14.254 men).\n",
    "\n",
    "**Offers**\n",
    "- Customers who received **Discount**: 31.74%\n",
    "- Customers who received **BOGO**: 31.65%\n",
    "- Customers who didn't receive an offer: 20.79%\n",
    "- Customers who received **Informational**: 15.82%\n",
    "\n",
    "- The offer type with the highest success rate is **Discount** (66.58%), followed by **BOGO** (59.69%)\n",
    "- **Informational** offers can not be traced to any sales\n",
    "\n",
    "Generally, **discounts** show the highest success rate among the 3 offer types and are also the most frequent promotion sent to customers. Furthermore, out of all offers sent out to customers, **informational** promotions make up approx. 15% of offers. 20.79% of customers did not receive any promotion. \n",
    "\n",
    "In terms of difficulty and duration, one can infer that a difficulty level of 10 USD leads to the most completed offers, followed by a level of 5 USD. Further, most offers were completed for promotions that were only valid for 7 days, followed by 10 days and 5 days respectively. No offers were completed for offers that are only valid for 3 or 4 days.\n",
    "\n",
    "**Contact Methods**\n",
    "\n",
    "When comparing the 4 contact methods used (email, mobile, social, web), most customers were contacted via email and mobile device. However, both of these contact methods showed a lower success rate of customers completing an offer compared to social media and web. \n",
    "\n",
    "- Customers contacted via email: 79.21%\n",
    "- Customers contacted via mobile device: 71.2%\n",
    "- Customers contacted via web: 63.33%\n",
    "- Customers contacted via social media: 47.48%\n",
    "\n",
    "\n",
    "- Web success rate: 56.09%\n",
    "- Social media success rate: 54.31%\n",
    "- Email success rate: 50.53%\n",
    "- Mobile success rate: 50.3%\n",
    "\n",
    "**Predictive Model**\n",
    "\n",
    "We built and tuned 3 classifiaction prediction models with the goal to accurately predict our target customers. Our target customer sare defined as customers who have a high likelihood of completing an offer. The 3 models are Random Forest, Neural Network and eXtreme Gradient Boosting (XGBoost). After training and validating the model performance the following results were geneated:\n",
    "\n",
    "- The Random Forest Classifier showed a predictive accuracy of 96.19%\n",
    "- The Neural Network Classifier showed a predictive accuracy of 94.04%\n",
    "- The **XBGoost** Classifier showed a predictive accuracy of **96.51%** \n",
    "\n",
    "Based on these results, we selected XGBoost as the final classifiaction prediction model with which we managed to predict our target customers with approximately 88.65% accuracy."
   ]
  },
  {
   "cell_type": "markdown",
   "metadata": {},
   "source": [
    "### Recommendations"
   ]
  },
  {
   "cell_type": "markdown",
   "metadata": {},
   "source": [
    "In order to increase the company's marketing strategy effectiveness, we derived the following 3 recommendations based on the analysis findings above.\n",
    "\n",
    "**1) Predicting Target Customers**\n",
    "- Identify target customers using the XGBoost model\n",
    "\n",
    "**2) Choosing the right Contact Method(s)**\n",
    "\n",
    "Increase the usage of the following communication channel(s) to send offers:\n",
    "- Web (because it showed the highest success rate among the 4 contact methods)\n",
    "- Social media (because it showed the second highest success rate among the 4 contact methods)\n",
    "\n",
    "**3) Customizing the Offer Appropriately**\n",
    "- Send out more discounts beacuse they show the highest success rate\n",
    "- Keep the amount of BOGO the same beacuse they still show a decent success rate\n",
    "- Tailor the period an offer is valid around 7 - 10 days because this period showed the highest completed offers\n",
    "- Avoid making offers valid for only 3 - 4 days because these offers didn't result in any completed offers\n",
    "\n",
    "The goal is to decrease the total number of customers who did not receive an offer (20.79%) and to increase the success rate of offers sent out (currently 40.02%). This can be done by increasingly targeting female customers who match the target customer profile of customers with slightly above average income (69,398.28 US dollars) and age (55.8 years).\n",
    "\n",
    "Following these recommendations will ensure a more efficient allocation of resources, an increase in the marketing success rate and ultimately growth in profitability for the organization."
   ]
  }
 ],
 "metadata": {
  "kernelspec": {
   "display_name": "Python 3",
   "language": "python",
   "name": "python3"
  },
  "language_info": {
   "codemirror_mode": {
    "name": "ipython",
    "version": 3
   },
   "file_extension": ".py",
   "mimetype": "text/x-python",
   "name": "python",
   "nbconvert_exporter": "python",
   "pygments_lexer": "ipython3",
   "version": "3.7.6"
  }
 },
 "nbformat": 4,
 "nbformat_minor": 4
}
